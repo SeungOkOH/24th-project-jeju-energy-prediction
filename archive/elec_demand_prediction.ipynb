{
  "cells": [
    {
      "cell_type": "code",
      "execution_count": 3,
      "metadata": {
        "colab": {
          "base_uri": "https://localhost:8080/"
        },
        "id": "mLs3MJPlWVOo",
        "outputId": "41739b73-10bb-46d0-b513-18293d12c82e"
      },
      "outputs": [
        {
          "name": "stdout",
          "output_type": "stream",
          "text": [
            "Mounted at /content/drive\n"
          ]
        }
      ],
      "source": [
        "from google.colab import drive\n",
        "\n",
        "drive.mount('/content/drive')"
      ]
    },
    {
      "cell_type": "markdown",
      "metadata": {
        "id": "9Gj3CO6piQY2"
      },
      "source": [
        "#데이터 불러오기"
      ]
    },
    {
      "cell_type": "code",
      "execution_count": 4,
      "metadata": {
        "id": "C165Z_57WdqV"
      },
      "outputs": [],
      "source": [
        "import pandas as pd\n",
        "import numpy as np\n",
        "import matplotlib.pyplot as plt\n",
        "import scipy.stats as stats\n",
        "import seaborn as sns\n",
        "import datetime\n",
        "from sklearn.preprocessing import StandardScaler"
      ]
    },
    {
      "cell_type": "code",
      "execution_count": 5,
      "metadata": {
        "id": "nVL0xAaDaHqx"
      },
      "outputs": [],
      "source": [
        "weather_df_jeju = pd.read_csv(\"/content/drive/MyDrive/weather_df_제주.csv\")\n",
        "weather_df_gosan = pd.read_csv(\"/content/drive/MyDrive/weather_df_고산.csv\")\n",
        "weather_df_seongsan = pd.read_csv(\"/content/drive/MyDrive/weather_df_성산.csv\")\n",
        "weather_df_seo = pd.read_csv(\"/content/drive/MyDrive/weather_df_서귀포.csv\")\n",
        "electricity_demand = pd.read_csv(\"/content/drive/MyDrive/전력 수요량 시간별 데이터_new.csv\")"
      ]
    },
    {
      "cell_type": "code",
      "execution_count": 6,
      "metadata": {
        "colab": {
          "base_uri": "https://localhost:8080/",
          "height": 423
        },
        "id": "RsKgB0rFa4-7",
        "outputId": "f622b593-234a-4470-e9df-0ce6276a64c7"
      },
      "outputs": [
        {
          "data": {
            "application/vnd.google.colaboratory.intrinsic+json": {
              "summary": "{\n  \"name\": \"electricity_demand\",\n  \"rows\": 18936,\n  \"fields\": [\n    {\n      \"column\": \"date\",\n      \"properties\": {\n        \"dtype\": \"object\",\n        \"min\": \"2021-01-01\",\n        \"max\": \"2023-02-28\",\n        \"samples\": [\n          \"2022-05-27\",\n          \"2021-02-09\",\n          \"2021-07-31\"\n        ],\n        \"num_unique_values\": 789,\n        \"semantic_type\": \"\",\n        \"description\": \"\"\n      }\n    },\n    {\n      \"column\": \"hour\",\n      \"properties\": {\n        \"dtype\": \"number\",\n        \"std\": 6,\n        \"min\": 1,\n        \"max\": 24,\n        \"samples\": [\n          9,\n          17,\n          1\n        ],\n        \"num_unique_values\": 24,\n        \"semantic_type\": \"\",\n        \"description\": \"\"\n      }\n    },\n    {\n      \"column\": \"area\",\n      \"properties\": {\n        \"dtype\": \"category\",\n        \"samples\": [\n          \"\\uc81c\\uc8fc\\ub3c4\"\n        ],\n        \"num_unique_values\": 1,\n        \"semantic_type\": \"\",\n        \"description\": \"\"\n      }\n    },\n    {\n      \"column\": \"electricity demand(MWh)\",\n      \"properties\": {\n        \"dtype\": \"number\",\n        \"std\": 125506,\n        \"min\": 378478,\n        \"max\": 1103977,\n        \"samples\": [\n          664640\n        ],\n        \"num_unique_values\": 18528,\n        \"semantic_type\": \"\",\n        \"description\": \"\"\n      }\n    }\n  ]\n}",
              "type": "dataframe",
              "variable_name": "electricity_demand"
            },
            "text/html": [
              "\n",
              "  <div id=\"df-abedcabe-91c1-4e89-a02f-36456f3b0ccd\" class=\"colab-df-container\">\n",
              "    <div>\n",
              "<style scoped>\n",
              "    .dataframe tbody tr th:only-of-type {\n",
              "        vertical-align: middle;\n",
              "    }\n",
              "\n",
              "    .dataframe tbody tr th {\n",
              "        vertical-align: top;\n",
              "    }\n",
              "\n",
              "    .dataframe thead th {\n",
              "        text-align: right;\n",
              "    }\n",
              "</style>\n",
              "<table border=\"1\" class=\"dataframe\">\n",
              "  <thead>\n",
              "    <tr style=\"text-align: right;\">\n",
              "      <th></th>\n",
              "      <th>date</th>\n",
              "      <th>hour</th>\n",
              "      <th>area</th>\n",
              "      <th>electricity demand(MWh)</th>\n",
              "    </tr>\n",
              "  </thead>\n",
              "  <tbody>\n",
              "    <tr>\n",
              "      <th>0</th>\n",
              "      <td>2021-01-01</td>\n",
              "      <td>1</td>\n",
              "      <td>제주도</td>\n",
              "      <td>746329</td>\n",
              "    </tr>\n",
              "    <tr>\n",
              "      <th>1</th>\n",
              "      <td>2021-01-01</td>\n",
              "      <td>2</td>\n",
              "      <td>제주도</td>\n",
              "      <td>710544</td>\n",
              "    </tr>\n",
              "    <tr>\n",
              "      <th>2</th>\n",
              "      <td>2021-01-01</td>\n",
              "      <td>3</td>\n",
              "      <td>제주도</td>\n",
              "      <td>685313</td>\n",
              "    </tr>\n",
              "    <tr>\n",
              "      <th>3</th>\n",
              "      <td>2021-01-01</td>\n",
              "      <td>4</td>\n",
              "      <td>제주도</td>\n",
              "      <td>674663</td>\n",
              "    </tr>\n",
              "    <tr>\n",
              "      <th>4</th>\n",
              "      <td>2021-01-01</td>\n",
              "      <td>5</td>\n",
              "      <td>제주도</td>\n",
              "      <td>673656</td>\n",
              "    </tr>\n",
              "    <tr>\n",
              "      <th>...</th>\n",
              "      <td>...</td>\n",
              "      <td>...</td>\n",
              "      <td>...</td>\n",
              "      <td>...</td>\n",
              "    </tr>\n",
              "    <tr>\n",
              "      <th>18931</th>\n",
              "      <td>2023-02-28</td>\n",
              "      <td>20</td>\n",
              "      <td>제주도</td>\n",
              "      <td>868446</td>\n",
              "    </tr>\n",
              "    <tr>\n",
              "      <th>18932</th>\n",
              "      <td>2023-02-28</td>\n",
              "      <td>21</td>\n",
              "      <td>제주도</td>\n",
              "      <td>861506</td>\n",
              "    </tr>\n",
              "    <tr>\n",
              "      <th>18933</th>\n",
              "      <td>2023-02-28</td>\n",
              "      <td>22</td>\n",
              "      <td>제주도</td>\n",
              "      <td>830525</td>\n",
              "    </tr>\n",
              "    <tr>\n",
              "      <th>18934</th>\n",
              "      <td>2023-02-28</td>\n",
              "      <td>23</td>\n",
              "      <td>제주도</td>\n",
              "      <td>799712</td>\n",
              "    </tr>\n",
              "    <tr>\n",
              "      <th>18935</th>\n",
              "      <td>2023-02-28</td>\n",
              "      <td>24</td>\n",
              "      <td>제주도</td>\n",
              "      <td>771273</td>\n",
              "    </tr>\n",
              "  </tbody>\n",
              "</table>\n",
              "<p>18936 rows × 4 columns</p>\n",
              "</div>\n",
              "    <div class=\"colab-df-buttons\">\n",
              "\n",
              "  <div class=\"colab-df-container\">\n",
              "    <button class=\"colab-df-convert\" onclick=\"convertToInteractive('df-abedcabe-91c1-4e89-a02f-36456f3b0ccd')\"\n",
              "            title=\"Convert this dataframe to an interactive table.\"\n",
              "            style=\"display:none;\">\n",
              "\n",
              "  <svg xmlns=\"http://www.w3.org/2000/svg\" height=\"24px\" viewBox=\"0 -960 960 960\">\n",
              "    <path d=\"M120-120v-720h720v720H120Zm60-500h600v-160H180v160Zm220 220h160v-160H400v160Zm0 220h160v-160H400v160ZM180-400h160v-160H180v160Zm440 0h160v-160H620v160ZM180-180h160v-160H180v160Zm440 0h160v-160H620v160Z\"/>\n",
              "  </svg>\n",
              "    </button>\n",
              "\n",
              "  <style>\n",
              "    .colab-df-container {\n",
              "      display:flex;\n",
              "      gap: 12px;\n",
              "    }\n",
              "\n",
              "    .colab-df-convert {\n",
              "      background-color: #E8F0FE;\n",
              "      border: none;\n",
              "      border-radius: 50%;\n",
              "      cursor: pointer;\n",
              "      display: none;\n",
              "      fill: #1967D2;\n",
              "      height: 32px;\n",
              "      padding: 0 0 0 0;\n",
              "      width: 32px;\n",
              "    }\n",
              "\n",
              "    .colab-df-convert:hover {\n",
              "      background-color: #E2EBFA;\n",
              "      box-shadow: 0px 1px 2px rgba(60, 64, 67, 0.3), 0px 1px 3px 1px rgba(60, 64, 67, 0.15);\n",
              "      fill: #174EA6;\n",
              "    }\n",
              "\n",
              "    .colab-df-buttons div {\n",
              "      margin-bottom: 4px;\n",
              "    }\n",
              "\n",
              "    [theme=dark] .colab-df-convert {\n",
              "      background-color: #3B4455;\n",
              "      fill: #D2E3FC;\n",
              "    }\n",
              "\n",
              "    [theme=dark] .colab-df-convert:hover {\n",
              "      background-color: #434B5C;\n",
              "      box-shadow: 0px 1px 3px 1px rgba(0, 0, 0, 0.15);\n",
              "      filter: drop-shadow(0px 1px 2px rgba(0, 0, 0, 0.3));\n",
              "      fill: #FFFFFF;\n",
              "    }\n",
              "  </style>\n",
              "\n",
              "    <script>\n",
              "      const buttonEl =\n",
              "        document.querySelector('#df-abedcabe-91c1-4e89-a02f-36456f3b0ccd button.colab-df-convert');\n",
              "      buttonEl.style.display =\n",
              "        google.colab.kernel.accessAllowed ? 'block' : 'none';\n",
              "\n",
              "      async function convertToInteractive(key) {\n",
              "        const element = document.querySelector('#df-abedcabe-91c1-4e89-a02f-36456f3b0ccd');\n",
              "        const dataTable =\n",
              "          await google.colab.kernel.invokeFunction('convertToInteractive',\n",
              "                                                    [key], {});\n",
              "        if (!dataTable) return;\n",
              "\n",
              "        const docLinkHtml = 'Like what you see? Visit the ' +\n",
              "          '<a target=\"_blank\" href=https://colab.research.google.com/notebooks/data_table.ipynb>data table notebook</a>'\n",
              "          + ' to learn more about interactive tables.';\n",
              "        element.innerHTML = '';\n",
              "        dataTable['output_type'] = 'display_data';\n",
              "        await google.colab.output.renderOutput(dataTable, element);\n",
              "        const docLink = document.createElement('div');\n",
              "        docLink.innerHTML = docLinkHtml;\n",
              "        element.appendChild(docLink);\n",
              "      }\n",
              "    </script>\n",
              "  </div>\n",
              "\n",
              "\n",
              "<div id=\"df-f4a16e6b-1f48-45f1-8ca4-0a26e30543df\">\n",
              "  <button class=\"colab-df-quickchart\" onclick=\"quickchart('df-f4a16e6b-1f48-45f1-8ca4-0a26e30543df')\"\n",
              "            title=\"Suggest charts\"\n",
              "            style=\"display:none;\">\n",
              "\n",
              "<svg xmlns=\"http://www.w3.org/2000/svg\" height=\"24px\"viewBox=\"0 0 24 24\"\n",
              "     width=\"24px\">\n",
              "    <g>\n",
              "        <path d=\"M19 3H5c-1.1 0-2 .9-2 2v14c0 1.1.9 2 2 2h14c1.1 0 2-.9 2-2V5c0-1.1-.9-2-2-2zM9 17H7v-7h2v7zm4 0h-2V7h2v10zm4 0h-2v-4h2v4z\"/>\n",
              "    </g>\n",
              "</svg>\n",
              "  </button>\n",
              "\n",
              "<style>\n",
              "  .colab-df-quickchart {\n",
              "      --bg-color: #E8F0FE;\n",
              "      --fill-color: #1967D2;\n",
              "      --hover-bg-color: #E2EBFA;\n",
              "      --hover-fill-color: #174EA6;\n",
              "      --disabled-fill-color: #AAA;\n",
              "      --disabled-bg-color: #DDD;\n",
              "  }\n",
              "\n",
              "  [theme=dark] .colab-df-quickchart {\n",
              "      --bg-color: #3B4455;\n",
              "      --fill-color: #D2E3FC;\n",
              "      --hover-bg-color: #434B5C;\n",
              "      --hover-fill-color: #FFFFFF;\n",
              "      --disabled-bg-color: #3B4455;\n",
              "      --disabled-fill-color: #666;\n",
              "  }\n",
              "\n",
              "  .colab-df-quickchart {\n",
              "    background-color: var(--bg-color);\n",
              "    border: none;\n",
              "    border-radius: 50%;\n",
              "    cursor: pointer;\n",
              "    display: none;\n",
              "    fill: var(--fill-color);\n",
              "    height: 32px;\n",
              "    padding: 0;\n",
              "    width: 32px;\n",
              "  }\n",
              "\n",
              "  .colab-df-quickchart:hover {\n",
              "    background-color: var(--hover-bg-color);\n",
              "    box-shadow: 0 1px 2px rgba(60, 64, 67, 0.3), 0 1px 3px 1px rgba(60, 64, 67, 0.15);\n",
              "    fill: var(--button-hover-fill-color);\n",
              "  }\n",
              "\n",
              "  .colab-df-quickchart-complete:disabled,\n",
              "  .colab-df-quickchart-complete:disabled:hover {\n",
              "    background-color: var(--disabled-bg-color);\n",
              "    fill: var(--disabled-fill-color);\n",
              "    box-shadow: none;\n",
              "  }\n",
              "\n",
              "  .colab-df-spinner {\n",
              "    border: 2px solid var(--fill-color);\n",
              "    border-color: transparent;\n",
              "    border-bottom-color: var(--fill-color);\n",
              "    animation:\n",
              "      spin 1s steps(1) infinite;\n",
              "  }\n",
              "\n",
              "  @keyframes spin {\n",
              "    0% {\n",
              "      border-color: transparent;\n",
              "      border-bottom-color: var(--fill-color);\n",
              "      border-left-color: var(--fill-color);\n",
              "    }\n",
              "    20% {\n",
              "      border-color: transparent;\n",
              "      border-left-color: var(--fill-color);\n",
              "      border-top-color: var(--fill-color);\n",
              "    }\n",
              "    30% {\n",
              "      border-color: transparent;\n",
              "      border-left-color: var(--fill-color);\n",
              "      border-top-color: var(--fill-color);\n",
              "      border-right-color: var(--fill-color);\n",
              "    }\n",
              "    40% {\n",
              "      border-color: transparent;\n",
              "      border-right-color: var(--fill-color);\n",
              "      border-top-color: var(--fill-color);\n",
              "    }\n",
              "    60% {\n",
              "      border-color: transparent;\n",
              "      border-right-color: var(--fill-color);\n",
              "    }\n",
              "    80% {\n",
              "      border-color: transparent;\n",
              "      border-right-color: var(--fill-color);\n",
              "      border-bottom-color: var(--fill-color);\n",
              "    }\n",
              "    90% {\n",
              "      border-color: transparent;\n",
              "      border-bottom-color: var(--fill-color);\n",
              "    }\n",
              "  }\n",
              "</style>\n",
              "\n",
              "  <script>\n",
              "    async function quickchart(key) {\n",
              "      const quickchartButtonEl =\n",
              "        document.querySelector('#' + key + ' button');\n",
              "      quickchartButtonEl.disabled = true;  // To prevent multiple clicks.\n",
              "      quickchartButtonEl.classList.add('colab-df-spinner');\n",
              "      try {\n",
              "        const charts = await google.colab.kernel.invokeFunction(\n",
              "            'suggestCharts', [key], {});\n",
              "      } catch (error) {\n",
              "        console.error('Error during call to suggestCharts:', error);\n",
              "      }\n",
              "      quickchartButtonEl.classList.remove('colab-df-spinner');\n",
              "      quickchartButtonEl.classList.add('colab-df-quickchart-complete');\n",
              "    }\n",
              "    (() => {\n",
              "      let quickchartButtonEl =\n",
              "        document.querySelector('#df-f4a16e6b-1f48-45f1-8ca4-0a26e30543df button');\n",
              "      quickchartButtonEl.style.display =\n",
              "        google.colab.kernel.accessAllowed ? 'block' : 'none';\n",
              "    })();\n",
              "  </script>\n",
              "</div>\n",
              "    </div>\n",
              "  </div>\n"
            ],
            "text/plain": [
              "             date  hour area  electricity demand(MWh)\n",
              "0      2021-01-01     1  제주도                   746329\n",
              "1      2021-01-01     2  제주도                   710544\n",
              "2      2021-01-01     3  제주도                   685313\n",
              "3      2021-01-01     4  제주도                   674663\n",
              "4      2021-01-01     5  제주도                   673656\n",
              "...           ...   ...  ...                      ...\n",
              "18931  2023-02-28    20  제주도                   868446\n",
              "18932  2023-02-28    21  제주도                   861506\n",
              "18933  2023-02-28    22  제주도                   830525\n",
              "18934  2023-02-28    23  제주도                   799712\n",
              "18935  2023-02-28    24  제주도                   771273\n",
              "\n",
              "[18936 rows x 4 columns]"
            ]
          },
          "execution_count": 6,
          "metadata": {},
          "output_type": "execute_result"
        }
      ],
      "source": [
        "electricity_demand"
      ]
    },
    {
      "cell_type": "code",
      "execution_count": 7,
      "metadata": {
        "colab": {
          "base_uri": "https://localhost:8080/",
          "height": 423
        },
        "id": "FQlIhaC4bIiT",
        "outputId": "9c9ad62d-68a5-487a-ca88-1b0f58bbd0ac"
      },
      "outputs": [
        {
          "data": {
            "application/vnd.google.colaboratory.intrinsic+json": {
              "summary": "{\n  \"name\": \"merged_df_jeju\",\n  \"rows\": 17520,\n  \"fields\": [\n    {\n      \"column\": \"date\",\n      \"properties\": {\n        \"dtype\": \"date\",\n        \"min\": \"2021-01-01 00:00:00\",\n        \"max\": \"2022-12-31 00:00:00\",\n        \"samples\": [\n          \"2022-04-14 00:00:00\",\n          \"2021-05-29 00:00:00\",\n          \"2021-10-30 00:00:00\"\n        ],\n        \"num_unique_values\": 730,\n        \"semantic_type\": \"\",\n        \"description\": \"\"\n      }\n    },\n    {\n      \"column\": \"hour\",\n      \"properties\": {\n        \"dtype\": \"number\",\n        \"std\": 6,\n        \"min\": 1,\n        \"max\": 24,\n        \"samples\": [\n          9,\n          17,\n          1\n        ],\n        \"num_unique_values\": 24,\n        \"semantic_type\": \"\",\n        \"description\": \"\"\n      }\n    },\n    {\n      \"column\": \"WindDirection\",\n      \"properties\": {\n        \"dtype\": \"number\",\n        \"std\": 112.67722197513746,\n        \"min\": 0.0,\n        \"max\": 360.0,\n        \"samples\": [\n          320.0,\n          290.0,\n          360.0\n        ],\n        \"num_unique_values\": 17,\n        \"semantic_type\": \"\",\n        \"description\": \"\"\n      }\n    },\n    {\n      \"column\": \"WindSpeed\",\n      \"properties\": {\n        \"dtype\": \"number\",\n        \"std\": 1.8439795267507977,\n        \"min\": 0.0,\n        \"max\": 13.7,\n        \"samples\": [\n          4.8,\n          4.6,\n          1.3\n        ],\n        \"num_unique_values\": 125,\n        \"semantic_type\": \"\",\n        \"description\": \"\"\n      }\n    },\n    {\n      \"column\": \"Cloud\",\n      \"properties\": {\n        \"dtype\": \"number\",\n        \"std\": 3.5471860304956113,\n        \"min\": 0.0,\n        \"max\": 10.0,\n        \"samples\": [\n          1.0,\n          9.0,\n          0.0\n        ],\n        \"num_unique_values\": 11,\n        \"semantic_type\": \"\",\n        \"description\": \"\"\n      }\n    },\n    {\n      \"column\": \"Rainfall\",\n      \"properties\": {\n        \"dtype\": \"number\",\n        \"std\": 0.31820663633786683,\n        \"min\": 0.0,\n        \"max\": 2.0,\n        \"samples\": [\n          0.0,\n          1.0,\n          2.0\n        ],\n        \"num_unique_values\": 3,\n        \"semantic_type\": \"\",\n        \"description\": \"\"\n      }\n    },\n    {\n      \"column\": \"Humidity\",\n      \"properties\": {\n        \"dtype\": \"number\",\n        \"std\": 14.557673265192422,\n        \"min\": 14.0,\n        \"max\": 100.0,\n        \"samples\": [\n          20.0,\n          53.0,\n          32.0\n        ],\n        \"num_unique_values\": 85,\n        \"semantic_type\": \"\",\n        \"description\": \"\"\n      }\n    },\n    {\n      \"column\": \"Temperature\",\n      \"properties\": {\n        \"dtype\": \"number\",\n        \"std\": 8.233107117313642,\n        \"min\": -2.7,\n        \"max\": 36.9,\n        \"samples\": [\n          23.8,\n          23.7,\n          1.5\n        ],\n        \"num_unique_values\": 385,\n        \"semantic_type\": \"\",\n        \"description\": \"\"\n      }\n    },\n    {\n      \"column\": \"Q12\",\n      \"properties\": {\n        \"dtype\": \"number\",\n        \"std\": 438.74435291715855,\n        \"min\": 0.0,\n        \"max\": 1300.4730000195875,\n        \"samples\": [\n          1003.6072744547052,\n          166.17528568335544,\n          18.452118665786056\n        ],\n        \"num_unique_values\": 2379,\n        \"semantic_type\": \"\",\n        \"description\": \"\"\n      }\n    },\n    {\n      \"column\": \"Q13\",\n      \"properties\": {\n        \"dtype\": \"number\",\n        \"std\": 438.74435291715855,\n        \"min\": 0.0,\n        \"max\": 1300.4730000195875,\n        \"samples\": [\n          1003.6072744547052,\n          166.17528568335544,\n          18.452118665786056\n        ],\n        \"num_unique_values\": 2379,\n        \"semantic_type\": \"\",\n        \"description\": \"\"\n      }\n    },\n    {\n      \"column\": \"Q_mean\",\n      \"properties\": {\n        \"dtype\": \"number\",\n        \"std\": 433.193922778059,\n        \"min\": 0.0,\n        \"max\": 1283.1800811585308,\n        \"samples\": [\n          898.8841583345952,\n          83.08764284167772,\n          9.226059332893028\n        ],\n        \"num_unique_values\": 2379,\n        \"semantic_type\": \"\",\n        \"description\": \"\"\n      }\n    },\n    {\n      \"column\": \"electricity demand(MWh)\",\n      \"properties\": {\n        \"dtype\": \"number\",\n        \"std\": 123633,\n        \"min\": 378478,\n        \"max\": 1103977,\n        \"samples\": [\n          508345,\n          647140,\n          410510\n        ],\n        \"num_unique_values\": 17162,\n        \"semantic_type\": \"\",\n        \"description\": \"\"\n      }\n    },\n    {\n      \"column\": \"weekday\",\n      \"properties\": {\n        \"dtype\": \"number\",\n        \"std\": 1,\n        \"min\": 0,\n        \"max\": 6,\n        \"samples\": [\n          4,\n          5,\n          2\n        ],\n        \"num_unique_values\": 7,\n        \"semantic_type\": \"\",\n        \"description\": \"\"\n      }\n    }\n  ]\n}",
              "type": "dataframe",
              "variable_name": "merged_df_jeju"
            },
            "text/html": [
              "\n",
              "  <div id=\"df-b218b480-8f8e-44c5-bbd0-3eb42f13f31d\" class=\"colab-df-container\">\n",
              "    <div>\n",
              "<style scoped>\n",
              "    .dataframe tbody tr th:only-of-type {\n",
              "        vertical-align: middle;\n",
              "    }\n",
              "\n",
              "    .dataframe tbody tr th {\n",
              "        vertical-align: top;\n",
              "    }\n",
              "\n",
              "    .dataframe thead th {\n",
              "        text-align: right;\n",
              "    }\n",
              "</style>\n",
              "<table border=\"1\" class=\"dataframe\">\n",
              "  <thead>\n",
              "    <tr style=\"text-align: right;\">\n",
              "      <th></th>\n",
              "      <th>date</th>\n",
              "      <th>hour</th>\n",
              "      <th>WindDirection</th>\n",
              "      <th>WindSpeed</th>\n",
              "      <th>Cloud</th>\n",
              "      <th>Rainfall</th>\n",
              "      <th>Humidity</th>\n",
              "      <th>Temperature</th>\n",
              "      <th>Q12</th>\n",
              "      <th>Q13</th>\n",
              "      <th>Q_mean</th>\n",
              "      <th>electricity demand(MWh)</th>\n",
              "      <th>weekday</th>\n",
              "    </tr>\n",
              "  </thead>\n",
              "  <tbody>\n",
              "    <tr>\n",
              "      <th>0</th>\n",
              "      <td>2021-01-01</td>\n",
              "      <td>1</td>\n",
              "      <td>320.0</td>\n",
              "      <td>6.1</td>\n",
              "      <td>9.0</td>\n",
              "      <td>0.0</td>\n",
              "      <td>53.0</td>\n",
              "      <td>4.5</td>\n",
              "      <td>0.0</td>\n",
              "      <td>0.0</td>\n",
              "      <td>0.0</td>\n",
              "      <td>746329</td>\n",
              "      <td>4</td>\n",
              "    </tr>\n",
              "    <tr>\n",
              "      <th>1</th>\n",
              "      <td>2021-01-01</td>\n",
              "      <td>2</td>\n",
              "      <td>320.0</td>\n",
              "      <td>5.6</td>\n",
              "      <td>9.0</td>\n",
              "      <td>0.0</td>\n",
              "      <td>58.0</td>\n",
              "      <td>4.3</td>\n",
              "      <td>0.0</td>\n",
              "      <td>0.0</td>\n",
              "      <td>0.0</td>\n",
              "      <td>710544</td>\n",
              "      <td>4</td>\n",
              "    </tr>\n",
              "    <tr>\n",
              "      <th>2</th>\n",
              "      <td>2021-01-01</td>\n",
              "      <td>3</td>\n",
              "      <td>320.0</td>\n",
              "      <td>5.5</td>\n",
              "      <td>10.0</td>\n",
              "      <td>0.0</td>\n",
              "      <td>54.0</td>\n",
              "      <td>4.2</td>\n",
              "      <td>0.0</td>\n",
              "      <td>0.0</td>\n",
              "      <td>0.0</td>\n",
              "      <td>685313</td>\n",
              "      <td>4</td>\n",
              "    </tr>\n",
              "    <tr>\n",
              "      <th>3</th>\n",
              "      <td>2021-01-01</td>\n",
              "      <td>4</td>\n",
              "      <td>320.0</td>\n",
              "      <td>5.4</td>\n",
              "      <td>10.0</td>\n",
              "      <td>0.0</td>\n",
              "      <td>52.0</td>\n",
              "      <td>4.3</td>\n",
              "      <td>0.0</td>\n",
              "      <td>0.0</td>\n",
              "      <td>0.0</td>\n",
              "      <td>674663</td>\n",
              "      <td>4</td>\n",
              "    </tr>\n",
              "    <tr>\n",
              "      <th>4</th>\n",
              "      <td>2021-01-01</td>\n",
              "      <td>5</td>\n",
              "      <td>290.0</td>\n",
              "      <td>4.2</td>\n",
              "      <td>10.0</td>\n",
              "      <td>0.0</td>\n",
              "      <td>47.0</td>\n",
              "      <td>4.2</td>\n",
              "      <td>0.0</td>\n",
              "      <td>0.0</td>\n",
              "      <td>0.0</td>\n",
              "      <td>673656</td>\n",
              "      <td>4</td>\n",
              "    </tr>\n",
              "    <tr>\n",
              "      <th>...</th>\n",
              "      <td>...</td>\n",
              "      <td>...</td>\n",
              "      <td>...</td>\n",
              "      <td>...</td>\n",
              "      <td>...</td>\n",
              "      <td>...</td>\n",
              "      <td>...</td>\n",
              "      <td>...</td>\n",
              "      <td>...</td>\n",
              "      <td>...</td>\n",
              "      <td>...</td>\n",
              "      <td>...</td>\n",
              "      <td>...</td>\n",
              "    </tr>\n",
              "    <tr>\n",
              "      <th>17515</th>\n",
              "      <td>2022-12-31</td>\n",
              "      <td>20</td>\n",
              "      <td>320.0</td>\n",
              "      <td>3.4</td>\n",
              "      <td>6.0</td>\n",
              "      <td>0.0</td>\n",
              "      <td>60.0</td>\n",
              "      <td>6.9</td>\n",
              "      <td>0.0</td>\n",
              "      <td>0.0</td>\n",
              "      <td>0.0</td>\n",
              "      <td>926980</td>\n",
              "      <td>5</td>\n",
              "    </tr>\n",
              "    <tr>\n",
              "      <th>17516</th>\n",
              "      <td>2022-12-31</td>\n",
              "      <td>21</td>\n",
              "      <td>290.0</td>\n",
              "      <td>2.9</td>\n",
              "      <td>7.0</td>\n",
              "      <td>0.0</td>\n",
              "      <td>59.0</td>\n",
              "      <td>6.8</td>\n",
              "      <td>0.0</td>\n",
              "      <td>0.0</td>\n",
              "      <td>0.0</td>\n",
              "      <td>921498</td>\n",
              "      <td>5</td>\n",
              "    </tr>\n",
              "    <tr>\n",
              "      <th>17517</th>\n",
              "      <td>2022-12-31</td>\n",
              "      <td>22</td>\n",
              "      <td>320.0</td>\n",
              "      <td>3.2</td>\n",
              "      <td>6.0</td>\n",
              "      <td>0.0</td>\n",
              "      <td>61.0</td>\n",
              "      <td>6.8</td>\n",
              "      <td>0.0</td>\n",
              "      <td>0.0</td>\n",
              "      <td>0.0</td>\n",
              "      <td>903747</td>\n",
              "      <td>5</td>\n",
              "    </tr>\n",
              "    <tr>\n",
              "      <th>17518</th>\n",
              "      <td>2022-12-31</td>\n",
              "      <td>23</td>\n",
              "      <td>250.0</td>\n",
              "      <td>1.9</td>\n",
              "      <td>3.0</td>\n",
              "      <td>0.0</td>\n",
              "      <td>62.0</td>\n",
              "      <td>6.0</td>\n",
              "      <td>0.0</td>\n",
              "      <td>0.0</td>\n",
              "      <td>0.0</td>\n",
              "      <td>882189</td>\n",
              "      <td>5</td>\n",
              "    </tr>\n",
              "    <tr>\n",
              "      <th>17519</th>\n",
              "      <td>2022-12-31</td>\n",
              "      <td>24</td>\n",
              "      <td>270.0</td>\n",
              "      <td>2.1</td>\n",
              "      <td>4.0</td>\n",
              "      <td>0.0</td>\n",
              "      <td>64.0</td>\n",
              "      <td>5.4</td>\n",
              "      <td>0.0</td>\n",
              "      <td>0.0</td>\n",
              "      <td>0.0</td>\n",
              "      <td>873969</td>\n",
              "      <td>5</td>\n",
              "    </tr>\n",
              "  </tbody>\n",
              "</table>\n",
              "<p>17520 rows × 13 columns</p>\n",
              "</div>\n",
              "    <div class=\"colab-df-buttons\">\n",
              "\n",
              "  <div class=\"colab-df-container\">\n",
              "    <button class=\"colab-df-convert\" onclick=\"convertToInteractive('df-b218b480-8f8e-44c5-bbd0-3eb42f13f31d')\"\n",
              "            title=\"Convert this dataframe to an interactive table.\"\n",
              "            style=\"display:none;\">\n",
              "\n",
              "  <svg xmlns=\"http://www.w3.org/2000/svg\" height=\"24px\" viewBox=\"0 -960 960 960\">\n",
              "    <path d=\"M120-120v-720h720v720H120Zm60-500h600v-160H180v160Zm220 220h160v-160H400v160Zm0 220h160v-160H400v160ZM180-400h160v-160H180v160Zm440 0h160v-160H620v160ZM180-180h160v-160H180v160Zm440 0h160v-160H620v160Z\"/>\n",
              "  </svg>\n",
              "    </button>\n",
              "\n",
              "  <style>\n",
              "    .colab-df-container {\n",
              "      display:flex;\n",
              "      gap: 12px;\n",
              "    }\n",
              "\n",
              "    .colab-df-convert {\n",
              "      background-color: #E8F0FE;\n",
              "      border: none;\n",
              "      border-radius: 50%;\n",
              "      cursor: pointer;\n",
              "      display: none;\n",
              "      fill: #1967D2;\n",
              "      height: 32px;\n",
              "      padding: 0 0 0 0;\n",
              "      width: 32px;\n",
              "    }\n",
              "\n",
              "    .colab-df-convert:hover {\n",
              "      background-color: #E2EBFA;\n",
              "      box-shadow: 0px 1px 2px rgba(60, 64, 67, 0.3), 0px 1px 3px 1px rgba(60, 64, 67, 0.15);\n",
              "      fill: #174EA6;\n",
              "    }\n",
              "\n",
              "    .colab-df-buttons div {\n",
              "      margin-bottom: 4px;\n",
              "    }\n",
              "\n",
              "    [theme=dark] .colab-df-convert {\n",
              "      background-color: #3B4455;\n",
              "      fill: #D2E3FC;\n",
              "    }\n",
              "\n",
              "    [theme=dark] .colab-df-convert:hover {\n",
              "      background-color: #434B5C;\n",
              "      box-shadow: 0px 1px 3px 1px rgba(0, 0, 0, 0.15);\n",
              "      filter: drop-shadow(0px 1px 2px rgba(0, 0, 0, 0.3));\n",
              "      fill: #FFFFFF;\n",
              "    }\n",
              "  </style>\n",
              "\n",
              "    <script>\n",
              "      const buttonEl =\n",
              "        document.querySelector('#df-b218b480-8f8e-44c5-bbd0-3eb42f13f31d button.colab-df-convert');\n",
              "      buttonEl.style.display =\n",
              "        google.colab.kernel.accessAllowed ? 'block' : 'none';\n",
              "\n",
              "      async function convertToInteractive(key) {\n",
              "        const element = document.querySelector('#df-b218b480-8f8e-44c5-bbd0-3eb42f13f31d');\n",
              "        const dataTable =\n",
              "          await google.colab.kernel.invokeFunction('convertToInteractive',\n",
              "                                                    [key], {});\n",
              "        if (!dataTable) return;\n",
              "\n",
              "        const docLinkHtml = 'Like what you see? Visit the ' +\n",
              "          '<a target=\"_blank\" href=https://colab.research.google.com/notebooks/data_table.ipynb>data table notebook</a>'\n",
              "          + ' to learn more about interactive tables.';\n",
              "        element.innerHTML = '';\n",
              "        dataTable['output_type'] = 'display_data';\n",
              "        await google.colab.output.renderOutput(dataTable, element);\n",
              "        const docLink = document.createElement('div');\n",
              "        docLink.innerHTML = docLinkHtml;\n",
              "        element.appendChild(docLink);\n",
              "      }\n",
              "    </script>\n",
              "  </div>\n",
              "\n",
              "\n",
              "<div id=\"df-ef8e895d-93a1-442b-9b55-53928b6d3c48\">\n",
              "  <button class=\"colab-df-quickchart\" onclick=\"quickchart('df-ef8e895d-93a1-442b-9b55-53928b6d3c48')\"\n",
              "            title=\"Suggest charts\"\n",
              "            style=\"display:none;\">\n",
              "\n",
              "<svg xmlns=\"http://www.w3.org/2000/svg\" height=\"24px\"viewBox=\"0 0 24 24\"\n",
              "     width=\"24px\">\n",
              "    <g>\n",
              "        <path d=\"M19 3H5c-1.1 0-2 .9-2 2v14c0 1.1.9 2 2 2h14c1.1 0 2-.9 2-2V5c0-1.1-.9-2-2-2zM9 17H7v-7h2v7zm4 0h-2V7h2v10zm4 0h-2v-4h2v4z\"/>\n",
              "    </g>\n",
              "</svg>\n",
              "  </button>\n",
              "\n",
              "<style>\n",
              "  .colab-df-quickchart {\n",
              "      --bg-color: #E8F0FE;\n",
              "      --fill-color: #1967D2;\n",
              "      --hover-bg-color: #E2EBFA;\n",
              "      --hover-fill-color: #174EA6;\n",
              "      --disabled-fill-color: #AAA;\n",
              "      --disabled-bg-color: #DDD;\n",
              "  }\n",
              "\n",
              "  [theme=dark] .colab-df-quickchart {\n",
              "      --bg-color: #3B4455;\n",
              "      --fill-color: #D2E3FC;\n",
              "      --hover-bg-color: #434B5C;\n",
              "      --hover-fill-color: #FFFFFF;\n",
              "      --disabled-bg-color: #3B4455;\n",
              "      --disabled-fill-color: #666;\n",
              "  }\n",
              "\n",
              "  .colab-df-quickchart {\n",
              "    background-color: var(--bg-color);\n",
              "    border: none;\n",
              "    border-radius: 50%;\n",
              "    cursor: pointer;\n",
              "    display: none;\n",
              "    fill: var(--fill-color);\n",
              "    height: 32px;\n",
              "    padding: 0;\n",
              "    width: 32px;\n",
              "  }\n",
              "\n",
              "  .colab-df-quickchart:hover {\n",
              "    background-color: var(--hover-bg-color);\n",
              "    box-shadow: 0 1px 2px rgba(60, 64, 67, 0.3), 0 1px 3px 1px rgba(60, 64, 67, 0.15);\n",
              "    fill: var(--button-hover-fill-color);\n",
              "  }\n",
              "\n",
              "  .colab-df-quickchart-complete:disabled,\n",
              "  .colab-df-quickchart-complete:disabled:hover {\n",
              "    background-color: var(--disabled-bg-color);\n",
              "    fill: var(--disabled-fill-color);\n",
              "    box-shadow: none;\n",
              "  }\n",
              "\n",
              "  .colab-df-spinner {\n",
              "    border: 2px solid var(--fill-color);\n",
              "    border-color: transparent;\n",
              "    border-bottom-color: var(--fill-color);\n",
              "    animation:\n",
              "      spin 1s steps(1) infinite;\n",
              "  }\n",
              "\n",
              "  @keyframes spin {\n",
              "    0% {\n",
              "      border-color: transparent;\n",
              "      border-bottom-color: var(--fill-color);\n",
              "      border-left-color: var(--fill-color);\n",
              "    }\n",
              "    20% {\n",
              "      border-color: transparent;\n",
              "      border-left-color: var(--fill-color);\n",
              "      border-top-color: var(--fill-color);\n",
              "    }\n",
              "    30% {\n",
              "      border-color: transparent;\n",
              "      border-left-color: var(--fill-color);\n",
              "      border-top-color: var(--fill-color);\n",
              "      border-right-color: var(--fill-color);\n",
              "    }\n",
              "    40% {\n",
              "      border-color: transparent;\n",
              "      border-right-color: var(--fill-color);\n",
              "      border-top-color: var(--fill-color);\n",
              "    }\n",
              "    60% {\n",
              "      border-color: transparent;\n",
              "      border-right-color: var(--fill-color);\n",
              "    }\n",
              "    80% {\n",
              "      border-color: transparent;\n",
              "      border-right-color: var(--fill-color);\n",
              "      border-bottom-color: var(--fill-color);\n",
              "    }\n",
              "    90% {\n",
              "      border-color: transparent;\n",
              "      border-bottom-color: var(--fill-color);\n",
              "    }\n",
              "  }\n",
              "</style>\n",
              "\n",
              "  <script>\n",
              "    async function quickchart(key) {\n",
              "      const quickchartButtonEl =\n",
              "        document.querySelector('#' + key + ' button');\n",
              "      quickchartButtonEl.disabled = true;  // To prevent multiple clicks.\n",
              "      quickchartButtonEl.classList.add('colab-df-spinner');\n",
              "      try {\n",
              "        const charts = await google.colab.kernel.invokeFunction(\n",
              "            'suggestCharts', [key], {});\n",
              "      } catch (error) {\n",
              "        console.error('Error during call to suggestCharts:', error);\n",
              "      }\n",
              "      quickchartButtonEl.classList.remove('colab-df-spinner');\n",
              "      quickchartButtonEl.classList.add('colab-df-quickchart-complete');\n",
              "    }\n",
              "    (() => {\n",
              "      let quickchartButtonEl =\n",
              "        document.querySelector('#df-ef8e895d-93a1-442b-9b55-53928b6d3c48 button');\n",
              "      quickchartButtonEl.style.display =\n",
              "        google.colab.kernel.accessAllowed ? 'block' : 'none';\n",
              "    })();\n",
              "  </script>\n",
              "</div>\n",
              "    </div>\n",
              "  </div>\n"
            ],
            "text/plain": [
              "            date  hour  WindDirection  WindSpeed  Cloud  Rainfall  Humidity  \\\n",
              "0     2021-01-01     1          320.0        6.1    9.0       0.0      53.0   \n",
              "1     2021-01-01     2          320.0        5.6    9.0       0.0      58.0   \n",
              "2     2021-01-01     3          320.0        5.5   10.0       0.0      54.0   \n",
              "3     2021-01-01     4          320.0        5.4   10.0       0.0      52.0   \n",
              "4     2021-01-01     5          290.0        4.2   10.0       0.0      47.0   \n",
              "...          ...   ...            ...        ...    ...       ...       ...   \n",
              "17515 2022-12-31    20          320.0        3.4    6.0       0.0      60.0   \n",
              "17516 2022-12-31    21          290.0        2.9    7.0       0.0      59.0   \n",
              "17517 2022-12-31    22          320.0        3.2    6.0       0.0      61.0   \n",
              "17518 2022-12-31    23          250.0        1.9    3.0       0.0      62.0   \n",
              "17519 2022-12-31    24          270.0        2.1    4.0       0.0      64.0   \n",
              "\n",
              "       Temperature  Q12  Q13  Q_mean  electricity demand(MWh)  weekday  \n",
              "0              4.5  0.0  0.0     0.0                   746329        4  \n",
              "1              4.3  0.0  0.0     0.0                   710544        4  \n",
              "2              4.2  0.0  0.0     0.0                   685313        4  \n",
              "3              4.3  0.0  0.0     0.0                   674663        4  \n",
              "4              4.2  0.0  0.0     0.0                   673656        4  \n",
              "...            ...  ...  ...     ...                      ...      ...  \n",
              "17515          6.9  0.0  0.0     0.0                   926980        5  \n",
              "17516          6.8  0.0  0.0     0.0                   921498        5  \n",
              "17517          6.8  0.0  0.0     0.0                   903747        5  \n",
              "17518          6.0  0.0  0.0     0.0                   882189        5  \n",
              "17519          5.4  0.0  0.0     0.0                   873969        5  \n",
              "\n",
              "[17520 rows x 13 columns]"
            ]
          },
          "execution_count": 7,
          "metadata": {},
          "output_type": "execute_result"
        }
      ],
      "source": [
        "merged_df_jeju = weather_df_jeju.merge(electricity_demand[['date', 'hour', 'electricity demand(MWh)']], on=['date', 'hour'], how='left')\n",
        "# date 열을 datetime 형식으로 변환합니다.\n",
        "merged_df_jeju['date'] = pd.to_datetime(merged_df_jeju['date'])\n",
        "\n",
        "# 날짜 열을 기반으로 요일을 추출하여 새로운 열에 추가합니다.\n",
        "merged_df_jeju['weekday'] = merged_df_jeju['date'].dt.dayofweek\n",
        "merged_df_jeju"
      ]
    },
    {
      "cell_type": "code",
      "execution_count": 8,
      "metadata": {
        "colab": {
          "base_uri": "https://localhost:8080/"
        },
        "id": "AC8CH9umh04_",
        "outputId": "bb36eeb9-dca6-4fdb-9ae1-02f3a5fbb692"
      },
      "outputs": [
        {
          "name": "stdout",
          "output_type": "stream",
          "text": [
            "<class 'pandas.core.frame.DataFrame'>\n",
            "Int64Index: 17520 entries, 0 to 17519\n",
            "Data columns (total 13 columns):\n",
            " #   Column                   Non-Null Count  Dtype         \n",
            "---  ------                   --------------  -----         \n",
            " 0   date                     17520 non-null  datetime64[ns]\n",
            " 1   hour                     17520 non-null  int64         \n",
            " 2   WindDirection            17518 non-null  float64       \n",
            " 3   WindSpeed                17518 non-null  float64       \n",
            " 4   Cloud                    17502 non-null  float64       \n",
            " 5   Rainfall                 17520 non-null  float64       \n",
            " 6   Humidity                 17520 non-null  float64       \n",
            " 7   Temperature              17520 non-null  float64       \n",
            " 8   Q12                      17520 non-null  float64       \n",
            " 9   Q13                      17520 non-null  float64       \n",
            " 10  Q_mean                   17520 non-null  float64       \n",
            " 11  electricity demand(MWh)  17520 non-null  int64         \n",
            " 12  weekday                  17520 non-null  int64         \n",
            "dtypes: datetime64[ns](1), float64(9), int64(3)\n",
            "memory usage: 1.9 MB\n"
          ]
        }
      ],
      "source": [
        "merged_df_jeju.info()"
      ]
    },
    {
      "cell_type": "code",
      "execution_count": 9,
      "metadata": {
        "id": "O0iHAQXVh7Yv"
      },
      "outputs": [],
      "source": [
        "merged_df_jeju = merged_df_jeju.dropna()"
      ]
    },
    {
      "cell_type": "code",
      "execution_count": 10,
      "metadata": {
        "colab": {
          "base_uri": "https://localhost:8080/",
          "height": 1000
        },
        "id": "p8jG4iaWiAZV",
        "outputId": "3d250c0a-8fcb-4799-a139-62cccb30f244"
      },
      "outputs": [
        {
          "name": "stderr",
          "output_type": "stream",
          "text": [
            "<ipython-input-10-a4742e4d20a3>:3: FutureWarning: The default value of numeric_only in DataFrame.corr is deprecated. In a future version, it will default to False. Select only valid columns or specify the value of numeric_only to silence this warning.\n",
            "  sns.heatmap(merged_df_jeju.corr(), annot=True, cmap=cmap)\n"
          ]
        },
        {
          "data": {
            "image/png": "[encoded data removed]",
            "text/plain": [
              "<Figure size 1600x1600 with 2 Axes>"
            ]
          },
          "metadata": {},
          "output_type": "display_data"
        }
      ],
      "source": [
        "plt.figure(figsize=(16, 16))\n",
        "cmap = sns.light_palette(color=\"b\", as_cmap=True)\n",
        "sns.heatmap(merged_df_jeju.corr(), annot=True, cmap=cmap)\n",
        "plt.show()"
      ]
    },
    {
      "cell_type": "markdown",
      "metadata": {
        "id": "zjbtVDACluOR"
      },
      "source": []
    },
    {
      "cell_type": "markdown",
      "metadata": {
        "id": "uauZu7UDiHj5"
      },
      "source": [
        "#모델링"
      ]
    },
    {
      "cell_type": "code",
      "execution_count": 11,
      "metadata": {
        "id": "ILS98SfgiGaT"
      },
      "outputs": [],
      "source": [
        "import os\n",
        "from tqdm import tqdm\n",
        "import torch\n",
        "import pandas as pd\n",
        "import numpy as np\n",
        "import matplotlib.pyplot as plt\n",
        "\n",
        "from torch.utils.data import Dataset, DataLoader\n",
        "from sklearn.model_selection import train_test_split"
      ]
    },
    {
      "cell_type": "code",
      "execution_count": 12,
      "metadata": {
        "colab": {
          "base_uri": "https://localhost:8080/"
        },
        "id": "BFGUW3CFib8_",
        "outputId": "e139d304-bc43-4400-bbc7-0f1a6f03388d"
      },
      "outputs": [
        {
          "name": "stderr",
          "output_type": "stream",
          "text": [
            "<ipython-input-12-371f1a94f276>:4: SettingWithCopyWarning: \n",
            "A value is trying to be set on a copy of a slice from a DataFrame.\n",
            "Try using .loc[row_indexer,col_indexer] = value instead\n",
            "\n",
            "See the caveats in the documentation: https://pandas.pydata.org/pandas-docs/stable/user_guide/indexing.html#returning-a-view-versus-a-copy\n",
            "  merged_df_jeju[columns_to_scale] = ss.fit_transform(merged_df_jeju[columns_to_scale])\n"
          ]
        }
      ],
      "source": [
        "ss = StandardScaler()\n",
        "\n",
        "columns_to_scale = ['WindDirection', 'WindSpeed', 'Cloud', 'Rainfall', 'Humidity', 'Temperature', 'Q12', 'Q13', 'Q_mean', 'weekday']\n",
        "merged_df_jeju[columns_to_scale] = ss.fit_transform(merged_df_jeju[columns_to_scale])"
      ]
    },
    {
      "cell_type": "code",
      "execution_count": 13,
      "metadata": {
        "id": "d4qYj1YRjT3u"
      },
      "outputs": [],
      "source": [
        "features = merged_df_jeju.drop(['date', 'WindDirection', 'WindSpeed', 'Q12', 'Q_mean', 'electricity demand(MWh)'], axis=1)\n",
        "labels = merged_df_jeju['electricity demand(MWh)']"
      ]
    },
    {
      "cell_type": "code",
      "execution_count": 14,
      "metadata": {
        "id": "ZTYcP8I1jWRG"
      },
      "outputs": [],
      "source": [
        "class ElecDemandDataset(Dataset):\n",
        "    def __init__(self, features, labels, window_size=2, step_size=1):\n",
        "        self.features = torch.tensor(features.values, dtype=torch.float32)\n",
        "        self.labels = torch.tensor(labels.values, dtype=torch.float32)\n",
        "        self.window_size = window_size\n",
        "        self.step_size = step_size\n",
        "\n",
        "    def __len__(self):\n",
        "        total_steps = len(self.features) - self.window_size + 1\n",
        "        # Calculate the number of complete windows that can be formed\n",
        "        if total_steps > 0:\n",
        "            return (total_steps + self.step_size - 1) // self.step_size\n",
        "        else:\n",
        "            return 0\n",
        "\n",
        "    def __getitem__(self, index):\n",
        "        start = index * self.step_size\n",
        "        end = start + self.window_size\n",
        "\n",
        "        return (self.features[start:end], self.labels[start:end])"
      ]
    },
    {
      "cell_type": "code",
      "execution_count": 15,
      "metadata": {
        "colab": {
          "base_uri": "https://localhost:8080/"
        },
        "id": "3Ax07d8ojdfa",
        "outputId": "ec2ea678-aff3-45e1-895a-5af90e1ad1cb"
      },
      "outputs": [
        {
          "data": {
            "text/plain": [
              "['hour', 'Cloud', 'Rainfall', 'Humidity', 'Temperature', 'Q13', 'weekday']"
            ]
          },
          "execution_count": 15,
          "metadata": {},
          "output_type": "execute_result"
        }
      ],
      "source": [
        "col_name = list(features.columns)\n",
        "col_name"
      ]
    },
    {
      "cell_type": "code",
      "execution_count": 16,
      "metadata": {
        "id": "v0Ar-2M9lZwr"
      },
      "outputs": [],
      "source": [
        "features_train, features_val, labels_train, labels_val = train_test_split(features, labels, test_size=0.2, random_state=42)"
      ]
    },
    {
      "cell_type": "code",
      "execution_count": 17,
      "metadata": {
        "id": "53tZsk7llcWl"
      },
      "outputs": [],
      "source": [
        "train_dataset = ElecDemandDataset(features_train, labels_train)\n",
        "val_dataset = ElecDemandDataset(features_val, labels_val)"
      ]
    },
    {
      "cell_type": "code",
      "execution_count": 18,
      "metadata": {
        "colab": {
          "base_uri": "https://localhost:8080/"
        },
        "id": "uyjNIa1Gljxb",
        "outputId": "87f5ab79-22d8-4431-9504-82019821ae9c"
      },
      "outputs": [
        {
          "data": {
            "text/plain": [
              "(13999, 3499)"
            ]
          },
          "execution_count": 18,
          "metadata": {},
          "output_type": "execute_result"
        }
      ],
      "source": [
        "len(train_dataset), len(val_dataset)"
      ]
    },
    {
      "cell_type": "code",
      "execution_count": 19,
      "metadata": {
        "id": "dmbb9_ESllkJ"
      },
      "outputs": [],
      "source": [
        "train_loader = DataLoader(train_dataset, batch_size=64, shuffle=False)\n",
        "val_loader = DataLoader(val_dataset, batch_size=64, shuffle=False)"
      ]
    },
    {
      "cell_type": "code",
      "execution_count": 20,
      "metadata": {
        "colab": {
          "base_uri": "https://localhost:8080/"
        },
        "id": "EewQRHaNlnNC",
        "outputId": "adcf7a95-5a09-46e4-918b-672dd9faea8f"
      },
      "outputs": [
        {
          "name": "stdout",
          "output_type": "stream",
          "text": [
            "(tensor([[ 1.3000e+01, -3.2370e-01, -2.4356e-01, -2.0510e+00, -1.0677e+00,\n",
            "          9.7481e-01,  9.9864e-01],\n",
            "        [ 1.3000e+01, -4.1787e-02, -2.4356e-01, -5.4015e-01, -2.0509e-01,\n",
            "          1.1973e+00, -1.9440e-03]]), tensor([503508., 568131.]))\n",
            "torch.Size([2, 7])\n",
            "torch.Size([2])\n"
          ]
        }
      ],
      "source": [
        "print(train_dataset[0])\n",
        "print(train_dataset[0][0].shape)\n",
        "print(train_dataset[0][1].shape)"
      ]
    },
    {
      "cell_type": "code",
      "execution_count": 21,
      "metadata": {
        "colab": {
          "base_uri": "https://localhost:8080/"
        },
        "id": "6C5BaMQ3lo_v",
        "outputId": "fe12dd2e-2d5d-4e27-e546-29ffb4326aca"
      },
      "outputs": [
        {
          "name": "stdout",
          "output_type": "stream",
          "text": [
            "torch.Size([64, 2, 7])\n",
            "torch.Size([64, 2])\n"
          ]
        }
      ],
      "source": [
        "train_features, train_labels = next(iter(train_loader))\n",
        "print(train_features.shape)\n",
        "print(train_labels.shape)"
      ]
    },
    {
      "cell_type": "markdown",
      "metadata": {
        "id": "aYD7hlbplsCd"
      },
      "source": []
    },
    {
      "cell_type": "markdown",
      "metadata": {
        "id": "-2DMOKp2lwWU"
      },
      "source": [
        "#Train"
      ]
    },
    {
      "cell_type": "code",
      "execution_count": 22,
      "metadata": {
        "colab": {
          "base_uri": "https://localhost:8080/"
        },
        "id": "c2GH7rn5l0oV",
        "outputId": "02c6ac02-e22e-4c36-d295-d7900ebddb98"
      },
      "outputs": [
        {
          "name": "stdout",
          "output_type": "stream",
          "text": [
            "Requirement already satisfied: transformers in /usr/local/lib/python3.10/dist-packages (4.35.2)\n",
            "Requirement already satisfied: filelock in /usr/local/lib/python3.10/dist-packages (from transformers) (3.13.1)\n",
            "Requirement already satisfied: huggingface-hub<1.0,>=0.16.4 in /usr/local/lib/python3.10/dist-packages (from transformers) (0.20.3)\n",
            "Requirement already satisfied: numpy>=1.17 in /usr/local/lib/python3.10/dist-packages (from transformers) (1.25.2)\n",
            "Requirement already satisfied: packaging>=20.0 in /usr/local/lib/python3.10/dist-packages (from transformers) (23.2)\n",
            "Requirement already satisfied: pyyaml>=5.1 in /usr/local/lib/python3.10/dist-packages (from transformers) (6.0.1)\n",
            "Requirement already satisfied: regex!=2019.12.17 in /usr/local/lib/python3.10/dist-packages (from transformers) (2023.12.25)\n",
            "Requirement already satisfied: requests in /usr/local/lib/python3.10/dist-packages (from transformers) (2.31.0)\n",
            "Requirement already satisfied: tokenizers<0.19,>=0.14 in /usr/local/lib/python3.10/dist-packages (from transformers) (0.15.1)\n",
            "Requirement already satisfied: safetensors>=0.3.1 in /usr/local/lib/python3.10/dist-packages (from transformers) (0.4.2)\n",
            "Requirement already satisfied: tqdm>=4.27 in /usr/local/lib/python3.10/dist-packages (from transformers) (4.66.1)\n",
            "Requirement already satisfied: fsspec>=2023.5.0 in /usr/local/lib/python3.10/dist-packages (from huggingface-hub<1.0,>=0.16.4->transformers) (2023.6.0)\n",
            "Requirement already satisfied: typing-extensions>=3.7.4.3 in /usr/local/lib/python3.10/dist-packages (from huggingface-hub<1.0,>=0.16.4->transformers) (4.9.0)\n",
            "Requirement already satisfied: charset-normalizer<4,>=2 in /usr/local/lib/python3.10/dist-packages (from requests->transformers) (3.3.2)\n",
            "Requirement already satisfied: idna<4,>=2.5 in /usr/local/lib/python3.10/dist-packages (from requests->transformers) (3.6)\n",
            "Requirement already satisfied: urllib3<3,>=1.21.1 in /usr/local/lib/python3.10/dist-packages (from requests->transformers) (2.0.7)\n",
            "Requirement already satisfied: certifi>=2017.4.17 in /usr/local/lib/python3.10/dist-packages (from requests->transformers) (2024.2.2)\n"
          ]
        }
      ],
      "source": [
        "!pip install transformers"
      ]
    },
    {
      "cell_type": "code",
      "execution_count": 23,
      "metadata": {
        "id": "7TztlgFTl2fW"
      },
      "outputs": [],
      "source": [
        "import torch\n",
        "import torch.nn as nn\n",
        "\n",
        "try:\n",
        "    from transformers.modeling_bert import BertConfig, BertEncoder, BertModel\n",
        "except:\n",
        "    from transformers.models.bert.modeling_bert import BertConfig, BertEncoder, BertModel"
      ]
    },
    {
      "cell_type": "code",
      "execution_count": 24,
      "metadata": {
        "id": "u0YdFNNUl3wk"
      },
      "outputs": [],
      "source": [
        "class LSTMwithAttn(nn.Module):\n",
        "\n",
        "    def __init__(self, input_dim, hidden_dim, output_dim, num_layers, num_heads=8, dropout=0.1, device='cpu'):\n",
        "        super(LSTMwithAttn, self).__init__()\n",
        "\n",
        "        self.input_dim = input_dim\n",
        "        self.hidden_dim = hidden_dim\n",
        "        self.num_layers = num_layers\n",
        "        self.output_dim = output_dim\n",
        "        self.dropout = dropout\n",
        "        self.device = device\n",
        "\n",
        "        self.lstm = nn.LSTM(input_dim, hidden_dim, num_layers, batch_first=True)\n",
        "\n",
        "        self.config = BertConfig(\n",
        "            hidden_size=hidden_dim,\n",
        "            num_hidden_layers=num_layers,\n",
        "            num_attention_heads=num_heads,\n",
        "            intermediate_size=hidden_dim,\n",
        "            hidden_dropout_prob=dropout,\n",
        "            attention_probs_dropout_prob=dropout,\n",
        "        )\n",
        "        self.encoder = BertEncoder(self.config)\n",
        "\n",
        "        self.act = nn.SiLU()\n",
        "        self.fc = nn.Linear(hidden_dim, output_dim)\n",
        "\n",
        "        self.init_weights()\n",
        "\n",
        "\n",
        "    def init_hidden_state(self, batch_size):\n",
        "        h0 = torch.zeros(self.num_layers, batch_size, self.hidden_dim).to(self.device)\n",
        "        c0 = torch.zeros(self.num_layers, batch_size, self.hidden_dim).to(self.device)\n",
        "        return (h0, c0)\n",
        "\n",
        "\n",
        "    def init_weights(self):\n",
        "        for m in self.modules():\n",
        "            if isinstance(m, nn.Linear):\n",
        "                nn.init.xavier_uniform_(m.weight)\n",
        "                if m.bias is not None:\n",
        "                    nn.init.zeros_(m.bias)\n",
        "\n",
        "\n",
        "    def generate_attn_mask(self, x):\n",
        "        seq_len = x.size(1)\n",
        "        attn_mask = torch.tril(torch.ones((seq_len, seq_len))).view(1, seq_len, seq_len).to(self.device)\n",
        "\n",
        "        return attn_mask\n",
        "\n",
        "\n",
        "    def forward(self, x):\n",
        "        batch_size = x.size(0)\n",
        "\n",
        "        h0, c0 = self.init_hidden_state(batch_size)\n",
        "\n",
        "        output, (hidden, cell) = self.lstm(x, (h0, c0))\n",
        "\n",
        "        output = output.contiguous().view(batch_size, -1, self.hidden_dim)\n",
        "\n",
        "        # Attention Mask\n",
        "        attn_mask = self.generate_attn_mask(x)\n",
        "        extended_attn_mask = attn_mask[None, :, :, :].expand(batch_size, -1, -1, -1)\n",
        "        extended_attn_mask = (1.0 - extended_attn_mask) * -10000.0\n",
        "\n",
        "        encoder_outputs = self.encoder(output, attention_mask=extended_attn_mask)\n",
        "\n",
        "        output = self.act(encoder_outputs.last_hidden_state)\n",
        "        output = self.fc(output)\n",
        "\n",
        "        return output"
      ]
    },
    {
      "cell_type": "code",
      "execution_count": 25,
      "metadata": {
        "colab": {
          "base_uri": "https://localhost:8080/"
        },
        "id": "7FLs-kISl5F4",
        "outputId": "600e1f0d-4c31-4b9d-a7e5-10b1fbeedc13"
      },
      "outputs": [
        {
          "name": "stdout",
          "output_type": "stream",
          "text": [
            "cuda\n"
          ]
        }
      ],
      "source": [
        "device = torch.device('cuda' if torch.cuda.is_available() else 'cpu')\n",
        "print(device)"
      ]
    },
    {
      "cell_type": "code",
      "execution_count": 26,
      "metadata": {
        "id": "xU70uXxNl6PI"
      },
      "outputs": [],
      "source": [
        "model = LSTMwithAttn(input_dim=7, hidden_dim=64, output_dim=1, num_layers=2, device=device)"
      ]
    },
    {
      "cell_type": "code",
      "execution_count": 27,
      "metadata": {
        "id": "EZ6IUDGDl7Wm"
      },
      "outputs": [],
      "source": [
        "model = model.to(device)"
      ]
    },
    {
      "cell_type": "code",
      "execution_count": 28,
      "metadata": {
        "id": "xablEr9dl8U_"
      },
      "outputs": [],
      "source": [
        "LEARNING_RATE = 0.001\n",
        "EPOCHS = 100\n",
        "WEIGHT_DECAY = 0.01\n",
        "EARLY_STOPPING = 5"
      ]
    },
    {
      "cell_type": "code",
      "execution_count": 29,
      "metadata": {
        "id": "skzdvtdXl-If"
      },
      "outputs": [],
      "source": [
        "optimizer = torch.optim.Adam(model.parameters(), lr=LEARNING_RATE, weight_decay=WEIGHT_DECAY)"
      ]
    },
    {
      "cell_type": "code",
      "execution_count": 30,
      "metadata": {
        "id": "hnVodySBl_MV"
      },
      "outputs": [],
      "source": [
        "criterion = nn.MSELoss(reduction='mean')"
      ]
    },
    {
      "cell_type": "code",
      "execution_count": 31,
      "metadata": {
        "id": "-Zi0Rvz6mAGo"
      },
      "outputs": [],
      "source": [
        "train_losses = []\n",
        "val_losses = []\n",
        "\n",
        "loss = .0\n",
        "best_val_loss = float('inf')\n",
        "increasing_loss_count = 0"
      ]
    },
    {
      "cell_type": "code",
      "execution_count": 32,
      "metadata": {
        "colab": {
          "base_uri": "https://localhost:8080/"
        },
        "id": "1jkAVG4lmBij",
        "outputId": "be25273c-b3a0-47db-a540-ae337be401dc"
      },
      "outputs": [
        {
          "name": "stdout",
          "output_type": "stream",
          "text": [
            "Initial Loss: 492631910586.1818\n"
          ]
        }
      ],
      "source": [
        "model.eval()\n",
        "\n",
        "with torch.no_grad():\n",
        "    for features, labels in val_loader:\n",
        "        features = features.to(device)\n",
        "        labels = labels.to(device)\n",
        "\n",
        "        outputs = model(features)\n",
        "\n",
        "        _loss = criterion(outputs.squeeze(-1), labels)\n",
        "\n",
        "        loss += _loss.item()\n",
        "\n",
        "print(f'Initial Loss: {loss/len(val_loader):.4f}')"
      ]
    },
    {
      "cell_type": "code",
      "execution_count": 33,
      "metadata": {
        "colab": {
          "base_uri": "https://localhost:8080/"
        },
        "id": "NAi9l8YZmDfZ",
        "outputId": "566db9df-0b06-42bd-b7b0-00c8ad5e4f7b"
      },
      "outputs": [
        {
          "name": "stdout",
          "output_type": "stream",
          "text": [
            "==============================\n",
            "Current Epoch 1\n",
            "==============================\n",
            "Training...\n"
          ]
        },
        {
          "name": "stderr",
          "output_type": "stream",
          "text": []
        },
        {
          "name": "stdout",
          "output_type": "stream",
          "text": [
            "Evaluating...\n"
          ]
        },
        {
          "name": "stderr",
          "output_type": "stream",
          "text": []
        },
        {
          "name": "stdout",
          "output_type": "stream",
          "text": [
            "Epoch #1: [Training MSE/Evaluation MSE]: [490343503413.7717/492601457198.5455]\n",
            "==============================\n",
            "Current Epoch 2\n",
            "==============================\n",
            "Training...\n"
          ]
        },
        {
          "name": "stderr",
          "output_type": "stream",
          "text": []
        },
        {
          "name": "stdout",
          "output_type": "stream",
          "text": [
            "Evaluating...\n"
          ]
        },
        {
          "name": "stderr",
          "output_type": "stream",
          "text": []
        },
        {
          "name": "stdout",
          "output_type": "stream",
          "text": [
            "Epoch #2: [Training MSE/Evaluation MSE]: [490313420594.2648/492564052228.6545]\n",
            "==============================\n",
            "Current Epoch 3\n",
            "==============================\n",
            "Training...\n"
          ]
        },
        {
          "name": "stderr",
          "output_type": "stream",
          "text": []
        },
        {
          "name": "stdout",
          "output_type": "stream",
          "text": [
            "Evaluating...\n"
          ]
        },
        {
          "name": "stderr",
          "output_type": "stream",
          "text": []
        },
        {
          "name": "stdout",
          "output_type": "stream",
          "text": [
            "Epoch #3: [Training MSE/Evaluation MSE]: [490269009929.3516/492512505185.7455]\n",
            "==============================\n",
            "Current Epoch 4\n",
            "==============================\n",
            "Training...\n"
          ]
        },
        {
          "name": "stderr",
          "output_type": "stream",
          "text": []
        },
        {
          "name": "stdout",
          "output_type": "stream",
          "text": [
            "Evaluating...\n"
          ]
        },
        {
          "name": "stderr",
          "output_type": "stream",
          "text": []
        },
        {
          "name": "stdout",
          "output_type": "stream",
          "text": [
            "Epoch #4: [Training MSE/Evaluation MSE]: [490210650719.8539/492447150303.4182]\n",
            "==============================\n",
            "Current Epoch 5\n",
            "==============================\n",
            "Training...\n"
          ]
        },
        {
          "name": "stderr",
          "output_type": "stream",
          "text": []
        },
        {
          "name": "stdout",
          "output_type": "stream",
          "text": [
            "Evaluating...\n"
          ]
        },
        {
          "name": "stderr",
          "output_type": "stream",
          "text": []
        },
        {
          "name": "stdout",
          "output_type": "stream",
          "text": [
            "Epoch #5: [Training MSE/Evaluation MSE]: [490138893737.4977/492368762693.8182]\n",
            "==============================\n",
            "Current Epoch 6\n",
            "==============================\n",
            "Training...\n"
          ]
        },
        {
          "name": "stderr",
          "output_type": "stream",
          "text": []
        },
        {
          "name": "stdout",
          "output_type": "stream",
          "text": [
            "Evaluating...\n"
          ]
        },
        {
          "name": "stderr",
          "output_type": "stream",
          "text": []
        },
        {
          "name": "stdout",
          "output_type": "stream",
          "text": [
            "Epoch #6: [Training MSE/Evaluation MSE]: [490054405115.3242/492277867836.5091]\n",
            "==============================\n",
            "Current Epoch 7\n",
            "==============================\n",
            "Training...\n"
          ]
        },
        {
          "name": "stderr",
          "output_type": "stream",
          "text": []
        },
        {
          "name": "stdout",
          "output_type": "stream",
          "text": [
            "Evaluating...\n"
          ]
        },
        {
          "name": "stderr",
          "output_type": "stream",
          "text": []
        },
        {
          "name": "stdout",
          "output_type": "stream",
          "text": [
            "Epoch #7: [Training MSE/Evaluation MSE]: [489957768692.3105/492175064492.2182]\n",
            "==============================\n",
            "Current Epoch 8\n",
            "==============================\n",
            "Training...\n"
          ]
        },
        {
          "name": "stderr",
          "output_type": "stream",
          "text": []
        },
        {
          "name": "stdout",
          "output_type": "stream",
          "text": [
            "Evaluating...\n"
          ]
        },
        {
          "name": "stderr",
          "output_type": "stream",
          "text": []
        },
        {
          "name": "stdout",
          "output_type": "stream",
          "text": [
            "Epoch #8: [Training MSE/Evaluation MSE]: [489849521325.0046/492060972274.0364]\n",
            "==============================\n",
            "Current Epoch 9\n",
            "==============================\n",
            "Training...\n"
          ]
        },
        {
          "name": "stderr",
          "output_type": "stream",
          "text": []
        },
        {
          "name": "stdout",
          "output_type": "stream",
          "text": [
            "Evaluating...\n"
          ]
        },
        {
          "name": "stderr",
          "output_type": "stream",
          "text": []
        },
        {
          "name": "stdout",
          "output_type": "stream",
          "text": [
            "Epoch #9: [Training MSE/Evaluation MSE]: [489730141515.9818/491935850347.0546]\n",
            "==============================\n",
            "Current Epoch 10\n",
            "==============================\n",
            "Training...\n"
          ]
        },
        {
          "name": "stderr",
          "output_type": "stream",
          "text": []
        },
        {
          "name": "stdout",
          "output_type": "stream",
          "text": [
            "Evaluating...\n"
          ]
        },
        {
          "name": "stderr",
          "output_type": "stream",
          "text": []
        },
        {
          "name": "stdout",
          "output_type": "stream",
          "text": [
            "Epoch #10: [Training MSE/Evaluation MSE]: [489600128266.5206/491800389818.1818]\n",
            "==============================\n",
            "Current Epoch 11\n",
            "==============================\n",
            "Training...\n"
          ]
        },
        {
          "name": "stderr",
          "output_type": "stream",
          "text": []
        },
        {
          "name": "stdout",
          "output_type": "stream",
          "text": [
            "Evaluating...\n"
          ]
        },
        {
          "name": "stderr",
          "output_type": "stream",
          "text": []
        },
        {
          "name": "stdout",
          "output_type": "stream",
          "text": [
            "Epoch #11: [Training MSE/Evaluation MSE]: [489459923570.5571/491654857597.6727]\n",
            "==============================\n",
            "Current Epoch 12\n",
            "==============================\n",
            "Training...\n"
          ]
        },
        {
          "name": "stderr",
          "output_type": "stream",
          "text": []
        },
        {
          "name": "stdout",
          "output_type": "stream",
          "text": [
            "Evaluating...\n"
          ]
        },
        {
          "name": "stderr",
          "output_type": "stream",
          "text": []
        },
        {
          "name": "stdout",
          "output_type": "stream",
          "text": [
            "Epoch #12: [Training MSE/Evaluation MSE]: [489309938150.2831/491499776186.1818]\n",
            "==============================\n",
            "Current Epoch 13\n",
            "==============================\n",
            "Training...\n"
          ]
        },
        {
          "name": "stderr",
          "output_type": "stream",
          "text": []
        },
        {
          "name": "stdout",
          "output_type": "stream",
          "text": [
            "Evaluating...\n"
          ]
        },
        {
          "name": "stderr",
          "output_type": "stream",
          "text": []
        },
        {
          "name": "stdout",
          "output_type": "stream",
          "text": [
            "Epoch #13: [Training MSE/Evaluation MSE]: [489150548613.2603/491335401174.1091]\n",
            "==============================\n",
            "Current Epoch 14\n",
            "==============================\n",
            "Training...\n"
          ]
        },
        {
          "name": "stderr",
          "output_type": "stream",
          "text": []
        },
        {
          "name": "stdout",
          "output_type": "stream",
          "text": [
            "Evaluating...\n"
          ]
        },
        {
          "name": "stderr",
          "output_type": "stream",
          "text": []
        },
        {
          "name": "stdout",
          "output_type": "stream",
          "text": [
            "Epoch #14: [Training MSE/Evaluation MSE]: [488982064385.1689/491162094796.8000]\n",
            "==============================\n",
            "Current Epoch 15\n",
            "==============================\n",
            "Training...\n"
          ]
        },
        {
          "name": "stderr",
          "output_type": "stream",
          "text": []
        },
        {
          "name": "stdout",
          "output_type": "stream",
          "text": [
            "Evaluating...\n"
          ]
        },
        {
          "name": "stderr",
          "output_type": "stream",
          "text": []
        },
        {
          "name": "stdout",
          "output_type": "stream",
          "text": [
            "Epoch #15: [Training MSE/Evaluation MSE]: [488804783520.1461/490980101920.5818]\n",
            "==============================\n",
            "Current Epoch 16\n",
            "==============================\n",
            "Training...\n"
          ]
        },
        {
          "name": "stderr",
          "output_type": "stream",
          "text": []
        },
        {
          "name": "stdout",
          "output_type": "stream",
          "text": [
            "Evaluating...\n"
          ]
        },
        {
          "name": "stderr",
          "output_type": "stream",
          "text": []
        },
        {
          "name": "stdout",
          "output_type": "stream",
          "text": [
            "Epoch #16: [Training MSE/Evaluation MSE]: [488618952601.1324/490789623919.7091]\n",
            "==============================\n",
            "Current Epoch 17\n",
            "==============================\n",
            "Training...\n"
          ]
        },
        {
          "name": "stderr",
          "output_type": "stream",
          "text": []
        },
        {
          "name": "stdout",
          "output_type": "stream",
          "text": [
            "Evaluating...\n"
          ]
        },
        {
          "name": "stderr",
          "output_type": "stream",
          "text": []
        },
        {
          "name": "stdout",
          "output_type": "stream",
          "text": [
            "Epoch #17: [Training MSE/Evaluation MSE]: [488424770630.1370/490590906256.2909]\n",
            "==============================\n",
            "Current Epoch 18\n",
            "==============================\n",
            "Training...\n"
          ]
        },
        {
          "name": "stderr",
          "output_type": "stream",
          "text": []
        },
        {
          "name": "stdout",
          "output_type": "stream",
          "text": [
            "Evaluating...\n"
          ]
        },
        {
          "name": "stderr",
          "output_type": "stream",
          "text": []
        },
        {
          "name": "stdout",
          "output_type": "stream",
          "text": [
            "Epoch #18: [Training MSE/Evaluation MSE]: [488222427631.6347/490384057362.6182]\n",
            "==============================\n",
            "Current Epoch 19\n",
            "==============================\n",
            "Training...\n"
          ]
        },
        {
          "name": "stderr",
          "output_type": "stream",
          "text": []
        },
        {
          "name": "stdout",
          "output_type": "stream",
          "text": [
            "Evaluating...\n"
          ]
        },
        {
          "name": "stderr",
          "output_type": "stream",
          "text": []
        },
        {
          "name": "stdout",
          "output_type": "stream",
          "text": [
            "Epoch #19: [Training MSE/Evaluation MSE]: [488012084004.2374/490169229163.0546]\n",
            "==============================\n",
            "Current Epoch 20\n",
            "==============================\n",
            "Training...\n"
          ]
        },
        {
          "name": "stderr",
          "output_type": "stream",
          "text": []
        },
        {
          "name": "stdout",
          "output_type": "stream",
          "text": [
            "Evaluating...\n"
          ]
        },
        {
          "name": "stderr",
          "output_type": "stream",
          "text": []
        },
        {
          "name": "stdout",
          "output_type": "stream",
          "text": [
            "Epoch #20: [Training MSE/Evaluation MSE]: [487793863637.9178/489946621840.2909]\n",
            "==============================\n",
            "Current Epoch 21\n",
            "==============================\n",
            "Training...\n"
          ]
        },
        {
          "name": "stderr",
          "output_type": "stream",
          "text": []
        },
        {
          "name": "stdout",
          "output_type": "stream",
          "text": [
            "Evaluating...\n"
          ]
        },
        {
          "name": "stderr",
          "output_type": "stream",
          "text": []
        },
        {
          "name": "stdout",
          "output_type": "stream",
          "text": [
            "Epoch #21: [Training MSE/Evaluation MSE]: [487567962841.4247/489716395063.8546]\n",
            "==============================\n",
            "Current Epoch 22\n",
            "==============================\n",
            "Training...\n"
          ]
        },
        {
          "name": "stderr",
          "output_type": "stream",
          "text": []
        },
        {
          "name": "stdout",
          "output_type": "stream",
          "text": [
            "Evaluating...\n"
          ]
        },
        {
          "name": "stderr",
          "output_type": "stream",
          "text": []
        },
        {
          "name": "stdout",
          "output_type": "stream",
          "text": [
            "Epoch #22: [Training MSE/Evaluation MSE]: [487334269844.4566/489478323628.2182]\n",
            "==============================\n",
            "Current Epoch 23\n",
            "==============================\n",
            "Training...\n"
          ]
        },
        {
          "name": "stderr",
          "output_type": "stream",
          "text": []
        },
        {
          "name": "stdout",
          "output_type": "stream",
          "text": [
            "Evaluating...\n"
          ]
        },
        {
          "name": "stderr",
          "output_type": "stream",
          "text": []
        },
        {
          "name": "stdout",
          "output_type": "stream",
          "text": [
            "Epoch #23: [Training MSE/Evaluation MSE]: [487093081953.0228/489232893095.5637]\n",
            "==============================\n",
            "Current Epoch 24\n",
            "==============================\n",
            "Training...\n"
          ]
        },
        {
          "name": "stderr",
          "output_type": "stream",
          "text": []
        },
        {
          "name": "stdout",
          "output_type": "stream",
          "text": [
            "Evaluating...\n"
          ]
        },
        {
          "name": "stderr",
          "output_type": "stream",
          "text": []
        },
        {
          "name": "stdout",
          "output_type": "stream",
          "text": [
            "Epoch #24: [Training MSE/Evaluation MSE]: [486844408743.1598/488979890771.7818]\n",
            "==============================\n",
            "Current Epoch 25\n",
            "==============================\n",
            "Training...\n"
          ]
        },
        {
          "name": "stderr",
          "output_type": "stream",
          "text": []
        },
        {
          "name": "stdout",
          "output_type": "stream",
          "text": [
            "Evaluating...\n"
          ]
        },
        {
          "name": "stderr",
          "output_type": "stream",
          "text": []
        },
        {
          "name": "stdout",
          "output_type": "stream",
          "text": [
            "Epoch #25: [Training MSE/Evaluation MSE]: [486588317995.2512/488719543649.7455]\n",
            "==============================\n",
            "Current Epoch 26\n",
            "==============================\n",
            "Training...\n"
          ]
        },
        {
          "name": "stderr",
          "output_type": "stream",
          "text": []
        },
        {
          "name": "stdout",
          "output_type": "stream",
          "text": [
            "Evaluating...\n"
          ]
        },
        {
          "name": "stderr",
          "output_type": "stream",
          "text": []
        },
        {
          "name": "stdout",
          "output_type": "stream",
          "text": [
            "Epoch #26: [Training MSE/Evaluation MSE]: [486324875843.7991/488451874964.9454]\n",
            "==============================\n",
            "Current Epoch 27\n",
            "==============================\n",
            "Training...\n"
          ]
        },
        {
          "name": "stderr",
          "output_type": "stream",
          "text": []
        },
        {
          "name": "stdout",
          "output_type": "stream",
          "text": [
            "Evaluating...\n"
          ]
        },
        {
          "name": "stderr",
          "output_type": "stream",
          "text": []
        },
        {
          "name": "stdout",
          "output_type": "stream",
          "text": [
            "Epoch #27: [Training MSE/Evaluation MSE]: [486054115056.8036/488176817394.0364]\n",
            "==============================\n",
            "Current Epoch 28\n",
            "==============================\n",
            "Training...\n"
          ]
        },
        {
          "name": "stderr",
          "output_type": "stream",
          "text": []
        },
        {
          "name": "stdout",
          "output_type": "stream",
          "text": [
            "Evaluating...\n"
          ]
        },
        {
          "name": "stderr",
          "output_type": "stream",
          "text": []
        },
        {
          "name": "stdout",
          "output_type": "stream",
          "text": [
            "Epoch #28: [Training MSE/Evaluation MSE]: [485776104162.7762/487894611037.0909]\n",
            "==============================\n",
            "Current Epoch 29\n",
            "==============================\n",
            "Training...\n"
          ]
        },
        {
          "name": "stderr",
          "output_type": "stream",
          "text": []
        },
        {
          "name": "stdout",
          "output_type": "stream",
          "text": [
            "Evaluating...\n"
          ]
        },
        {
          "name": "stderr",
          "output_type": "stream",
          "text": []
        },
        {
          "name": "stdout",
          "output_type": "stream",
          "text": [
            "Epoch #29: [Training MSE/Evaluation MSE]: [485490876528.2192/487605106352.8727]\n",
            "==============================\n",
            "Current Epoch 30\n",
            "==============================\n",
            "Training...\n"
          ]
        },
        {
          "name": "stderr",
          "output_type": "stream",
          "text": []
        },
        {
          "name": "stdout",
          "output_type": "stream",
          "text": [
            "Evaluating...\n"
          ]
        },
        {
          "name": "stderr",
          "output_type": "stream",
          "text": []
        },
        {
          "name": "stdout",
          "output_type": "stream",
          "text": [
            "Epoch #30: [Training MSE/Evaluation MSE]: [485198474197.9178/487308482671.7091]\n",
            "==============================\n",
            "Current Epoch 31\n",
            "==============================\n",
            "Training...\n"
          ]
        },
        {
          "name": "stderr",
          "output_type": "stream",
          "text": []
        },
        {
          "name": "stdout",
          "output_type": "stream",
          "text": [
            "Evaluating...\n"
          ]
        },
        {
          "name": "stderr",
          "output_type": "stream",
          "text": []
        },
        {
          "name": "stdout",
          "output_type": "stream",
          "text": [
            "Epoch #31: [Training MSE/Evaluation MSE]: [484898935027.1415/487004734035.7818]\n",
            "==============================\n",
            "Current Epoch 32\n",
            "==============================\n",
            "Training...\n"
          ]
        },
        {
          "name": "stderr",
          "output_type": "stream",
          "text": []
        },
        {
          "name": "stdout",
          "output_type": "stream",
          "text": [
            "Evaluating...\n"
          ]
        },
        {
          "name": "stderr",
          "output_type": "stream",
          "text": []
        },
        {
          "name": "stdout",
          "output_type": "stream",
          "text": [
            "Epoch #32: [Training MSE/Evaluation MSE]: [484592281609.3516/486693799675.3455]\n",
            "==============================\n",
            "Current Epoch 33\n",
            "==============================\n",
            "Training...\n"
          ]
        },
        {
          "name": "stderr",
          "output_type": "stream",
          "text": []
        },
        {
          "name": "stdout",
          "output_type": "stream",
          "text": [
            "Evaluating...\n"
          ]
        },
        {
          "name": "stderr",
          "output_type": "stream",
          "text": []
        },
        {
          "name": "stdout",
          "output_type": "stream",
          "text": [
            "Epoch #33: [Training MSE/Evaluation MSE]: [484278555540.4566/486375832706.3273]\n",
            "==============================\n",
            "Current Epoch 34\n",
            "==============================\n",
            "Training...\n"
          ]
        },
        {
          "name": "stderr",
          "output_type": "stream",
          "text": []
        },
        {
          "name": "stdout",
          "output_type": "stream",
          "text": [
            "Evaluating...\n"
          ]
        },
        {
          "name": "stderr",
          "output_type": "stream",
          "text": []
        },
        {
          "name": "stdout",
          "output_type": "stream",
          "text": [
            "Epoch #34: [Training MSE/Evaluation MSE]: [483957949388.5662/486050863513.6000]\n",
            "==============================\n",
            "Current Epoch 35\n",
            "==============================\n",
            "Training...\n"
          ]
        },
        {
          "name": "stderr",
          "output_type": "stream",
          "text": []
        },
        {
          "name": "stdout",
          "output_type": "stream",
          "text": [
            "Evaluating...\n"
          ]
        },
        {
          "name": "stderr",
          "output_type": "stream",
          "text": []
        },
        {
          "name": "stdout",
          "output_type": "stream",
          "text": [
            "Epoch #35: [Training MSE/Evaluation MSE]: [483629985997.7352/485718802729.8909]\n",
            "==============================\n",
            "Current Epoch 36\n",
            "==============================\n",
            "Training...\n"
          ]
        },
        {
          "name": "stderr",
          "output_type": "stream",
          "text": []
        },
        {
          "name": "stdout",
          "output_type": "stream",
          "text": [
            "Evaluating...\n"
          ]
        },
        {
          "name": "stderr",
          "output_type": "stream",
          "text": []
        },
        {
          "name": "stdout",
          "output_type": "stream",
          "text": [
            "Epoch #36: [Training MSE/Evaluation MSE]: [483295185017.5708/485379757000.1454]\n",
            "==============================\n",
            "Current Epoch 37\n",
            "==============================\n",
            "Training...\n"
          ]
        },
        {
          "name": "stderr",
          "output_type": "stream",
          "text": []
        },
        {
          "name": "stdout",
          "output_type": "stream",
          "text": [
            "Evaluating...\n"
          ]
        },
        {
          "name": "stderr",
          "output_type": "stream",
          "text": []
        },
        {
          "name": "stdout",
          "output_type": "stream",
          "text": [
            "Epoch #37: [Training MSE/Evaluation MSE]: [482953426149.1141/485033796030.8364]\n",
            "==============================\n",
            "Current Epoch 38\n",
            "==============================\n",
            "Training...\n"
          ]
        },
        {
          "name": "stderr",
          "output_type": "stream",
          "text": []
        },
        {
          "name": "stdout",
          "output_type": "stream",
          "text": [
            "Evaluating...\n"
          ]
        },
        {
          "name": "stderr",
          "output_type": "stream",
          "text": []
        },
        {
          "name": "stdout",
          "output_type": "stream",
          "text": [
            "Epoch #38: [Training MSE/Evaluation MSE]: [482604719866.1553/484680784579.4909]\n",
            "==============================\n",
            "Current Epoch 39\n",
            "==============================\n",
            "Training...\n"
          ]
        },
        {
          "name": "stderr",
          "output_type": "stream",
          "text": []
        },
        {
          "name": "stdout",
          "output_type": "stream",
          "text": [
            "Evaluating...\n"
          ]
        },
        {
          "name": "stderr",
          "output_type": "stream",
          "text": []
        },
        {
          "name": "stdout",
          "output_type": "stream",
          "text": [
            "Epoch #39: [Training MSE/Evaluation MSE]: [482249082477.8813/484320897805.9636]\n",
            "==============================\n",
            "Current Epoch 40\n",
            "==============================\n",
            "Training...\n"
          ]
        },
        {
          "name": "stderr",
          "output_type": "stream",
          "text": []
        },
        {
          "name": "stdout",
          "output_type": "stream",
          "text": [
            "Evaluating...\n"
          ]
        },
        {
          "name": "stderr",
          "output_type": "stream",
          "text": []
        },
        {
          "name": "stdout",
          "output_type": "stream",
          "text": [
            "Epoch #40: [Training MSE/Evaluation MSE]: [481886548547.7991/483954088047.7091]\n",
            "==============================\n",
            "Current Epoch 41\n",
            "==============================\n",
            "Training...\n"
          ]
        },
        {
          "name": "stderr",
          "output_type": "stream",
          "text": []
        },
        {
          "name": "stdout",
          "output_type": "stream",
          "text": [
            "Evaluating...\n"
          ]
        },
        {
          "name": "stderr",
          "output_type": "stream",
          "text": []
        },
        {
          "name": "stdout",
          "output_type": "stream",
          "text": [
            "Epoch #41: [Training MSE/Evaluation MSE]: [481517120469.9178/483580435139.4909]\n",
            "==============================\n",
            "Current Epoch 42\n",
            "==============================\n",
            "Training...\n"
          ]
        },
        {
          "name": "stderr",
          "output_type": "stream",
          "text": []
        },
        {
          "name": "stdout",
          "output_type": "stream",
          "text": [
            "Evaluating...\n"
          ]
        },
        {
          "name": "stderr",
          "output_type": "stream",
          "text": []
        },
        {
          "name": "stdout",
          "output_type": "stream",
          "text": [
            "Epoch #42: [Training MSE/Evaluation MSE]: [481140839540.8950/483199839585.7455]\n",
            "==============================\n",
            "Current Epoch 43\n",
            "==============================\n",
            "Training...\n"
          ]
        },
        {
          "name": "stderr",
          "output_type": "stream",
          "text": []
        },
        {
          "name": "stdout",
          "output_type": "stream",
          "text": [
            "Evaluating...\n"
          ]
        },
        {
          "name": "stderr",
          "output_type": "stream",
          "text": []
        },
        {
          "name": "stdout",
          "output_type": "stream",
          "text": [
            "Epoch #43: [Training MSE/Evaluation MSE]: [480757710548.7488/482812465226.4727]\n",
            "==============================\n",
            "Current Epoch 44\n",
            "==============================\n",
            "Training...\n"
          ]
        },
        {
          "name": "stderr",
          "output_type": "stream",
          "text": []
        },
        {
          "name": "stdout",
          "output_type": "stream",
          "text": [
            "Evaluating...\n"
          ]
        },
        {
          "name": "stderr",
          "output_type": "stream",
          "text": []
        },
        {
          "name": "stdout",
          "output_type": "stream",
          "text": [
            "Epoch #44: [Training MSE/Evaluation MSE]: [480367761024.5845/482418257249.7455]\n",
            "==============================\n",
            "Current Epoch 45\n",
            "==============================\n",
            "Training...\n"
          ]
        },
        {
          "name": "stderr",
          "output_type": "stream",
          "text": []
        },
        {
          "name": "stdout",
          "output_type": "stream",
          "text": [
            "Evaluating...\n"
          ]
        },
        {
          "name": "stderr",
          "output_type": "stream",
          "text": []
        },
        {
          "name": "stdout",
          "output_type": "stream",
          "text": [
            "Epoch #45: [Training MSE/Evaluation MSE]: [479971007726.4658/482017209101.9636]\n",
            "==============================\n",
            "Current Epoch 46\n",
            "==============================\n",
            "Training...\n"
          ]
        },
        {
          "name": "stderr",
          "output_type": "stream",
          "text": []
        },
        {
          "name": "stdout",
          "output_type": "stream",
          "text": [
            "Evaluating...\n"
          ]
        },
        {
          "name": "stderr",
          "output_type": "stream",
          "text": []
        },
        {
          "name": "stdout",
          "output_type": "stream",
          "text": [
            "Epoch #46: [Training MSE/Evaluation MSE]: [479567467412.4566/481609338656.5818]\n",
            "==============================\n",
            "Current Epoch 47\n",
            "==============================\n",
            "Training...\n"
          ]
        },
        {
          "name": "stderr",
          "output_type": "stream",
          "text": []
        },
        {
          "name": "stdout",
          "output_type": "stream",
          "text": [
            "Evaluating...\n"
          ]
        },
        {
          "name": "stderr",
          "output_type": "stream",
          "text": []
        },
        {
          "name": "stdout",
          "output_type": "stream",
          "text": [
            "Epoch #47: [Training MSE/Evaluation MSE]: [479157163723.3973/481194733493.5273]\n",
            "==============================\n",
            "Current Epoch 48\n",
            "==============================\n",
            "Training...\n"
          ]
        },
        {
          "name": "stderr",
          "output_type": "stream",
          "text": []
        },
        {
          "name": "stdout",
          "output_type": "stream",
          "text": [
            "Evaluating...\n"
          ]
        },
        {
          "name": "stderr",
          "output_type": "stream",
          "text": []
        },
        {
          "name": "stdout",
          "output_type": "stream",
          "text": [
            "Epoch #48: [Training MSE/Evaluation MSE]: [478740113566.9772/480773403145.3091]\n",
            "==============================\n",
            "Current Epoch 49\n",
            "==============================\n",
            "Training...\n"
          ]
        },
        {
          "name": "stderr",
          "output_type": "stream",
          "text": []
        },
        {
          "name": "stdout",
          "output_type": "stream",
          "text": [
            "Evaluating...\n"
          ]
        },
        {
          "name": "stderr",
          "output_type": "stream",
          "text": []
        },
        {
          "name": "stdout",
          "output_type": "stream",
          "text": [
            "Epoch #49: [Training MSE/Evaluation MSE]: [478316339087.7808/480345279692.8000]\n",
            "==============================\n",
            "Current Epoch 50\n",
            "==============================\n",
            "Training...\n"
          ]
        },
        {
          "name": "stderr",
          "output_type": "stream",
          "text": []
        },
        {
          "name": "stdout",
          "output_type": "stream",
          "text": [
            "Evaluating...\n"
          ]
        },
        {
          "name": "stderr",
          "output_type": "stream",
          "text": []
        },
        {
          "name": "stdout",
          "output_type": "stream",
          "text": [
            "Epoch #50: [Training MSE/Evaluation MSE]: [477885838340.6758/479910464418.9091]\n",
            "==============================\n",
            "Current Epoch 51\n",
            "==============================\n",
            "Training...\n"
          ]
        },
        {
          "name": "stderr",
          "output_type": "stream",
          "text": []
        },
        {
          "name": "stdout",
          "output_type": "stream",
          "text": [
            "Evaluating...\n"
          ]
        },
        {
          "name": "stderr",
          "output_type": "stream",
          "text": []
        },
        {
          "name": "stdout",
          "output_type": "stream",
          "text": [
            "Epoch #51: [Training MSE/Evaluation MSE]: [477448658457.7169/479469010944.0000]\n",
            "==============================\n",
            "Current Epoch 52\n",
            "==============================\n",
            "Training...\n"
          ]
        },
        {
          "name": "stderr",
          "output_type": "stream",
          "text": []
        },
        {
          "name": "stdout",
          "output_type": "stream",
          "text": [
            "Evaluating...\n"
          ]
        },
        {
          "name": "stderr",
          "output_type": "stream",
          "text": []
        },
        {
          "name": "stdout",
          "output_type": "stream",
          "text": [
            "Epoch #52: [Training MSE/Evaluation MSE]: [477005227667.2877/479020977654.6909]\n",
            "==============================\n",
            "Current Epoch 53\n",
            "==============================\n",
            "Training...\n"
          ]
        },
        {
          "name": "stderr",
          "output_type": "stream",
          "text": []
        },
        {
          "name": "stdout",
          "output_type": "stream",
          "text": [
            "Evaluating...\n"
          ]
        },
        {
          "name": "stderr",
          "output_type": "stream",
          "text": []
        },
        {
          "name": "stdout",
          "output_type": "stream",
          "text": [
            "Epoch #53: [Training MSE/Evaluation MSE]: [476554296446.2466/478565933800.7273]\n",
            "==============================\n",
            "Current Epoch 54\n",
            "==============================\n",
            "Training...\n"
          ]
        },
        {
          "name": "stderr",
          "output_type": "stream",
          "text": []
        },
        {
          "name": "stdout",
          "output_type": "stream",
          "text": [
            "Evaluating...\n"
          ]
        },
        {
          "name": "stderr",
          "output_type": "stream",
          "text": []
        },
        {
          "name": "stdout",
          "output_type": "stream",
          "text": [
            "Epoch #54: [Training MSE/Evaluation MSE]: [476097120901.2603/478104463248.2909]\n",
            "==============================\n",
            "Current Epoch 55\n",
            "==============================\n",
            "Training...\n"
          ]
        },
        {
          "name": "stderr",
          "output_type": "stream",
          "text": []
        },
        {
          "name": "stdout",
          "output_type": "stream",
          "text": [
            "Evaluating...\n"
          ]
        },
        {
          "name": "stderr",
          "output_type": "stream",
          "text": []
        },
        {
          "name": "stdout",
          "output_type": "stream",
          "text": [
            "Epoch #55: [Training MSE/Evaluation MSE]: [475633342080.5845/477636345558.1091]\n",
            "==============================\n",
            "Current Epoch 56\n",
            "==============================\n",
            "Training...\n"
          ]
        },
        {
          "name": "stderr",
          "output_type": "stream",
          "text": []
        },
        {
          "name": "stdout",
          "output_type": "stream",
          "text": [
            "Evaluating...\n"
          ]
        },
        {
          "name": "stderr",
          "output_type": "stream",
          "text": []
        },
        {
          "name": "stdout",
          "output_type": "stream",
          "text": [
            "Epoch #56: [Training MSE/Evaluation MSE]: [475162949660.0548/477161594433.1636]\n",
            "==============================\n",
            "Current Epoch 57\n",
            "==============================\n",
            "Training...\n"
          ]
        },
        {
          "name": "stderr",
          "output_type": "stream",
          "text": []
        },
        {
          "name": "stdout",
          "output_type": "stream",
          "text": [
            "Evaluating...\n"
          ]
        },
        {
          "name": "stderr",
          "output_type": "stream",
          "text": []
        },
        {
          "name": "stdout",
          "output_type": "stream",
          "text": [
            "Epoch #57: [Training MSE/Evaluation MSE]: [474685978352.8036/476680212852.3636]\n",
            "==============================\n",
            "Current Epoch 58\n",
            "==============================\n",
            "Training...\n"
          ]
        },
        {
          "name": "stderr",
          "output_type": "stream",
          "text": []
        },
        {
          "name": "stdout",
          "output_type": "stream",
          "text": [
            "Evaluating...\n"
          ]
        },
        {
          "name": "stderr",
          "output_type": "stream",
          "text": []
        },
        {
          "name": "stdout",
          "output_type": "stream",
          "text": [
            "Epoch #58: [Training MSE/Evaluation MSE]: [474202428009.2055/476192290182.9818]\n",
            "==============================\n",
            "Current Epoch 59\n",
            "==============================\n",
            "Training...\n"
          ]
        },
        {
          "name": "stderr",
          "output_type": "stream",
          "text": []
        },
        {
          "name": "stdout",
          "output_type": "stream",
          "text": [
            "Evaluating...\n"
          ]
        },
        {
          "name": "stderr",
          "output_type": "stream",
          "text": []
        },
        {
          "name": "stdout",
          "output_type": "stream",
          "text": [
            "Epoch #59: [Training MSE/Evaluation MSE]: [473712336334.9041/475697837149.0909]\n",
            "==============================\n",
            "Current Epoch 60\n",
            "==============================\n",
            "Training...\n"
          ]
        },
        {
          "name": "stderr",
          "output_type": "stream",
          "text": []
        },
        {
          "name": "stdout",
          "output_type": "stream",
          "text": [
            "Evaluating...\n"
          ]
        },
        {
          "name": "stderr",
          "output_type": "stream",
          "text": []
        },
        {
          "name": "stdout",
          "output_type": "stream",
          "text": [
            "Epoch #60: [Training MSE/Evaluation MSE]: [473215696447.1233/475196865666.3273]\n",
            "==============================\n",
            "Current Epoch 61\n",
            "==============================\n",
            "Training...\n"
          ]
        },
        {
          "name": "stderr",
          "output_type": "stream",
          "text": []
        },
        {
          "name": "stdout",
          "output_type": "stream",
          "text": [
            "Evaluating...\n"
          ]
        },
        {
          "name": "stderr",
          "output_type": "stream",
          "text": []
        },
        {
          "name": "stdout",
          "output_type": "stream",
          "text": [
            "Epoch #61: [Training MSE/Evaluation MSE]: [472712554879.4155/474689317348.0728]\n",
            "==============================\n",
            "Current Epoch 62\n",
            "==============================\n",
            "Training...\n"
          ]
        },
        {
          "name": "stderr",
          "output_type": "stream",
          "text": []
        },
        {
          "name": "stdout",
          "output_type": "stream",
          "text": [
            "Evaluating...\n"
          ]
        },
        {
          "name": "stderr",
          "output_type": "stream",
          "text": []
        },
        {
          "name": "stdout",
          "output_type": "stream",
          "text": [
            "Epoch #62: [Training MSE/Evaluation MSE]: [472202894125.5891/474175261305.0182]\n",
            "==============================\n",
            "Current Epoch 63\n",
            "==============================\n",
            "Training...\n"
          ]
        },
        {
          "name": "stderr",
          "output_type": "stream",
          "text": []
        },
        {
          "name": "stdout",
          "output_type": "stream",
          "text": [
            "Evaluating...\n"
          ]
        },
        {
          "name": "stderr",
          "output_type": "stream",
          "text": []
        },
        {
          "name": "stdout",
          "output_type": "stream",
          "text": [
            "Epoch #63: [Training MSE/Evaluation MSE]: [471686752789.0411/473654739837.6727]\n",
            "==============================\n",
            "Current Epoch 64\n",
            "==============================\n",
            "Training...\n"
          ]
        },
        {
          "name": "stderr",
          "output_type": "stream",
          "text": []
        },
        {
          "name": "stdout",
          "output_type": "stream",
          "text": [
            "Evaluating...\n"
          ]
        },
        {
          "name": "stderr",
          "output_type": "stream",
          "text": []
        },
        {
          "name": "stdout",
          "output_type": "stream",
          "text": [
            "Epoch #64: [Training MSE/Evaluation MSE]: [471164158700.1279/473127734476.8000]\n",
            "==============================\n",
            "Current Epoch 65\n",
            "==============================\n",
            "Training...\n"
          ]
        },
        {
          "name": "stderr",
          "output_type": "stream",
          "text": []
        },
        {
          "name": "stdout",
          "output_type": "stream",
          "text": [
            "Evaluating...\n"
          ]
        },
        {
          "name": "stderr",
          "output_type": "stream",
          "text": []
        },
        {
          "name": "stdout",
          "output_type": "stream",
          "text": [
            "Epoch #65: [Training MSE/Evaluation MSE]: [470635102133.1872/472594283948.2182]\n",
            "==============================\n",
            "Current Epoch 66\n",
            "==============================\n",
            "Training...\n"
          ]
        },
        {
          "name": "stderr",
          "output_type": "stream",
          "text": []
        },
        {
          "name": "stdout",
          "output_type": "stream",
          "text": [
            "Evaluating...\n"
          ]
        },
        {
          "name": "stderr",
          "output_type": "stream",
          "text": []
        },
        {
          "name": "stdout",
          "output_type": "stream",
          "text": [
            "Epoch #66: [Training MSE/Evaluation MSE]: [470099626030.7580/472054378123.6364]\n",
            "==============================\n",
            "Current Epoch 67\n",
            "==============================\n",
            "Training...\n"
          ]
        },
        {
          "name": "stderr",
          "output_type": "stream",
          "text": []
        },
        {
          "name": "stdout",
          "output_type": "stream",
          "text": [
            "Evaluating...\n"
          ]
        },
        {
          "name": "stderr",
          "output_type": "stream",
          "text": []
        },
        {
          "name": "stdout",
          "output_type": "stream",
          "text": [
            "Epoch #67: [Training MSE/Evaluation MSE]: [469557722761.9361/471508043813.2364]\n",
            "==============================\n",
            "Current Epoch 68\n",
            "==============================\n",
            "Training...\n"
          ]
        },
        {
          "name": "stderr",
          "output_type": "stream",
          "text": []
        },
        {
          "name": "stdout",
          "output_type": "stream",
          "text": [
            "Evaluating...\n"
          ]
        },
        {
          "name": "stderr",
          "output_type": "stream",
          "text": []
        },
        {
          "name": "stdout",
          "output_type": "stream",
          "text": [
            "Epoch #68: [Training MSE/Evaluation MSE]: [469009425842.8493/470955288166.4000]\n",
            "==============================\n",
            "Current Epoch 69\n",
            "==============================\n",
            "Training...\n"
          ]
        },
        {
          "name": "stderr",
          "output_type": "stream",
          "text": []
        },
        {
          "name": "stdout",
          "output_type": "stream",
          "text": [
            "Evaluating...\n"
          ]
        },
        {
          "name": "stderr",
          "output_type": "stream",
          "text": []
        },
        {
          "name": "stdout",
          "output_type": "stream",
          "text": [
            "Epoch #69: [Training MSE/Evaluation MSE]: [468454746345.7900/470396195784.1454]\n",
            "==============================\n",
            "Current Epoch 70\n",
            "==============================\n",
            "Training...\n"
          ]
        },
        {
          "name": "stderr",
          "output_type": "stream",
          "text": []
        },
        {
          "name": "stdout",
          "output_type": "stream",
          "text": [
            "Evaluating...\n"
          ]
        },
        {
          "name": "stderr",
          "output_type": "stream",
          "text": []
        },
        {
          "name": "stdout",
          "output_type": "stream",
          "text": [
            "Epoch #70: [Training MSE/Evaluation MSE]: [467893713298.1187/469830708875.6364]\n",
            "==============================\n",
            "Current Epoch 71\n",
            "==============================\n",
            "Training...\n"
          ]
        },
        {
          "name": "stderr",
          "output_type": "stream",
          "text": []
        },
        {
          "name": "stdout",
          "output_type": "stream",
          "text": [
            "Evaluating...\n"
          ]
        },
        {
          "name": "stderr",
          "output_type": "stream",
          "text": []
        },
        {
          "name": "stdout",
          "output_type": "stream",
          "text": [
            "Epoch #71: [Training MSE/Evaluation MSE]: [467326327747.2146/469258851272.1454]\n",
            "==============================\n",
            "Current Epoch 72\n",
            "==============================\n",
            "Training...\n"
          ]
        },
        {
          "name": "stderr",
          "output_type": "stream",
          "text": []
        },
        {
          "name": "stdout",
          "output_type": "stream",
          "text": [
            "Evaluating...\n"
          ]
        },
        {
          "name": "stderr",
          "output_type": "stream",
          "text": []
        },
        {
          "name": "stdout",
          "output_type": "stream",
          "text": [
            "Epoch #72: [Training MSE/Evaluation MSE]: [466752622311.4520/468680691488.5818]\n",
            "==============================\n",
            "Current Epoch 73\n",
            "==============================\n",
            "Training...\n"
          ]
        },
        {
          "name": "stderr",
          "output_type": "stream",
          "text": []
        },
        {
          "name": "stdout",
          "output_type": "stream",
          "text": [
            "Evaluating...\n"
          ]
        },
        {
          "name": "stderr",
          "output_type": "stream",
          "text": []
        },
        {
          "name": "stdout",
          "output_type": "stream",
          "text": [
            "Epoch #73: [Training MSE/Evaluation MSE]: [466172597888.5845/468096255739.3455]\n",
            "==============================\n",
            "Current Epoch 74\n",
            "==============================\n",
            "Training...\n"
          ]
        },
        {
          "name": "stderr",
          "output_type": "stream",
          "text": []
        },
        {
          "name": "stdout",
          "output_type": "stream",
          "text": [
            "Evaluating...\n"
          ]
        },
        {
          "name": "stderr",
          "output_type": "stream",
          "text": []
        },
        {
          "name": "stdout",
          "output_type": "stream",
          "text": [
            "Epoch #74: [Training MSE/Evaluation MSE]: [465586306847.5616/467505474913.7455]\n",
            "==============================\n",
            "Current Epoch 75\n",
            "==============================\n",
            "Training...\n"
          ]
        },
        {
          "name": "stderr",
          "output_type": "stream",
          "text": []
        },
        {
          "name": "stdout",
          "output_type": "stream",
          "text": [
            "Evaluating...\n"
          ]
        },
        {
          "name": "stderr",
          "output_type": "stream",
          "text": []
        },
        {
          "name": "stdout",
          "output_type": "stream",
          "text": [
            "Epoch #75: [Training MSE/Evaluation MSE]: [464993682754.6301/466908366885.2364]\n",
            "==============================\n",
            "Current Epoch 76\n",
            "==============================\n",
            "Training...\n"
          ]
        },
        {
          "name": "stderr",
          "output_type": "stream",
          "text": []
        },
        {
          "name": "stdout",
          "output_type": "stream",
          "text": [
            "Evaluating...\n"
          ]
        },
        {
          "name": "stderr",
          "output_type": "stream",
          "text": []
        },
        {
          "name": "stdout",
          "output_type": "stream",
          "text": [
            "Epoch #76: [Training MSE/Evaluation MSE]: [464394840971.1050/466305025191.5637]\n",
            "==============================\n",
            "Current Epoch 77\n",
            "==============================\n",
            "Training...\n"
          ]
        },
        {
          "name": "stderr",
          "output_type": "stream",
          "text": []
        },
        {
          "name": "stdout",
          "output_type": "stream",
          "text": [
            "Evaluating...\n"
          ]
        },
        {
          "name": "stderr",
          "output_type": "stream",
          "text": []
        },
        {
          "name": "stdout",
          "output_type": "stream",
          "text": [
            "Epoch #77: [Training MSE/Evaluation MSE]: [463789756359.8904/465695451620.0728]\n",
            "==============================\n",
            "Current Epoch 78\n",
            "==============================\n",
            "Training...\n"
          ]
        },
        {
          "name": "stderr",
          "output_type": "stream",
          "text": []
        },
        {
          "name": "stdout",
          "output_type": "stream",
          "text": [
            "Evaluating...\n"
          ]
        },
        {
          "name": "stderr",
          "output_type": "stream",
          "text": []
        },
        {
          "name": "stdout",
          "output_type": "stream",
          "text": [
            "Epoch #78: [Training MSE/Evaluation MSE]: [463178443883.5434/465079668810.4727]\n",
            "==============================\n",
            "Current Epoch 79\n",
            "==============================\n",
            "Training...\n"
          ]
        },
        {
          "name": "stderr",
          "output_type": "stream",
          "text": []
        },
        {
          "name": "stdout",
          "output_type": "stream",
          "text": [
            "Evaluating...\n"
          ]
        },
        {
          "name": "stderr",
          "output_type": "stream",
          "text": []
        },
        {
          "name": "stdout",
          "output_type": "stream",
          "text": [
            "Epoch #79: [Training MSE/Evaluation MSE]: [462561266533.6986/464457692253.0909]\n",
            "==============================\n",
            "Current Epoch 80\n",
            "==============================\n",
            "Training...\n"
          ]
        },
        {
          "name": "stderr",
          "output_type": "stream",
          "text": []
        },
        {
          "name": "stdout",
          "output_type": "stream",
          "text": [
            "Evaluating...\n"
          ]
        },
        {
          "name": "stderr",
          "output_type": "stream",
          "text": []
        },
        {
          "name": "stdout",
          "output_type": "stream",
          "text": [
            "Epoch #80: [Training MSE/Evaluation MSE]: [461937225709.2968/463829454028.8000]\n",
            "==============================\n",
            "Current Epoch 81\n",
            "==============================\n",
            "Training...\n"
          ]
        },
        {
          "name": "stderr",
          "output_type": "stream",
          "text": []
        },
        {
          "name": "stdout",
          "output_type": "stream",
          "text": [
            "Evaluating...\n"
          ]
        },
        {
          "name": "stderr",
          "output_type": "stream",
          "text": []
        },
        {
          "name": "stdout",
          "output_type": "stream",
          "text": [
            "Epoch #81: [Training MSE/Evaluation MSE]: [461307350235.7626/463195047675.3455]\n",
            "==============================\n",
            "Current Epoch 82\n",
            "==============================\n",
            "Training...\n"
          ]
        },
        {
          "name": "stderr",
          "output_type": "stream",
          "text": []
        },
        {
          "name": "stdout",
          "output_type": "stream",
          "text": [
            "Evaluating...\n"
          ]
        },
        {
          "name": "stderr",
          "output_type": "stream",
          "text": []
        },
        {
          "name": "stdout",
          "output_type": "stream",
          "text": [
            "Epoch #82: [Training MSE/Evaluation MSE]: [460671337420.5662/462554561964.2182]\n",
            "==============================\n",
            "Current Epoch 83\n",
            "==============================\n",
            "Training...\n"
          ]
        },
        {
          "name": "stderr",
          "output_type": "stream",
          "text": []
        },
        {
          "name": "stdout",
          "output_type": "stream",
          "text": [
            "Evaluating...\n"
          ]
        },
        {
          "name": "stderr",
          "output_type": "stream",
          "text": []
        },
        {
          "name": "stdout",
          "output_type": "stream",
          "text": [
            "Epoch #83: [Training MSE/Evaluation MSE]: [460029181727.5616/461907863440.2909]\n",
            "==============================\n",
            "Current Epoch 84\n",
            "==============================\n",
            "Training...\n"
          ]
        },
        {
          "name": "stderr",
          "output_type": "stream",
          "text": []
        },
        {
          "name": "stdout",
          "output_type": "stream",
          "text": [
            "Evaluating...\n"
          ]
        },
        {
          "name": "stderr",
          "output_type": "stream",
          "text": []
        },
        {
          "name": "stdout",
          "output_type": "stream",
          "text": [
            "Epoch #84: [Training MSE/Evaluation MSE]: [459380902159.1964/461255108794.1818]\n",
            "==============================\n",
            "Current Epoch 85\n",
            "==============================\n",
            "Training...\n"
          ]
        },
        {
          "name": "stderr",
          "output_type": "stream",
          "text": []
        },
        {
          "name": "stdout",
          "output_type": "stream",
          "text": [
            "Evaluating...\n"
          ]
        },
        {
          "name": "stderr",
          "output_type": "stream",
          "text": []
        },
        {
          "name": "stdout",
          "output_type": "stream",
          "text": [
            "Epoch #85: [Training MSE/Evaluation MSE]: [458726546446.0274/460596173507.4909]\n",
            "==============================\n",
            "Current Epoch 86\n",
            "==============================\n",
            "Training...\n"
          ]
        },
        {
          "name": "stderr",
          "output_type": "stream",
          "text": []
        },
        {
          "name": "stdout",
          "output_type": "stream",
          "text": [
            "Evaluating...\n"
          ]
        },
        {
          "name": "stderr",
          "output_type": "stream",
          "text": []
        },
        {
          "name": "stdout",
          "output_type": "stream",
          "text": [
            "Epoch #86: [Training MSE/Evaluation MSE]: [458066095286.3561/459931216653.9636]\n",
            "==============================\n",
            "Current Epoch 87\n",
            "==============================\n",
            "Training...\n"
          ]
        },
        {
          "name": "stderr",
          "output_type": "stream",
          "text": []
        },
        {
          "name": "stdout",
          "output_type": "stream",
          "text": [
            "Evaluating...\n"
          ]
        },
        {
          "name": "stderr",
          "output_type": "stream",
          "text": []
        },
        {
          "name": "stdout",
          "output_type": "stream",
          "text": [
            "Epoch #87: [Training MSE/Evaluation MSE]: [457399591024.2192/459260181634.3273]\n",
            "==============================\n",
            "Current Epoch 88\n",
            "==============================\n",
            "Training...\n"
          ]
        },
        {
          "name": "stderr",
          "output_type": "stream",
          "text": []
        },
        {
          "name": "stdout",
          "output_type": "stream",
          "text": [
            "Evaluating...\n"
          ]
        },
        {
          "name": "stderr",
          "output_type": "stream",
          "text": []
        },
        {
          "name": "stdout",
          "output_type": "stream",
          "text": [
            "Epoch #88: [Training MSE/Evaluation MSE]: [456727052512.4384/458583087513.6000]\n",
            "==============================\n",
            "Current Epoch 89\n",
            "==============================\n",
            "Training...\n"
          ]
        },
        {
          "name": "stderr",
          "output_type": "stream",
          "text": []
        },
        {
          "name": "stdout",
          "output_type": "stream",
          "text": [
            "Evaluating...\n"
          ]
        },
        {
          "name": "stderr",
          "output_type": "stream",
          "text": []
        },
        {
          "name": "stdout",
          "output_type": "stream",
          "text": [
            "Epoch #89: [Training MSE/Evaluation MSE]: [456048484688.6575/457899932504.4363]\n",
            "==============================\n",
            "Current Epoch 90\n",
            "==============================\n",
            "Training...\n"
          ]
        },
        {
          "name": "stderr",
          "output_type": "stream",
          "text": []
        },
        {
          "name": "stdout",
          "output_type": "stream",
          "text": [
            "Evaluating...\n"
          ]
        },
        {
          "name": "stderr",
          "output_type": "stream",
          "text": []
        },
        {
          "name": "stdout",
          "output_type": "stream",
          "text": [
            "Epoch #90: [Training MSE/Evaluation MSE]: [455363915832.1096/457210819677.0909]\n",
            "==============================\n",
            "Current Epoch 91\n",
            "==============================\n",
            "Training...\n"
          ]
        },
        {
          "name": "stderr",
          "output_type": "stream",
          "text": []
        },
        {
          "name": "stdout",
          "output_type": "stream",
          "text": [
            "Evaluating...\n"
          ]
        },
        {
          "name": "stderr",
          "output_type": "stream",
          "text": []
        },
        {
          "name": "stdout",
          "output_type": "stream",
          "text": [
            "Epoch #91: [Training MSE/Evaluation MSE]: [454673364197.1141/456515694219.6364]\n",
            "==============================\n",
            "Current Epoch 92\n",
            "==============================\n",
            "Training...\n"
          ]
        },
        {
          "name": "stderr",
          "output_type": "stream",
          "text": []
        },
        {
          "name": "stdout",
          "output_type": "stream",
          "text": [
            "Evaluating...\n"
          ]
        },
        {
          "name": "stderr",
          "output_type": "stream",
          "text": []
        },
        {
          "name": "stdout",
          "output_type": "stream",
          "text": [
            "Epoch #92: [Training MSE/Evaluation MSE]: [453976847738.7397/455814639541.5273]\n",
            "==============================\n",
            "Current Epoch 93\n",
            "==============================\n",
            "Training...\n"
          ]
        },
        {
          "name": "stderr",
          "output_type": "stream",
          "text": []
        },
        {
          "name": "stdout",
          "output_type": "stream",
          "text": [
            "Evaluating...\n"
          ]
        },
        {
          "name": "stderr",
          "output_type": "stream",
          "text": []
        },
        {
          "name": "stdout",
          "output_type": "stream",
          "text": [
            "Epoch #93: [Training MSE/Evaluation MSE]: [453274376781.1507/455107607384.4363]\n",
            "==============================\n",
            "Current Epoch 94\n",
            "==============================\n",
            "Training...\n"
          ]
        },
        {
          "name": "stderr",
          "output_type": "stream",
          "text": []
        },
        {
          "name": "stdout",
          "output_type": "stream",
          "text": [
            "Evaluating...\n"
          ]
        },
        {
          "name": "stderr",
          "output_type": "stream",
          "text": []
        },
        {
          "name": "stdout",
          "output_type": "stream",
          "text": [
            "Epoch #94: [Training MSE/Evaluation MSE]: [452565966286.9041/454394587620.0728]\n",
            "==============================\n",
            "Current Epoch 95\n",
            "==============================\n",
            "Training...\n"
          ]
        },
        {
          "name": "stderr",
          "output_type": "stream",
          "text": []
        },
        {
          "name": "stdout",
          "output_type": "stream",
          "text": [
            "Evaluating...\n"
          ]
        },
        {
          "name": "stderr",
          "output_type": "stream",
          "text": []
        },
        {
          "name": "stdout",
          "output_type": "stream",
          "text": [
            "Epoch #95: [Training MSE/Evaluation MSE]: [451851659348.1644/453675693446.9818]\n",
            "==============================\n",
            "Current Epoch 96\n",
            "==============================\n",
            "Training...\n"
          ]
        },
        {
          "name": "stderr",
          "output_type": "stream",
          "text": []
        },
        {
          "name": "stdout",
          "output_type": "stream",
          "text": [
            "Evaluating...\n"
          ]
        },
        {
          "name": "stderr",
          "output_type": "stream",
          "text": []
        },
        {
          "name": "stdout",
          "output_type": "stream",
          "text": [
            "Epoch #96: [Training MSE/Evaluation MSE]: [451131460154.4475/452950932610.3273]\n",
            "==============================\n",
            "Current Epoch 97\n",
            "==============================\n",
            "Training...\n"
          ]
        },
        {
          "name": "stderr",
          "output_type": "stream",
          "text": []
        },
        {
          "name": "stdout",
          "output_type": "stream",
          "text": [
            "Evaluating...\n"
          ]
        },
        {
          "name": "stderr",
          "output_type": "stream",
          "text": []
        },
        {
          "name": "stdout",
          "output_type": "stream",
          "text": [
            "Epoch #97: [Training MSE/Evaluation MSE]: [450405566211.5068/452222746028.2182]\n",
            "==============================\n",
            "Current Epoch 98\n",
            "==============================\n",
            "Training...\n"
          ]
        },
        {
          "name": "stderr",
          "output_type": "stream",
          "text": []
        },
        {
          "name": "stdout",
          "output_type": "stream",
          "text": [
            "Evaluating...\n"
          ]
        },
        {
          "name": "stderr",
          "output_type": "stream",
          "text": []
        },
        {
          "name": "stdout",
          "output_type": "stream",
          "text": [
            "Epoch #98: [Training MSE/Evaluation MSE]: [449673842257.8265/451483741835.6364]\n",
            "==============================\n",
            "Current Epoch 99\n",
            "==============================\n",
            "Training...\n"
          ]
        },
        {
          "name": "stderr",
          "output_type": "stream",
          "text": []
        },
        {
          "name": "stdout",
          "output_type": "stream",
          "text": [
            "Evaluating...\n"
          ]
        },
        {
          "name": "stderr",
          "output_type": "stream",
          "text": []
        },
        {
          "name": "stdout",
          "output_type": "stream",
          "text": [
            "Epoch #99: [Training MSE/Evaluation MSE]: [448935704753.6804/450741358368.5818]\n",
            "==============================\n",
            "Current Epoch 100\n",
            "==============================\n",
            "Training...\n"
          ]
        },
        {
          "name": "stderr",
          "output_type": "stream",
          "text": []
        },
        {
          "name": "stdout",
          "output_type": "stream",
          "text": [
            "Evaluating...\n"
          ]
        },
        {
          "name": "stderr",
          "output_type": "stream",
          "text": [
            "                                                "
          ]
        },
        {
          "name": "stdout",
          "output_type": "stream",
          "text": [
            "Epoch #100: [Training MSE/Evaluation MSE]: [448192127312.6575/449993164241.4545]\n"
          ]
        },
        {
          "name": "stderr",
          "output_type": "stream",
          "text": [
            "\r"
          ]
        }
      ],
      "source": [
        "train_losses = []\n",
        "val_losses = []\n",
        "\n",
        "for i in range(EPOCHS):\n",
        "    print(\"=\" * 30)\n",
        "    print(f\"Current Epoch {i+1}\")\n",
        "    print(\"=\" * 30)\n",
        "    print(\"Training...\")\n",
        "    train_loss = .0\n",
        "\n",
        "    model.train()\n",
        "    for features, labels in tqdm(train_loader, leave=False):\n",
        "        features = features.to(device)\n",
        "        labels = labels.to(device)\n",
        "\n",
        "        optimizer.zero_grad()\n",
        "\n",
        "        outputs = model(features)\n",
        "\n",
        "        _loss = criterion(outputs.squeeze(-1), labels)\n",
        "        _loss.backward()\n",
        "        optimizer.step()\n",
        "\n",
        "        train_loss += _loss.item()\n",
        "\n",
        "\n",
        "    print(\"Evaluating...\")\n",
        "    val_loss = .0\n",
        "\n",
        "    model.eval()\n",
        "\n",
        "    for features, labels in tqdm(val_loader, leave=False):\n",
        "        features = features.to(device)\n",
        "        labels = labels.to(device)\n",
        "\n",
        "        outputs = model(features)\n",
        "\n",
        "        _loss = criterion(outputs.squeeze(-1), labels)\n",
        "\n",
        "        val_loss += _loss.item()\n",
        "\n",
        "    train_losses += [train_loss/len(train_loader)]\n",
        "    epoch_val_loss = val_loss/len(val_loader)\n",
        "    val_losses += [epoch_val_loss]\n",
        "    print(f\"Epoch #{i+1}: [Training MSE/Validation MSE]: [{train_loss/len(train_loader):.4f}/{val_loss/len(val_loader):.4f}]\")\n",
        "\n",
        "    if epoch_val_loss < best_val_loss:\n",
        "        best_val_loss = epoch_val_loss\n",
        "        increasing_loss_count = 0\n",
        "    else:\n",
        "        increasing_loss_count += 1\n",
        "\n",
        "    if increasing_loss_count >= EARLY_STOPPING:\n",
        "        print(\"Early Stopping!\")\n",
        "        break"
      ]
    },
    {
      "cell_type": "code",
      "execution_count": 34,
      "metadata": {
        "id": "2ISFLWCzmHX3"
      },
      "outputs": [],
      "source": [
        "%matplotlib inline"
      ]
    },
    {
      "cell_type": "code",
      "execution_count": 35,
      "metadata": {
        "colab": {
          "base_uri": "https://localhost:8080/",
          "height": 465
        },
        "id": "-BNNQJvumIUn",
        "outputId": "b403ee88-a287-4779-dab7-90992bb20dc1"
      },
      "outputs": [
        {
          "data": {
            "image/png": "[encoded data removed]",
            "text/plain": [
              "<Figure size 640x480 with 1 Axes>"
            ]
          },
          "metadata": {},
          "output_type": "display_data"
        }
      ],
      "source": [
        "plt.plot(range(len(train_losses)), train_losses, label=\"Training Loss\")\n",
        "plt.plot(range(len(val_losses)), val_losses, label=\"Validation Loss\")\n",
        "plt.legend()\n",
        "plt.xlabel('Epoch')\n",
        "plt.ylabel('MSE')\n",
        "plt.show()"
      ]
    },
    {
      "cell_type": "code",
      "execution_count": 36,
      "metadata": {
        "id": "TU1W2njGrIZ8"
      },
      "outputs": [],
      "source": [
        "directory = 'models'\n",
        "os.makedirs(directory, exist_ok=True)\n",
        "\n",
        "torch.save(model.state_dict(), 'models/model.pt')"
      ]
    },
    {
      "cell_type": "markdown",
      "metadata": {
        "id": "XAPdtK1frKaV"
      },
      "source": [
        "#내일 데이터 불러오기"
      ]
    },
    {
      "cell_type": "code",
      "execution_count": 59,
      "metadata": {
        "id": "OkICI0r0sAIC"
      },
      "outputs": [],
      "source": [
        "import pandas as pd\n",
        "import urllib\n",
        "import urllib.request\n",
        "import json"
      ]
    },
    {
      "cell_type": "code",
      "execution_count": 60,
      "metadata": {
        "id": "dhYksY1Zsl_v"
      },
      "outputs": [],
      "source": [
        "from datetime import date, timedelta\n",
        "#오늘 날짜 불러오기\n",
        "today = date.today()\n",
        "formatted_today = today.strftime('%Y%m%d')\n",
        "tomorrow = today + timedelta(days=1)\n",
        "formatted_tomorrow = tomorrow.strftime('%Y%m%d')"
      ]
    },
    {
      "cell_type": "code",
      "execution_count": 61,
      "metadata": {
        "colab": {
          "base_uri": "https://localhost:8080/"
        },
        "id": "AB766Jl_sB9O",
        "outputId": "969eff33-407b-4520-842e-c3110302c9c5"
      },
      "outputs": [
        {
          "name": "stdout",
          "output_type": "stream",
          "text": [
            "{'response': {'header': {'resultCode': '00', 'resultMsg': 'NORMAL_SERVICE'}, 'body': {'dataType': 'JSON', 'items': {'item': [{'baseDate': '20240215', 'baseTime': '1700', 'category': 'TMP', 'fcstDate': '20240215', 'fcstTime': '1800', 'fcstValue': '7', 'nx': 48, 'ny': 36}, {'baseDate': '20240215', 'baseTime': '1700', 'category': 'UUU', 'fcstDate': '20240215', 'fcstTime': '1800', 'fcstValue': '-0.2', 'nx': 48, 'ny': 36}, {'baseDate': '20240215', 'baseTime': '1700', 'category': 'VVV', 'fcstDate': '20240215', 'fcstTime': '1800', 'fcstValue': '-9.6', 'nx': 48, 'ny': 36}, {'baseDate': '20240215', 'baseTime': '1700', 'category': 'VEC', 'fcstDate': '20240215', 'fcstTime': '1800', 'fcstValue': '2', 'nx': 48, 'ny': 36}, {'baseDate': '20240215', 'baseTime': '1700', 'category': 'WSD', 'fcstDate': '20240215', 'fcstTime': '1800', 'fcstValue': '9.6', 'nx': 48, 'ny': 36}, {'baseDate': '20240215', 'baseTime': '1700', 'category': 'SKY', 'fcstDate': '20240215', 'fcstTime': '1800', 'fcstValue': '4', 'nx': 48, 'ny': 36}, {'baseDate': '20240215', 'baseTime': '1700', 'category': 'PTY', 'fcstDate': '20240215', 'fcstTime': '1800', 'fcstValue': '1', 'nx': 48, 'ny': 36}, {'baseDate': '20240215', 'baseTime': '1700', 'category': 'POP', 'fcstDate': '20240215', 'fcstTime': '1800', 'fcstValue': '60', 'nx': 48, 'ny': 36}, {'baseDate': '20240215', 'baseTime': '1700', 'category': 'WAV', 'fcstDate': '20240215', 'fcstTime': '1800', 'fcstValue': '0.5', 'nx': 48, 'ny': 36}, {'baseDate': '20240215', 'baseTime': '1700', 'category': 'PCP', 'fcstDate': '20240215', 'fcstTime': '1800', 'fcstValue': '1.0mm', 'nx': 48, 'ny': 36}, {'baseDate': '20240215', 'baseTime': '1700', 'category': 'REH', 'fcstDate': '20240215', 'fcstTime': '1800', 'fcstValue': '70', 'nx': 48, 'ny': 36}, {'baseDate': '20240215', 'baseTime': '1700', 'category': 'SNO', 'fcstDate': '20240215', 'fcstTime': '1800', 'fcstValue': '적설없음', 'nx': 48, 'ny': 36}, {'baseDate': '20240215', 'baseTime': '1700', 'category': 'TMP', 'fcstDate': '20240215', 'fcstTime': '1900', 'fcstValue': '6', 'nx': 48, 'ny': 36}, {'baseDate': '20240215', 'baseTime': '1700', 'category': 'UUU', 'fcstDate': '20240215', 'fcstTime': '1900', 'fcstValue': '-0.3', 'nx': 48, 'ny': 36}, {'baseDate': '20240215', 'baseTime': '1700', 'category': 'VVV', 'fcstDate': '20240215', 'fcstTime': '1900', 'fcstValue': '-9.2', 'nx': 48, 'ny': 36}, {'baseDate': '20240215', 'baseTime': '1700', 'category': 'VEC', 'fcstDate': '20240215', 'fcstTime': '1900', 'fcstValue': '2', 'nx': 48, 'ny': 36}, {'baseDate': '20240215', 'baseTime': '1700', 'category': 'WSD', 'fcstDate': '20240215', 'fcstTime': '1900', 'fcstValue': '9.2', 'nx': 48, 'ny': 36}, {'baseDate': '20240215', 'baseTime': '1700', 'category': 'SKY', 'fcstDate': '20240215', 'fcstTime': '1900', 'fcstValue': '3', 'nx': 48, 'ny': 36}, {'baseDate': '20240215', 'baseTime': '1700', 'category': 'PTY', 'fcstDate': '20240215', 'fcstTime': '1900', 'fcstValue': '0', 'nx': 48, 'ny': 36}, {'baseDate': '20240215', 'baseTime': '1700', 'category': 'POP', 'fcstDate': '20240215', 'fcstTime': '1900', 'fcstValue': '20', 'nx': 48, 'ny': 36}, {'baseDate': '20240215', 'baseTime': '1700', 'category': 'WAV', 'fcstDate': '20240215', 'fcstTime': '1900', 'fcstValue': '0.5', 'nx': 48, 'ny': 36}, {'baseDate': '20240215', 'baseTime': '1700', 'category': 'PCP', 'fcstDate': '20240215', 'fcstTime': '1900', 'fcstValue': '강수없음', 'nx': 48, 'ny': 36}, {'baseDate': '20240215', 'baseTime': '1700', 'category': 'REH', 'fcstDate': '20240215', 'fcstTime': '1900', 'fcstValue': '65', 'nx': 48, 'ny': 36}, {'baseDate': '20240215', 'baseTime': '1700', 'category': 'SNO', 'fcstDate': '20240215', 'fcstTime': '1900', 'fcstValue': '적설없음', 'nx': 48, 'ny': 36}, {'baseDate': '20240215', 'baseTime': '1700', 'category': 'TMP', 'fcstDate': '20240215', 'fcstTime': '2000', 'fcstValue': '6', 'nx': 48, 'ny': 36}, {'baseDate': '20240215', 'baseTime': '1700', 'category': 'UUU', 'fcstDate': '20240215', 'fcstTime': '2000', 'fcstValue': '-0.4', 'nx': 48, 'ny': 36}, {'baseDate': '20240215', 'baseTime': '1700', 'category': 'VVV', 'fcstDate': '20240215', 'fcstTime': '2000', 'fcstValue': '-9', 'nx': 48, 'ny': 36}, {'baseDate': '20240215', 'baseTime': '1700', 'category': 'VEC', 'fcstDate': '20240215', 'fcstTime': '2000', 'fcstValue': '3', 'nx': 48, 'ny': 36}, {'baseDate': '20240215', 'baseTime': '1700', 'category': 'WSD', 'fcstDate': '20240215', 'fcstTime': '2000', 'fcstValue': '9', 'nx': 48, 'ny': 36}, {'baseDate': '20240215', 'baseTime': '1700', 'category': 'SKY', 'fcstDate': '20240215', 'fcstTime': '2000', 'fcstValue': '3', 'nx': 48, 'ny': 36}, {'baseDate': '20240215', 'baseTime': '1700', 'category': 'PTY', 'fcstDate': '20240215', 'fcstTime': '2000', 'fcstValue': '0', 'nx': 48, 'ny': 36}, {'baseDate': '20240215', 'baseTime': '1700', 'category': 'POP', 'fcstDate': '20240215', 'fcstTime': '2000', 'fcstValue': '20', 'nx': 48, 'ny': 36}, {'baseDate': '20240215', 'baseTime': '1700', 'category': 'WAV', 'fcstDate': '20240215', 'fcstTime': '2000', 'fcstValue': '0.5', 'nx': 48, 'ny': 36}, {'baseDate': '20240215', 'baseTime': '1700', 'category': 'PCP', 'fcstDate': '20240215', 'fcstTime': '2000', 'fcstValue': '강수없음', 'nx': 48, 'ny': 36}, {'baseDate': '20240215', 'baseTime': '1700', 'category': 'REH', 'fcstDate': '20240215', 'fcstTime': '2000', 'fcstValue': '60', 'nx': 48, 'ny': 36}, {'baseDate': '20240215', 'baseTime': '1700', 'category': 'SNO', 'fcstDate': '20240215', 'fcstTime': '2000', 'fcstValue': '적설없음', 'nx': 48, 'ny': 36}, {'baseDate': '20240215', 'baseTime': '1700', 'category': 'TMP', 'fcstDate': '20240215', 'fcstTime': '2100', 'fcstValue': '6', 'nx': 48, 'ny': 36}, {'baseDate': '20240215', 'baseTime': '1700', 'category': 'UUU', 'fcstDate': '20240215', 'fcstTime': '2100', 'fcstValue': '-0.7', 'nx': 48, 'ny': 36}, {'baseDate': '20240215', 'baseTime': '1700', 'category': 'VVV', 'fcstDate': '20240215', 'fcstTime': '2100', 'fcstValue': '-8.5', 'nx': 48, 'ny': 36}, {'baseDate': '20240215', 'baseTime': '1700', 'category': 'VEC', 'fcstDate': '20240215', 'fcstTime': '2100', 'fcstValue': '5', 'nx': 48, 'ny': 36}, {'baseDate': '20240215', 'baseTime': '1700', 'category': 'WSD', 'fcstDate': '20240215', 'fcstTime': '2100', 'fcstValue': '8.5', 'nx': 48, 'ny': 36}, {'baseDate': '20240215', 'baseTime': '1700', 'category': 'SKY', 'fcstDate': '20240215', 'fcstTime': '2100', 'fcstValue': '3', 'nx': 48, 'ny': 36}, {'baseDate': '20240215', 'baseTime': '1700', 'category': 'PTY', 'fcstDate': '20240215', 'fcstTime': '2100', 'fcstValue': '0', 'nx': 48, 'ny': 36}, {'baseDate': '20240215', 'baseTime': '1700', 'category': 'POP', 'fcstDate': '20240215', 'fcstTime': '2100', 'fcstValue': '20', 'nx': 48, 'ny': 36}, {'baseDate': '20240215', 'baseTime': '1700', 'category': 'WAV', 'fcstDate': '20240215', 'fcstTime': '2100', 'fcstValue': '0.5', 'nx': 48, 'ny': 36}, {'baseDate': '20240215', 'baseTime': '1700', 'category': 'PCP', 'fcstDate': '20240215', 'fcstTime': '2100', 'fcstValue': '강수없음', 'nx': 48, 'ny': 36}, {'baseDate': '20240215', 'baseTime': '1700', 'category': 'REH', 'fcstDate': '20240215', 'fcstTime': '2100', 'fcstValue': '60', 'nx': 48, 'ny': 36}, {'baseDate': '20240215', 'baseTime': '1700', 'category': 'SNO', 'fcstDate': '20240215', 'fcstTime': '2100', 'fcstValue': '적설없음', 'nx': 48, 'ny': 36}, {'baseDate': '20240215', 'baseTime': '1700', 'category': 'TMP', 'fcstDate': '20240215', 'fcstTime': '2200', 'fcstValue': '5', 'nx': 48, 'ny': 36}, {'baseDate': '20240215', 'baseTime': '1700', 'category': 'UUU', 'fcstDate': '20240215', 'fcstTime': '2200', 'fcstValue': '-1.1', 'nx': 48, 'ny': 36}, {'baseDate': '20240215', 'baseTime': '1700', 'category': 'VVV', 'fcstDate': '20240215', 'fcstTime': '2200', 'fcstValue': '-7.8', 'nx': 48, 'ny': 36}, {'baseDate': '20240215', 'baseTime': '1700', 'category': 'VEC', 'fcstDate': '20240215', 'fcstTime': '2200', 'fcstValue': '9', 'nx': 48, 'ny': 36}, {'baseDate': '20240215', 'baseTime': '1700', 'category': 'WSD', 'fcstDate': '20240215', 'fcstTime': '2200', 'fcstValue': '7.9', 'nx': 48, 'ny': 36}, {'baseDate': '20240215', 'baseTime': '1700', 'category': 'SKY', 'fcstDate': '20240215', 'fcstTime': '2200', 'fcstValue': '1', 'nx': 48, 'ny': 36}, {'baseDate': '20240215', 'baseTime': '1700', 'category': 'PTY', 'fcstDate': '20240215', 'fcstTime': '2200', 'fcstValue': '0', 'nx': 48, 'ny': 36}, {'baseDate': '20240215', 'baseTime': '1700', 'category': 'POP', 'fcstDate': '20240215', 'fcstTime': '2200', 'fcstValue': '0', 'nx': 48, 'ny': 36}, {'baseDate': '20240215', 'baseTime': '1700', 'category': 'WAV', 'fcstDate': '20240215', 'fcstTime': '2200', 'fcstValue': '0.5', 'nx': 48, 'ny': 36}, {'baseDate': '20240215', 'baseTime': '1700', 'category': 'PCP', 'fcstDate': '20240215', 'fcstTime': '2200', 'fcstValue': '강수없음', 'nx': 48, 'ny': 36}, {'baseDate': '20240215', 'baseTime': '1700', 'category': 'REH', 'fcstDate': '20240215', 'fcstTime': '2200', 'fcstValue': '60', 'nx': 48, 'ny': 36}, {'baseDate': '20240215', 'baseTime': '1700', 'category': 'SNO', 'fcstDate': '20240215', 'fcstTime': '2200', 'fcstValue': '적설없음', 'nx': 48, 'ny': 36}, {'baseDate': '20240215', 'baseTime': '1700', 'category': 'TMP', 'fcstDate': '20240215', 'fcstTime': '2300', 'fcstValue': '5', 'nx': 48, 'ny': 36}, {'baseDate': '20240215', 'baseTime': '1700', 'category': 'UUU', 'fcstDate': '20240215', 'fcstTime': '2300', 'fcstValue': '-1', 'nx': 48, 'ny': 36}, {'baseDate': '20240215', 'baseTime': '1700', 'category': 'VVV', 'fcstDate': '20240215', 'fcstTime': '2300', 'fcstValue': '-7.4', 'nx': 48, 'ny': 36}, {'baseDate': '20240215', 'baseTime': '1700', 'category': 'VEC', 'fcstDate': '20240215', 'fcstTime': '2300', 'fcstValue': '8', 'nx': 48, 'ny': 36}, {'baseDate': '20240215', 'baseTime': '1700', 'category': 'WSD', 'fcstDate': '20240215', 'fcstTime': '2300', 'fcstValue': '7.5', 'nx': 48, 'ny': 36}, {'baseDate': '20240215', 'baseTime': '1700', 'category': 'SKY', 'fcstDate': '20240215', 'fcstTime': '2300', 'fcstValue': '1', 'nx': 48, 'ny': 36}, {'baseDate': '20240215', 'baseTime': '1700', 'category': 'PTY', 'fcstDate': '20240215', 'fcstTime': '2300', 'fcstValue': '0', 'nx': 48, 'ny': 36}, {'baseDate': '20240215', 'baseTime': '1700', 'category': 'POP', 'fcstDate': '20240215', 'fcstTime': '2300', 'fcstValue': '0', 'nx': 48, 'ny': 36}, {'baseDate': '20240215', 'baseTime': '1700', 'category': 'WAV', 'fcstDate': '20240215', 'fcstTime': '2300', 'fcstValue': '0.5', 'nx': 48, 'ny': 36}, {'baseDate': '20240215', 'baseTime': '1700', 'category': 'PCP', 'fcstDate': '20240215', 'fcstTime': '2300', 'fcstValue': '강수없음', 'nx': 48, 'ny': 36}, {'baseDate': '20240215', 'baseTime': '1700', 'category': 'REH', 'fcstDate': '20240215', 'fcstTime': '2300', 'fcstValue': '60', 'nx': 48, 'ny': 36}, {'baseDate': '20240215', 'baseTime': '1700', 'category': 'SNO', 'fcstDate': '20240215', 'fcstTime': '2300', 'fcstValue': '적설없음', 'nx': 48, 'ny': 36}, {'baseDate': '20240215', 'baseTime': '1700', 'category': 'TMP', 'fcstDate': '20240216', 'fcstTime': '0000', 'fcstValue': '5', 'nx': 48, 'ny': 36}, {'baseDate': '20240215', 'baseTime': '1700', 'category': 'UUU', 'fcstDate': '20240216', 'fcstTime': '0000', 'fcstValue': '-1.1', 'nx': 48, 'ny': 36}, {'baseDate': '20240215', 'baseTime': '1700', 'category': 'VVV', 'fcstDate': '20240216', 'fcstTime': '0000', 'fcstValue': '-7.1', 'nx': 48, 'ny': 36}, {'baseDate': '20240215', 'baseTime': '1700', 'category': 'VEC', 'fcstDate': '20240216', 'fcstTime': '0000', 'fcstValue': '10', 'nx': 48, 'ny': 36}, {'baseDate': '20240215', 'baseTime': '1700', 'category': 'WSD', 'fcstDate': '20240216', 'fcstTime': '0000', 'fcstValue': '7.2', 'nx': 48, 'ny': 36}, {'baseDate': '20240215', 'baseTime': '1700', 'category': 'SKY', 'fcstDate': '20240216', 'fcstTime': '0000', 'fcstValue': '4', 'nx': 48, 'ny': 36}, {'baseDate': '20240215', 'baseTime': '1700', 'category': 'PTY', 'fcstDate': '20240216', 'fcstTime': '0000', 'fcstValue': '0', 'nx': 48, 'ny': 36}, {'baseDate': '20240215', 'baseTime': '1700', 'category': 'POP', 'fcstDate': '20240216', 'fcstTime': '0000', 'fcstValue': '30', 'nx': 48, 'ny': 36}, {'baseDate': '20240215', 'baseTime': '1700', 'category': 'WAV', 'fcstDate': '20240216', 'fcstTime': '0000', 'fcstValue': '0.5', 'nx': 48, 'ny': 36}, {'baseDate': '20240215', 'baseTime': '1700', 'category': 'PCP', 'fcstDate': '20240216', 'fcstTime': '0000', 'fcstValue': '강수없음', 'nx': 48, 'ny': 36}, {'baseDate': '20240215', 'baseTime': '1700', 'category': 'REH', 'fcstDate': '20240216', 'fcstTime': '0000', 'fcstValue': '65', 'nx': 48, 'ny': 36}, {'baseDate': '20240215', 'baseTime': '1700', 'category': 'SNO', 'fcstDate': '20240216', 'fcstTime': '0000', 'fcstValue': '적설없음', 'nx': 48, 'ny': 36}, {'baseDate': '20240215', 'baseTime': '1700', 'category': 'TMP', 'fcstDate': '20240216', 'fcstTime': '0100', 'fcstValue': '5', 'nx': 48, 'ny': 36}, {'baseDate': '20240215', 'baseTime': '1700', 'category': 'UUU', 'fcstDate': '20240216', 'fcstTime': '0100', 'fcstValue': '-0.7', 'nx': 48, 'ny': 36}, {'baseDate': '20240215', 'baseTime': '1700', 'category': 'VVV', 'fcstDate': '20240216', 'fcstTime': '0100', 'fcstValue': '-6.4', 'nx': 48, 'ny': 36}, {'baseDate': '20240215', 'baseTime': '1700', 'category': 'VEC', 'fcstDate': '20240216', 'fcstTime': '0100', 'fcstValue': '7', 'nx': 48, 'ny': 36}, {'baseDate': '20240215', 'baseTime': '1700', 'category': 'WSD', 'fcstDate': '20240216', 'fcstTime': '0100', 'fcstValue': '6.4', 'nx': 48, 'ny': 36}, {'baseDate': '20240215', 'baseTime': '1700', 'category': 'SKY', 'fcstDate': '20240216', 'fcstTime': '0100', 'fcstValue': '1', 'nx': 48, 'ny': 36}, {'baseDate': '20240215', 'baseTime': '1700', 'category': 'PTY', 'fcstDate': '20240216', 'fcstTime': '0100', 'fcstValue': '0', 'nx': 48, 'ny': 36}, {'baseDate': '20240215', 'baseTime': '1700', 'category': 'POP', 'fcstDate': '20240216', 'fcstTime': '0100', 'fcstValue': '0', 'nx': 48, 'ny': 36}, {'baseDate': '20240215', 'baseTime': '1700', 'category': 'WAV', 'fcstDate': '20240216', 'fcstTime': '0100', 'fcstValue': '0.5', 'nx': 48, 'ny': 36}, {'baseDate': '20240215', 'baseTime': '1700', 'category': 'PCP', 'fcstDate': '20240216', 'fcstTime': '0100', 'fcstValue': '강수없음', 'nx': 48, 'ny': 36}, {'baseDate': '20240215', 'baseTime': '1700', 'category': 'REH', 'fcstDate': '20240216', 'fcstTime': '0100', 'fcstValue': '65', 'nx': 48, 'ny': 36}, {'baseDate': '20240215', 'baseTime': '1700', 'category': 'SNO', 'fcstDate': '20240216', 'fcstTime': '0100', 'fcstValue': '적설없음', 'nx': 48, 'ny': 36}, {'baseDate': '20240215', 'baseTime': '1700', 'category': 'TMP', 'fcstDate': '20240216', 'fcstTime': '0200', 'fcstValue': '5', 'nx': 48, 'ny': 36}, {'baseDate': '20240215', 'baseTime': '1700', 'category': 'UUU', 'fcstDate': '20240216', 'fcstTime': '0200', 'fcstValue': '-1.4', 'nx': 48, 'ny': 36}, {'baseDate': '20240215', 'baseTime': '1700', 'category': 'VVV', 'fcstDate': '20240216', 'fcstTime': '0200', 'fcstValue': '-6.5', 'nx': 48, 'ny': 36}, {'baseDate': '20240215', 'baseTime': '1700', 'category': 'VEC', 'fcstDate': '20240216', 'fcstTime': '0200', 'fcstValue': '13', 'nx': 48, 'ny': 36}, {'baseDate': '20240215', 'baseTime': '1700', 'category': 'WSD', 'fcstDate': '20240216', 'fcstTime': '0200', 'fcstValue': '6.7', 'nx': 48, 'ny': 36}, {'baseDate': '20240215', 'baseTime': '1700', 'category': 'SKY', 'fcstDate': '20240216', 'fcstTime': '0200', 'fcstValue': '1', 'nx': 48, 'ny': 36}, {'baseDate': '20240215', 'baseTime': '1700', 'category': 'PTY', 'fcstDate': '20240216', 'fcstTime': '0200', 'fcstValue': '0', 'nx': 48, 'ny': 36}, {'baseDate': '20240215', 'baseTime': '1700', 'category': 'POP', 'fcstDate': '20240216', 'fcstTime': '0200', 'fcstValue': '0', 'nx': 48, 'ny': 36}, {'baseDate': '20240215', 'baseTime': '1700', 'category': 'WAV', 'fcstDate': '20240216', 'fcstTime': '0200', 'fcstValue': '0.5', 'nx': 48, 'ny': 36}, {'baseDate': '20240215', 'baseTime': '1700', 'category': 'PCP', 'fcstDate': '20240216', 'fcstTime': '0200', 'fcstValue': '강수없음', 'nx': 48, 'ny': 36}, {'baseDate': '20240215', 'baseTime': '1700', 'category': 'REH', 'fcstDate': '20240216', 'fcstTime': '0200', 'fcstValue': '70', 'nx': 48, 'ny': 36}, {'baseDate': '20240215', 'baseTime': '1700', 'category': 'SNO', 'fcstDate': '20240216', 'fcstTime': '0200', 'fcstValue': '적설없음', 'nx': 48, 'ny': 36}, {'baseDate': '20240215', 'baseTime': '1700', 'category': 'TMP', 'fcstDate': '20240216', 'fcstTime': '0300', 'fcstValue': '5', 'nx': 48, 'ny': 36}, {'baseDate': '20240215', 'baseTime': '1700', 'category': 'UUU', 'fcstDate': '20240216', 'fcstTime': '0300', 'fcstValue': '-1.9', 'nx': 48, 'ny': 36}, {'baseDate': '20240215', 'baseTime': '1700', 'category': 'VVV', 'fcstDate': '20240216', 'fcstTime': '0300', 'fcstValue': '-6.2', 'nx': 48, 'ny': 36}, {'baseDate': '20240215', 'baseTime': '1700', 'category': 'VEC', 'fcstDate': '20240216', 'fcstTime': '0300', 'fcstValue': '18', 'nx': 48, 'ny': 36}, {'baseDate': '20240215', 'baseTime': '1700', 'category': 'WSD', 'fcstDate': '20240216', 'fcstTime': '0300', 'fcstValue': '6.5', 'nx': 48, 'ny': 36}, {'baseDate': '20240215', 'baseTime': '1700', 'category': 'SKY', 'fcstDate': '20240216', 'fcstTime': '0300', 'fcstValue': '1', 'nx': 48, 'ny': 36}, {'baseDate': '20240215', 'baseTime': '1700', 'category': 'PTY', 'fcstDate': '20240216', 'fcstTime': '0300', 'fcstValue': '0', 'nx': 48, 'ny': 36}, {'baseDate': '20240215', 'baseTime': '1700', 'category': 'POP', 'fcstDate': '20240216', 'fcstTime': '0300', 'fcstValue': '0', 'nx': 48, 'ny': 36}, {'baseDate': '20240215', 'baseTime': '1700', 'category': 'WAV', 'fcstDate': '20240216', 'fcstTime': '0300', 'fcstValue': '0.5', 'nx': 48, 'ny': 36}, {'baseDate': '20240215', 'baseTime': '1700', 'category': 'PCP', 'fcstDate': '20240216', 'fcstTime': '0300', 'fcstValue': '강수없음', 'nx': 48, 'ny': 36}, {'baseDate': '20240215', 'baseTime': '1700', 'category': 'REH', 'fcstDate': '20240216', 'fcstTime': '0300', 'fcstValue': '70', 'nx': 48, 'ny': 36}, {'baseDate': '20240215', 'baseTime': '1700', 'category': 'SNO', 'fcstDate': '20240216', 'fcstTime': '0300', 'fcstValue': '적설없음', 'nx': 48, 'ny': 36}, {'baseDate': '20240215', 'baseTime': '1700', 'category': 'TMP', 'fcstDate': '20240216', 'fcstTime': '0400', 'fcstValue': '4', 'nx': 48, 'ny': 36}, {'baseDate': '20240215', 'baseTime': '1700', 'category': 'UUU', 'fcstDate': '20240216', 'fcstTime': '0400', 'fcstValue': '-2.2', 'nx': 48, 'ny': 36}, {'baseDate': '20240215', 'baseTime': '1700', 'category': 'VVV', 'fcstDate': '20240216', 'fcstTime': '0400', 'fcstValue': '-6', 'nx': 48, 'ny': 36}, {'baseDate': '20240215', 'baseTime': '1700', 'category': 'VEC', 'fcstDate': '20240216', 'fcstTime': '0400', 'fcstValue': '21', 'nx': 48, 'ny': 36}, {'baseDate': '20240215', 'baseTime': '1700', 'category': 'WSD', 'fcstDate': '20240216', 'fcstTime': '0400', 'fcstValue': '6.4', 'nx': 48, 'ny': 36}, {'baseDate': '20240215', 'baseTime': '1700', 'category': 'SKY', 'fcstDate': '20240216', 'fcstTime': '0400', 'fcstValue': '3', 'nx': 48, 'ny': 36}, {'baseDate': '20240215', 'baseTime': '1700', 'category': 'PTY', 'fcstDate': '20240216', 'fcstTime': '0400', 'fcstValue': '0', 'nx': 48, 'ny': 36}, {'baseDate': '20240215', 'baseTime': '1700', 'category': 'POP', 'fcstDate': '20240216', 'fcstTime': '0400', 'fcstValue': '20', 'nx': 48, 'ny': 36}, {'baseDate': '20240215', 'baseTime': '1700', 'category': 'WAV', 'fcstDate': '20240216', 'fcstTime': '0400', 'fcstValue': '0.5', 'nx': 48, 'ny': 36}, {'baseDate': '20240215', 'baseTime': '1700', 'category': 'PCP', 'fcstDate': '20240216', 'fcstTime': '0400', 'fcstValue': '강수없음', 'nx': 48, 'ny': 36}, {'baseDate': '20240215', 'baseTime': '1700', 'category': 'REH', 'fcstDate': '20240216', 'fcstTime': '0400', 'fcstValue': '70', 'nx': 48, 'ny': 36}, {'baseDate': '20240215', 'baseTime': '1700', 'category': 'SNO', 'fcstDate': '20240216', 'fcstTime': '0400', 'fcstValue': '적설없음', 'nx': 48, 'ny': 36}, {'baseDate': '20240215', 'baseTime': '1700', 'category': 'TMP', 'fcstDate': '20240216', 'fcstTime': '0500', 'fcstValue': '4', 'nx': 48, 'ny': 36}, {'baseDate': '20240215', 'baseTime': '1700', 'category': 'UUU', 'fcstDate': '20240216', 'fcstTime': '0500', 'fcstValue': '-2.1', 'nx': 48, 'ny': 36}, {'baseDate': '20240215', 'baseTime': '1700', 'category': 'VVV', 'fcstDate': '20240216', 'fcstTime': '0500', 'fcstValue': '-5.5', 'nx': 48, 'ny': 36}, {'baseDate': '20240215', 'baseTime': '1700', 'category': 'VEC', 'fcstDate': '20240216', 'fcstTime': '0500', 'fcstValue': '22', 'nx': 48, 'ny': 36}, {'baseDate': '20240215', 'baseTime': '1700', 'category': 'WSD', 'fcstDate': '20240216', 'fcstTime': '0500', 'fcstValue': '5.9', 'nx': 48, 'ny': 36}, {'baseDate': '20240215', 'baseTime': '1700', 'category': 'SKY', 'fcstDate': '20240216', 'fcstTime': '0500', 'fcstValue': '3', 'nx': 48, 'ny': 36}, {'baseDate': '20240215', 'baseTime': '1700', 'category': 'PTY', 'fcstDate': '20240216', 'fcstTime': '0500', 'fcstValue': '0', 'nx': 48, 'ny': 36}, {'baseDate': '20240215', 'baseTime': '1700', 'category': 'POP', 'fcstDate': '20240216', 'fcstTime': '0500', 'fcstValue': '20', 'nx': 48, 'ny': 36}, {'baseDate': '20240215', 'baseTime': '1700', 'category': 'WAV', 'fcstDate': '20240216', 'fcstTime': '0500', 'fcstValue': '0.5', 'nx': 48, 'ny': 36}, {'baseDate': '20240215', 'baseTime': '1700', 'category': 'PCP', 'fcstDate': '20240216', 'fcstTime': '0500', 'fcstValue': '강수없음', 'nx': 48, 'ny': 36}, {'baseDate': '20240215', 'baseTime': '1700', 'category': 'REH', 'fcstDate': '20240216', 'fcstTime': '0500', 'fcstValue': '70', 'nx': 48, 'ny': 36}, {'baseDate': '20240215', 'baseTime': '1700', 'category': 'SNO', 'fcstDate': '20240216', 'fcstTime': '0500', 'fcstValue': '적설없음', 'nx': 48, 'ny': 36}, {'baseDate': '20240215', 'baseTime': '1700', 'category': 'TMP', 'fcstDate': '20240216', 'fcstTime': '0600', 'fcstValue': '4', 'nx': 48, 'ny': 36}, {'baseDate': '20240215', 'baseTime': '1700', 'category': 'UUU', 'fcstDate': '20240216', 'fcstTime': '0600', 'fcstValue': '-2.1', 'nx': 48, 'ny': 36}, {'baseDate': '20240215', 'baseTime': '1700', 'category': 'VVV', 'fcstDate': '20240216', 'fcstTime': '0600', 'fcstValue': '-4.9', 'nx': 48, 'ny': 36}, {'baseDate': '20240215', 'baseTime': '1700', 'category': 'VEC', 'fcstDate': '20240216', 'fcstTime': '0600', 'fcstValue': '24', 'nx': 48, 'ny': 36}, {'baseDate': '20240215', 'baseTime': '1700', 'category': 'WSD', 'fcstDate': '20240216', 'fcstTime': '0600', 'fcstValue': '5.4', 'nx': 48, 'ny': 36}, {'baseDate': '20240215', 'baseTime': '1700', 'category': 'SKY', 'fcstDate': '20240216', 'fcstTime': '0600', 'fcstValue': '3', 'nx': 48, 'ny': 36}, {'baseDate': '20240215', 'baseTime': '1700', 'category': 'PTY', 'fcstDate': '20240216', 'fcstTime': '0600', 'fcstValue': '0', 'nx': 48, 'ny': 36}, {'baseDate': '20240215', 'baseTime': '1700', 'category': 'POP', 'fcstDate': '20240216', 'fcstTime': '0600', 'fcstValue': '20', 'nx': 48, 'ny': 36}, {'baseDate': '20240215', 'baseTime': '1700', 'category': 'WAV', 'fcstDate': '20240216', 'fcstTime': '0600', 'fcstValue': '0.5', 'nx': 48, 'ny': 36}, {'baseDate': '20240215', 'baseTime': '1700', 'category': 'PCP', 'fcstDate': '20240216', 'fcstTime': '0600', 'fcstValue': '강수없음', 'nx': 48, 'ny': 36}, {'baseDate': '20240215', 'baseTime': '1700', 'category': 'REH', 'fcstDate': '20240216', 'fcstTime': '0600', 'fcstValue': '75', 'nx': 48, 'ny': 36}, {'baseDate': '20240215', 'baseTime': '1700', 'category': 'SNO', 'fcstDate': '20240216', 'fcstTime': '0600', 'fcstValue': '적설없음', 'nx': 48, 'ny': 36}, {'baseDate': '20240215', 'baseTime': '1700', 'category': 'TMN', 'fcstDate': '20240216', 'fcstTime': '0600', 'fcstValue': '3.0', 'nx': 48, 'ny': 36}, {'baseDate': '20240215', 'baseTime': '1700', 'category': 'TMP', 'fcstDate': '20240216', 'fcstTime': '0700', 'fcstValue': '3', 'nx': 48, 'ny': 36}, {'baseDate': '20240215', 'baseTime': '1700', 'category': 'UUU', 'fcstDate': '20240216', 'fcstTime': '0700', 'fcstValue': '-2.1', 'nx': 48, 'ny': 36}, {'baseDate': '20240215', 'baseTime': '1700', 'category': 'VVV', 'fcstDate': '20240216', 'fcstTime': '0700', 'fcstValue': '-4.1', 'nx': 48, 'ny': 36}, {'baseDate': '20240215', 'baseTime': '1700', 'category': 'VEC', 'fcstDate': '20240216', 'fcstTime': '0700', 'fcstValue': '28', 'nx': 48, 'ny': 36}, {'baseDate': '20240215', 'baseTime': '1700', 'category': 'WSD', 'fcstDate': '20240216', 'fcstTime': '0700', 'fcstValue': '4.7', 'nx': 48, 'ny': 36}, {'baseDate': '20240215', 'baseTime': '1700', 'category': 'SKY', 'fcstDate': '20240216', 'fcstTime': '0700', 'fcstValue': '3', 'nx': 48, 'ny': 36}, {'baseDate': '20240215', 'baseTime': '1700', 'category': 'PTY', 'fcstDate': '20240216', 'fcstTime': '0700', 'fcstValue': '0', 'nx': 48, 'ny': 36}, {'baseDate': '20240215', 'baseTime': '1700', 'category': 'POP', 'fcstDate': '20240216', 'fcstTime': '0700', 'fcstValue': '20', 'nx': 48, 'ny': 36}, {'baseDate': '20240215', 'baseTime': '1700', 'category': 'WAV', 'fcstDate': '20240216', 'fcstTime': '0700', 'fcstValue': '0.5', 'nx': 48, 'ny': 36}, {'baseDate': '20240215', 'baseTime': '1700', 'category': 'PCP', 'fcstDate': '20240216', 'fcstTime': '0700', 'fcstValue': '강수없음', 'nx': 48, 'ny': 36}, {'baseDate': '20240215', 'baseTime': '1700', 'category': 'REH', 'fcstDate': '20240216', 'fcstTime': '0700', 'fcstValue': '75', 'nx': 48, 'ny': 36}, {'baseDate': '20240215', 'baseTime': '1700', 'category': 'SNO', 'fcstDate': '20240216', 'fcstTime': '0700', 'fcstValue': '적설없음', 'nx': 48, 'ny': 36}, {'baseDate': '20240215', 'baseTime': '1700', 'category': 'TMP', 'fcstDate': '20240216', 'fcstTime': '0800', 'fcstValue': '3', 'nx': 48, 'ny': 36}, {'baseDate': '20240215', 'baseTime': '1700', 'category': 'UUU', 'fcstDate': '20240216', 'fcstTime': '0800', 'fcstValue': '-2.2', 'nx': 48, 'ny': 36}, {'baseDate': '20240215', 'baseTime': '1700', 'category': 'VVV', 'fcstDate': '20240216', 'fcstTime': '0800', 'fcstValue': '-3.5', 'nx': 48, 'ny': 36}, {'baseDate': '20240215', 'baseTime': '1700', 'category': 'VEC', 'fcstDate': '20240216', 'fcstTime': '0800', 'fcstValue': '33', 'nx': 48, 'ny': 36}, {'baseDate': '20240215', 'baseTime': '1700', 'category': 'WSD', 'fcstDate': '20240216', 'fcstTime': '0800', 'fcstValue': '4.2', 'nx': 48, 'ny': 36}, {'baseDate': '20240215', 'baseTime': '1700', 'category': 'SKY', 'fcstDate': '20240216', 'fcstTime': '0800', 'fcstValue': '3', 'nx': 48, 'ny': 36}, {'baseDate': '20240215', 'baseTime': '1700', 'category': 'PTY', 'fcstDate': '20240216', 'fcstTime': '0800', 'fcstValue': '0', 'nx': 48, 'ny': 36}, {'baseDate': '20240215', 'baseTime': '1700', 'category': 'POP', 'fcstDate': '20240216', 'fcstTime': '0800', 'fcstValue': '20', 'nx': 48, 'ny': 36}, {'baseDate': '20240215', 'baseTime': '1700', 'category': 'WAV', 'fcstDate': '20240216', 'fcstTime': '0800', 'fcstValue': '0.5', 'nx': 48, 'ny': 36}, {'baseDate': '20240215', 'baseTime': '1700', 'category': 'PCP', 'fcstDate': '20240216', 'fcstTime': '0800', 'fcstValue': '강수없음', 'nx': 48, 'ny': 36}, {'baseDate': '20240215', 'baseTime': '1700', 'category': 'REH', 'fcstDate': '20240216', 'fcstTime': '0800', 'fcstValue': '75', 'nx': 48, 'ny': 36}, {'baseDate': '20240215', 'baseTime': '1700', 'category': 'SNO', 'fcstDate': '20240216', 'fcstTime': '0800', 'fcstValue': '적설없음', 'nx': 48, 'ny': 36}, {'baseDate': '20240215', 'baseTime': '1700', 'category': 'TMP', 'fcstDate': '20240216', 'fcstTime': '0900', 'fcstValue': '5', 'nx': 48, 'ny': 36}, {'baseDate': '20240215', 'baseTime': '1700', 'category': 'UUU', 'fcstDate': '20240216', 'fcstTime': '0900', 'fcstValue': '-2.7', 'nx': 48, 'ny': 36}, {'baseDate': '20240215', 'baseTime': '1700', 'category': 'VVV', 'fcstDate': '20240216', 'fcstTime': '0900', 'fcstValue': '-3.4', 'nx': 48, 'ny': 36}, {'baseDate': '20240215', 'baseTime': '1700', 'category': 'VEC', 'fcstDate': '20240216', 'fcstTime': '0900', 'fcstValue': '39', 'nx': 48, 'ny': 36}, {'baseDate': '20240215', 'baseTime': '1700', 'category': 'WSD', 'fcstDate': '20240216', 'fcstTime': '0900', 'fcstValue': '4.4', 'nx': 48, 'ny': 36}, {'baseDate': '20240215', 'baseTime': '1700', 'category': 'SKY', 'fcstDate': '20240216', 'fcstTime': '0900', 'fcstValue': '1', 'nx': 48, 'ny': 36}, {'baseDate': '20240215', 'baseTime': '1700', 'category': 'PTY', 'fcstDate': '20240216', 'fcstTime': '0900', 'fcstValue': '0', 'nx': 48, 'ny': 36}, {'baseDate': '20240215', 'baseTime': '1700', 'category': 'POP', 'fcstDate': '20240216', 'fcstTime': '0900', 'fcstValue': '0', 'nx': 48, 'ny': 36}, {'baseDate': '20240215', 'baseTime': '1700', 'category': 'WAV', 'fcstDate': '20240216', 'fcstTime': '0900', 'fcstValue': '0.5', 'nx': 48, 'ny': 36}, {'baseDate': '20240215', 'baseTime': '1700', 'category': 'PCP', 'fcstDate': '20240216', 'fcstTime': '0900', 'fcstValue': '강수없음', 'nx': 48, 'ny': 36}, {'baseDate': '20240215', 'baseTime': '1700', 'category': 'REH', 'fcstDate': '20240216', 'fcstTime': '0900', 'fcstValue': '70', 'nx': 48, 'ny': 36}, {'baseDate': '20240215', 'baseTime': '1700', 'category': 'SNO', 'fcstDate': '20240216', 'fcstTime': '0900', 'fcstValue': '적설없음', 'nx': 48, 'ny': 36}, {'baseDate': '20240215', 'baseTime': '1700', 'category': 'TMP', 'fcstDate': '20240216', 'fcstTime': '1000', 'fcstValue': '7', 'nx': 48, 'ny': 36}, {'baseDate': '20240215', 'baseTime': '1700', 'category': 'UUU', 'fcstDate': '20240216', 'fcstTime': '1000', 'fcstValue': '-2.5', 'nx': 48, 'ny': 36}, {'baseDate': '20240215', 'baseTime': '1700', 'category': 'VVV', 'fcstDate': '20240216', 'fcstTime': '1000', 'fcstValue': '-3', 'nx': 48, 'ny': 36}, {'baseDate': '20240215', 'baseTime': '1700', 'category': 'VEC', 'fcstDate': '20240216', 'fcstTime': '1000', 'fcstValue': '41', 'nx': 48, 'ny': 36}, {'baseDate': '20240215', 'baseTime': '1700', 'category': 'WSD', 'fcstDate': '20240216', 'fcstTime': '1000', 'fcstValue': '4', 'nx': 48, 'ny': 36}, {'baseDate': '20240215', 'baseTime': '1700', 'category': 'SKY', 'fcstDate': '20240216', 'fcstTime': '1000', 'fcstValue': '3', 'nx': 48, 'ny': 36}, {'baseDate': '20240215', 'baseTime': '1700', 'category': 'PTY', 'fcstDate': '20240216', 'fcstTime': '1000', 'fcstValue': '0', 'nx': 48, 'ny': 36}, {'baseDate': '20240215', 'baseTime': '1700', 'category': 'POP', 'fcstDate': '20240216', 'fcstTime': '1000', 'fcstValue': '20', 'nx': 48, 'ny': 36}, {'baseDate': '20240215', 'baseTime': '1700', 'category': 'WAV', 'fcstDate': '20240216', 'fcstTime': '1000', 'fcstValue': '0.5', 'nx': 48, 'ny': 36}, {'baseDate': '20240215', 'baseTime': '1700', 'category': 'PCP', 'fcstDate': '20240216', 'fcstTime': '1000', 'fcstValue': '강수없음', 'nx': 48, 'ny': 36}, {'baseDate': '20240215', 'baseTime': '1700', 'category': 'REH', 'fcstDate': '20240216', 'fcstTime': '1000', 'fcstValue': '65', 'nx': 48, 'ny': 36}, {'baseDate': '20240215', 'baseTime': '1700', 'category': 'SNO', 'fcstDate': '20240216', 'fcstTime': '1000', 'fcstValue': '적설없음', 'nx': 48, 'ny': 36}, {'baseDate': '20240215', 'baseTime': '1700', 'category': 'TMP', 'fcstDate': '20240216', 'fcstTime': '1100', 'fcstValue': '8', 'nx': 48, 'ny': 36}, {'baseDate': '20240215', 'baseTime': '1700', 'category': 'UUU', 'fcstDate': '20240216', 'fcstTime': '1100', 'fcstValue': '-1.9', 'nx': 48, 'ny': 36}, {'baseDate': '20240215', 'baseTime': '1700', 'category': 'VVV', 'fcstDate': '20240216', 'fcstTime': '1100', 'fcstValue': '-2.6', 'nx': 48, 'ny': 36}, {'baseDate': '20240215', 'baseTime': '1700', 'category': 'VEC', 'fcstDate': '20240216', 'fcstTime': '1100', 'fcstValue': '38', 'nx': 48, 'ny': 36}, {'baseDate': '20240215', 'baseTime': '1700', 'category': 'WSD', 'fcstDate': '20240216', 'fcstTime': '1100', 'fcstValue': '3.3', 'nx': 48, 'ny': 36}, {'baseDate': '20240215', 'baseTime': '1700', 'category': 'SKY', 'fcstDate': '20240216', 'fcstTime': '1100', 'fcstValue': '3', 'nx': 48, 'ny': 36}, {'baseDate': '20240215', 'baseTime': '1700', 'category': 'PTY', 'fcstDate': '20240216', 'fcstTime': '1100', 'fcstValue': '0', 'nx': 48, 'ny': 36}, {'baseDate': '20240215', 'baseTime': '1700', 'category': 'POP', 'fcstDate': '20240216', 'fcstTime': '1100', 'fcstValue': '20', 'nx': 48, 'ny': 36}, {'baseDate': '20240215', 'baseTime': '1700', 'category': 'WAV', 'fcstDate': '20240216', 'fcstTime': '1100', 'fcstValue': '0.5', 'nx': 48, 'ny': 36}, {'baseDate': '20240215', 'baseTime': '1700', 'category': 'PCP', 'fcstDate': '20240216', 'fcstTime': '1100', 'fcstValue': '강수없음', 'nx': 48, 'ny': 36}, {'baseDate': '20240215', 'baseTime': '1700', 'category': 'REH', 'fcstDate': '20240216', 'fcstTime': '1100', 'fcstValue': '60', 'nx': 48, 'ny': 36}, {'baseDate': '20240215', 'baseTime': '1700', 'category': 'SNO', 'fcstDate': '20240216', 'fcstTime': '1100', 'fcstValue': '적설없음', 'nx': 48, 'ny': 36}, {'baseDate': '20240215', 'baseTime': '1700', 'category': 'TMP', 'fcstDate': '20240216', 'fcstTime': '1200', 'fcstValue': '9', 'nx': 48, 'ny': 36}, {'baseDate': '20240215', 'baseTime': '1700', 'category': 'UUU', 'fcstDate': '20240216', 'fcstTime': '1200', 'fcstValue': '-1.3', 'nx': 48, 'ny': 36}, {'baseDate': '20240215', 'baseTime': '1700', 'category': 'VVV', 'fcstDate': '20240216', 'fcstTime': '1200', 'fcstValue': '-2.7', 'nx': 48, 'ny': 36}, {'baseDate': '20240215', 'baseTime': '1700', 'category': 'VEC', 'fcstDate': '20240216', 'fcstTime': '1200', 'fcstValue': '27', 'nx': 48, 'ny': 36}, {'baseDate': '20240215', 'baseTime': '1700', 'category': 'WSD', 'fcstDate': '20240216', 'fcstTime': '1200', 'fcstValue': '3', 'nx': 48, 'ny': 36}, {'baseDate': '20240215', 'baseTime': '1700', 'category': 'SKY', 'fcstDate': '20240216', 'fcstTime': '1200', 'fcstValue': '1', 'nx': 48, 'ny': 36}, {'baseDate': '20240215', 'baseTime': '1700', 'category': 'PTY', 'fcstDate': '20240216', 'fcstTime': '1200', 'fcstValue': '0', 'nx': 48, 'ny': 36}, {'baseDate': '20240215', 'baseTime': '1700', 'category': 'POP', 'fcstDate': '20240216', 'fcstTime': '1200', 'fcstValue': '0', 'nx': 48, 'ny': 36}, {'baseDate': '20240215', 'baseTime': '1700', 'category': 'WAV', 'fcstDate': '20240216', 'fcstTime': '1200', 'fcstValue': '0.5', 'nx': 48, 'ny': 36}, {'baseDate': '20240215', 'baseTime': '1700', 'category': 'PCP', 'fcstDate': '20240216', 'fcstTime': '1200', 'fcstValue': '강수없음', 'nx': 48, 'ny': 36}, {'baseDate': '20240215', 'baseTime': '1700', 'category': 'REH', 'fcstDate': '20240216', 'fcstTime': '1200', 'fcstValue': '60', 'nx': 48, 'ny': 36}, {'baseDate': '20240215', 'baseTime': '1700', 'category': 'SNO', 'fcstDate': '20240216', 'fcstTime': '1200', 'fcstValue': '적설없음', 'nx': 48, 'ny': 36}, {'baseDate': '20240215', 'baseTime': '1700', 'category': 'TMP', 'fcstDate': '20240216', 'fcstTime': '1300', 'fcstValue': '9', 'nx': 48, 'ny': 36}, {'baseDate': '20240215', 'baseTime': '1700', 'category': 'UUU', 'fcstDate': '20240216', 'fcstTime': '1300', 'fcstValue': '-0.8', 'nx': 48, 'ny': 36}, {'baseDate': '20240215', 'baseTime': '1700', 'category': 'VVV', 'fcstDate': '20240216', 'fcstTime': '1300', 'fcstValue': '-2.8', 'nx': 48, 'ny': 36}, {'baseDate': '20240215', 'baseTime': '1700', 'category': 'VEC', 'fcstDate': '20240216', 'fcstTime': '1300', 'fcstValue': '18', 'nx': 48, 'ny': 36}, {'baseDate': '20240215', 'baseTime': '1700', 'category': 'WSD', 'fcstDate': '20240216', 'fcstTime': '1300', 'fcstValue': '2.9', 'nx': 48, 'ny': 36}, {'baseDate': '20240215', 'baseTime': '1700', 'category': 'SKY', 'fcstDate': '20240216', 'fcstTime': '1300', 'fcstValue': '1', 'nx': 48, 'ny': 36}, {'baseDate': '20240215', 'baseTime': '1700', 'category': 'PTY', 'fcstDate': '20240216', 'fcstTime': '1300', 'fcstValue': '0', 'nx': 48, 'ny': 36}, {'baseDate': '20240215', 'baseTime': '1700', 'category': 'POP', 'fcstDate': '20240216', 'fcstTime': '1300', 'fcstValue': '0', 'nx': 48, 'ny': 36}, {'baseDate': '20240215', 'baseTime': '1700', 'category': 'WAV', 'fcstDate': '20240216', 'fcstTime': '1300', 'fcstValue': '0.5', 'nx': 48, 'ny': 36}, {'baseDate': '20240215', 'baseTime': '1700', 'category': 'PCP', 'fcstDate': '20240216', 'fcstTime': '1300', 'fcstValue': '강수없음', 'nx': 48, 'ny': 36}, {'baseDate': '20240215', 'baseTime': '1700', 'category': 'REH', 'fcstDate': '20240216', 'fcstTime': '1300', 'fcstValue': '55', 'nx': 48, 'ny': 36}, {'baseDate': '20240215', 'baseTime': '1700', 'category': 'SNO', 'fcstDate': '20240216', 'fcstTime': '1300', 'fcstValue': '적설없음', 'nx': 48, 'ny': 36}, {'baseDate': '20240215', 'baseTime': '1700', 'category': 'TMP', 'fcstDate': '20240216', 'fcstTime': '1400', 'fcstValue': '10', 'nx': 48, 'ny': 36}, {'baseDate': '20240215', 'baseTime': '1700', 'category': 'UUU', 'fcstDate': '20240216', 'fcstTime': '1400', 'fcstValue': '-0.5', 'nx': 48, 'ny': 36}, {'baseDate': '20240215', 'baseTime': '1700', 'category': 'VVV', 'fcstDate': '20240216', 'fcstTime': '1400', 'fcstValue': '-2.8', 'nx': 48, 'ny': 36}, {'baseDate': '20240215', 'baseTime': '1700', 'category': 'VEC', 'fcstDate': '20240216', 'fcstTime': '1400', 'fcstValue': '12', 'nx': 48, 'ny': 36}, {'baseDate': '20240215', 'baseTime': '1700', 'category': 'WSD', 'fcstDate': '20240216', 'fcstTime': '1400', 'fcstValue': '2.9', 'nx': 48, 'ny': 36}, {'baseDate': '20240215', 'baseTime': '1700', 'category': 'SKY', 'fcstDate': '20240216', 'fcstTime': '1400', 'fcstValue': '1', 'nx': 48, 'ny': 36}, {'baseDate': '20240215', 'baseTime': '1700', 'category': 'PTY', 'fcstDate': '20240216', 'fcstTime': '1400', 'fcstValue': '0', 'nx': 48, 'ny': 36}, {'baseDate': '20240215', 'baseTime': '1700', 'category': 'POP', 'fcstDate': '20240216', 'fcstTime': '1400', 'fcstValue': '0', 'nx': 48, 'ny': 36}, {'baseDate': '20240215', 'baseTime': '1700', 'category': 'WAV', 'fcstDate': '20240216', 'fcstTime': '1400', 'fcstValue': '0.5', 'nx': 48, 'ny': 36}, {'baseDate': '20240215', 'baseTime': '1700', 'category': 'PCP', 'fcstDate': '20240216', 'fcstTime': '1400', 'fcstValue': '강수없음', 'nx': 48, 'ny': 36}, {'baseDate': '20240215', 'baseTime': '1700', 'category': 'REH', 'fcstDate': '20240216', 'fcstTime': '1400', 'fcstValue': '55', 'nx': 48, 'ny': 36}, {'baseDate': '20240215', 'baseTime': '1700', 'category': 'SNO', 'fcstDate': '20240216', 'fcstTime': '1400', 'fcstValue': '적설없음', 'nx': 48, 'ny': 36}, {'baseDate': '20240215', 'baseTime': '1700', 'category': 'TMP', 'fcstDate': '20240216', 'fcstTime': '1500', 'fcstValue': '10', 'nx': 48, 'ny': 36}, {'baseDate': '20240215', 'baseTime': '1700', 'category': 'UUU', 'fcstDate': '20240216', 'fcstTime': '1500', 'fcstValue': '-0.2', 'nx': 48, 'ny': 36}, {'baseDate': '20240215', 'baseTime': '1700', 'category': 'VVV', 'fcstDate': '20240216', 'fcstTime': '1500', 'fcstValue': '-2.8', 'nx': 48, 'ny': 36}, {'baseDate': '20240215', 'baseTime': '1700', 'category': 'VEC', 'fcstDate': '20240216', 'fcstTime': '1500', 'fcstValue': '6', 'nx': 48, 'ny': 36}, {'baseDate': '20240215', 'baseTime': '1700', 'category': 'WSD', 'fcstDate': '20240216', 'fcstTime': '1500', 'fcstValue': '2.8', 'nx': 48, 'ny': 36}, {'baseDate': '20240215', 'baseTime': '1700', 'category': 'SKY', 'fcstDate': '20240216', 'fcstTime': '1500', 'fcstValue': '1', 'nx': 48, 'ny': 36}, {'baseDate': '20240215', 'baseTime': '1700', 'category': 'PTY', 'fcstDate': '20240216', 'fcstTime': '1500', 'fcstValue': '0', 'nx': 48, 'ny': 36}, {'baseDate': '20240215', 'baseTime': '1700', 'category': 'POP', 'fcstDate': '20240216', 'fcstTime': '1500', 'fcstValue': '0', 'nx': 48, 'ny': 36}, {'baseDate': '20240215', 'baseTime': '1700', 'category': 'WAV', 'fcstDate': '20240216', 'fcstTime': '1500', 'fcstValue': '0.5', 'nx': 48, 'ny': 36}, {'baseDate': '20240215', 'baseTime': '1700', 'category': 'PCP', 'fcstDate': '20240216', 'fcstTime': '1500', 'fcstValue': '강수없음', 'nx': 48, 'ny': 36}, {'baseDate': '20240215', 'baseTime': '1700', 'category': 'REH', 'fcstDate': '20240216', 'fcstTime': '1500', 'fcstValue': '55', 'nx': 48, 'ny': 36}, {'baseDate': '20240215', 'baseTime': '1700', 'category': 'SNO', 'fcstDate': '20240216', 'fcstTime': '1500', 'fcstValue': '적설없음', 'nx': 48, 'ny': 36}, {'baseDate': '20240215', 'baseTime': '1700', 'category': 'TMX', 'fcstDate': '20240216', 'fcstTime': '1500', 'fcstValue': '10.0', 'nx': 48, 'ny': 36}, {'baseDate': '20240215', 'baseTime': '1700', 'category': 'TMP', 'fcstDate': '20240216', 'fcstTime': '1600', 'fcstValue': '10', 'nx': 48, 'ny': 36}, {'baseDate': '20240215', 'baseTime': '1700', 'category': 'UUU', 'fcstDate': '20240216', 'fcstTime': '1600', 'fcstValue': '-0.2', 'nx': 48, 'ny': 36}, {'baseDate': '20240215', 'baseTime': '1700', 'category': 'VVV', 'fcstDate': '20240216', 'fcstTime': '1600', 'fcstValue': '-2.7', 'nx': 48, 'ny': 36}, {'baseDate': '20240215', 'baseTime': '1700', 'category': 'VEC', 'fcstDate': '20240216', 'fcstTime': '1600', 'fcstValue': '6', 'nx': 48, 'ny': 36}, {'baseDate': '20240215', 'baseTime': '1700', 'category': 'WSD', 'fcstDate': '20240216', 'fcstTime': '1600', 'fcstValue': '2.7', 'nx': 48, 'ny': 36}, {'baseDate': '20240215', 'baseTime': '1700', 'category': 'SKY', 'fcstDate': '20240216', 'fcstTime': '1600', 'fcstValue': '1', 'nx': 48, 'ny': 36}, {'baseDate': '20240215', 'baseTime': '1700', 'category': 'PTY', 'fcstDate': '20240216', 'fcstTime': '1600', 'fcstValue': '0', 'nx': 48, 'ny': 36}, {'baseDate': '20240215', 'baseTime': '1700', 'category': 'POP', 'fcstDate': '20240216', 'fcstTime': '1600', 'fcstValue': '0', 'nx': 48, 'ny': 36}, {'baseDate': '20240215', 'baseTime': '1700', 'category': 'WAV', 'fcstDate': '20240216', 'fcstTime': '1600', 'fcstValue': '0.5', 'nx': 48, 'ny': 36}, {'baseDate': '20240215', 'baseTime': '1700', 'category': 'PCP', 'fcstDate': '20240216', 'fcstTime': '1600', 'fcstValue': '강수없음', 'nx': 48, 'ny': 36}, {'baseDate': '20240215', 'baseTime': '1700', 'category': 'REH', 'fcstDate': '20240216', 'fcstTime': '1600', 'fcstValue': '60', 'nx': 48, 'ny': 36}, {'baseDate': '20240215', 'baseTime': '1700', 'category': 'SNO', 'fcstDate': '20240216', 'fcstTime': '1600', 'fcstValue': '적설없음', 'nx': 48, 'ny': 36}, {'baseDate': '20240215', 'baseTime': '1700', 'category': 'TMP', 'fcstDate': '20240216', 'fcstTime': '1700', 'fcstValue': '10', 'nx': 48, 'ny': 36}, {'baseDate': '20240215', 'baseTime': '1700', 'category': 'UUU', 'fcstDate': '20240216', 'fcstTime': '1700', 'fcstValue': '-0.5', 'nx': 48, 'ny': 36}, {'baseDate': '20240215', 'baseTime': '1700', 'category': 'VVV', 'fcstDate': '20240216', 'fcstTime': '1700', 'fcstValue': '-2.4', 'nx': 48, 'ny': 36}, {'baseDate': '20240215', 'baseTime': '1700', 'category': 'VEC', 'fcstDate': '20240216', 'fcstTime': '1700', 'fcstValue': '14', 'nx': 48, 'ny': 36}, {'baseDate': '20240215', 'baseTime': '1700', 'category': 'WSD', 'fcstDate': '20240216', 'fcstTime': '1700', 'fcstValue': '2.5', 'nx': 48, 'ny': 36}, {'baseDate': '20240215', 'baseTime': '1700', 'category': 'SKY', 'fcstDate': '20240216', 'fcstTime': '1700', 'fcstValue': '3', 'nx': 48, 'ny': 36}, {'baseDate': '20240215', 'baseTime': '1700', 'category': 'PTY', 'fcstDate': '20240216', 'fcstTime': '1700', 'fcstValue': '0', 'nx': 48, 'ny': 36}, {'baseDate': '20240215', 'baseTime': '1700', 'category': 'POP', 'fcstDate': '20240216', 'fcstTime': '1700', 'fcstValue': '20', 'nx': 48, 'ny': 36}, {'baseDate': '20240215', 'baseTime': '1700', 'category': 'WAV', 'fcstDate': '20240216', 'fcstTime': '1700', 'fcstValue': '0.5', 'nx': 48, 'ny': 36}, {'baseDate': '20240215', 'baseTime': '1700', 'category': 'PCP', 'fcstDate': '20240216', 'fcstTime': '1700', 'fcstValue': '강수없음', 'nx': 48, 'ny': 36}, {'baseDate': '20240215', 'baseTime': '1700', 'category': 'REH', 'fcstDate': '20240216', 'fcstTime': '1700', 'fcstValue': '60', 'nx': 48, 'ny': 36}, {'baseDate': '20240215', 'baseTime': '1700', 'category': 'SNO', 'fcstDate': '20240216', 'fcstTime': '1700', 'fcstValue': '적설없음', 'nx': 48, 'ny': 36}, {'baseDate': '20240215', 'baseTime': '1700', 'category': 'TMP', 'fcstDate': '20240216', 'fcstTime': '1800', 'fcstValue': '9', 'nx': 48, 'ny': 36}, {'baseDate': '20240215', 'baseTime': '1700', 'category': 'UUU', 'fcstDate': '20240216', 'fcstTime': '1800', 'fcstValue': '-0.7', 'nx': 48, 'ny': 36}, {'baseDate': '20240215', 'baseTime': '1700', 'category': 'VVV', 'fcstDate': '20240216', 'fcstTime': '1800', 'fcstValue': '-1.6', 'nx': 48, 'ny': 36}, {'baseDate': '20240215', 'baseTime': '1700', 'category': 'VEC', 'fcstDate': '20240216', 'fcstTime': '1800', 'fcstValue': '27', 'nx': 48, 'ny': 36}, {'baseDate': '20240215', 'baseTime': '1700', 'category': 'WSD', 'fcstDate': '20240216', 'fcstTime': '1800', 'fcstValue': '1.8', 'nx': 48, 'ny': 36}, {'baseDate': '20240215', 'baseTime': '1700', 'category': 'SKY', 'fcstDate': '20240216', 'fcstTime': '1800', 'fcstValue': '3', 'nx': 48, 'ny': 36}, {'baseDate': '20240215', 'baseTime': '1700', 'category': 'PTY', 'fcstDate': '20240216', 'fcstTime': '1800', 'fcstValue': '0', 'nx': 48, 'ny': 36}, {'baseDate': '20240215', 'baseTime': '1700', 'category': 'POP', 'fcstDate': '20240216', 'fcstTime': '1800', 'fcstValue': '20', 'nx': 48, 'ny': 36}, {'baseDate': '20240215', 'baseTime': '1700', 'category': 'WAV', 'fcstDate': '20240216', 'fcstTime': '1800', 'fcstValue': '0.5', 'nx': 48, 'ny': 36}, {'baseDate': '20240215', 'baseTime': '1700', 'category': 'PCP', 'fcstDate': '20240216', 'fcstTime': '1800', 'fcstValue': '강수없음', 'nx': 48, 'ny': 36}, {'baseDate': '20240215', 'baseTime': '1700', 'category': 'REH', 'fcstDate': '20240216', 'fcstTime': '1800', 'fcstValue': '65', 'nx': 48, 'ny': 36}, {'baseDate': '20240215', 'baseTime': '1700', 'category': 'SNO', 'fcstDate': '20240216', 'fcstTime': '1800', 'fcstValue': '적설없음', 'nx': 48, 'ny': 36}, {'baseDate': '20240215', 'baseTime': '1700', 'category': 'TMP', 'fcstDate': '20240216', 'fcstTime': '1900', 'fcstValue': '8', 'nx': 48, 'ny': 36}, {'baseDate': '20240215', 'baseTime': '1700', 'category': 'UUU', 'fcstDate': '20240216', 'fcstTime': '1900', 'fcstValue': '-0.9', 'nx': 48, 'ny': 36}, {'baseDate': '20240215', 'baseTime': '1700', 'category': 'VVV', 'fcstDate': '20240216', 'fcstTime': '1900', 'fcstValue': '-1.1', 'nx': 48, 'ny': 36}, {'baseDate': '20240215', 'baseTime': '1700', 'category': 'VEC', 'fcstDate': '20240216', 'fcstTime': '1900', 'fcstValue': '42', 'nx': 48, 'ny': 36}, {'baseDate': '20240215', 'baseTime': '1700', 'category': 'WSD', 'fcstDate': '20240216', 'fcstTime': '1900', 'fcstValue': '1.5', 'nx': 48, 'ny': 36}, {'baseDate': '20240215', 'baseTime': '1700', 'category': 'SKY', 'fcstDate': '20240216', 'fcstTime': '1900', 'fcstValue': '3', 'nx': 48, 'ny': 36}, {'baseDate': '20240215', 'baseTime': '1700', 'category': 'PTY', 'fcstDate': '20240216', 'fcstTime': '1900', 'fcstValue': '0', 'nx': 48, 'ny': 36}, {'baseDate': '20240215', 'baseTime': '1700', 'category': 'POP', 'fcstDate': '20240216', 'fcstTime': '1900', 'fcstValue': '20', 'nx': 48, 'ny': 36}, {'baseDate': '20240215', 'baseTime': '1700', 'category': 'WAV', 'fcstDate': '20240216', 'fcstTime': '1900', 'fcstValue': '0.5', 'nx': 48, 'ny': 36}, {'baseDate': '20240215', 'baseTime': '1700', 'category': 'PCP', 'fcstDate': '20240216', 'fcstTime': '1900', 'fcstValue': '강수없음', 'nx': 48, 'ny': 36}, {'baseDate': '20240215', 'baseTime': '1700', 'category': 'REH', 'fcstDate': '20240216', 'fcstTime': '1900', 'fcstValue': '70', 'nx': 48, 'ny': 36}, {'baseDate': '20240215', 'baseTime': '1700', 'category': 'SNO', 'fcstDate': '20240216', 'fcstTime': '1900', 'fcstValue': '적설없음', 'nx': 48, 'ny': 36}, {'baseDate': '20240215', 'baseTime': '1700', 'category': 'TMP', 'fcstDate': '20240216', 'fcstTime': '2000', 'fcstValue': '8', 'nx': 48, 'ny': 36}, {'baseDate': '20240215', 'baseTime': '1700', 'category': 'UUU', 'fcstDate': '20240216', 'fcstTime': '2000', 'fcstValue': '-1.2', 'nx': 48, 'ny': 36}, {'baseDate': '20240215', 'baseTime': '1700', 'category': 'VVV', 'fcstDate': '20240216', 'fcstTime': '2000', 'fcstValue': '-0.2', 'nx': 48, 'ny': 36}, {'baseDate': '20240215', 'baseTime': '1700', 'category': 'VEC', 'fcstDate': '20240216', 'fcstTime': '2000', 'fcstValue': '81', 'nx': 48, 'ny': 36}, {'baseDate': '20240215', 'baseTime': '1700', 'category': 'WSD', 'fcstDate': '20240216', 'fcstTime': '2000', 'fcstValue': '1.3', 'nx': 48, 'ny': 36}, {'baseDate': '20240215', 'baseTime': '1700', 'category': 'SKY', 'fcstDate': '20240216', 'fcstTime': '2000', 'fcstValue': '1', 'nx': 48, 'ny': 36}, {'baseDate': '20240215', 'baseTime': '1700', 'category': 'PTY', 'fcstDate': '20240216', 'fcstTime': '2000', 'fcstValue': '0', 'nx': 48, 'ny': 36}, {'baseDate': '20240215', 'baseTime': '1700', 'category': 'POP', 'fcstDate': '20240216', 'fcstTime': '2000', 'fcstValue': '0', 'nx': 48, 'ny': 36}, {'baseDate': '20240215', 'baseTime': '1700', 'category': 'WAV', 'fcstDate': '20240216', 'fcstTime': '2000', 'fcstValue': '0.5', 'nx': 48, 'ny': 36}, {'baseDate': '20240215', 'baseTime': '1700', 'category': 'PCP', 'fcstDate': '20240216', 'fcstTime': '2000', 'fcstValue': '강수없음', 'nx': 48, 'ny': 36}, {'baseDate': '20240215', 'baseTime': '1700', 'category': 'REH', 'fcstDate': '20240216', 'fcstTime': '2000', 'fcstValue': '70', 'nx': 48, 'ny': 36}, {'baseDate': '20240215', 'baseTime': '1700', 'category': 'SNO', 'fcstDate': '20240216', 'fcstTime': '2000', 'fcstValue': '적설없음', 'nx': 48, 'ny': 36}, {'baseDate': '20240215', 'baseTime': '1700', 'category': 'TMP', 'fcstDate': '20240216', 'fcstTime': '2100', 'fcstValue': '7', 'nx': 48, 'ny': 36}, {'baseDate': '20240215', 'baseTime': '1700', 'category': 'UUU', 'fcstDate': '20240216', 'fcstTime': '2100', 'fcstValue': '-1.1', 'nx': 48, 'ny': 36}, {'baseDate': '20240215', 'baseTime': '1700', 'category': 'VVV', 'fcstDate': '20240216', 'fcstTime': '2100', 'fcstValue': '0.7', 'nx': 48, 'ny': 36}, {'baseDate': '20240215', 'baseTime': '1700', 'category': 'VEC', 'fcstDate': '20240216', 'fcstTime': '2100', 'fcstValue': '120', 'nx': 48, 'ny': 36}, {'baseDate': '20240215', 'baseTime': '1700', 'category': 'WSD', 'fcstDate': '20240216', 'fcstTime': '2100', 'fcstValue': '1.4', 'nx': 48, 'ny': 36}, {'baseDate': '20240215', 'baseTime': '1700', 'category': 'SKY', 'fcstDate': '20240216', 'fcstTime': '2100', 'fcstValue': '1', 'nx': 48, 'ny': 36}, {'baseDate': '20240215', 'baseTime': '1700', 'category': 'PTY', 'fcstDate': '20240216', 'fcstTime': '2100', 'fcstValue': '0', 'nx': 48, 'ny': 36}, {'baseDate': '20240215', 'baseTime': '1700', 'category': 'POP', 'fcstDate': '20240216', 'fcstTime': '2100', 'fcstValue': '0', 'nx': 48, 'ny': 36}, {'baseDate': '20240215', 'baseTime': '1700', 'category': 'WAV', 'fcstDate': '20240216', 'fcstTime': '2100', 'fcstValue': '0.5', 'nx': 48, 'ny': 36}, {'baseDate': '20240215', 'baseTime': '1700', 'category': 'PCP', 'fcstDate': '20240216', 'fcstTime': '2100', 'fcstValue': '강수없음', 'nx': 48, 'ny': 36}, {'baseDate': '20240215', 'baseTime': '1700', 'category': 'REH', 'fcstDate': '20240216', 'fcstTime': '2100', 'fcstValue': '70', 'nx': 48, 'ny': 36}, {'baseDate': '20240215', 'baseTime': '1700', 'category': 'SNO', 'fcstDate': '20240216', 'fcstTime': '2100', 'fcstValue': '적설없음', 'nx': 48, 'ny': 36}, {'baseDate': '20240215', 'baseTime': '1700', 'category': 'TMP', 'fcstDate': '20240216', 'fcstTime': '2200', 'fcstValue': '6', 'nx': 48, 'ny': 36}, {'baseDate': '20240215', 'baseTime': '1700', 'category': 'UUU', 'fcstDate': '20240216', 'fcstTime': '2200', 'fcstValue': '-1', 'nx': 48, 'ny': 36}, {'baseDate': '20240215', 'baseTime': '1700', 'category': 'VVV', 'fcstDate': '20240216', 'fcstTime': '2200', 'fcstValue': '1.6', 'nx': 48, 'ny': 36}, {'baseDate': '20240215', 'baseTime': '1700', 'category': 'VEC', 'fcstDate': '20240216', 'fcstTime': '2200', 'fcstValue': '145', 'nx': 48, 'ny': 36}, {'baseDate': '20240215', 'baseTime': '1700', 'category': 'WSD', 'fcstDate': '20240216', 'fcstTime': '2200', 'fcstValue': '1.9', 'nx': 48, 'ny': 36}, {'baseDate': '20240215', 'baseTime': '1700', 'category': 'SKY', 'fcstDate': '20240216', 'fcstTime': '2200', 'fcstValue': '1', 'nx': 48, 'ny': 36}, {'baseDate': '20240215', 'baseTime': '1700', 'category': 'PTY', 'fcstDate': '20240216', 'fcstTime': '2200', 'fcstValue': '0', 'nx': 48, 'ny': 36}, {'baseDate': '20240215', 'baseTime': '1700', 'category': 'POP', 'fcstDate': '20240216', 'fcstTime': '2200', 'fcstValue': '0', 'nx': 48, 'ny': 36}, {'baseDate': '20240215', 'baseTime': '1700', 'category': 'WAV', 'fcstDate': '20240216', 'fcstTime': '2200', 'fcstValue': '0.5', 'nx': 48, 'ny': 36}, {'baseDate': '20240215', 'baseTime': '1700', 'category': 'PCP', 'fcstDate': '20240216', 'fcstTime': '2200', 'fcstValue': '강수없음', 'nx': 48, 'ny': 36}, {'baseDate': '20240215', 'baseTime': '1700', 'category': 'REH', 'fcstDate': '20240216', 'fcstTime': '2200', 'fcstValue': '70', 'nx': 48, 'ny': 36}, {'baseDate': '20240215', 'baseTime': '1700', 'category': 'SNO', 'fcstDate': '20240216', 'fcstTime': '2200', 'fcstValue': '적설없음', 'nx': 48, 'ny': 36}, {'baseDate': '20240215', 'baseTime': '1700', 'category': 'TMP', 'fcstDate': '20240216', 'fcstTime': '2300', 'fcstValue': '6', 'nx': 48, 'ny': 36}, {'baseDate': '20240215', 'baseTime': '1700', 'category': 'UUU', 'fcstDate': '20240216', 'fcstTime': '2300', 'fcstValue': '-0.9', 'nx': 48, 'ny': 36}, {'baseDate': '20240215', 'baseTime': '1700', 'category': 'VVV', 'fcstDate': '20240216', 'fcstTime': '2300', 'fcstValue': '1.9', 'nx': 48, 'ny': 36}, {'baseDate': '20240215', 'baseTime': '1700', 'category': 'VEC', 'fcstDate': '20240216', 'fcstTime': '2300', 'fcstValue': '152', 'nx': 48, 'ny': 36}, {'baseDate': '20240215', 'baseTime': '1700', 'category': 'WSD', 'fcstDate': '20240216', 'fcstTime': '2300', 'fcstValue': '2.1', 'nx': 48, 'ny': 36}, {'baseDate': '20240215', 'baseTime': '1700', 'category': 'SKY', 'fcstDate': '20240216', 'fcstTime': '2300', 'fcstValue': '1', 'nx': 48, 'ny': 36}, {'baseDate': '20240215', 'baseTime': '1700', 'category': 'PTY', 'fcstDate': '20240216', 'fcstTime': '2300', 'fcstValue': '0', 'nx': 48, 'ny': 36}, {'baseDate': '20240215', 'baseTime': '1700', 'category': 'POP', 'fcstDate': '20240216', 'fcstTime': '2300', 'fcstValue': '0', 'nx': 48, 'ny': 36}, {'baseDate': '20240215', 'baseTime': '1700', 'category': 'WAV', 'fcstDate': '20240216', 'fcstTime': '2300', 'fcstValue': '0.5', 'nx': 48, 'ny': 36}, {'baseDate': '20240215', 'baseTime': '1700', 'category': 'PCP', 'fcstDate': '20240216', 'fcstTime': '2300', 'fcstValue': '강수없음', 'nx': 48, 'ny': 36}, {'baseDate': '20240215', 'baseTime': '1700', 'category': 'REH', 'fcstDate': '20240216', 'fcstTime': '2300', 'fcstValue': '80', 'nx': 48, 'ny': 36}, {'baseDate': '20240215', 'baseTime': '1700', 'category': 'SNO', 'fcstDate': '20240216', 'fcstTime': '2300', 'fcstValue': '적설없음', 'nx': 48, 'ny': 36}, {'baseDate': '20240215', 'baseTime': '1700', 'category': 'TMP', 'fcstDate': '20240217', 'fcstTime': '0000', 'fcstValue': '6', 'nx': 48, 'ny': 36}, {'baseDate': '20240215', 'baseTime': '1700', 'category': 'UUU', 'fcstDate': '20240217', 'fcstTime': '0000', 'fcstValue': '-0.7', 'nx': 48, 'ny': 36}, {'baseDate': '20240215', 'baseTime': '1700', 'category': 'VVV', 'fcstDate': '20240217', 'fcstTime': '0000', 'fcstValue': '1.9', 'nx': 48, 'ny': 36}, {'baseDate': '20240215', 'baseTime': '1700', 'category': 'VEC', 'fcstDate': '20240217', 'fcstTime': '0000', 'fcstValue': '157', 'nx': 48, 'ny': 36}, {'baseDate': '20240215', 'baseTime': '1700', 'category': 'WSD', 'fcstDate': '20240217', 'fcstTime': '0000', 'fcstValue': '2.1', 'nx': 48, 'ny': 36}, {'baseDate': '20240215', 'baseTime': '1700', 'category': 'SKY', 'fcstDate': '20240217', 'fcstTime': '0000', 'fcstValue': '1', 'nx': 48, 'ny': 36}, {'baseDate': '20240215', 'baseTime': '1700', 'category': 'PTY', 'fcstDate': '20240217', 'fcstTime': '0000', 'fcstValue': '0', 'nx': 48, 'ny': 36}, {'baseDate': '20240215', 'baseTime': '1700', 'category': 'POP', 'fcstDate': '20240217', 'fcstTime': '0000', 'fcstValue': '0', 'nx': 48, 'ny': 36}, {'baseDate': '20240215', 'baseTime': '1700', 'category': 'WAV', 'fcstDate': '20240217', 'fcstTime': '0000', 'fcstValue': '0.5', 'nx': 48, 'ny': 36}, {'baseDate': '20240215', 'baseTime': '1700', 'category': 'PCP', 'fcstDate': '20240217', 'fcstTime': '0000', 'fcstValue': '강수없음', 'nx': 48, 'ny': 36}]}, 'pageNo': 1, 'numOfRows': 372, 'totalCount': 954}}}\n"
          ]
        }
      ],
      "source": [
        "servicekey = 's+fQ9LDUrt9xJ9LSIp0R4+gJBR7eOiUpRHNKXMb6gaV844FL4oI+OYVOY+MC2Bff+Iq9bQWFeWrktswAfBtkyg=='\n",
        "url= 'http://apis.data.go.kr/1360000/VilageFcstInfoService_2.0/getVilageFcst'\n",
        "\n",
        "queryParams = '?' + urllib.parse.urlencode(\n",
        "    {\n",
        "        urllib.parse.quote_plus('servicekey') : servicekey,\n",
        "        urllib.parse.quote_plus('pageNo') : '1',\n",
        "        urllib.parse.quote_plus('numOfRows') : '372',  # 12 * 31 = 372\n",
        "       # 아님 12개 항목임\n",
        "        urllib.parse.quote_plus('dataType') : 'JSON', # JSON, XML 두가지 포멧을 제공합니다.\n",
        "        urllib.parse.quote_plus('base_date') : formatted_today, # 예보 받을 날짜를 입력합니다. 최근 1일간의 자료만 제공합니다.\n",
        "        urllib.parse.quote_plus('base_time') : '1700', # 예보 시간을 입력합니다. 2시부터 시작하여 3시간 단위로 입력 가능합니다.\n",
        "        urllib.parse.quote_plus('nx') : '48', # 울산 태양광 발전소 x 좌표입니다. '기상청18_동네예보 조회서비스_오픈API활용가이드.zip'에 포함 된 excel파일을 통해 확인 가능합니다.\n",
        "        urllib.parse.quote_plus('ny') : '36' # 울산 태양광 발전소 y 좌표입니다. '기상청18_동네예보 조회서비스_오픈API활용가이드.zip'에 포함 된 excel파일을 통해 확인 가능합니다.\n",
        "    }\n",
        ")\n",
        "\n",
        "response = urllib.request.urlopen(url + queryParams).read()\n",
        "response = json.loads(response)\n",
        "print(response)"
      ]
    },
    {
      "cell_type": "code",
      "execution_count": 62,
      "metadata": {
        "id": "AN5l1i-FrZKt"
      },
      "outputs": [],
      "source": [
        "import pandas as pd\n",
        "\n",
        "# 새로운 데이터프레임을 생성\n",
        "fcst_df = pd.DataFrame(columns=['Forecast_date', 'Forecast_hour', 'WindDirection', 'WindSpeed', 'Cloud', 'Rainfall', 'Humidity', 'Temperature'])\n",
        "\n",
        "row_idx = 0  # row_idx 초기화\n",
        "\n",
        "for data in response['response']['body']['items']['item']:\n",
        "    fcst_df.loc[row_idx, 'Forecast_date'] = data['fcstDate']\n",
        "    fcst_df.loc[row_idx, 'Forecast_hour'] = data['fcstTime']\n",
        "\n",
        "    if data['category'] == 'REH':\n",
        "        fcst_df.loc[row_idx, 'Humidity'] = float(data.get('fcstValue', 'NaN'))\n",
        "    elif data['category'] == 'PCP':\n",
        "        fcst_df.loc[row_idx, 'Rainfall'] = str(data.get('fcstValue', 'NaN'))\n",
        "    elif data['category'] == 'TMP':\n",
        "        fcst_df.loc[row_idx, 'Temperature'] = float(data.get('fcstValue', 'NaN'))\n",
        "    elif data['category'] == 'SKY':\n",
        "        fcst_df.loc[row_idx, 'Cloud'] = float(data.get('fcstValue', 'NaN'))\n",
        "    elif data['category'] == 'VEC':\n",
        "        fcst_df.loc[row_idx, 'WindDirection'] = float(data.get('fcstValue', 'NaN'))\n",
        "    elif data['category'] == 'WSD':\n",
        "        fcst_df.loc[row_idx, 'WindSpeed'] = float(data.get('fcstValue', 'NaN'))\n",
        "        row_idx += 1  # 다음 행으로 이동"
      ]
    },
    {
      "cell_type": "code",
      "execution_count": 63,
      "metadata": {
        "id": "3Kb7UgLIrak7"
      },
      "outputs": [],
      "source": [
        "# Forecast_date와 Forecast_hour 열을 datetime 형식으로 변환\n",
        "fcst_df['Forecast_date'] = pd.to_datetime(fcst_df['Forecast_date'], format='%Y%m%d')\n",
        "fcst_df['Forecast_hour'] = fcst_df['Forecast_hour'].astype(str).str.zfill(4)  # 시간을 4자리 문자열로 변환\n",
        "fcst_df['Forecast_hour'] = fcst_df['Forecast_hour'].str[:2].astype(int)  # 앞의 2자리를 추출하여 정수로 변환"
      ]
    },
    {
      "cell_type": "code",
      "execution_count": 64,
      "metadata": {
        "id": "pEn4KYL4rbzV"
      },
      "outputs": [],
      "source": [
        "fcst_df = fcst_df.rename(columns={'Forecast_date': 'date', 'Forecast_hour': 'hour'})\n",
        "\n",
        "# date가 '20240213'인 데이터만 추출하여 tomorrow_df에 저장\n",
        "tomorrow_df = fcst_df[(fcst_df['date'] == formatted_tomorrow)].copy()"
      ]
    },
    {
      "cell_type": "code",
      "execution_count": 65,
      "metadata": {
        "id": "5as4dzj9rdBf"
      },
      "outputs": [],
      "source": [
        "tomorrow_df.replace('강수없음', int('0'), inplace=True)"
      ]
    },
    {
      "cell_type": "code",
      "execution_count": 66,
      "metadata": {
        "colab": {
          "base_uri": "https://localhost:8080/",
          "height": 801
        },
        "id": "BSFE4TOlreLc",
        "outputId": "ca60c972-0106-4f6c-eb04-c80d53d7b66c"
      },
      "outputs": [
        {
          "data": {
            "application/vnd.google.colaboratory.intrinsic+json": {
              "summary": "{\n  \"name\": \"tomorrow_df\",\n  \"rows\": 24,\n  \"fields\": [\n    {\n      \"column\": \"date\",\n      \"properties\": {\n        \"dtype\": \"date\",\n        \"min\": \"2024-02-16 00:00:00\",\n        \"max\": \"2024-02-16 00:00:00\",\n        \"samples\": [\n          \"2024-02-16 00:00:00\"\n        ],\n        \"num_unique_values\": 1,\n        \"semantic_type\": \"\",\n        \"description\": \"\"\n      }\n    },\n    {\n      \"column\": \"hour\",\n      \"properties\": {\n        \"dtype\": \"number\",\n        \"std\": 7,\n        \"min\": 0,\n        \"max\": 23,\n        \"samples\": [\n          8\n        ],\n        \"num_unique_values\": 24,\n        \"semantic_type\": \"\",\n        \"description\": \"\"\n      }\n    },\n    {\n      \"column\": \"WindDirection\",\n      \"properties\": {\n        \"dtype\": \"number\",\n        \"std\": 42.003795549684675,\n        \"min\": 6.0,\n        \"max\": 152.0,\n        \"samples\": [\n          10.0\n        ],\n        \"num_unique_values\": 21,\n        \"semantic_type\": \"\",\n        \"description\": \"\"\n      }\n    },\n    {\n      \"column\": \"WindSpeed\",\n      \"properties\": {\n        \"dtype\": \"number\",\n        \"std\": 1.9031962056239629,\n        \"min\": 1.3,\n        \"max\": 7.2,\n        \"samples\": [\n          7.2\n        ],\n        \"num_unique_values\": 22,\n        \"semantic_type\": \"\",\n        \"description\": \"\"\n      }\n    },\n    {\n      \"column\": \"Cloud\",\n      \"properties\": {\n        \"dtype\": \"number\",\n        \"std\": 1.0826363421183323,\n        \"min\": 1.0,\n        \"max\": 4.0,\n        \"samples\": [\n          1.0\n        ],\n        \"num_unique_values\": 3,\n        \"semantic_type\": \"\",\n        \"description\": \"\"\n      }\n    },\n    {\n      \"column\": \"Rainfall\",\n      \"properties\": {\n        \"dtype\": \"number\",\n        \"std\": 0,\n        \"min\": 0,\n        \"max\": 0,\n        \"samples\": [\n          0\n        ],\n        \"num_unique_values\": 1,\n        \"semantic_type\": \"\",\n        \"description\": \"\"\n      }\n    },\n    {\n      \"column\": \"Humidity\",\n      \"properties\": {\n        \"dtype\": \"number\",\n        \"std\": 6.370220572706061,\n        \"min\": 55.0,\n        \"max\": 75.0,\n        \"samples\": [\n          65.0\n        ],\n        \"num_unique_values\": 5,\n        \"semantic_type\": \"\",\n        \"description\": \"\"\n      }\n    },\n    {\n      \"column\": \"Temperature\",\n      \"properties\": {\n        \"dtype\": \"number\",\n        \"std\": 2.371326296779315,\n        \"min\": 3.0,\n        \"max\": 10.0,\n        \"samples\": [\n          4.0\n        ],\n        \"num_unique_values\": 8,\n        \"semantic_type\": \"\",\n        \"description\": \"\"\n      }\n    }\n  ]\n}",
              "type": "dataframe",
              "variable_name": "tomorrow_df"
            },
            "text/html": [
              "\n",
              "  <div id=\"df-1ba0997b-dbfa-41f3-a5a1-96efa8099cdf\" class=\"colab-df-container\">\n",
              "    <div>\n",
              "<style scoped>\n",
              "    .dataframe tbody tr th:only-of-type {\n",
              "        vertical-align: middle;\n",
              "    }\n",
              "\n",
              "    .dataframe tbody tr th {\n",
              "        vertical-align: top;\n",
              "    }\n",
              "\n",
              "    .dataframe thead th {\n",
              "        text-align: right;\n",
              "    }\n",
              "</style>\n",
              "<table border=\"1\" class=\"dataframe\">\n",
              "  <thead>\n",
              "    <tr style=\"text-align: right;\">\n",
              "      <th></th>\n",
              "      <th>date</th>\n",
              "      <th>hour</th>\n",
              "      <th>WindDirection</th>\n",
              "      <th>WindSpeed</th>\n",
              "      <th>Cloud</th>\n",
              "      <th>Rainfall</th>\n",
              "      <th>Humidity</th>\n",
              "      <th>Temperature</th>\n",
              "    </tr>\n",
              "  </thead>\n",
              "  <tbody>\n",
              "    <tr>\n",
              "      <th>6</th>\n",
              "      <td>2024-02-16</td>\n",
              "      <td>0</td>\n",
              "      <td>10.0</td>\n",
              "      <td>7.2</td>\n",
              "      <td>1.0</td>\n",
              "      <td>0</td>\n",
              "      <td>60.0</td>\n",
              "      <td>5.0</td>\n",
              "    </tr>\n",
              "    <tr>\n",
              "      <th>7</th>\n",
              "      <td>2024-02-16</td>\n",
              "      <td>1</td>\n",
              "      <td>7.0</td>\n",
              "      <td>6.4</td>\n",
              "      <td>4.0</td>\n",
              "      <td>0</td>\n",
              "      <td>65.0</td>\n",
              "      <td>5.0</td>\n",
              "    </tr>\n",
              "    <tr>\n",
              "      <th>8</th>\n",
              "      <td>2024-02-16</td>\n",
              "      <td>2</td>\n",
              "      <td>13.0</td>\n",
              "      <td>6.7</td>\n",
              "      <td>1.0</td>\n",
              "      <td>0</td>\n",
              "      <td>65.0</td>\n",
              "      <td>5.0</td>\n",
              "    </tr>\n",
              "    <tr>\n",
              "      <th>9</th>\n",
              "      <td>2024-02-16</td>\n",
              "      <td>3</td>\n",
              "      <td>18.0</td>\n",
              "      <td>6.5</td>\n",
              "      <td>1.0</td>\n",
              "      <td>0</td>\n",
              "      <td>70.0</td>\n",
              "      <td>5.0</td>\n",
              "    </tr>\n",
              "    <tr>\n",
              "      <th>10</th>\n",
              "      <td>2024-02-16</td>\n",
              "      <td>4</td>\n",
              "      <td>21.0</td>\n",
              "      <td>6.4</td>\n",
              "      <td>1.0</td>\n",
              "      <td>0</td>\n",
              "      <td>70.0</td>\n",
              "      <td>4.0</td>\n",
              "    </tr>\n",
              "    <tr>\n",
              "      <th>11</th>\n",
              "      <td>2024-02-16</td>\n",
              "      <td>5</td>\n",
              "      <td>22.0</td>\n",
              "      <td>5.9</td>\n",
              "      <td>3.0</td>\n",
              "      <td>0</td>\n",
              "      <td>70.0</td>\n",
              "      <td>4.0</td>\n",
              "    </tr>\n",
              "    <tr>\n",
              "      <th>12</th>\n",
              "      <td>2024-02-16</td>\n",
              "      <td>6</td>\n",
              "      <td>24.0</td>\n",
              "      <td>5.4</td>\n",
              "      <td>3.0</td>\n",
              "      <td>0</td>\n",
              "      <td>70.0</td>\n",
              "      <td>4.0</td>\n",
              "    </tr>\n",
              "    <tr>\n",
              "      <th>13</th>\n",
              "      <td>2024-02-16</td>\n",
              "      <td>7</td>\n",
              "      <td>28.0</td>\n",
              "      <td>4.7</td>\n",
              "      <td>3.0</td>\n",
              "      <td>0</td>\n",
              "      <td>75.0</td>\n",
              "      <td>3.0</td>\n",
              "    </tr>\n",
              "    <tr>\n",
              "      <th>14</th>\n",
              "      <td>2024-02-16</td>\n",
              "      <td>8</td>\n",
              "      <td>33.0</td>\n",
              "      <td>4.2</td>\n",
              "      <td>3.0</td>\n",
              "      <td>0</td>\n",
              "      <td>75.0</td>\n",
              "      <td>3.0</td>\n",
              "    </tr>\n",
              "    <tr>\n",
              "      <th>15</th>\n",
              "      <td>2024-02-16</td>\n",
              "      <td>9</td>\n",
              "      <td>39.0</td>\n",
              "      <td>4.4</td>\n",
              "      <td>3.0</td>\n",
              "      <td>0</td>\n",
              "      <td>75.0</td>\n",
              "      <td>5.0</td>\n",
              "    </tr>\n",
              "    <tr>\n",
              "      <th>16</th>\n",
              "      <td>2024-02-16</td>\n",
              "      <td>10</td>\n",
              "      <td>41.0</td>\n",
              "      <td>4.0</td>\n",
              "      <td>1.0</td>\n",
              "      <td>0</td>\n",
              "      <td>70.0</td>\n",
              "      <td>7.0</td>\n",
              "    </tr>\n",
              "    <tr>\n",
              "      <th>17</th>\n",
              "      <td>2024-02-16</td>\n",
              "      <td>11</td>\n",
              "      <td>38.0</td>\n",
              "      <td>3.3</td>\n",
              "      <td>3.0</td>\n",
              "      <td>0</td>\n",
              "      <td>65.0</td>\n",
              "      <td>8.0</td>\n",
              "    </tr>\n",
              "    <tr>\n",
              "      <th>18</th>\n",
              "      <td>2024-02-16</td>\n",
              "      <td>12</td>\n",
              "      <td>27.0</td>\n",
              "      <td>3.0</td>\n",
              "      <td>3.0</td>\n",
              "      <td>0</td>\n",
              "      <td>60.0</td>\n",
              "      <td>9.0</td>\n",
              "    </tr>\n",
              "    <tr>\n",
              "      <th>19</th>\n",
              "      <td>2024-02-16</td>\n",
              "      <td>13</td>\n",
              "      <td>18.0</td>\n",
              "      <td>2.9</td>\n",
              "      <td>1.0</td>\n",
              "      <td>0</td>\n",
              "      <td>60.0</td>\n",
              "      <td>9.0</td>\n",
              "    </tr>\n",
              "    <tr>\n",
              "      <th>20</th>\n",
              "      <td>2024-02-16</td>\n",
              "      <td>14</td>\n",
              "      <td>12.0</td>\n",
              "      <td>2.9</td>\n",
              "      <td>1.0</td>\n",
              "      <td>0</td>\n",
              "      <td>55.0</td>\n",
              "      <td>10.0</td>\n",
              "    </tr>\n",
              "    <tr>\n",
              "      <th>21</th>\n",
              "      <td>2024-02-16</td>\n",
              "      <td>15</td>\n",
              "      <td>6.0</td>\n",
              "      <td>2.8</td>\n",
              "      <td>1.0</td>\n",
              "      <td>0</td>\n",
              "      <td>55.0</td>\n",
              "      <td>10.0</td>\n",
              "    </tr>\n",
              "    <tr>\n",
              "      <th>22</th>\n",
              "      <td>2024-02-16</td>\n",
              "      <td>16</td>\n",
              "      <td>6.0</td>\n",
              "      <td>2.7</td>\n",
              "      <td>1.0</td>\n",
              "      <td>0</td>\n",
              "      <td>55.0</td>\n",
              "      <td>10.0</td>\n",
              "    </tr>\n",
              "    <tr>\n",
              "      <th>23</th>\n",
              "      <td>2024-02-16</td>\n",
              "      <td>17</td>\n",
              "      <td>14.0</td>\n",
              "      <td>2.5</td>\n",
              "      <td>1.0</td>\n",
              "      <td>0</td>\n",
              "      <td>60.0</td>\n",
              "      <td>10.0</td>\n",
              "    </tr>\n",
              "    <tr>\n",
              "      <th>24</th>\n",
              "      <td>2024-02-16</td>\n",
              "      <td>18</td>\n",
              "      <td>27.0</td>\n",
              "      <td>1.8</td>\n",
              "      <td>3.0</td>\n",
              "      <td>0</td>\n",
              "      <td>60.0</td>\n",
              "      <td>9.0</td>\n",
              "    </tr>\n",
              "    <tr>\n",
              "      <th>25</th>\n",
              "      <td>2024-02-16</td>\n",
              "      <td>19</td>\n",
              "      <td>42.0</td>\n",
              "      <td>1.5</td>\n",
              "      <td>3.0</td>\n",
              "      <td>0</td>\n",
              "      <td>65.0</td>\n",
              "      <td>8.0</td>\n",
              "    </tr>\n",
              "    <tr>\n",
              "      <th>26</th>\n",
              "      <td>2024-02-16</td>\n",
              "      <td>20</td>\n",
              "      <td>81.0</td>\n",
              "      <td>1.3</td>\n",
              "      <td>3.0</td>\n",
              "      <td>0</td>\n",
              "      <td>70.0</td>\n",
              "      <td>8.0</td>\n",
              "    </tr>\n",
              "    <tr>\n",
              "      <th>27</th>\n",
              "      <td>2024-02-16</td>\n",
              "      <td>21</td>\n",
              "      <td>120.0</td>\n",
              "      <td>1.4</td>\n",
              "      <td>1.0</td>\n",
              "      <td>0</td>\n",
              "      <td>70.0</td>\n",
              "      <td>7.0</td>\n",
              "    </tr>\n",
              "    <tr>\n",
              "      <th>28</th>\n",
              "      <td>2024-02-16</td>\n",
              "      <td>22</td>\n",
              "      <td>145.0</td>\n",
              "      <td>1.9</td>\n",
              "      <td>1.0</td>\n",
              "      <td>0</td>\n",
              "      <td>70.0</td>\n",
              "      <td>6.0</td>\n",
              "    </tr>\n",
              "    <tr>\n",
              "      <th>29</th>\n",
              "      <td>2024-02-16</td>\n",
              "      <td>23</td>\n",
              "      <td>152.0</td>\n",
              "      <td>2.1</td>\n",
              "      <td>1.0</td>\n",
              "      <td>0</td>\n",
              "      <td>70.0</td>\n",
              "      <td>6.0</td>\n",
              "    </tr>\n",
              "  </tbody>\n",
              "</table>\n",
              "</div>\n",
              "    <div class=\"colab-df-buttons\">\n",
              "\n",
              "  <div class=\"colab-df-container\">\n",
              "    <button class=\"colab-df-convert\" onclick=\"convertToInteractive('df-1ba0997b-dbfa-41f3-a5a1-96efa8099cdf')\"\n",
              "            title=\"Convert this dataframe to an interactive table.\"\n",
              "            style=\"display:none;\">\n",
              "\n",
              "  <svg xmlns=\"http://www.w3.org/2000/svg\" height=\"24px\" viewBox=\"0 -960 960 960\">\n",
              "    <path d=\"M120-120v-720h720v720H120Zm60-500h600v-160H180v160Zm220 220h160v-160H400v160Zm0 220h160v-160H400v160ZM180-400h160v-160H180v160Zm440 0h160v-160H620v160ZM180-180h160v-160H180v160Zm440 0h160v-160H620v160Z\"/>\n",
              "  </svg>\n",
              "    </button>\n",
              "\n",
              "  <style>\n",
              "    .colab-df-container {\n",
              "      display:flex;\n",
              "      gap: 12px;\n",
              "    }\n",
              "\n",
              "    .colab-df-convert {\n",
              "      background-color: #E8F0FE;\n",
              "      border: none;\n",
              "      border-radius: 50%;\n",
              "      cursor: pointer;\n",
              "      display: none;\n",
              "      fill: #1967D2;\n",
              "      height: 32px;\n",
              "      padding: 0 0 0 0;\n",
              "      width: 32px;\n",
              "    }\n",
              "\n",
              "    .colab-df-convert:hover {\n",
              "      background-color: #E2EBFA;\n",
              "      box-shadow: 0px 1px 2px rgba(60, 64, 67, 0.3), 0px 1px 3px 1px rgba(60, 64, 67, 0.15);\n",
              "      fill: #174EA6;\n",
              "    }\n",
              "\n",
              "    .colab-df-buttons div {\n",
              "      margin-bottom: 4px;\n",
              "    }\n",
              "\n",
              "    [theme=dark] .colab-df-convert {\n",
              "      background-color: #3B4455;\n",
              "      fill: #D2E3FC;\n",
              "    }\n",
              "\n",
              "    [theme=dark] .colab-df-convert:hover {\n",
              "      background-color: #434B5C;\n",
              "      box-shadow: 0px 1px 3px 1px rgba(0, 0, 0, 0.15);\n",
              "      filter: drop-shadow(0px 1px 2px rgba(0, 0, 0, 0.3));\n",
              "      fill: #FFFFFF;\n",
              "    }\n",
              "  </style>\n",
              "\n",
              "    <script>\n",
              "      const buttonEl =\n",
              "        document.querySelector('#df-1ba0997b-dbfa-41f3-a5a1-96efa8099cdf button.colab-df-convert');\n",
              "      buttonEl.style.display =\n",
              "        google.colab.kernel.accessAllowed ? 'block' : 'none';\n",
              "\n",
              "      async function convertToInteractive(key) {\n",
              "        const element = document.querySelector('#df-1ba0997b-dbfa-41f3-a5a1-96efa8099cdf');\n",
              "        const dataTable =\n",
              "          await google.colab.kernel.invokeFunction('convertToInteractive',\n",
              "                                                    [key], {});\n",
              "        if (!dataTable) return;\n",
              "\n",
              "        const docLinkHtml = 'Like what you see? Visit the ' +\n",
              "          '<a target=\"_blank\" href=https://colab.research.google.com/notebooks/data_table.ipynb>data table notebook</a>'\n",
              "          + ' to learn more about interactive tables.';\n",
              "        element.innerHTML = '';\n",
              "        dataTable['output_type'] = 'display_data';\n",
              "        await google.colab.output.renderOutput(dataTable, element);\n",
              "        const docLink = document.createElement('div');\n",
              "        docLink.innerHTML = docLinkHtml;\n",
              "        element.appendChild(docLink);\n",
              "      }\n",
              "    </script>\n",
              "  </div>\n",
              "\n",
              "\n",
              "<div id=\"df-a254b134-9e0f-46e9-bf1c-ef91d4ef6855\">\n",
              "  <button class=\"colab-df-quickchart\" onclick=\"quickchart('df-a254b134-9e0f-46e9-bf1c-ef91d4ef6855')\"\n",
              "            title=\"Suggest charts\"\n",
              "            style=\"display:none;\">\n",
              "\n",
              "<svg xmlns=\"http://www.w3.org/2000/svg\" height=\"24px\"viewBox=\"0 0 24 24\"\n",
              "     width=\"24px\">\n",
              "    <g>\n",
              "        <path d=\"M19 3H5c-1.1 0-2 .9-2 2v14c0 1.1.9 2 2 2h14c1.1 0 2-.9 2-2V5c0-1.1-.9-2-2-2zM9 17H7v-7h2v7zm4 0h-2V7h2v10zm4 0h-2v-4h2v4z\"/>\n",
              "    </g>\n",
              "</svg>\n",
              "  </button>\n",
              "\n",
              "<style>\n",
              "  .colab-df-quickchart {\n",
              "      --bg-color: #E8F0FE;\n",
              "      --fill-color: #1967D2;\n",
              "      --hover-bg-color: #E2EBFA;\n",
              "      --hover-fill-color: #174EA6;\n",
              "      --disabled-fill-color: #AAA;\n",
              "      --disabled-bg-color: #DDD;\n",
              "  }\n",
              "\n",
              "  [theme=dark] .colab-df-quickchart {\n",
              "      --bg-color: #3B4455;\n",
              "      --fill-color: #D2E3FC;\n",
              "      --hover-bg-color: #434B5C;\n",
              "      --hover-fill-color: #FFFFFF;\n",
              "      --disabled-bg-color: #3B4455;\n",
              "      --disabled-fill-color: #666;\n",
              "  }\n",
              "\n",
              "  .colab-df-quickchart {\n",
              "    background-color: var(--bg-color);\n",
              "    border: none;\n",
              "    border-radius: 50%;\n",
              "    cursor: pointer;\n",
              "    display: none;\n",
              "    fill: var(--fill-color);\n",
              "    height: 32px;\n",
              "    padding: 0;\n",
              "    width: 32px;\n",
              "  }\n",
              "\n",
              "  .colab-df-quickchart:hover {\n",
              "    background-color: var(--hover-bg-color);\n",
              "    box-shadow: 0 1px 2px rgba(60, 64, 67, 0.3), 0 1px 3px 1px rgba(60, 64, 67, 0.15);\n",
              "    fill: var(--button-hover-fill-color);\n",
              "  }\n",
              "\n",
              "  .colab-df-quickchart-complete:disabled,\n",
              "  .colab-df-quickchart-complete:disabled:hover {\n",
              "    background-color: var(--disabled-bg-color);\n",
              "    fill: var(--disabled-fill-color);\n",
              "    box-shadow: none;\n",
              "  }\n",
              "\n",
              "  .colab-df-spinner {\n",
              "    border: 2px solid var(--fill-color);\n",
              "    border-color: transparent;\n",
              "    border-bottom-color: var(--fill-color);\n",
              "    animation:\n",
              "      spin 1s steps(1) infinite;\n",
              "  }\n",
              "\n",
              "  @keyframes spin {\n",
              "    0% {\n",
              "      border-color: transparent;\n",
              "      border-bottom-color: var(--fill-color);\n",
              "      border-left-color: var(--fill-color);\n",
              "    }\n",
              "    20% {\n",
              "      border-color: transparent;\n",
              "      border-left-color: var(--fill-color);\n",
              "      border-top-color: var(--fill-color);\n",
              "    }\n",
              "    30% {\n",
              "      border-color: transparent;\n",
              "      border-left-color: var(--fill-color);\n",
              "      border-top-color: var(--fill-color);\n",
              "      border-right-color: var(--fill-color);\n",
              "    }\n",
              "    40% {\n",
              "      border-color: transparent;\n",
              "      border-right-color: var(--fill-color);\n",
              "      border-top-color: var(--fill-color);\n",
              "    }\n",
              "    60% {\n",
              "      border-color: transparent;\n",
              "      border-right-color: var(--fill-color);\n",
              "    }\n",
              "    80% {\n",
              "      border-color: transparent;\n",
              "      border-right-color: var(--fill-color);\n",
              "      border-bottom-color: var(--fill-color);\n",
              "    }\n",
              "    90% {\n",
              "      border-color: transparent;\n",
              "      border-bottom-color: var(--fill-color);\n",
              "    }\n",
              "  }\n",
              "</style>\n",
              "\n",
              "  <script>\n",
              "    async function quickchart(key) {\n",
              "      const quickchartButtonEl =\n",
              "        document.querySelector('#' + key + ' button');\n",
              "      quickchartButtonEl.disabled = true;  // To prevent multiple clicks.\n",
              "      quickchartButtonEl.classList.add('colab-df-spinner');\n",
              "      try {\n",
              "        const charts = await google.colab.kernel.invokeFunction(\n",
              "            'suggestCharts', [key], {});\n",
              "      } catch (error) {\n",
              "        console.error('Error during call to suggestCharts:', error);\n",
              "      }\n",
              "      quickchartButtonEl.classList.remove('colab-df-spinner');\n",
              "      quickchartButtonEl.classList.add('colab-df-quickchart-complete');\n",
              "    }\n",
              "    (() => {\n",
              "      let quickchartButtonEl =\n",
              "        document.querySelector('#df-a254b134-9e0f-46e9-bf1c-ef91d4ef6855 button');\n",
              "      quickchartButtonEl.style.display =\n",
              "        google.colab.kernel.accessAllowed ? 'block' : 'none';\n",
              "    })();\n",
              "  </script>\n",
              "</div>\n",
              "    </div>\n",
              "  </div>\n"
            ],
            "text/plain": [
              "         date  hour  WindDirection  WindSpeed  Cloud  Rainfall  Humidity  \\\n",
              "6  2024-02-16     0           10.0        7.2    1.0         0      60.0   \n",
              "7  2024-02-16     1            7.0        6.4    4.0         0      65.0   \n",
              "8  2024-02-16     2           13.0        6.7    1.0         0      65.0   \n",
              "9  2024-02-16     3           18.0        6.5    1.0         0      70.0   \n",
              "10 2024-02-16     4           21.0        6.4    1.0         0      70.0   \n",
              "11 2024-02-16     5           22.0        5.9    3.0         0      70.0   \n",
              "12 2024-02-16     6           24.0        5.4    3.0         0      70.0   \n",
              "13 2024-02-16     7           28.0        4.7    3.0         0      75.0   \n",
              "14 2024-02-16     8           33.0        4.2    3.0         0      75.0   \n",
              "15 2024-02-16     9           39.0        4.4    3.0         0      75.0   \n",
              "16 2024-02-16    10           41.0        4.0    1.0         0      70.0   \n",
              "17 2024-02-16    11           38.0        3.3    3.0         0      65.0   \n",
              "18 2024-02-16    12           27.0        3.0    3.0         0      60.0   \n",
              "19 2024-02-16    13           18.0        2.9    1.0         0      60.0   \n",
              "20 2024-02-16    14           12.0        2.9    1.0         0      55.0   \n",
              "21 2024-02-16    15            6.0        2.8    1.0         0      55.0   \n",
              "22 2024-02-16    16            6.0        2.7    1.0         0      55.0   \n",
              "23 2024-02-16    17           14.0        2.5    1.0         0      60.0   \n",
              "24 2024-02-16    18           27.0        1.8    3.0         0      60.0   \n",
              "25 2024-02-16    19           42.0        1.5    3.0         0      65.0   \n",
              "26 2024-02-16    20           81.0        1.3    3.0         0      70.0   \n",
              "27 2024-02-16    21          120.0        1.4    1.0         0      70.0   \n",
              "28 2024-02-16    22          145.0        1.9    1.0         0      70.0   \n",
              "29 2024-02-16    23          152.0        2.1    1.0         0      70.0   \n",
              "\n",
              "    Temperature  \n",
              "6           5.0  \n",
              "7           5.0  \n",
              "8           5.0  \n",
              "9           5.0  \n",
              "10          4.0  \n",
              "11          4.0  \n",
              "12          4.0  \n",
              "13          3.0  \n",
              "14          3.0  \n",
              "15          5.0  \n",
              "16          7.0  \n",
              "17          8.0  \n",
              "18          9.0  \n",
              "19          9.0  \n",
              "20         10.0  \n",
              "21         10.0  \n",
              "22         10.0  \n",
              "23         10.0  \n",
              "24          9.0  \n",
              "25          8.0  \n",
              "26          8.0  \n",
              "27          7.0  \n",
              "28          6.0  \n",
              "29          6.0  "
            ]
          },
          "execution_count": 66,
          "metadata": {},
          "output_type": "execute_result"
        }
      ],
      "source": [
        "tomorrow_df"
      ]
    },
    {
      "cell_type": "code",
      "execution_count": 67,
      "metadata": {
        "colab": {
          "base_uri": "https://localhost:8080/",
          "height": 801
        },
        "id": "QZofXFn4rfMo",
        "outputId": "596868a8-7ff9-409f-f57b-b242cc0ca434"
      },
      "outputs": [
        {
          "data": {
            "application/vnd.google.colaboratory.intrinsic+json": {
              "summary": "{\n  \"name\": \"tomorrow_df\",\n  \"rows\": 24,\n  \"fields\": [\n    {\n      \"column\": \"date\",\n      \"properties\": {\n        \"dtype\": \"date\",\n        \"min\": \"2024-02-16 00:00:00\",\n        \"max\": \"2024-02-16 00:00:00\",\n        \"samples\": [\n          \"2024-02-16 00:00:00\"\n        ],\n        \"num_unique_values\": 1,\n        \"semantic_type\": \"\",\n        \"description\": \"\"\n      }\n    },\n    {\n      \"column\": \"hour\",\n      \"properties\": {\n        \"dtype\": \"number\",\n        \"std\": 7,\n        \"min\": 1,\n        \"max\": 24,\n        \"samples\": [\n          9\n        ],\n        \"num_unique_values\": 24,\n        \"semantic_type\": \"\",\n        \"description\": \"\"\n      }\n    },\n    {\n      \"column\": \"WindDirection\",\n      \"properties\": {\n        \"dtype\": \"number\",\n        \"std\": 42.003795549684675,\n        \"min\": 6.0,\n        \"max\": 152.0,\n        \"samples\": [\n          10.0\n        ],\n        \"num_unique_values\": 21,\n        \"semantic_type\": \"\",\n        \"description\": \"\"\n      }\n    },\n    {\n      \"column\": \"WindSpeed\",\n      \"properties\": {\n        \"dtype\": \"number\",\n        \"std\": 1.9031962056239629,\n        \"min\": 1.3,\n        \"max\": 7.2,\n        \"samples\": [\n          7.2\n        ],\n        \"num_unique_values\": 22,\n        \"semantic_type\": \"\",\n        \"description\": \"\"\n      }\n    },\n    {\n      \"column\": \"Cloud\",\n      \"properties\": {\n        \"dtype\": \"number\",\n        \"std\": 3,\n        \"min\": 2,\n        \"max\": 10,\n        \"samples\": [\n          2\n        ],\n        \"num_unique_values\": 3,\n        \"semantic_type\": \"\",\n        \"description\": \"\"\n      }\n    },\n    {\n      \"column\": \"Rainfall\",\n      \"properties\": {\n        \"dtype\": \"number\",\n        \"std\": 0,\n        \"min\": 0,\n        \"max\": 0,\n        \"samples\": [\n          0\n        ],\n        \"num_unique_values\": 1,\n        \"semantic_type\": \"\",\n        \"description\": \"\"\n      }\n    },\n    {\n      \"column\": \"Humidity\",\n      \"properties\": {\n        \"dtype\": \"number\",\n        \"std\": 6.370220572706061,\n        \"min\": 55.0,\n        \"max\": 75.0,\n        \"samples\": [\n          65.0\n        ],\n        \"num_unique_values\": 5,\n        \"semantic_type\": \"\",\n        \"description\": \"\"\n      }\n    },\n    {\n      \"column\": \"Temperature\",\n      \"properties\": {\n        \"dtype\": \"number\",\n        \"std\": 2.371326296779315,\n        \"min\": 3.0,\n        \"max\": 10.0,\n        \"samples\": [\n          4.0\n        ],\n        \"num_unique_values\": 8,\n        \"semantic_type\": \"\",\n        \"description\": \"\"\n      }\n    }\n  ]\n}",
              "type": "dataframe",
              "variable_name": "tomorrow_df"
            },
            "text/html": [
              "\n",
              "  <div id=\"df-6888b98e-64c5-47ae-8859-633529ef30e1\" class=\"colab-df-container\">\n",
              "    <div>\n",
              "<style scoped>\n",
              "    .dataframe tbody tr th:only-of-type {\n",
              "        vertical-align: middle;\n",
              "    }\n",
              "\n",
              "    .dataframe tbody tr th {\n",
              "        vertical-align: top;\n",
              "    }\n",
              "\n",
              "    .dataframe thead th {\n",
              "        text-align: right;\n",
              "    }\n",
              "</style>\n",
              "<table border=\"1\" class=\"dataframe\">\n",
              "  <thead>\n",
              "    <tr style=\"text-align: right;\">\n",
              "      <th></th>\n",
              "      <th>date</th>\n",
              "      <th>hour</th>\n",
              "      <th>WindDirection</th>\n",
              "      <th>WindSpeed</th>\n",
              "      <th>Cloud</th>\n",
              "      <th>Rainfall</th>\n",
              "      <th>Humidity</th>\n",
              "      <th>Temperature</th>\n",
              "    </tr>\n",
              "  </thead>\n",
              "  <tbody>\n",
              "    <tr>\n",
              "      <th>6</th>\n",
              "      <td>2024-02-16</td>\n",
              "      <td>1</td>\n",
              "      <td>10.0</td>\n",
              "      <td>7.2</td>\n",
              "      <td>2</td>\n",
              "      <td>0</td>\n",
              "      <td>60.0</td>\n",
              "      <td>5.0</td>\n",
              "    </tr>\n",
              "    <tr>\n",
              "      <th>7</th>\n",
              "      <td>2024-02-16</td>\n",
              "      <td>2</td>\n",
              "      <td>7.0</td>\n",
              "      <td>6.4</td>\n",
              "      <td>10</td>\n",
              "      <td>0</td>\n",
              "      <td>65.0</td>\n",
              "      <td>5.0</td>\n",
              "    </tr>\n",
              "    <tr>\n",
              "      <th>8</th>\n",
              "      <td>2024-02-16</td>\n",
              "      <td>3</td>\n",
              "      <td>13.0</td>\n",
              "      <td>6.7</td>\n",
              "      <td>2</td>\n",
              "      <td>0</td>\n",
              "      <td>65.0</td>\n",
              "      <td>5.0</td>\n",
              "    </tr>\n",
              "    <tr>\n",
              "      <th>9</th>\n",
              "      <td>2024-02-16</td>\n",
              "      <td>4</td>\n",
              "      <td>18.0</td>\n",
              "      <td>6.5</td>\n",
              "      <td>2</td>\n",
              "      <td>0</td>\n",
              "      <td>70.0</td>\n",
              "      <td>5.0</td>\n",
              "    </tr>\n",
              "    <tr>\n",
              "      <th>10</th>\n",
              "      <td>2024-02-16</td>\n",
              "      <td>5</td>\n",
              "      <td>21.0</td>\n",
              "      <td>6.4</td>\n",
              "      <td>2</td>\n",
              "      <td>0</td>\n",
              "      <td>70.0</td>\n",
              "      <td>4.0</td>\n",
              "    </tr>\n",
              "    <tr>\n",
              "      <th>11</th>\n",
              "      <td>2024-02-16</td>\n",
              "      <td>6</td>\n",
              "      <td>22.0</td>\n",
              "      <td>5.9</td>\n",
              "      <td>8</td>\n",
              "      <td>0</td>\n",
              "      <td>70.0</td>\n",
              "      <td>4.0</td>\n",
              "    </tr>\n",
              "    <tr>\n",
              "      <th>12</th>\n",
              "      <td>2024-02-16</td>\n",
              "      <td>7</td>\n",
              "      <td>24.0</td>\n",
              "      <td>5.4</td>\n",
              "      <td>8</td>\n",
              "      <td>0</td>\n",
              "      <td>70.0</td>\n",
              "      <td>4.0</td>\n",
              "    </tr>\n",
              "    <tr>\n",
              "      <th>13</th>\n",
              "      <td>2024-02-16</td>\n",
              "      <td>8</td>\n",
              "      <td>28.0</td>\n",
              "      <td>4.7</td>\n",
              "      <td>8</td>\n",
              "      <td>0</td>\n",
              "      <td>75.0</td>\n",
              "      <td>3.0</td>\n",
              "    </tr>\n",
              "    <tr>\n",
              "      <th>14</th>\n",
              "      <td>2024-02-16</td>\n",
              "      <td>9</td>\n",
              "      <td>33.0</td>\n",
              "      <td>4.2</td>\n",
              "      <td>8</td>\n",
              "      <td>0</td>\n",
              "      <td>75.0</td>\n",
              "      <td>3.0</td>\n",
              "    </tr>\n",
              "    <tr>\n",
              "      <th>15</th>\n",
              "      <td>2024-02-16</td>\n",
              "      <td>10</td>\n",
              "      <td>39.0</td>\n",
              "      <td>4.4</td>\n",
              "      <td>8</td>\n",
              "      <td>0</td>\n",
              "      <td>75.0</td>\n",
              "      <td>5.0</td>\n",
              "    </tr>\n",
              "    <tr>\n",
              "      <th>16</th>\n",
              "      <td>2024-02-16</td>\n",
              "      <td>11</td>\n",
              "      <td>41.0</td>\n",
              "      <td>4.0</td>\n",
              "      <td>2</td>\n",
              "      <td>0</td>\n",
              "      <td>70.0</td>\n",
              "      <td>7.0</td>\n",
              "    </tr>\n",
              "    <tr>\n",
              "      <th>17</th>\n",
              "      <td>2024-02-16</td>\n",
              "      <td>12</td>\n",
              "      <td>38.0</td>\n",
              "      <td>3.3</td>\n",
              "      <td>8</td>\n",
              "      <td>0</td>\n",
              "      <td>65.0</td>\n",
              "      <td>8.0</td>\n",
              "    </tr>\n",
              "    <tr>\n",
              "      <th>18</th>\n",
              "      <td>2024-02-16</td>\n",
              "      <td>13</td>\n",
              "      <td>27.0</td>\n",
              "      <td>3.0</td>\n",
              "      <td>8</td>\n",
              "      <td>0</td>\n",
              "      <td>60.0</td>\n",
              "      <td>9.0</td>\n",
              "    </tr>\n",
              "    <tr>\n",
              "      <th>19</th>\n",
              "      <td>2024-02-16</td>\n",
              "      <td>14</td>\n",
              "      <td>18.0</td>\n",
              "      <td>2.9</td>\n",
              "      <td>2</td>\n",
              "      <td>0</td>\n",
              "      <td>60.0</td>\n",
              "      <td>9.0</td>\n",
              "    </tr>\n",
              "    <tr>\n",
              "      <th>20</th>\n",
              "      <td>2024-02-16</td>\n",
              "      <td>15</td>\n",
              "      <td>12.0</td>\n",
              "      <td>2.9</td>\n",
              "      <td>2</td>\n",
              "      <td>0</td>\n",
              "      <td>55.0</td>\n",
              "      <td>10.0</td>\n",
              "    </tr>\n",
              "    <tr>\n",
              "      <th>21</th>\n",
              "      <td>2024-02-16</td>\n",
              "      <td>16</td>\n",
              "      <td>6.0</td>\n",
              "      <td>2.8</td>\n",
              "      <td>2</td>\n",
              "      <td>0</td>\n",
              "      <td>55.0</td>\n",
              "      <td>10.0</td>\n",
              "    </tr>\n",
              "    <tr>\n",
              "      <th>22</th>\n",
              "      <td>2024-02-16</td>\n",
              "      <td>17</td>\n",
              "      <td>6.0</td>\n",
              "      <td>2.7</td>\n",
              "      <td>2</td>\n",
              "      <td>0</td>\n",
              "      <td>55.0</td>\n",
              "      <td>10.0</td>\n",
              "    </tr>\n",
              "    <tr>\n",
              "      <th>23</th>\n",
              "      <td>2024-02-16</td>\n",
              "      <td>18</td>\n",
              "      <td>14.0</td>\n",
              "      <td>2.5</td>\n",
              "      <td>2</td>\n",
              "      <td>0</td>\n",
              "      <td>60.0</td>\n",
              "      <td>10.0</td>\n",
              "    </tr>\n",
              "    <tr>\n",
              "      <th>24</th>\n",
              "      <td>2024-02-16</td>\n",
              "      <td>19</td>\n",
              "      <td>27.0</td>\n",
              "      <td>1.8</td>\n",
              "      <td>8</td>\n",
              "      <td>0</td>\n",
              "      <td>60.0</td>\n",
              "      <td>9.0</td>\n",
              "    </tr>\n",
              "    <tr>\n",
              "      <th>25</th>\n",
              "      <td>2024-02-16</td>\n",
              "      <td>20</td>\n",
              "      <td>42.0</td>\n",
              "      <td>1.5</td>\n",
              "      <td>8</td>\n",
              "      <td>0</td>\n",
              "      <td>65.0</td>\n",
              "      <td>8.0</td>\n",
              "    </tr>\n",
              "    <tr>\n",
              "      <th>26</th>\n",
              "      <td>2024-02-16</td>\n",
              "      <td>21</td>\n",
              "      <td>81.0</td>\n",
              "      <td>1.3</td>\n",
              "      <td>8</td>\n",
              "      <td>0</td>\n",
              "      <td>70.0</td>\n",
              "      <td>8.0</td>\n",
              "    </tr>\n",
              "    <tr>\n",
              "      <th>27</th>\n",
              "      <td>2024-02-16</td>\n",
              "      <td>22</td>\n",
              "      <td>120.0</td>\n",
              "      <td>1.4</td>\n",
              "      <td>2</td>\n",
              "      <td>0</td>\n",
              "      <td>70.0</td>\n",
              "      <td>7.0</td>\n",
              "    </tr>\n",
              "    <tr>\n",
              "      <th>28</th>\n",
              "      <td>2024-02-16</td>\n",
              "      <td>23</td>\n",
              "      <td>145.0</td>\n",
              "      <td>1.9</td>\n",
              "      <td>2</td>\n",
              "      <td>0</td>\n",
              "      <td>70.0</td>\n",
              "      <td>6.0</td>\n",
              "    </tr>\n",
              "    <tr>\n",
              "      <th>29</th>\n",
              "      <td>2024-02-16</td>\n",
              "      <td>24</td>\n",
              "      <td>152.0</td>\n",
              "      <td>2.1</td>\n",
              "      <td>2</td>\n",
              "      <td>0</td>\n",
              "      <td>70.0</td>\n",
              "      <td>6.0</td>\n",
              "    </tr>\n",
              "  </tbody>\n",
              "</table>\n",
              "</div>\n",
              "    <div class=\"colab-df-buttons\">\n",
              "\n",
              "  <div class=\"colab-df-container\">\n",
              "    <button class=\"colab-df-convert\" onclick=\"convertToInteractive('df-6888b98e-64c5-47ae-8859-633529ef30e1')\"\n",
              "            title=\"Convert this dataframe to an interactive table.\"\n",
              "            style=\"display:none;\">\n",
              "\n",
              "  <svg xmlns=\"http://www.w3.org/2000/svg\" height=\"24px\" viewBox=\"0 -960 960 960\">\n",
              "    <path d=\"M120-120v-720h720v720H120Zm60-500h600v-160H180v160Zm220 220h160v-160H400v160Zm0 220h160v-160H400v160ZM180-400h160v-160H180v160Zm440 0h160v-160H620v160ZM180-180h160v-160H180v160Zm440 0h160v-160H620v160Z\"/>\n",
              "  </svg>\n",
              "    </button>\n",
              "\n",
              "  <style>\n",
              "    .colab-df-container {\n",
              "      display:flex;\n",
              "      gap: 12px;\n",
              "    }\n",
              "\n",
              "    .colab-df-convert {\n",
              "      background-color: #E8F0FE;\n",
              "      border: none;\n",
              "      border-radius: 50%;\n",
              "      cursor: pointer;\n",
              "      display: none;\n",
              "      fill: #1967D2;\n",
              "      height: 32px;\n",
              "      padding: 0 0 0 0;\n",
              "      width: 32px;\n",
              "    }\n",
              "\n",
              "    .colab-df-convert:hover {\n",
              "      background-color: #E2EBFA;\n",
              "      box-shadow: 0px 1px 2px rgba(60, 64, 67, 0.3), 0px 1px 3px 1px rgba(60, 64, 67, 0.15);\n",
              "      fill: #174EA6;\n",
              "    }\n",
              "\n",
              "    .colab-df-buttons div {\n",
              "      margin-bottom: 4px;\n",
              "    }\n",
              "\n",
              "    [theme=dark] .colab-df-convert {\n",
              "      background-color: #3B4455;\n",
              "      fill: #D2E3FC;\n",
              "    }\n",
              "\n",
              "    [theme=dark] .colab-df-convert:hover {\n",
              "      background-color: #434B5C;\n",
              "      box-shadow: 0px 1px 3px 1px rgba(0, 0, 0, 0.15);\n",
              "      filter: drop-shadow(0px 1px 2px rgba(0, 0, 0, 0.3));\n",
              "      fill: #FFFFFF;\n",
              "    }\n",
              "  </style>\n",
              "\n",
              "    <script>\n",
              "      const buttonEl =\n",
              "        document.querySelector('#df-6888b98e-64c5-47ae-8859-633529ef30e1 button.colab-df-convert');\n",
              "      buttonEl.style.display =\n",
              "        google.colab.kernel.accessAllowed ? 'block' : 'none';\n",
              "\n",
              "      async function convertToInteractive(key) {\n",
              "        const element = document.querySelector('#df-6888b98e-64c5-47ae-8859-633529ef30e1');\n",
              "        const dataTable =\n",
              "          await google.colab.kernel.invokeFunction('convertToInteractive',\n",
              "                                                    [key], {});\n",
              "        if (!dataTable) return;\n",
              "\n",
              "        const docLinkHtml = 'Like what you see? Visit the ' +\n",
              "          '<a target=\"_blank\" href=https://colab.research.google.com/notebooks/data_table.ipynb>data table notebook</a>'\n",
              "          + ' to learn more about interactive tables.';\n",
              "        element.innerHTML = '';\n",
              "        dataTable['output_type'] = 'display_data';\n",
              "        await google.colab.output.renderOutput(dataTable, element);\n",
              "        const docLink = document.createElement('div');\n",
              "        docLink.innerHTML = docLinkHtml;\n",
              "        element.appendChild(docLink);\n",
              "      }\n",
              "    </script>\n",
              "  </div>\n",
              "\n",
              "\n",
              "<div id=\"df-4b3fac30-df53-4674-90ea-3d2b959e4773\">\n",
              "  <button class=\"colab-df-quickchart\" onclick=\"quickchart('df-4b3fac30-df53-4674-90ea-3d2b959e4773')\"\n",
              "            title=\"Suggest charts\"\n",
              "            style=\"display:none;\">\n",
              "\n",
              "<svg xmlns=\"http://www.w3.org/2000/svg\" height=\"24px\"viewBox=\"0 0 24 24\"\n",
              "     width=\"24px\">\n",
              "    <g>\n",
              "        <path d=\"M19 3H5c-1.1 0-2 .9-2 2v14c0 1.1.9 2 2 2h14c1.1 0 2-.9 2-2V5c0-1.1-.9-2-2-2zM9 17H7v-7h2v7zm4 0h-2V7h2v10zm4 0h-2v-4h2v4z\"/>\n",
              "    </g>\n",
              "</svg>\n",
              "  </button>\n",
              "\n",
              "<style>\n",
              "  .colab-df-quickchart {\n",
              "      --bg-color: #E8F0FE;\n",
              "      --fill-color: #1967D2;\n",
              "      --hover-bg-color: #E2EBFA;\n",
              "      --hover-fill-color: #174EA6;\n",
              "      --disabled-fill-color: #AAA;\n",
              "      --disabled-bg-color: #DDD;\n",
              "  }\n",
              "\n",
              "  [theme=dark] .colab-df-quickchart {\n",
              "      --bg-color: #3B4455;\n",
              "      --fill-color: #D2E3FC;\n",
              "      --hover-bg-color: #434B5C;\n",
              "      --hover-fill-color: #FFFFFF;\n",
              "      --disabled-bg-color: #3B4455;\n",
              "      --disabled-fill-color: #666;\n",
              "  }\n",
              "\n",
              "  .colab-df-quickchart {\n",
              "    background-color: var(--bg-color);\n",
              "    border: none;\n",
              "    border-radius: 50%;\n",
              "    cursor: pointer;\n",
              "    display: none;\n",
              "    fill: var(--fill-color);\n",
              "    height: 32px;\n",
              "    padding: 0;\n",
              "    width: 32px;\n",
              "  }\n",
              "\n",
              "  .colab-df-quickchart:hover {\n",
              "    background-color: var(--hover-bg-color);\n",
              "    box-shadow: 0 1px 2px rgba(60, 64, 67, 0.3), 0 1px 3px 1px rgba(60, 64, 67, 0.15);\n",
              "    fill: var(--button-hover-fill-color);\n",
              "  }\n",
              "\n",
              "  .colab-df-quickchart-complete:disabled,\n",
              "  .colab-df-quickchart-complete:disabled:hover {\n",
              "    background-color: var(--disabled-bg-color);\n",
              "    fill: var(--disabled-fill-color);\n",
              "    box-shadow: none;\n",
              "  }\n",
              "\n",
              "  .colab-df-spinner {\n",
              "    border: 2px solid var(--fill-color);\n",
              "    border-color: transparent;\n",
              "    border-bottom-color: var(--fill-color);\n",
              "    animation:\n",
              "      spin 1s steps(1) infinite;\n",
              "  }\n",
              "\n",
              "  @keyframes spin {\n",
              "    0% {\n",
              "      border-color: transparent;\n",
              "      border-bottom-color: var(--fill-color);\n",
              "      border-left-color: var(--fill-color);\n",
              "    }\n",
              "    20% {\n",
              "      border-color: transparent;\n",
              "      border-left-color: var(--fill-color);\n",
              "      border-top-color: var(--fill-color);\n",
              "    }\n",
              "    30% {\n",
              "      border-color: transparent;\n",
              "      border-left-color: var(--fill-color);\n",
              "      border-top-color: var(--fill-color);\n",
              "      border-right-color: var(--fill-color);\n",
              "    }\n",
              "    40% {\n",
              "      border-color: transparent;\n",
              "      border-right-color: var(--fill-color);\n",
              "      border-top-color: var(--fill-color);\n",
              "    }\n",
              "    60% {\n",
              "      border-color: transparent;\n",
              "      border-right-color: var(--fill-color);\n",
              "    }\n",
              "    80% {\n",
              "      border-color: transparent;\n",
              "      border-right-color: var(--fill-color);\n",
              "      border-bottom-color: var(--fill-color);\n",
              "    }\n",
              "    90% {\n",
              "      border-color: transparent;\n",
              "      border-bottom-color: var(--fill-color);\n",
              "    }\n",
              "  }\n",
              "</style>\n",
              "\n",
              "  <script>\n",
              "    async function quickchart(key) {\n",
              "      const quickchartButtonEl =\n",
              "        document.querySelector('#' + key + ' button');\n",
              "      quickchartButtonEl.disabled = true;  // To prevent multiple clicks.\n",
              "      quickchartButtonEl.classList.add('colab-df-spinner');\n",
              "      try {\n",
              "        const charts = await google.colab.kernel.invokeFunction(\n",
              "            'suggestCharts', [key], {});\n",
              "      } catch (error) {\n",
              "        console.error('Error during call to suggestCharts:', error);\n",
              "      }\n",
              "      quickchartButtonEl.classList.remove('colab-df-spinner');\n",
              "      quickchartButtonEl.classList.add('colab-df-quickchart-complete');\n",
              "    }\n",
              "    (() => {\n",
              "      let quickchartButtonEl =\n",
              "        document.querySelector('#df-4b3fac30-df53-4674-90ea-3d2b959e4773 button');\n",
              "      quickchartButtonEl.style.display =\n",
              "        google.colab.kernel.accessAllowed ? 'block' : 'none';\n",
              "    })();\n",
              "  </script>\n",
              "</div>\n",
              "    </div>\n",
              "  </div>\n"
            ],
            "text/plain": [
              "         date  hour  WindDirection  WindSpeed  Cloud  Rainfall  Humidity  \\\n",
              "6  2024-02-16     1           10.0        7.2      2         0      60.0   \n",
              "7  2024-02-16     2            7.0        6.4     10         0      65.0   \n",
              "8  2024-02-16     3           13.0        6.7      2         0      65.0   \n",
              "9  2024-02-16     4           18.0        6.5      2         0      70.0   \n",
              "10 2024-02-16     5           21.0        6.4      2         0      70.0   \n",
              "11 2024-02-16     6           22.0        5.9      8         0      70.0   \n",
              "12 2024-02-16     7           24.0        5.4      8         0      70.0   \n",
              "13 2024-02-16     8           28.0        4.7      8         0      75.0   \n",
              "14 2024-02-16     9           33.0        4.2      8         0      75.0   \n",
              "15 2024-02-16    10           39.0        4.4      8         0      75.0   \n",
              "16 2024-02-16    11           41.0        4.0      2         0      70.0   \n",
              "17 2024-02-16    12           38.0        3.3      8         0      65.0   \n",
              "18 2024-02-16    13           27.0        3.0      8         0      60.0   \n",
              "19 2024-02-16    14           18.0        2.9      2         0      60.0   \n",
              "20 2024-02-16    15           12.0        2.9      2         0      55.0   \n",
              "21 2024-02-16    16            6.0        2.8      2         0      55.0   \n",
              "22 2024-02-16    17            6.0        2.7      2         0      55.0   \n",
              "23 2024-02-16    18           14.0        2.5      2         0      60.0   \n",
              "24 2024-02-16    19           27.0        1.8      8         0      60.0   \n",
              "25 2024-02-16    20           42.0        1.5      8         0      65.0   \n",
              "26 2024-02-16    21           81.0        1.3      8         0      70.0   \n",
              "27 2024-02-16    22          120.0        1.4      2         0      70.0   \n",
              "28 2024-02-16    23          145.0        1.9      2         0      70.0   \n",
              "29 2024-02-16    24          152.0        2.1      2         0      70.0   \n",
              "\n",
              "    Temperature  \n",
              "6           5.0  \n",
              "7           5.0  \n",
              "8           5.0  \n",
              "9           5.0  \n",
              "10          4.0  \n",
              "11          4.0  \n",
              "12          4.0  \n",
              "13          3.0  \n",
              "14          3.0  \n",
              "15          5.0  \n",
              "16          7.0  \n",
              "17          8.0  \n",
              "18          9.0  \n",
              "19          9.0  \n",
              "20         10.0  \n",
              "21         10.0  \n",
              "22         10.0  \n",
              "23         10.0  \n",
              "24          9.0  \n",
              "25          8.0  \n",
              "26          8.0  \n",
              "27          7.0  \n",
              "28          6.0  \n",
              "29          6.0  "
            ]
          },
          "execution_count": 67,
          "metadata": {},
          "output_type": "execute_result"
        }
      ],
      "source": [
        "# Rainfall 열 값 변경\n",
        "rainfall_mapping = {'0': 0, '1mm 미만': 1, '1.0mm': 1, '2.0mm': 1, '3.0mm': 1}\n",
        "tomorrow_df['Rainfall'] = tomorrow_df['Rainfall'].astype(str).map(rainfall_mapping).fillna(2).astype(int)\n",
        "\n",
        "# Cloud 값 보정\n",
        "cloud_mapping = {1: 2, 2: 4, 3: 8, 4: 10}\n",
        "tomorrow_df['Cloud'] = tomorrow_df['Cloud'].map(cloud_mapping)\n",
        "\n",
        "# hour 값 0~23 을 1~24로 수정\n",
        "tomorrow_df['hour'] = tomorrow_df['hour'] + 1\n",
        "\n",
        "tomorrow_df"
      ]
    },
    {
      "cell_type": "code",
      "execution_count": 68,
      "metadata": {
        "id": "MMvSCss3tlm2"
      },
      "outputs": [],
      "source": [
        "an = [1.000110,0.034221,0.000719]\n",
        "bn = [0,0.001280,0.000077]\n",
        "cn = [0.006918,-0.399912,-0.006758,-0.002697]\n",
        "dn = [0,0.070257,0.000907,0.000148]\n",
        "\n",
        "\n",
        "S = 1367 #solar constant\n",
        "L = 33.3 #latitude\n",
        "L_rad = np.deg2rad(L) #latitude를 rad으로 변환\n",
        "\n",
        "tomorrow_df['date'] = pd.to_datetime(tomorrow_df['date'])\n",
        "d = tomorrow_df['date'].dt.dayofyear\n",
        "t = 2*np.pi*d/365"
      ]
    },
    {
      "cell_type": "code",
      "execution_count": 69,
      "metadata": {
        "id": "AHjHoo_mtuT-"
      },
      "outputs": [],
      "source": [
        "LN = datetime.datetime(2024, 2, 9, 12, 0, 0) # local noon time"
      ]
    },
    {
      "cell_type": "code",
      "execution_count": 70,
      "metadata": {
        "id": "E2hvlPG7tvm0"
      },
      "outputs": [],
      "source": [
        "# sun-earth distance  : r0 값을 알 수 없어서, a로 근사한 식을 이용함\n",
        "r0_r2 = np.zeros(t.shape)\n",
        "for i in range(0,3) :\n",
        "    r0_r2 = r0_r2+an[i]*np.cos(i*t)+bn[i]*np.sin(i*t)\n",
        "\n",
        "# declination angle\n",
        "delta_rad = np.zeros(t.shape)\n",
        "for i in range(0,4) :\n",
        "    delta_rad = delta_rad+cn[i]*np.cos(i*t)+dn[i]*np.sin(i*t)"
      ]
    },
    {
      "cell_type": "code",
      "execution_count": 71,
      "metadata": {
        "id": "sGT44jnWtxOm"
      },
      "outputs": [],
      "source": [
        "# Solar insolation for hour gap\n",
        "# Q12는 태양 남중 12시로 가정한거고, Q13은 남중 13시로 가정한검니당\n",
        "Q = np.zeros(t.shape)\n",
        "gap = np.pi/12\n",
        "tomorrow_df['Q12'] = S*r0_r2*((np.sin(L_rad)*np.sin(delta_rad))+((24/np.pi)*np.cos(L_rad)*np.cos(delta_rad)*np.sin(np.pi/24)*np.cos((tomorrow_df.hour-12)*gap)))\n",
        "tomorrow_df['Q12'] = tomorrow_df['Q12'].apply(lambda x: max(0, x))\n",
        "tomorrow_df['Q13'] = S*r0_r2*((np.sin(L_rad)*np.sin(delta_rad))+((24/np.pi)*np.cos(L_rad)*np.cos(delta_rad)*np.sin(np.pi/24)*np.cos((tomorrow_df.hour-13)*gap)))\n",
        "tomorrow_df['Q13'] = tomorrow_df['Q13'].apply(lambda x: max(0, x))\n",
        "tomorrow_df['Q_mean'] = (tomorrow_df['Q12']+tomorrow_df['Q13'])/2"
      ]
    },
    {
      "cell_type": "code",
      "execution_count": 75,
      "metadata": {
        "colab": {
          "base_uri": "https://localhost:8080/",
          "height": 801
        },
        "id": "5UEaGIMAtygS",
        "outputId": "be47bf57-4b13-43cc-eb6d-28e890eabd99"
      },
      "outputs": [
        {
          "data": {
            "application/vnd.google.colaboratory.intrinsic+json": {
              "summary": "{\n  \"name\": \"tomorrow_df\",\n  \"rows\": 24,\n  \"fields\": [\n    {\n      \"column\": \"date\",\n      \"properties\": {\n        \"dtype\": \"date\",\n        \"min\": \"2024-02-16 00:00:00\",\n        \"max\": \"2024-02-16 00:00:00\",\n        \"samples\": [\n          \"2024-02-16 00:00:00\"\n        ],\n        \"num_unique_values\": 1,\n        \"semantic_type\": \"\",\n        \"description\": \"\"\n      }\n    },\n    {\n      \"column\": \"hour\",\n      \"properties\": {\n        \"dtype\": \"number\",\n        \"std\": 7,\n        \"min\": 1,\n        \"max\": 24,\n        \"samples\": [\n          9\n        ],\n        \"num_unique_values\": 24,\n        \"semantic_type\": \"\",\n        \"description\": \"\"\n      }\n    },\n    {\n      \"column\": \"WindDirection\",\n      \"properties\": {\n        \"dtype\": \"number\",\n        \"std\": 42.003795549684675,\n        \"min\": 6.0,\n        \"max\": 152.0,\n        \"samples\": [\n          10.0\n        ],\n        \"num_unique_values\": 21,\n        \"semantic_type\": \"\",\n        \"description\": \"\"\n      }\n    },\n    {\n      \"column\": \"WindSpeed\",\n      \"properties\": {\n        \"dtype\": \"number\",\n        \"std\": 1.9031962056239629,\n        \"min\": 1.3,\n        \"max\": 7.2,\n        \"samples\": [\n          7.2\n        ],\n        \"num_unique_values\": 22,\n        \"semantic_type\": \"\",\n        \"description\": \"\"\n      }\n    },\n    {\n      \"column\": \"Cloud\",\n      \"properties\": {\n        \"dtype\": \"number\",\n        \"std\": 3,\n        \"min\": 2,\n        \"max\": 10,\n        \"samples\": [\n          2\n        ],\n        \"num_unique_values\": 3,\n        \"semantic_type\": \"\",\n        \"description\": \"\"\n      }\n    },\n    {\n      \"column\": \"Rainfall\",\n      \"properties\": {\n        \"dtype\": \"number\",\n        \"std\": 0,\n        \"min\": 0,\n        \"max\": 0,\n        \"samples\": [\n          0\n        ],\n        \"num_unique_values\": 1,\n        \"semantic_type\": \"\",\n        \"description\": \"\"\n      }\n    },\n    {\n      \"column\": \"Humidity\",\n      \"properties\": {\n        \"dtype\": \"number\",\n        \"std\": 6.370220572706061,\n        \"min\": 55.0,\n        \"max\": 75.0,\n        \"samples\": [\n          65.0\n        ],\n        \"num_unique_values\": 5,\n        \"semantic_type\": \"\",\n        \"description\": \"\"\n      }\n    },\n    {\n      \"column\": \"Temperature\",\n      \"properties\": {\n        \"dtype\": \"number\",\n        \"std\": 2.371326296779315,\n        \"min\": 3.0,\n        \"max\": 10.0,\n        \"samples\": [\n          4.0\n        ],\n        \"num_unique_values\": 8,\n        \"semantic_type\": \"\",\n        \"description\": \"\"\n      }\n    },\n    {\n      \"column\": \"Q12\",\n      \"properties\": {\n        \"dtype\": \"number\",\n        \"std\": 378.7396664161478,\n        \"min\": 0.0,\n        \"max\": 976.5838199816619,\n        \"samples\": [\n          0.0\n        ],\n        \"num_unique_values\": 7,\n        \"semantic_type\": \"\",\n        \"description\": \"\"\n      }\n    },\n    {\n      \"column\": \"Q13\",\n      \"properties\": {\n        \"dtype\": \"number\",\n        \"std\": 378.7396664161478,\n        \"min\": 0.0,\n        \"max\": 976.5838199816619,\n        \"samples\": [\n          0.0\n        ],\n        \"num_unique_values\": 7,\n        \"semantic_type\": \"\",\n        \"description\": \"\"\n      }\n    },\n    {\n      \"column\": \"Q_mean\",\n      \"properties\": {\n        \"dtype\": \"number\",\n        \"std\": 373.07112607626345,\n        \"min\": 0.0,\n        \"max\": 957.1517367429472,\n        \"samples\": [\n          0.0\n        ],\n        \"num_unique_values\": 7,\n        \"semantic_type\": \"\",\n        \"description\": \"\"\n      }\n    },\n    {\n      \"column\": \"weekday\",\n      \"properties\": {\n        \"dtype\": \"number\",\n        \"std\": 0,\n        \"min\": 4,\n        \"max\": 4,\n        \"samples\": [\n          4\n        ],\n        \"num_unique_values\": 1,\n        \"semantic_type\": \"\",\n        \"description\": \"\"\n      }\n    }\n  ]\n}",
              "type": "dataframe",
              "variable_name": "tomorrow_df"
            },
            "text/html": [
              "\n",
              "  <div id=\"df-01153772-eff2-42c2-b522-ce8f7e783bc8\" class=\"colab-df-container\">\n",
              "    <div>\n",
              "<style scoped>\n",
              "    .dataframe tbody tr th:only-of-type {\n",
              "        vertical-align: middle;\n",
              "    }\n",
              "\n",
              "    .dataframe tbody tr th {\n",
              "        vertical-align: top;\n",
              "    }\n",
              "\n",
              "    .dataframe thead th {\n",
              "        text-align: right;\n",
              "    }\n",
              "</style>\n",
              "<table border=\"1\" class=\"dataframe\">\n",
              "  <thead>\n",
              "    <tr style=\"text-align: right;\">\n",
              "      <th></th>\n",
              "      <th>date</th>\n",
              "      <th>hour</th>\n",
              "      <th>WindDirection</th>\n",
              "      <th>WindSpeed</th>\n",
              "      <th>Cloud</th>\n",
              "      <th>Rainfall</th>\n",
              "      <th>Humidity</th>\n",
              "      <th>Temperature</th>\n",
              "      <th>Q12</th>\n",
              "      <th>Q13</th>\n",
              "      <th>Q_mean</th>\n",
              "      <th>weekday</th>\n",
              "    </tr>\n",
              "  </thead>\n",
              "  <tbody>\n",
              "    <tr>\n",
              "      <th>6</th>\n",
              "      <td>2024-02-16</td>\n",
              "      <td>1</td>\n",
              "      <td>10.0</td>\n",
              "      <td>7.2</td>\n",
              "      <td>2</td>\n",
              "      <td>0</td>\n",
              "      <td>60.0</td>\n",
              "      <td>5.0</td>\n",
              "      <td>0.000000</td>\n",
              "      <td>0.000000</td>\n",
              "      <td>0.000000</td>\n",
              "      <td>4</td>\n",
              "    </tr>\n",
              "    <tr>\n",
              "      <th>7</th>\n",
              "      <td>2024-02-16</td>\n",
              "      <td>2</td>\n",
              "      <td>7.0</td>\n",
              "      <td>6.4</td>\n",
              "      <td>10</td>\n",
              "      <td>0</td>\n",
              "      <td>65.0</td>\n",
              "      <td>5.0</td>\n",
              "      <td>0.000000</td>\n",
              "      <td>0.000000</td>\n",
              "      <td>0.000000</td>\n",
              "      <td>4</td>\n",
              "    </tr>\n",
              "    <tr>\n",
              "      <th>8</th>\n",
              "      <td>2024-02-16</td>\n",
              "      <td>3</td>\n",
              "      <td>13.0</td>\n",
              "      <td>6.7</td>\n",
              "      <td>2</td>\n",
              "      <td>0</td>\n",
              "      <td>65.0</td>\n",
              "      <td>5.0</td>\n",
              "      <td>0.000000</td>\n",
              "      <td>0.000000</td>\n",
              "      <td>0.000000</td>\n",
              "      <td>4</td>\n",
              "    </tr>\n",
              "    <tr>\n",
              "      <th>9</th>\n",
              "      <td>2024-02-16</td>\n",
              "      <td>4</td>\n",
              "      <td>18.0</td>\n",
              "      <td>6.5</td>\n",
              "      <td>2</td>\n",
              "      <td>0</td>\n",
              "      <td>70.0</td>\n",
              "      <td>5.0</td>\n",
              "      <td>0.000000</td>\n",
              "      <td>0.000000</td>\n",
              "      <td>0.000000</td>\n",
              "      <td>4</td>\n",
              "    </tr>\n",
              "    <tr>\n",
              "      <th>10</th>\n",
              "      <td>2024-02-16</td>\n",
              "      <td>5</td>\n",
              "      <td>21.0</td>\n",
              "      <td>6.4</td>\n",
              "      <td>2</td>\n",
              "      <td>0</td>\n",
              "      <td>70.0</td>\n",
              "      <td>4.0</td>\n",
              "      <td>0.000000</td>\n",
              "      <td>0.000000</td>\n",
              "      <td>0.000000</td>\n",
              "      <td>4</td>\n",
              "    </tr>\n",
              "    <tr>\n",
              "      <th>11</th>\n",
              "      <td>2024-02-16</td>\n",
              "      <td>6</td>\n",
              "      <td>22.0</td>\n",
              "      <td>5.9</td>\n",
              "      <td>8</td>\n",
              "      <td>0</td>\n",
              "      <td>70.0</td>\n",
              "      <td>4.0</td>\n",
              "      <td>0.000000</td>\n",
              "      <td>0.000000</td>\n",
              "      <td>0.000000</td>\n",
              "      <td>4</td>\n",
              "    </tr>\n",
              "    <tr>\n",
              "      <th>12</th>\n",
              "      <td>2024-02-16</td>\n",
              "      <td>7</td>\n",
              "      <td>24.0</td>\n",
              "      <td>5.4</td>\n",
              "      <td>8</td>\n",
              "      <td>0</td>\n",
              "      <td>70.0</td>\n",
              "      <td>4.0</td>\n",
              "      <td>131.211009</td>\n",
              "      <td>0.000000</td>\n",
              "      <td>65.605504</td>\n",
              "      <td>4</td>\n",
              "    </tr>\n",
              "    <tr>\n",
              "      <th>13</th>\n",
              "      <td>2024-02-16</td>\n",
              "      <td>8</td>\n",
              "      <td>28.0</td>\n",
              "      <td>4.7</td>\n",
              "      <td>8</td>\n",
              "      <td>0</td>\n",
              "      <td>75.0</td>\n",
              "      <td>3.0</td>\n",
              "      <td>406.296088</td>\n",
              "      <td>131.211009</td>\n",
              "      <td>268.753548</td>\n",
              "      <td>4</td>\n",
              "    </tr>\n",
              "    <tr>\n",
              "      <th>14</th>\n",
              "      <td>2024-02-16</td>\n",
              "      <td>9</td>\n",
              "      <td>33.0</td>\n",
              "      <td>4.2</td>\n",
              "      <td>8</td>\n",
              "      <td>0</td>\n",
              "      <td>75.0</td>\n",
              "      <td>3.0</td>\n",
              "      <td>642.517001</td>\n",
              "      <td>406.296088</td>\n",
              "      <td>524.406545</td>\n",
              "      <td>4</td>\n",
              "    </tr>\n",
              "    <tr>\n",
              "      <th>15</th>\n",
              "      <td>2024-02-16</td>\n",
              "      <td>10</td>\n",
              "      <td>39.0</td>\n",
              "      <td>4.4</td>\n",
              "      <td>8</td>\n",
              "      <td>0</td>\n",
              "      <td>75.0</td>\n",
              "      <td>5.0</td>\n",
              "      <td>823.775683</td>\n",
              "      <td>642.517001</td>\n",
              "      <td>733.146342</td>\n",
              "      <td>4</td>\n",
              "    </tr>\n",
              "    <tr>\n",
              "      <th>16</th>\n",
              "      <td>2024-02-16</td>\n",
              "      <td>11</td>\n",
              "      <td>41.0</td>\n",
              "      <td>4.0</td>\n",
              "      <td>2</td>\n",
              "      <td>0</td>\n",
              "      <td>70.0</td>\n",
              "      <td>7.0</td>\n",
              "      <td>937.719654</td>\n",
              "      <td>823.775683</td>\n",
              "      <td>880.747668</td>\n",
              "      <td>4</td>\n",
              "    </tr>\n",
              "    <tr>\n",
              "      <th>17</th>\n",
              "      <td>2024-02-16</td>\n",
              "      <td>12</td>\n",
              "      <td>38.0</td>\n",
              "      <td>3.3</td>\n",
              "      <td>8</td>\n",
              "      <td>0</td>\n",
              "      <td>65.0</td>\n",
              "      <td>8.0</td>\n",
              "      <td>976.583820</td>\n",
              "      <td>937.719654</td>\n",
              "      <td>957.151737</td>\n",
              "      <td>4</td>\n",
              "    </tr>\n",
              "    <tr>\n",
              "      <th>18</th>\n",
              "      <td>2024-02-16</td>\n",
              "      <td>13</td>\n",
              "      <td>27.0</td>\n",
              "      <td>3.0</td>\n",
              "      <td>8</td>\n",
              "      <td>0</td>\n",
              "      <td>60.0</td>\n",
              "      <td>9.0</td>\n",
              "      <td>937.719654</td>\n",
              "      <td>976.583820</td>\n",
              "      <td>957.151737</td>\n",
              "      <td>4</td>\n",
              "    </tr>\n",
              "    <tr>\n",
              "      <th>19</th>\n",
              "      <td>2024-02-16</td>\n",
              "      <td>14</td>\n",
              "      <td>18.0</td>\n",
              "      <td>2.9</td>\n",
              "      <td>2</td>\n",
              "      <td>0</td>\n",
              "      <td>60.0</td>\n",
              "      <td>9.0</td>\n",
              "      <td>823.775683</td>\n",
              "      <td>937.719654</td>\n",
              "      <td>880.747668</td>\n",
              "      <td>4</td>\n",
              "    </tr>\n",
              "    <tr>\n",
              "      <th>20</th>\n",
              "      <td>2024-02-16</td>\n",
              "      <td>15</td>\n",
              "      <td>12.0</td>\n",
              "      <td>2.9</td>\n",
              "      <td>2</td>\n",
              "      <td>0</td>\n",
              "      <td>55.0</td>\n",
              "      <td>10.0</td>\n",
              "      <td>642.517001</td>\n",
              "      <td>823.775683</td>\n",
              "      <td>733.146342</td>\n",
              "      <td>4</td>\n",
              "    </tr>\n",
              "    <tr>\n",
              "      <th>21</th>\n",
              "      <td>2024-02-16</td>\n",
              "      <td>16</td>\n",
              "      <td>6.0</td>\n",
              "      <td>2.8</td>\n",
              "      <td>2</td>\n",
              "      <td>0</td>\n",
              "      <td>55.0</td>\n",
              "      <td>10.0</td>\n",
              "      <td>406.296088</td>\n",
              "      <td>642.517001</td>\n",
              "      <td>524.406545</td>\n",
              "      <td>4</td>\n",
              "    </tr>\n",
              "    <tr>\n",
              "      <th>22</th>\n",
              "      <td>2024-02-16</td>\n",
              "      <td>17</td>\n",
              "      <td>6.0</td>\n",
              "      <td>2.7</td>\n",
              "      <td>2</td>\n",
              "      <td>0</td>\n",
              "      <td>55.0</td>\n",
              "      <td>10.0</td>\n",
              "      <td>131.211009</td>\n",
              "      <td>406.296088</td>\n",
              "      <td>268.753548</td>\n",
              "      <td>4</td>\n",
              "    </tr>\n",
              "    <tr>\n",
              "      <th>23</th>\n",
              "      <td>2024-02-16</td>\n",
              "      <td>18</td>\n",
              "      <td>14.0</td>\n",
              "      <td>2.5</td>\n",
              "      <td>2</td>\n",
              "      <td>0</td>\n",
              "      <td>60.0</td>\n",
              "      <td>10.0</td>\n",
              "      <td>0.000000</td>\n",
              "      <td>131.211009</td>\n",
              "      <td>65.605504</td>\n",
              "      <td>4</td>\n",
              "    </tr>\n",
              "    <tr>\n",
              "      <th>24</th>\n",
              "      <td>2024-02-16</td>\n",
              "      <td>19</td>\n",
              "      <td>27.0</td>\n",
              "      <td>1.8</td>\n",
              "      <td>8</td>\n",
              "      <td>0</td>\n",
              "      <td>60.0</td>\n",
              "      <td>9.0</td>\n",
              "      <td>0.000000</td>\n",
              "      <td>0.000000</td>\n",
              "      <td>0.000000</td>\n",
              "      <td>4</td>\n",
              "    </tr>\n",
              "    <tr>\n",
              "      <th>25</th>\n",
              "      <td>2024-02-16</td>\n",
              "      <td>20</td>\n",
              "      <td>42.0</td>\n",
              "      <td>1.5</td>\n",
              "      <td>8</td>\n",
              "      <td>0</td>\n",
              "      <td>65.0</td>\n",
              "      <td>8.0</td>\n",
              "      <td>0.000000</td>\n",
              "      <td>0.000000</td>\n",
              "      <td>0.000000</td>\n",
              "      <td>4</td>\n",
              "    </tr>\n",
              "    <tr>\n",
              "      <th>26</th>\n",
              "      <td>2024-02-16</td>\n",
              "      <td>21</td>\n",
              "      <td>81.0</td>\n",
              "      <td>1.3</td>\n",
              "      <td>8</td>\n",
              "      <td>0</td>\n",
              "      <td>70.0</td>\n",
              "      <td>8.0</td>\n",
              "      <td>0.000000</td>\n",
              "      <td>0.000000</td>\n",
              "      <td>0.000000</td>\n",
              "      <td>4</td>\n",
              "    </tr>\n",
              "    <tr>\n",
              "      <th>27</th>\n",
              "      <td>2024-02-16</td>\n",
              "      <td>22</td>\n",
              "      <td>120.0</td>\n",
              "      <td>1.4</td>\n",
              "      <td>2</td>\n",
              "      <td>0</td>\n",
              "      <td>70.0</td>\n",
              "      <td>7.0</td>\n",
              "      <td>0.000000</td>\n",
              "      <td>0.000000</td>\n",
              "      <td>0.000000</td>\n",
              "      <td>4</td>\n",
              "    </tr>\n",
              "    <tr>\n",
              "      <th>28</th>\n",
              "      <td>2024-02-16</td>\n",
              "      <td>23</td>\n",
              "      <td>145.0</td>\n",
              "      <td>1.9</td>\n",
              "      <td>2</td>\n",
              "      <td>0</td>\n",
              "      <td>70.0</td>\n",
              "      <td>6.0</td>\n",
              "      <td>0.000000</td>\n",
              "      <td>0.000000</td>\n",
              "      <td>0.000000</td>\n",
              "      <td>4</td>\n",
              "    </tr>\n",
              "    <tr>\n",
              "      <th>29</th>\n",
              "      <td>2024-02-16</td>\n",
              "      <td>24</td>\n",
              "      <td>152.0</td>\n",
              "      <td>2.1</td>\n",
              "      <td>2</td>\n",
              "      <td>0</td>\n",
              "      <td>70.0</td>\n",
              "      <td>6.0</td>\n",
              "      <td>0.000000</td>\n",
              "      <td>0.000000</td>\n",
              "      <td>0.000000</td>\n",
              "      <td>4</td>\n",
              "    </tr>\n",
              "  </tbody>\n",
              "</table>\n",
              "</div>\n",
              "    <div class=\"colab-df-buttons\">\n",
              "\n",
              "  <div class=\"colab-df-container\">\n",
              "    <button class=\"colab-df-convert\" onclick=\"convertToInteractive('df-01153772-eff2-42c2-b522-ce8f7e783bc8')\"\n",
              "            title=\"Convert this dataframe to an interactive table.\"\n",
              "            style=\"display:none;\">\n",
              "\n",
              "  <svg xmlns=\"http://www.w3.org/2000/svg\" height=\"24px\" viewBox=\"0 -960 960 960\">\n",
              "    <path d=\"M120-120v-720h720v720H120Zm60-500h600v-160H180v160Zm220 220h160v-160H400v160Zm0 220h160v-160H400v160ZM180-400h160v-160H180v160Zm440 0h160v-160H620v160ZM180-180h160v-160H180v160Zm440 0h160v-160H620v160Z\"/>\n",
              "  </svg>\n",
              "    </button>\n",
              "\n",
              "  <style>\n",
              "    .colab-df-container {\n",
              "      display:flex;\n",
              "      gap: 12px;\n",
              "    }\n",
              "\n",
              "    .colab-df-convert {\n",
              "      background-color: #E8F0FE;\n",
              "      border: none;\n",
              "      border-radius: 50%;\n",
              "      cursor: pointer;\n",
              "      display: none;\n",
              "      fill: #1967D2;\n",
              "      height: 32px;\n",
              "      padding: 0 0 0 0;\n",
              "      width: 32px;\n",
              "    }\n",
              "\n",
              "    .colab-df-convert:hover {\n",
              "      background-color: #E2EBFA;\n",
              "      box-shadow: 0px 1px 2px rgba(60, 64, 67, 0.3), 0px 1px 3px 1px rgba(60, 64, 67, 0.15);\n",
              "      fill: #174EA6;\n",
              "    }\n",
              "\n",
              "    .colab-df-buttons div {\n",
              "      margin-bottom: 4px;\n",
              "    }\n",
              "\n",
              "    [theme=dark] .colab-df-convert {\n",
              "      background-color: #3B4455;\n",
              "      fill: #D2E3FC;\n",
              "    }\n",
              "\n",
              "    [theme=dark] .colab-df-convert:hover {\n",
              "      background-color: #434B5C;\n",
              "      box-shadow: 0px 1px 3px 1px rgba(0, 0, 0, 0.15);\n",
              "      filter: drop-shadow(0px 1px 2px rgba(0, 0, 0, 0.3));\n",
              "      fill: #FFFFFF;\n",
              "    }\n",
              "  </style>\n",
              "\n",
              "    <script>\n",
              "      const buttonEl =\n",
              "        document.querySelector('#df-01153772-eff2-42c2-b522-ce8f7e783bc8 button.colab-df-convert');\n",
              "      buttonEl.style.display =\n",
              "        google.colab.kernel.accessAllowed ? 'block' : 'none';\n",
              "\n",
              "      async function convertToInteractive(key) {\n",
              "        const element = document.querySelector('#df-01153772-eff2-42c2-b522-ce8f7e783bc8');\n",
              "        const dataTable =\n",
              "          await google.colab.kernel.invokeFunction('convertToInteractive',\n",
              "                                                    [key], {});\n",
              "        if (!dataTable) return;\n",
              "\n",
              "        const docLinkHtml = 'Like what you see? Visit the ' +\n",
              "          '<a target=\"_blank\" href=https://colab.research.google.com/notebooks/data_table.ipynb>data table notebook</a>'\n",
              "          + ' to learn more about interactive tables.';\n",
              "        element.innerHTML = '';\n",
              "        dataTable['output_type'] = 'display_data';\n",
              "        await google.colab.output.renderOutput(dataTable, element);\n",
              "        const docLink = document.createElement('div');\n",
              "        docLink.innerHTML = docLinkHtml;\n",
              "        element.appendChild(docLink);\n",
              "      }\n",
              "    </script>\n",
              "  </div>\n",
              "\n",
              "\n",
              "<div id=\"df-95c9081a-12b6-4310-8213-84a23c963eef\">\n",
              "  <button class=\"colab-df-quickchart\" onclick=\"quickchart('df-95c9081a-12b6-4310-8213-84a23c963eef')\"\n",
              "            title=\"Suggest charts\"\n",
              "            style=\"display:none;\">\n",
              "\n",
              "<svg xmlns=\"http://www.w3.org/2000/svg\" height=\"24px\"viewBox=\"0 0 24 24\"\n",
              "     width=\"24px\">\n",
              "    <g>\n",
              "        <path d=\"M19 3H5c-1.1 0-2 .9-2 2v14c0 1.1.9 2 2 2h14c1.1 0 2-.9 2-2V5c0-1.1-.9-2-2-2zM9 17H7v-7h2v7zm4 0h-2V7h2v10zm4 0h-2v-4h2v4z\"/>\n",
              "    </g>\n",
              "</svg>\n",
              "  </button>\n",
              "\n",
              "<style>\n",
              "  .colab-df-quickchart {\n",
              "      --bg-color: #E8F0FE;\n",
              "      --fill-color: #1967D2;\n",
              "      --hover-bg-color: #E2EBFA;\n",
              "      --hover-fill-color: #174EA6;\n",
              "      --disabled-fill-color: #AAA;\n",
              "      --disabled-bg-color: #DDD;\n",
              "  }\n",
              "\n",
              "  [theme=dark] .colab-df-quickchart {\n",
              "      --bg-color: #3B4455;\n",
              "      --fill-color: #D2E3FC;\n",
              "      --hover-bg-color: #434B5C;\n",
              "      --hover-fill-color: #FFFFFF;\n",
              "      --disabled-bg-color: #3B4455;\n",
              "      --disabled-fill-color: #666;\n",
              "  }\n",
              "\n",
              "  .colab-df-quickchart {\n",
              "    background-color: var(--bg-color);\n",
              "    border: none;\n",
              "    border-radius: 50%;\n",
              "    cursor: pointer;\n",
              "    display: none;\n",
              "    fill: var(--fill-color);\n",
              "    height: 32px;\n",
              "    padding: 0;\n",
              "    width: 32px;\n",
              "  }\n",
              "\n",
              "  .colab-df-quickchart:hover {\n",
              "    background-color: var(--hover-bg-color);\n",
              "    box-shadow: 0 1px 2px rgba(60, 64, 67, 0.3), 0 1px 3px 1px rgba(60, 64, 67, 0.15);\n",
              "    fill: var(--button-hover-fill-color);\n",
              "  }\n",
              "\n",
              "  .colab-df-quickchart-complete:disabled,\n",
              "  .colab-df-quickchart-complete:disabled:hover {\n",
              "    background-color: var(--disabled-bg-color);\n",
              "    fill: var(--disabled-fill-color);\n",
              "    box-shadow: none;\n",
              "  }\n",
              "\n",
              "  .colab-df-spinner {\n",
              "    border: 2px solid var(--fill-color);\n",
              "    border-color: transparent;\n",
              "    border-bottom-color: var(--fill-color);\n",
              "    animation:\n",
              "      spin 1s steps(1) infinite;\n",
              "  }\n",
              "\n",
              "  @keyframes spin {\n",
              "    0% {\n",
              "      border-color: transparent;\n",
              "      border-bottom-color: var(--fill-color);\n",
              "      border-left-color: var(--fill-color);\n",
              "    }\n",
              "    20% {\n",
              "      border-color: transparent;\n",
              "      border-left-color: var(--fill-color);\n",
              "      border-top-color: var(--fill-color);\n",
              "    }\n",
              "    30% {\n",
              "      border-color: transparent;\n",
              "      border-left-color: var(--fill-color);\n",
              "      border-top-color: var(--fill-color);\n",
              "      border-right-color: var(--fill-color);\n",
              "    }\n",
              "    40% {\n",
              "      border-color: transparent;\n",
              "      border-right-color: var(--fill-color);\n",
              "      border-top-color: var(--fill-color);\n",
              "    }\n",
              "    60% {\n",
              "      border-color: transparent;\n",
              "      border-right-color: var(--fill-color);\n",
              "    }\n",
              "    80% {\n",
              "      border-color: transparent;\n",
              "      border-right-color: var(--fill-color);\n",
              "      border-bottom-color: var(--fill-color);\n",
              "    }\n",
              "    90% {\n",
              "      border-color: transparent;\n",
              "      border-bottom-color: var(--fill-color);\n",
              "    }\n",
              "  }\n",
              "</style>\n",
              "\n",
              "  <script>\n",
              "    async function quickchart(key) {\n",
              "      const quickchartButtonEl =\n",
              "        document.querySelector('#' + key + ' button');\n",
              "      quickchartButtonEl.disabled = true;  // To prevent multiple clicks.\n",
              "      quickchartButtonEl.classList.add('colab-df-spinner');\n",
              "      try {\n",
              "        const charts = await google.colab.kernel.invokeFunction(\n",
              "            'suggestCharts', [key], {});\n",
              "      } catch (error) {\n",
              "        console.error('Error during call to suggestCharts:', error);\n",
              "      }\n",
              "      quickchartButtonEl.classList.remove('colab-df-spinner');\n",
              "      quickchartButtonEl.classList.add('colab-df-quickchart-complete');\n",
              "    }\n",
              "    (() => {\n",
              "      let quickchartButtonEl =\n",
              "        document.querySelector('#df-95c9081a-12b6-4310-8213-84a23c963eef button');\n",
              "      quickchartButtonEl.style.display =\n",
              "        google.colab.kernel.accessAllowed ? 'block' : 'none';\n",
              "    })();\n",
              "  </script>\n",
              "</div>\n",
              "    </div>\n",
              "  </div>\n"
            ],
            "text/plain": [
              "         date  hour  WindDirection  WindSpeed  Cloud  Rainfall  Humidity  \\\n",
              "6  2024-02-16     1           10.0        7.2      2         0      60.0   \n",
              "7  2024-02-16     2            7.0        6.4     10         0      65.0   \n",
              "8  2024-02-16     3           13.0        6.7      2         0      65.0   \n",
              "9  2024-02-16     4           18.0        6.5      2         0      70.0   \n",
              "10 2024-02-16     5           21.0        6.4      2         0      70.0   \n",
              "11 2024-02-16     6           22.0        5.9      8         0      70.0   \n",
              "12 2024-02-16     7           24.0        5.4      8         0      70.0   \n",
              "13 2024-02-16     8           28.0        4.7      8         0      75.0   \n",
              "14 2024-02-16     9           33.0        4.2      8         0      75.0   \n",
              "15 2024-02-16    10           39.0        4.4      8         0      75.0   \n",
              "16 2024-02-16    11           41.0        4.0      2         0      70.0   \n",
              "17 2024-02-16    12           38.0        3.3      8         0      65.0   \n",
              "18 2024-02-16    13           27.0        3.0      8         0      60.0   \n",
              "19 2024-02-16    14           18.0        2.9      2         0      60.0   \n",
              "20 2024-02-16    15           12.0        2.9      2         0      55.0   \n",
              "21 2024-02-16    16            6.0        2.8      2         0      55.0   \n",
              "22 2024-02-16    17            6.0        2.7      2         0      55.0   \n",
              "23 2024-02-16    18           14.0        2.5      2         0      60.0   \n",
              "24 2024-02-16    19           27.0        1.8      8         0      60.0   \n",
              "25 2024-02-16    20           42.0        1.5      8         0      65.0   \n",
              "26 2024-02-16    21           81.0        1.3      8         0      70.0   \n",
              "27 2024-02-16    22          120.0        1.4      2         0      70.0   \n",
              "28 2024-02-16    23          145.0        1.9      2         0      70.0   \n",
              "29 2024-02-16    24          152.0        2.1      2         0      70.0   \n",
              "\n",
              "    Temperature         Q12         Q13      Q_mean  weekday  \n",
              "6           5.0    0.000000    0.000000    0.000000        4  \n",
              "7           5.0    0.000000    0.000000    0.000000        4  \n",
              "8           5.0    0.000000    0.000000    0.000000        4  \n",
              "9           5.0    0.000000    0.000000    0.000000        4  \n",
              "10          4.0    0.000000    0.000000    0.000000        4  \n",
              "11          4.0    0.000000    0.000000    0.000000        4  \n",
              "12          4.0  131.211009    0.000000   65.605504        4  \n",
              "13          3.0  406.296088  131.211009  268.753548        4  \n",
              "14          3.0  642.517001  406.296088  524.406545        4  \n",
              "15          5.0  823.775683  642.517001  733.146342        4  \n",
              "16          7.0  937.719654  823.775683  880.747668        4  \n",
              "17          8.0  976.583820  937.719654  957.151737        4  \n",
              "18          9.0  937.719654  976.583820  957.151737        4  \n",
              "19          9.0  823.775683  937.719654  880.747668        4  \n",
              "20         10.0  642.517001  823.775683  733.146342        4  \n",
              "21         10.0  406.296088  642.517001  524.406545        4  \n",
              "22         10.0  131.211009  406.296088  268.753548        4  \n",
              "23         10.0    0.000000  131.211009   65.605504        4  \n",
              "24          9.0    0.000000    0.000000    0.000000        4  \n",
              "25          8.0    0.000000    0.000000    0.000000        4  \n",
              "26          8.0    0.000000    0.000000    0.000000        4  \n",
              "27          7.0    0.000000    0.000000    0.000000        4  \n",
              "28          6.0    0.000000    0.000000    0.000000        4  \n",
              "29          6.0    0.000000    0.000000    0.000000        4  "
            ]
          },
          "execution_count": 75,
          "metadata": {},
          "output_type": "execute_result"
        }
      ],
      "source": [
        "tomorrow_df['date'] = pd.to_datetime(tomorrow_df['date'])\n",
        "tomorrow_df['weekday'] = tomorrow_df['date'].dt.dayofweek\n",
        "tomorrow_df"
      ]
    },
    {
      "cell_type": "code",
      "execution_count": 76,
      "metadata": {
        "id": "YGJR5FX9t00h"
      },
      "outputs": [],
      "source": [
        "# columns_to_scale 정의\n",
        "columns_to_scale = ['WindDirection', 'WindSpeed', 'Cloud', 'Rainfall', 'Humidity', 'Temperature', 'Q12', 'Q13', 'Q_mean', 'weekday']\n",
        "\n",
        "# test 세트에도 동일한 scaling 적용\n",
        "tomorrow_df[columns_to_scale] = ss.transform(tomorrow_df[columns_to_scale])"
      ]
    },
    {
      "cell_type": "code",
      "execution_count": 77,
      "metadata": {
        "colab": {
          "base_uri": "https://localhost:8080/",
          "height": 300
        },
        "id": "L_QARlqXufOS",
        "outputId": "0af5d56b-7cce-4077-801b-2dc50a6afdf0"
      },
      "outputs": [
        {
          "data": {
            "application/vnd.google.colaboratory.intrinsic+json": {
              "summary": "{\n  \"name\": \"tomorrow_df\",\n  \"rows\": 8,\n  \"fields\": [\n    {\n      \"column\": \"hour\",\n      \"properties\": {\n        \"dtype\": \"number\",\n        \"std\": 8.347292731832532,\n        \"min\": 1.0,\n        \"max\": 24.0,\n        \"samples\": [\n          24.0,\n          12.5,\n          18.25\n        ],\n        \"num_unique_values\": 6,\n        \"semantic_type\": \"\",\n        \"description\": \"\"\n      }\n    },\n    {\n      \"column\": \"WindDirection\",\n      \"properties\": {\n        \"dtype\": \"number\",\n        \"std\": 8.853864251860633,\n        \"min\": -1.5473302454435736,\n        \"max\": 24.0,\n        \"samples\": [\n          -1.2515072163721703,\n          -1.3742737734368027,\n          24.0\n        ],\n        \"num_unique_values\": 8,\n        \"semantic_type\": \"\",\n        \"description\": \"\"\n      }\n    },\n    {\n      \"column\": \"WindSpeed\",\n      \"properties\": {\n        \"dtype\": \"number\",\n        \"std\": 8.402584927838962,\n        \"min\": -1.10605557730826,\n        \"max\": 24.0,\n        \"samples\": [\n          0.2662870510733409,\n          -0.1022332922976658,\n          24.0\n        ],\n        \"num_unique_values\": 8,\n        \"semantic_type\": \"\",\n        \"description\": \"\"\n      }\n    },\n    {\n      \"column\": \"Cloud\",\n      \"properties\": {\n        \"dtype\": \"number\",\n        \"std\": 8.606609076543164,\n        \"min\": -1.1694228381309344,\n        \"max\": 24.0,\n        \"samples\": [\n          24.0,\n          -0.3706807604019371,\n          1.0858489107509404\n        ],\n        \"num_unique_values\": 6,\n        \"semantic_type\": \"\",\n        \"description\": \"\"\n      }\n    },\n    {\n      \"column\": \"Rainfall\",\n      \"properties\": {\n        \"dtype\": \"number\",\n        \"std\": 8.559516500722209,\n        \"min\": -0.2435631818777992,\n        \"max\": 24.0,\n        \"samples\": [\n          24.0,\n          -0.2435631818777992,\n          0.0\n        ],\n        \"num_unique_values\": 3,\n        \"semantic_type\": \"\",\n        \"description\": \"\"\n      }\n    },\n    {\n      \"column\": \"Humidity\",\n      \"properties\": {\n        \"dtype\": \"number\",\n        \"std\": 8.588295720713093,\n        \"min\": -1.0895598921026095,\n        \"max\": 24.0,\n        \"samples\": [\n          -0.34557133630062226,\n          -0.23111155848493195,\n          24.0\n        ],\n        \"num_unique_values\": 8,\n        \"semantic_type\": \"\",\n        \"description\": \"\"\n      }\n    },\n    {\n      \"column\": \"Temperature\",\n      \"properties\": {\n        \"dtype\": \"number\",\n        \"std\": 8.881809568643698,\n        \"min\": -1.7359990409104908,\n        \"max\": 24.0,\n        \"samples\": [\n          -1.290495986823567,\n          -1.3107461256457,\n          24.0\n        ],\n        \"num_unique_values\": 8,\n        \"semantic_type\": \"\",\n        \"description\": \"\"\n      }\n    },\n    {\n      \"column\": \"Q12\",\n      \"properties\": {\n        \"dtype\": \"number\",\n        \"std\": 8.510640975341433,\n        \"min\": -0.8080355955356423,\n        \"max\": 24.0,\n        \"samples\": [\n          24.0,\n          -0.15671004804374802,\n          1.417418555827381\n        ],\n        \"num_unique_values\": 6,\n        \"semantic_type\": \"\",\n        \"description\": \"\"\n      }\n    },\n    {\n      \"column\": \"Q13\",\n      \"properties\": {\n        \"dtype\": \"number\",\n        \"std\": 8.510622811557354,\n        \"min\": -0.8080057786457715,\n        \"max\": 24.0,\n        \"samples\": [\n          24.0,\n          -0.1566495428670328,\n          1.4175532286922998\n        ],\n        \"num_unique_values\": 6,\n        \"semantic_type\": \"\",\n        \"description\": \"\"\n      }\n    },\n    {\n      \"column\": \"Q_mean\",\n      \"properties\": {\n        \"dtype\": \"number\",\n        \"std\": 8.514617157269806,\n        \"min\": -0.8183782251999129,\n        \"max\": 24.0,\n        \"samples\": [\n          24.0,\n          -0.15868818151011704,\n          0.5124413319324195\n        ],\n        \"num_unique_values\": 7,\n        \"semantic_type\": \"\",\n        \"description\": \"\"\n      }\n    },\n    {\n      \"column\": \"weekday\",\n      \"properties\": {\n        \"dtype\": \"number\",\n        \"std\": 8.336082730299625,\n        \"min\": 0.0,\n        \"max\": 24.0,\n        \"samples\": [\n          24.0,\n          0.49835006025084744,\n          0.0\n        ],\n        \"num_unique_values\": 3,\n        \"semantic_type\": \"\",\n        \"description\": \"\"\n      }\n    }\n  ]\n}",
              "type": "dataframe"
            },
            "text/html": [
              "\n",
              "  <div id=\"df-c0cc0d71-4dd9-4892-8965-00086419d23a\" class=\"colab-df-container\">\n",
              "    <div>\n",
              "<style scoped>\n",
              "    .dataframe tbody tr th:only-of-type {\n",
              "        vertical-align: middle;\n",
              "    }\n",
              "\n",
              "    .dataframe tbody tr th {\n",
              "        vertical-align: top;\n",
              "    }\n",
              "\n",
              "    .dataframe thead th {\n",
              "        text-align: right;\n",
              "    }\n",
              "</style>\n",
              "<table border=\"1\" class=\"dataframe\">\n",
              "  <thead>\n",
              "    <tr style=\"text-align: right;\">\n",
              "      <th></th>\n",
              "      <th>hour</th>\n",
              "      <th>WindDirection</th>\n",
              "      <th>WindSpeed</th>\n",
              "      <th>Cloud</th>\n",
              "      <th>Rainfall</th>\n",
              "      <th>Humidity</th>\n",
              "      <th>Temperature</th>\n",
              "      <th>Q12</th>\n",
              "      <th>Q13</th>\n",
              "      <th>Q_mean</th>\n",
              "      <th>weekday</th>\n",
              "    </tr>\n",
              "  </thead>\n",
              "  <tbody>\n",
              "    <tr>\n",
              "      <th>count</th>\n",
              "      <td>24.000000</td>\n",
              "      <td>24.000000</td>\n",
              "      <td>24.000000</td>\n",
              "      <td>24.000000</td>\n",
              "      <td>24.000000</td>\n",
              "      <td>24.000000</td>\n",
              "      <td>24.000000</td>\n",
              "      <td>24.000000</td>\n",
              "      <td>24.000000</td>\n",
              "      <td>24.000000</td>\n",
              "      <td>24.00000</td>\n",
              "    </tr>\n",
              "    <tr>\n",
              "      <th>mean</th>\n",
              "      <td>12.500000</td>\n",
              "      <td>-1.251507</td>\n",
              "      <td>0.266287</td>\n",
              "      <td>-0.370681</td>\n",
              "      <td>-0.243563</td>\n",
              "      <td>-0.345571</td>\n",
              "      <td>-1.290496</td>\n",
              "      <td>-0.156710</td>\n",
              "      <td>-0.156650</td>\n",
              "      <td>-0.158688</td>\n",
              "      <td>0.49835</td>\n",
              "    </tr>\n",
              "    <tr>\n",
              "      <th>std</th>\n",
              "      <td>7.071068</td>\n",
              "      <td>0.372771</td>\n",
              "      <td>1.032687</td>\n",
              "      <td>0.894055</td>\n",
              "      <td>0.000000</td>\n",
              "      <td>0.437480</td>\n",
              "      <td>0.288118</td>\n",
              "      <td>0.863078</td>\n",
              "      <td>0.863118</td>\n",
              "      <td>0.861078</td>\n",
              "      <td>0.00000</td>\n",
              "    </tr>\n",
              "    <tr>\n",
              "      <th>min</th>\n",
              "      <td>1.000000</td>\n",
              "      <td>-1.547330</td>\n",
              "      <td>-1.106056</td>\n",
              "      <td>-1.169423</td>\n",
              "      <td>-0.243563</td>\n",
              "      <td>-1.089560</td>\n",
              "      <td>-1.735999</td>\n",
              "      <td>-0.808036</td>\n",
              "      <td>-0.808006</td>\n",
              "      <td>-0.818378</td>\n",
              "      <td>0.49835</td>\n",
              "    </tr>\n",
              "    <tr>\n",
              "      <th>25%</th>\n",
              "      <td>6.750000</td>\n",
              "      <td>-1.478551</td>\n",
              "      <td>-0.509188</td>\n",
              "      <td>-1.169423</td>\n",
              "      <td>-0.243563</td>\n",
              "      <td>-0.746181</td>\n",
              "      <td>-1.492997</td>\n",
              "      <td>-0.808036</td>\n",
              "      <td>-0.808006</td>\n",
              "      <td>-0.818378</td>\n",
              "      <td>0.49835</td>\n",
              "    </tr>\n",
              "    <tr>\n",
              "      <th>50%</th>\n",
              "      <td>12.500000</td>\n",
              "      <td>-1.374274</td>\n",
              "      <td>-0.102233</td>\n",
              "      <td>-1.169423</td>\n",
              "      <td>-0.243563</td>\n",
              "      <td>-0.231112</td>\n",
              "      <td>-1.310746</td>\n",
              "      <td>-0.808036</td>\n",
              "      <td>-0.808006</td>\n",
              "      <td>-0.742667</td>\n",
              "      <td>0.49835</td>\n",
              "    </tr>\n",
              "    <tr>\n",
              "      <th>75%</th>\n",
              "      <td>18.250000</td>\n",
              "      <td>-1.250028</td>\n",
              "      <td>1.186457</td>\n",
              "      <td>0.522031</td>\n",
              "      <td>-0.243563</td>\n",
              "      <td>-0.059422</td>\n",
              "      <td>-1.006994</td>\n",
              "      <td>0.656142</td>\n",
              "      <td>0.656241</td>\n",
              "      <td>0.512441</td>\n",
              "      <td>0.49835</td>\n",
              "    </tr>\n",
              "    <tr>\n",
              "      <th>max</th>\n",
              "      <td>24.000000</td>\n",
              "      <td>-0.251625</td>\n",
              "      <td>2.095324</td>\n",
              "      <td>1.085849</td>\n",
              "      <td>-0.243563</td>\n",
              "      <td>0.283957</td>\n",
              "      <td>-0.885493</td>\n",
              "      <td>1.417419</td>\n",
              "      <td>1.417553</td>\n",
              "      <td>1.390805</td>\n",
              "      <td>0.49835</td>\n",
              "    </tr>\n",
              "  </tbody>\n",
              "</table>\n",
              "</div>\n",
              "    <div class=\"colab-df-buttons\">\n",
              "\n",
              "  <div class=\"colab-df-container\">\n",
              "    <button class=\"colab-df-convert\" onclick=\"convertToInteractive('df-c0cc0d71-4dd9-4892-8965-00086419d23a')\"\n",
              "            title=\"Convert this dataframe to an interactive table.\"\n",
              "            style=\"display:none;\">\n",
              "\n",
              "  <svg xmlns=\"http://www.w3.org/2000/svg\" height=\"24px\" viewBox=\"0 -960 960 960\">\n",
              "    <path d=\"M120-120v-720h720v720H120Zm60-500h600v-160H180v160Zm220 220h160v-160H400v160Zm0 220h160v-160H400v160ZM180-400h160v-160H180v160Zm440 0h160v-160H620v160ZM180-180h160v-160H180v160Zm440 0h160v-160H620v160Z\"/>\n",
              "  </svg>\n",
              "    </button>\n",
              "\n",
              "  <style>\n",
              "    .colab-df-container {\n",
              "      display:flex;\n",
              "      gap: 12px;\n",
              "    }\n",
              "\n",
              "    .colab-df-convert {\n",
              "      background-color: #E8F0FE;\n",
              "      border: none;\n",
              "      border-radius: 50%;\n",
              "      cursor: pointer;\n",
              "      display: none;\n",
              "      fill: #1967D2;\n",
              "      height: 32px;\n",
              "      padding: 0 0 0 0;\n",
              "      width: 32px;\n",
              "    }\n",
              "\n",
              "    .colab-df-convert:hover {\n",
              "      background-color: #E2EBFA;\n",
              "      box-shadow: 0px 1px 2px rgba(60, 64, 67, 0.3), 0px 1px 3px 1px rgba(60, 64, 67, 0.15);\n",
              "      fill: #174EA6;\n",
              "    }\n",
              "\n",
              "    .colab-df-buttons div {\n",
              "      margin-bottom: 4px;\n",
              "    }\n",
              "\n",
              "    [theme=dark] .colab-df-convert {\n",
              "      background-color: #3B4455;\n",
              "      fill: #D2E3FC;\n",
              "    }\n",
              "\n",
              "    [theme=dark] .colab-df-convert:hover {\n",
              "      background-color: #434B5C;\n",
              "      box-shadow: 0px 1px 3px 1px rgba(0, 0, 0, 0.15);\n",
              "      filter: drop-shadow(0px 1px 2px rgba(0, 0, 0, 0.3));\n",
              "      fill: #FFFFFF;\n",
              "    }\n",
              "  </style>\n",
              "\n",
              "    <script>\n",
              "      const buttonEl =\n",
              "        document.querySelector('#df-c0cc0d71-4dd9-4892-8965-00086419d23a button.colab-df-convert');\n",
              "      buttonEl.style.display =\n",
              "        google.colab.kernel.accessAllowed ? 'block' : 'none';\n",
              "\n",
              "      async function convertToInteractive(key) {\n",
              "        const element = document.querySelector('#df-c0cc0d71-4dd9-4892-8965-00086419d23a');\n",
              "        const dataTable =\n",
              "          await google.colab.kernel.invokeFunction('convertToInteractive',\n",
              "                                                    [key], {});\n",
              "        if (!dataTable) return;\n",
              "\n",
              "        const docLinkHtml = 'Like what you see? Visit the ' +\n",
              "          '<a target=\"_blank\" href=https://colab.research.google.com/notebooks/data_table.ipynb>data table notebook</a>'\n",
              "          + ' to learn more about interactive tables.';\n",
              "        element.innerHTML = '';\n",
              "        dataTable['output_type'] = 'display_data';\n",
              "        await google.colab.output.renderOutput(dataTable, element);\n",
              "        const docLink = document.createElement('div');\n",
              "        docLink.innerHTML = docLinkHtml;\n",
              "        element.appendChild(docLink);\n",
              "      }\n",
              "    </script>\n",
              "  </div>\n",
              "\n",
              "\n",
              "<div id=\"df-68750637-61e3-4309-b142-1d3012718e8c\">\n",
              "  <button class=\"colab-df-quickchart\" onclick=\"quickchart('df-68750637-61e3-4309-b142-1d3012718e8c')\"\n",
              "            title=\"Suggest charts\"\n",
              "            style=\"display:none;\">\n",
              "\n",
              "<svg xmlns=\"http://www.w3.org/2000/svg\" height=\"24px\"viewBox=\"0 0 24 24\"\n",
              "     width=\"24px\">\n",
              "    <g>\n",
              "        <path d=\"M19 3H5c-1.1 0-2 .9-2 2v14c0 1.1.9 2 2 2h14c1.1 0 2-.9 2-2V5c0-1.1-.9-2-2-2zM9 17H7v-7h2v7zm4 0h-2V7h2v10zm4 0h-2v-4h2v4z\"/>\n",
              "    </g>\n",
              "</svg>\n",
              "  </button>\n",
              "\n",
              "<style>\n",
              "  .colab-df-quickchart {\n",
              "      --bg-color: #E8F0FE;\n",
              "      --fill-color: #1967D2;\n",
              "      --hover-bg-color: #E2EBFA;\n",
              "      --hover-fill-color: #174EA6;\n",
              "      --disabled-fill-color: #AAA;\n",
              "      --disabled-bg-color: #DDD;\n",
              "  }\n",
              "\n",
              "  [theme=dark] .colab-df-quickchart {\n",
              "      --bg-color: #3B4455;\n",
              "      --fill-color: #D2E3FC;\n",
              "      --hover-bg-color: #434B5C;\n",
              "      --hover-fill-color: #FFFFFF;\n",
              "      --disabled-bg-color: #3B4455;\n",
              "      --disabled-fill-color: #666;\n",
              "  }\n",
              "\n",
              "  .colab-df-quickchart {\n",
              "    background-color: var(--bg-color);\n",
              "    border: none;\n",
              "    border-radius: 50%;\n",
              "    cursor: pointer;\n",
              "    display: none;\n",
              "    fill: var(--fill-color);\n",
              "    height: 32px;\n",
              "    padding: 0;\n",
              "    width: 32px;\n",
              "  }\n",
              "\n",
              "  .colab-df-quickchart:hover {\n",
              "    background-color: var(--hover-bg-color);\n",
              "    box-shadow: 0 1px 2px rgba(60, 64, 67, 0.3), 0 1px 3px 1px rgba(60, 64, 67, 0.15);\n",
              "    fill: var(--button-hover-fill-color);\n",
              "  }\n",
              "\n",
              "  .colab-df-quickchart-complete:disabled,\n",
              "  .colab-df-quickchart-complete:disabled:hover {\n",
              "    background-color: var(--disabled-bg-color);\n",
              "    fill: var(--disabled-fill-color);\n",
              "    box-shadow: none;\n",
              "  }\n",
              "\n",
              "  .colab-df-spinner {\n",
              "    border: 2px solid var(--fill-color);\n",
              "    border-color: transparent;\n",
              "    border-bottom-color: var(--fill-color);\n",
              "    animation:\n",
              "      spin 1s steps(1) infinite;\n",
              "  }\n",
              "\n",
              "  @keyframes spin {\n",
              "    0% {\n",
              "      border-color: transparent;\n",
              "      border-bottom-color: var(--fill-color);\n",
              "      border-left-color: var(--fill-color);\n",
              "    }\n",
              "    20% {\n",
              "      border-color: transparent;\n",
              "      border-left-color: var(--fill-color);\n",
              "      border-top-color: var(--fill-color);\n",
              "    }\n",
              "    30% {\n",
              "      border-color: transparent;\n",
              "      border-left-color: var(--fill-color);\n",
              "      border-top-color: var(--fill-color);\n",
              "      border-right-color: var(--fill-color);\n",
              "    }\n",
              "    40% {\n",
              "      border-color: transparent;\n",
              "      border-right-color: var(--fill-color);\n",
              "      border-top-color: var(--fill-color);\n",
              "    }\n",
              "    60% {\n",
              "      border-color: transparent;\n",
              "      border-right-color: var(--fill-color);\n",
              "    }\n",
              "    80% {\n",
              "      border-color: transparent;\n",
              "      border-right-color: var(--fill-color);\n",
              "      border-bottom-color: var(--fill-color);\n",
              "    }\n",
              "    90% {\n",
              "      border-color: transparent;\n",
              "      border-bottom-color: var(--fill-color);\n",
              "    }\n",
              "  }\n",
              "</style>\n",
              "\n",
              "  <script>\n",
              "    async function quickchart(key) {\n",
              "      const quickchartButtonEl =\n",
              "        document.querySelector('#' + key + ' button');\n",
              "      quickchartButtonEl.disabled = true;  // To prevent multiple clicks.\n",
              "      quickchartButtonEl.classList.add('colab-df-spinner');\n",
              "      try {\n",
              "        const charts = await google.colab.kernel.invokeFunction(\n",
              "            'suggestCharts', [key], {});\n",
              "      } catch (error) {\n",
              "        console.error('Error during call to suggestCharts:', error);\n",
              "      }\n",
              "      quickchartButtonEl.classList.remove('colab-df-spinner');\n",
              "      quickchartButtonEl.classList.add('colab-df-quickchart-complete');\n",
              "    }\n",
              "    (() => {\n",
              "      let quickchartButtonEl =\n",
              "        document.querySelector('#df-68750637-61e3-4309-b142-1d3012718e8c button');\n",
              "      quickchartButtonEl.style.display =\n",
              "        google.colab.kernel.accessAllowed ? 'block' : 'none';\n",
              "    })();\n",
              "  </script>\n",
              "</div>\n",
              "    </div>\n",
              "  </div>\n"
            ],
            "text/plain": [
              "            hour  WindDirection  WindSpeed      Cloud   Rainfall   Humidity  \\\n",
              "count  24.000000      24.000000  24.000000  24.000000  24.000000  24.000000   \n",
              "mean   12.500000      -1.251507   0.266287  -0.370681  -0.243563  -0.345571   \n",
              "std     7.071068       0.372771   1.032687   0.894055   0.000000   0.437480   \n",
              "min     1.000000      -1.547330  -1.106056  -1.169423  -0.243563  -1.089560   \n",
              "25%     6.750000      -1.478551  -0.509188  -1.169423  -0.243563  -0.746181   \n",
              "50%    12.500000      -1.374274  -0.102233  -1.169423  -0.243563  -0.231112   \n",
              "75%    18.250000      -1.250028   1.186457   0.522031  -0.243563  -0.059422   \n",
              "max    24.000000      -0.251625   2.095324   1.085849  -0.243563   0.283957   \n",
              "\n",
              "       Temperature        Q12        Q13     Q_mean   weekday  \n",
              "count    24.000000  24.000000  24.000000  24.000000  24.00000  \n",
              "mean     -1.290496  -0.156710  -0.156650  -0.158688   0.49835  \n",
              "std       0.288118   0.863078   0.863118   0.861078   0.00000  \n",
              "min      -1.735999  -0.808036  -0.808006  -0.818378   0.49835  \n",
              "25%      -1.492997  -0.808036  -0.808006  -0.818378   0.49835  \n",
              "50%      -1.310746  -0.808036  -0.808006  -0.742667   0.49835  \n",
              "75%      -1.006994   0.656142   0.656241   0.512441   0.49835  \n",
              "max      -0.885493   1.417419   1.417553   1.390805   0.49835  "
            ]
          },
          "execution_count": 77,
          "metadata": {},
          "output_type": "execute_result"
        }
      ],
      "source": [
        "tomorrow_df.describe()"
      ]
    },
    {
      "cell_type": "code",
      "execution_count": 78,
      "metadata": {
        "id": "eq4q2o2gug24"
      },
      "outputs": [],
      "source": [
        "testdata = tomorrow_df.drop(['date', 'WindDirection', 'WindSpeed', 'Q12', 'Q_mean'], axis=1)"
      ]
    },
    {
      "cell_type": "code",
      "execution_count": 79,
      "metadata": {
        "colab": {
          "base_uri": "https://localhost:8080/"
        },
        "id": "QyliLC3Luifp",
        "outputId": "03d6bfe4-bb4e-45d1-db68-3c7634fd25d8"
      },
      "outputs": [
        {
          "data": {
            "text/plain": [
              "LSTMwithAttn(\n",
              "  (lstm): LSTM(7, 64, num_layers=2, batch_first=True)\n",
              "  (encoder): BertEncoder(\n",
              "    (layer): ModuleList(\n",
              "      (0-1): 2 x BertLayer(\n",
              "        (attention): BertAttention(\n",
              "          (self): BertSelfAttention(\n",
              "            (query): Linear(in_features=64, out_features=64, bias=True)\n",
              "            (key): Linear(in_features=64, out_features=64, bias=True)\n",
              "            (value): Linear(in_features=64, out_features=64, bias=True)\n",
              "            (dropout): Dropout(p=0.1, inplace=False)\n",
              "          )\n",
              "          (output): BertSelfOutput(\n",
              "            (dense): Linear(in_features=64, out_features=64, bias=True)\n",
              "            (LayerNorm): LayerNorm((64,), eps=1e-12, elementwise_affine=True)\n",
              "            (dropout): Dropout(p=0.1, inplace=False)\n",
              "          )\n",
              "        )\n",
              "        (intermediate): BertIntermediate(\n",
              "          (dense): Linear(in_features=64, out_features=64, bias=True)\n",
              "          (intermediate_act_fn): GELUActivation()\n",
              "        )\n",
              "        (output): BertOutput(\n",
              "          (dense): Linear(in_features=64, out_features=64, bias=True)\n",
              "          (LayerNorm): LayerNorm((64,), eps=1e-12, elementwise_affine=True)\n",
              "          (dropout): Dropout(p=0.1, inplace=False)\n",
              "        )\n",
              "      )\n",
              "    )\n",
              "  )\n",
              "  (act): SiLU()\n",
              "  (fc): Linear(in_features=64, out_features=1, bias=True)\n",
              ")"
            ]
          },
          "execution_count": 79,
          "metadata": {},
          "output_type": "execute_result"
        }
      ],
      "source": [
        "# Load the model\n",
        "\n",
        "model.load_state_dict( torch.load('models/model.pt') )\n",
        "model.to(device)"
      ]
    },
    {
      "cell_type": "code",
      "execution_count": 80,
      "metadata": {
        "colab": {
          "base_uri": "https://localhost:8080/",
          "height": 801
        },
        "id": "GQA9ESBzukAk",
        "outputId": "cf81d645-ace6-4042-f22e-bfbbfcf0ce93"
      },
      "outputs": [
        {
          "data": {
            "application/vnd.google.colaboratory.intrinsic+json": {
              "summary": "{\n  \"name\": \"testdata\",\n  \"rows\": 24,\n  \"fields\": [\n    {\n      \"column\": \"hour\",\n      \"properties\": {\n        \"dtype\": \"number\",\n        \"std\": 7,\n        \"min\": 1,\n        \"max\": 24,\n        \"samples\": [\n          9,\n          17,\n          1\n        ],\n        \"num_unique_values\": 24,\n        \"semantic_type\": \"\",\n        \"description\": \"\"\n      }\n    },\n    {\n      \"column\": \"Cloud\",\n      \"properties\": {\n        \"dtype\": \"number\",\n        \"std\": 0.8940546834143397,\n        \"min\": -1.1694228381309344,\n        \"max\": 1.0858489107509404,\n        \"samples\": [\n          -1.1694228381309344,\n          1.0858489107509404,\n          0.5220309735304717\n        ],\n        \"num_unique_values\": 3,\n        \"semantic_type\": \"\",\n        \"description\": \"\"\n      }\n    },\n    {\n      \"column\": \"Rainfall\",\n      \"properties\": {\n        \"dtype\": \"number\",\n        \"std\": 0.0,\n        \"min\": -0.2435631818777992,\n        \"max\": -0.2435631818777992,\n        \"samples\": [\n          -0.2435631818777992\n        ],\n        \"num_unique_values\": 1,\n        \"semantic_type\": \"\",\n        \"description\": \"\"\n      }\n    },\n    {\n      \"column\": \"Humidity\",\n      \"properties\": {\n        \"dtype\": \"number\",\n        \"std\": 0.4374804188333252,\n        \"min\": -1.0895598921026095,\n        \"max\": 0.28395744168567455,\n        \"samples\": [\n          -0.40280122520846745\n        ],\n        \"num_unique_values\": 5,\n        \"semantic_type\": \"\",\n        \"description\": \"\"\n      }\n    },\n    {\n      \"column\": \"Temperature\",\n      \"properties\": {\n        \"dtype\": \"number\",\n        \"std\": 0.28811812021413263,\n        \"min\": -1.7359990409104908,\n        \"max\": -0.8854932103809094,\n        \"samples\": [\n          -1.6144982079776935\n        ],\n        \"num_unique_values\": 8,\n        \"semantic_type\": \"\",\n        \"description\": \"\"\n      }\n    },\n    {\n      \"column\": \"Q13\",\n      \"properties\": {\n        \"dtype\": \"number\",\n        \"std\": 0.8631184121445943,\n        \"min\": -0.8080057786457715,\n        \"max\": 1.4175532286922998,\n        \"samples\": [\n          -0.8080057786457715\n        ],\n        \"num_unique_values\": 7,\n        \"semantic_type\": \"\",\n        \"description\": \"\"\n      }\n    },\n    {\n      \"column\": \"weekday\",\n      \"properties\": {\n        \"dtype\": \"number\",\n        \"std\": 0.0,\n        \"min\": 0.49835006025084744,\n        \"max\": 0.49835006025084744,\n        \"samples\": [\n          0.49835006025084744\n        ],\n        \"num_unique_values\": 1,\n        \"semantic_type\": \"\",\n        \"description\": \"\"\n      }\n    }\n  ]\n}",
              "type": "dataframe",
              "variable_name": "testdata"
            },
            "text/html": [
              "\n",
              "  <div id=\"df-13d392e6-a4a0-47b9-b6b5-21a849725eae\" class=\"colab-df-container\">\n",
              "    <div>\n",
              "<style scoped>\n",
              "    .dataframe tbody tr th:only-of-type {\n",
              "        vertical-align: middle;\n",
              "    }\n",
              "\n",
              "    .dataframe tbody tr th {\n",
              "        vertical-align: top;\n",
              "    }\n",
              "\n",
              "    .dataframe thead th {\n",
              "        text-align: right;\n",
              "    }\n",
              "</style>\n",
              "<table border=\"1\" class=\"dataframe\">\n",
              "  <thead>\n",
              "    <tr style=\"text-align: right;\">\n",
              "      <th></th>\n",
              "      <th>hour</th>\n",
              "      <th>Cloud</th>\n",
              "      <th>Rainfall</th>\n",
              "      <th>Humidity</th>\n",
              "      <th>Temperature</th>\n",
              "      <th>Q13</th>\n",
              "      <th>weekday</th>\n",
              "    </tr>\n",
              "  </thead>\n",
              "  <tbody>\n",
              "    <tr>\n",
              "      <th>6</th>\n",
              "      <td>1</td>\n",
              "      <td>-1.169423</td>\n",
              "      <td>-0.243563</td>\n",
              "      <td>-0.746181</td>\n",
              "      <td>-1.492997</td>\n",
              "      <td>-0.808006</td>\n",
              "      <td>0.49835</td>\n",
              "    </tr>\n",
              "    <tr>\n",
              "      <th>7</th>\n",
              "      <td>2</td>\n",
              "      <td>1.085849</td>\n",
              "      <td>-0.243563</td>\n",
              "      <td>-0.402801</td>\n",
              "      <td>-1.492997</td>\n",
              "      <td>-0.808006</td>\n",
              "      <td>0.49835</td>\n",
              "    </tr>\n",
              "    <tr>\n",
              "      <th>8</th>\n",
              "      <td>3</td>\n",
              "      <td>-1.169423</td>\n",
              "      <td>-0.243563</td>\n",
              "      <td>-0.402801</td>\n",
              "      <td>-1.492997</td>\n",
              "      <td>-0.808006</td>\n",
              "      <td>0.49835</td>\n",
              "    </tr>\n",
              "    <tr>\n",
              "      <th>9</th>\n",
              "      <td>4</td>\n",
              "      <td>-1.169423</td>\n",
              "      <td>-0.243563</td>\n",
              "      <td>-0.059422</td>\n",
              "      <td>-1.492997</td>\n",
              "      <td>-0.808006</td>\n",
              "      <td>0.49835</td>\n",
              "    </tr>\n",
              "    <tr>\n",
              "      <th>10</th>\n",
              "      <td>5</td>\n",
              "      <td>-1.169423</td>\n",
              "      <td>-0.243563</td>\n",
              "      <td>-0.059422</td>\n",
              "      <td>-1.614498</td>\n",
              "      <td>-0.808006</td>\n",
              "      <td>0.49835</td>\n",
              "    </tr>\n",
              "    <tr>\n",
              "      <th>11</th>\n",
              "      <td>6</td>\n",
              "      <td>0.522031</td>\n",
              "      <td>-0.243563</td>\n",
              "      <td>-0.059422</td>\n",
              "      <td>-1.614498</td>\n",
              "      <td>-0.808006</td>\n",
              "      <td>0.49835</td>\n",
              "    </tr>\n",
              "    <tr>\n",
              "      <th>12</th>\n",
              "      <td>7</td>\n",
              "      <td>0.522031</td>\n",
              "      <td>-0.243563</td>\n",
              "      <td>-0.059422</td>\n",
              "      <td>-1.614498</td>\n",
              "      <td>-0.808006</td>\n",
              "      <td>0.49835</td>\n",
              "    </tr>\n",
              "    <tr>\n",
              "      <th>13</th>\n",
              "      <td>8</td>\n",
              "      <td>0.522031</td>\n",
              "      <td>-0.243563</td>\n",
              "      <td>0.283957</td>\n",
              "      <td>-1.735999</td>\n",
              "      <td>-0.508986</td>\n",
              "      <td>0.49835</td>\n",
              "    </tr>\n",
              "    <tr>\n",
              "      <th>14</th>\n",
              "      <td>9</td>\n",
              "      <td>0.522031</td>\n",
              "      <td>-0.243563</td>\n",
              "      <td>0.283957</td>\n",
              "      <td>-1.735999</td>\n",
              "      <td>0.117912</td>\n",
              "      <td>0.49835</td>\n",
              "    </tr>\n",
              "    <tr>\n",
              "      <th>15</th>\n",
              "      <td>10</td>\n",
              "      <td>0.522031</td>\n",
              "      <td>-0.243563</td>\n",
              "      <td>0.283957</td>\n",
              "      <td>-1.492997</td>\n",
              "      <td>0.656241</td>\n",
              "      <td>0.49835</td>\n",
              "    </tr>\n",
              "    <tr>\n",
              "      <th>16</th>\n",
              "      <td>11</td>\n",
              "      <td>-1.169423</td>\n",
              "      <td>-0.243563</td>\n",
              "      <td>-0.059422</td>\n",
              "      <td>-1.249996</td>\n",
              "      <td>1.069315</td>\n",
              "      <td>0.49835</td>\n",
              "    </tr>\n",
              "    <tr>\n",
              "      <th>17</th>\n",
              "      <td>12</td>\n",
              "      <td>0.522031</td>\n",
              "      <td>-0.243563</td>\n",
              "      <td>-0.402801</td>\n",
              "      <td>-1.128495</td>\n",
              "      <td>1.328985</td>\n",
              "      <td>0.49835</td>\n",
              "    </tr>\n",
              "    <tr>\n",
              "      <th>18</th>\n",
              "      <td>13</td>\n",
              "      <td>0.522031</td>\n",
              "      <td>-0.243563</td>\n",
              "      <td>-0.746181</td>\n",
              "      <td>-1.006994</td>\n",
              "      <td>1.417553</td>\n",
              "      <td>0.49835</td>\n",
              "    </tr>\n",
              "    <tr>\n",
              "      <th>19</th>\n",
              "      <td>14</td>\n",
              "      <td>-1.169423</td>\n",
              "      <td>-0.243563</td>\n",
              "      <td>-0.746181</td>\n",
              "      <td>-1.006994</td>\n",
              "      <td>1.328985</td>\n",
              "      <td>0.49835</td>\n",
              "    </tr>\n",
              "    <tr>\n",
              "      <th>20</th>\n",
              "      <td>15</td>\n",
              "      <td>-1.169423</td>\n",
              "      <td>-0.243563</td>\n",
              "      <td>-1.089560</td>\n",
              "      <td>-0.885493</td>\n",
              "      <td>1.069315</td>\n",
              "      <td>0.49835</td>\n",
              "    </tr>\n",
              "    <tr>\n",
              "      <th>21</th>\n",
              "      <td>16</td>\n",
              "      <td>-1.169423</td>\n",
              "      <td>-0.243563</td>\n",
              "      <td>-1.089560</td>\n",
              "      <td>-0.885493</td>\n",
              "      <td>0.656241</td>\n",
              "      <td>0.49835</td>\n",
              "    </tr>\n",
              "    <tr>\n",
              "      <th>22</th>\n",
              "      <td>17</td>\n",
              "      <td>-1.169423</td>\n",
              "      <td>-0.243563</td>\n",
              "      <td>-1.089560</td>\n",
              "      <td>-0.885493</td>\n",
              "      <td>0.117912</td>\n",
              "      <td>0.49835</td>\n",
              "    </tr>\n",
              "    <tr>\n",
              "      <th>23</th>\n",
              "      <td>18</td>\n",
              "      <td>-1.169423</td>\n",
              "      <td>-0.243563</td>\n",
              "      <td>-0.746181</td>\n",
              "      <td>-0.885493</td>\n",
              "      <td>-0.508986</td>\n",
              "      <td>0.49835</td>\n",
              "    </tr>\n",
              "    <tr>\n",
              "      <th>24</th>\n",
              "      <td>19</td>\n",
              "      <td>0.522031</td>\n",
              "      <td>-0.243563</td>\n",
              "      <td>-0.746181</td>\n",
              "      <td>-1.006994</td>\n",
              "      <td>-0.808006</td>\n",
              "      <td>0.49835</td>\n",
              "    </tr>\n",
              "    <tr>\n",
              "      <th>25</th>\n",
              "      <td>20</td>\n",
              "      <td>0.522031</td>\n",
              "      <td>-0.243563</td>\n",
              "      <td>-0.402801</td>\n",
              "      <td>-1.128495</td>\n",
              "      <td>-0.808006</td>\n",
              "      <td>0.49835</td>\n",
              "    </tr>\n",
              "    <tr>\n",
              "      <th>26</th>\n",
              "      <td>21</td>\n",
              "      <td>0.522031</td>\n",
              "      <td>-0.243563</td>\n",
              "      <td>-0.059422</td>\n",
              "      <td>-1.128495</td>\n",
              "      <td>-0.808006</td>\n",
              "      <td>0.49835</td>\n",
              "    </tr>\n",
              "    <tr>\n",
              "      <th>27</th>\n",
              "      <td>22</td>\n",
              "      <td>-1.169423</td>\n",
              "      <td>-0.243563</td>\n",
              "      <td>-0.059422</td>\n",
              "      <td>-1.249996</td>\n",
              "      <td>-0.808006</td>\n",
              "      <td>0.49835</td>\n",
              "    </tr>\n",
              "    <tr>\n",
              "      <th>28</th>\n",
              "      <td>23</td>\n",
              "      <td>-1.169423</td>\n",
              "      <td>-0.243563</td>\n",
              "      <td>-0.059422</td>\n",
              "      <td>-1.371497</td>\n",
              "      <td>-0.808006</td>\n",
              "      <td>0.49835</td>\n",
              "    </tr>\n",
              "    <tr>\n",
              "      <th>29</th>\n",
              "      <td>24</td>\n",
              "      <td>-1.169423</td>\n",
              "      <td>-0.243563</td>\n",
              "      <td>-0.059422</td>\n",
              "      <td>-1.371497</td>\n",
              "      <td>-0.808006</td>\n",
              "      <td>0.49835</td>\n",
              "    </tr>\n",
              "  </tbody>\n",
              "</table>\n",
              "</div>\n",
              "    <div class=\"colab-df-buttons\">\n",
              "\n",
              "  <div class=\"colab-df-container\">\n",
              "    <button class=\"colab-df-convert\" onclick=\"convertToInteractive('df-13d392e6-a4a0-47b9-b6b5-21a849725eae')\"\n",
              "            title=\"Convert this dataframe to an interactive table.\"\n",
              "            style=\"display:none;\">\n",
              "\n",
              "  <svg xmlns=\"http://www.w3.org/2000/svg\" height=\"24px\" viewBox=\"0 -960 960 960\">\n",
              "    <path d=\"M120-120v-720h720v720H120Zm60-500h600v-160H180v160Zm220 220h160v-160H400v160Zm0 220h160v-160H400v160ZM180-400h160v-160H180v160Zm440 0h160v-160H620v160ZM180-180h160v-160H180v160Zm440 0h160v-160H620v160Z\"/>\n",
              "  </svg>\n",
              "    </button>\n",
              "\n",
              "  <style>\n",
              "    .colab-df-container {\n",
              "      display:flex;\n",
              "      gap: 12px;\n",
              "    }\n",
              "\n",
              "    .colab-df-convert {\n",
              "      background-color: #E8F0FE;\n",
              "      border: none;\n",
              "      border-radius: 50%;\n",
              "      cursor: pointer;\n",
              "      display: none;\n",
              "      fill: #1967D2;\n",
              "      height: 32px;\n",
              "      padding: 0 0 0 0;\n",
              "      width: 32px;\n",
              "    }\n",
              "\n",
              "    .colab-df-convert:hover {\n",
              "      background-color: #E2EBFA;\n",
              "      box-shadow: 0px 1px 2px rgba(60, 64, 67, 0.3), 0px 1px 3px 1px rgba(60, 64, 67, 0.15);\n",
              "      fill: #174EA6;\n",
              "    }\n",
              "\n",
              "    .colab-df-buttons div {\n",
              "      margin-bottom: 4px;\n",
              "    }\n",
              "\n",
              "    [theme=dark] .colab-df-convert {\n",
              "      background-color: #3B4455;\n",
              "      fill: #D2E3FC;\n",
              "    }\n",
              "\n",
              "    [theme=dark] .colab-df-convert:hover {\n",
              "      background-color: #434B5C;\n",
              "      box-shadow: 0px 1px 3px 1px rgba(0, 0, 0, 0.15);\n",
              "      filter: drop-shadow(0px 1px 2px rgba(0, 0, 0, 0.3));\n",
              "      fill: #FFFFFF;\n",
              "    }\n",
              "  </style>\n",
              "\n",
              "    <script>\n",
              "      const buttonEl =\n",
              "        document.querySelector('#df-13d392e6-a4a0-47b9-b6b5-21a849725eae button.colab-df-convert');\n",
              "      buttonEl.style.display =\n",
              "        google.colab.kernel.accessAllowed ? 'block' : 'none';\n",
              "\n",
              "      async function convertToInteractive(key) {\n",
              "        const element = document.querySelector('#df-13d392e6-a4a0-47b9-b6b5-21a849725eae');\n",
              "        const dataTable =\n",
              "          await google.colab.kernel.invokeFunction('convertToInteractive',\n",
              "                                                    [key], {});\n",
              "        if (!dataTable) return;\n",
              "\n",
              "        const docLinkHtml = 'Like what you see? Visit the ' +\n",
              "          '<a target=\"_blank\" href=https://colab.research.google.com/notebooks/data_table.ipynb>data table notebook</a>'\n",
              "          + ' to learn more about interactive tables.';\n",
              "        element.innerHTML = '';\n",
              "        dataTable['output_type'] = 'display_data';\n",
              "        await google.colab.output.renderOutput(dataTable, element);\n",
              "        const docLink = document.createElement('div');\n",
              "        docLink.innerHTML = docLinkHtml;\n",
              "        element.appendChild(docLink);\n",
              "      }\n",
              "    </script>\n",
              "  </div>\n",
              "\n",
              "\n",
              "<div id=\"df-1d702d87-0733-41c6-a174-1b9713d50662\">\n",
              "  <button class=\"colab-df-quickchart\" onclick=\"quickchart('df-1d702d87-0733-41c6-a174-1b9713d50662')\"\n",
              "            title=\"Suggest charts\"\n",
              "            style=\"display:none;\">\n",
              "\n",
              "<svg xmlns=\"http://www.w3.org/2000/svg\" height=\"24px\"viewBox=\"0 0 24 24\"\n",
              "     width=\"24px\">\n",
              "    <g>\n",
              "        <path d=\"M19 3H5c-1.1 0-2 .9-2 2v14c0 1.1.9 2 2 2h14c1.1 0 2-.9 2-2V5c0-1.1-.9-2-2-2zM9 17H7v-7h2v7zm4 0h-2V7h2v10zm4 0h-2v-4h2v4z\"/>\n",
              "    </g>\n",
              "</svg>\n",
              "  </button>\n",
              "\n",
              "<style>\n",
              "  .colab-df-quickchart {\n",
              "      --bg-color: #E8F0FE;\n",
              "      --fill-color: #1967D2;\n",
              "      --hover-bg-color: #E2EBFA;\n",
              "      --hover-fill-color: #174EA6;\n",
              "      --disabled-fill-color: #AAA;\n",
              "      --disabled-bg-color: #DDD;\n",
              "  }\n",
              "\n",
              "  [theme=dark] .colab-df-quickchart {\n",
              "      --bg-color: #3B4455;\n",
              "      --fill-color: #D2E3FC;\n",
              "      --hover-bg-color: #434B5C;\n",
              "      --hover-fill-color: #FFFFFF;\n",
              "      --disabled-bg-color: #3B4455;\n",
              "      --disabled-fill-color: #666;\n",
              "  }\n",
              "\n",
              "  .colab-df-quickchart {\n",
              "    background-color: var(--bg-color);\n",
              "    border: none;\n",
              "    border-radius: 50%;\n",
              "    cursor: pointer;\n",
              "    display: none;\n",
              "    fill: var(--fill-color);\n",
              "    height: 32px;\n",
              "    padding: 0;\n",
              "    width: 32px;\n",
              "  }\n",
              "\n",
              "  .colab-df-quickchart:hover {\n",
              "    background-color: var(--hover-bg-color);\n",
              "    box-shadow: 0 1px 2px rgba(60, 64, 67, 0.3), 0 1px 3px 1px rgba(60, 64, 67, 0.15);\n",
              "    fill: var(--button-hover-fill-color);\n",
              "  }\n",
              "\n",
              "  .colab-df-quickchart-complete:disabled,\n",
              "  .colab-df-quickchart-complete:disabled:hover {\n",
              "    background-color: var(--disabled-bg-color);\n",
              "    fill: var(--disabled-fill-color);\n",
              "    box-shadow: none;\n",
              "  }\n",
              "\n",
              "  .colab-df-spinner {\n",
              "    border: 2px solid var(--fill-color);\n",
              "    border-color: transparent;\n",
              "    border-bottom-color: var(--fill-color);\n",
              "    animation:\n",
              "      spin 1s steps(1) infinite;\n",
              "  }\n",
              "\n",
              "  @keyframes spin {\n",
              "    0% {\n",
              "      border-color: transparent;\n",
              "      border-bottom-color: var(--fill-color);\n",
              "      border-left-color: var(--fill-color);\n",
              "    }\n",
              "    20% {\n",
              "      border-color: transparent;\n",
              "      border-left-color: var(--fill-color);\n",
              "      border-top-color: var(--fill-color);\n",
              "    }\n",
              "    30% {\n",
              "      border-color: transparent;\n",
              "      border-left-color: var(--fill-color);\n",
              "      border-top-color: var(--fill-color);\n",
              "      border-right-color: var(--fill-color);\n",
              "    }\n",
              "    40% {\n",
              "      border-color: transparent;\n",
              "      border-right-color: var(--fill-color);\n",
              "      border-top-color: var(--fill-color);\n",
              "    }\n",
              "    60% {\n",
              "      border-color: transparent;\n",
              "      border-right-color: var(--fill-color);\n",
              "    }\n",
              "    80% {\n",
              "      border-color: transparent;\n",
              "      border-right-color: var(--fill-color);\n",
              "      border-bottom-color: var(--fill-color);\n",
              "    }\n",
              "    90% {\n",
              "      border-color: transparent;\n",
              "      border-bottom-color: var(--fill-color);\n",
              "    }\n",
              "  }\n",
              "</style>\n",
              "\n",
              "  <script>\n",
              "    async function quickchart(key) {\n",
              "      const quickchartButtonEl =\n",
              "        document.querySelector('#' + key + ' button');\n",
              "      quickchartButtonEl.disabled = true;  // To prevent multiple clicks.\n",
              "      quickchartButtonEl.classList.add('colab-df-spinner');\n",
              "      try {\n",
              "        const charts = await google.colab.kernel.invokeFunction(\n",
              "            'suggestCharts', [key], {});\n",
              "      } catch (error) {\n",
              "        console.error('Error during call to suggestCharts:', error);\n",
              "      }\n",
              "      quickchartButtonEl.classList.remove('colab-df-spinner');\n",
              "      quickchartButtonEl.classList.add('colab-df-quickchart-complete');\n",
              "    }\n",
              "    (() => {\n",
              "      let quickchartButtonEl =\n",
              "        document.querySelector('#df-1d702d87-0733-41c6-a174-1b9713d50662 button');\n",
              "      quickchartButtonEl.style.display =\n",
              "        google.colab.kernel.accessAllowed ? 'block' : 'none';\n",
              "    })();\n",
              "  </script>\n",
              "</div>\n",
              "    </div>\n",
              "  </div>\n"
            ],
            "text/plain": [
              "    hour     Cloud  Rainfall  Humidity  Temperature       Q13  weekday\n",
              "6      1 -1.169423 -0.243563 -0.746181    -1.492997 -0.808006  0.49835\n",
              "7      2  1.085849 -0.243563 -0.402801    -1.492997 -0.808006  0.49835\n",
              "8      3 -1.169423 -0.243563 -0.402801    -1.492997 -0.808006  0.49835\n",
              "9      4 -1.169423 -0.243563 -0.059422    -1.492997 -0.808006  0.49835\n",
              "10     5 -1.169423 -0.243563 -0.059422    -1.614498 -0.808006  0.49835\n",
              "11     6  0.522031 -0.243563 -0.059422    -1.614498 -0.808006  0.49835\n",
              "12     7  0.522031 -0.243563 -0.059422    -1.614498 -0.808006  0.49835\n",
              "13     8  0.522031 -0.243563  0.283957    -1.735999 -0.508986  0.49835\n",
              "14     9  0.522031 -0.243563  0.283957    -1.735999  0.117912  0.49835\n",
              "15    10  0.522031 -0.243563  0.283957    -1.492997  0.656241  0.49835\n",
              "16    11 -1.169423 -0.243563 -0.059422    -1.249996  1.069315  0.49835\n",
              "17    12  0.522031 -0.243563 -0.402801    -1.128495  1.328985  0.49835\n",
              "18    13  0.522031 -0.243563 -0.746181    -1.006994  1.417553  0.49835\n",
              "19    14 -1.169423 -0.243563 -0.746181    -1.006994  1.328985  0.49835\n",
              "20    15 -1.169423 -0.243563 -1.089560    -0.885493  1.069315  0.49835\n",
              "21    16 -1.169423 -0.243563 -1.089560    -0.885493  0.656241  0.49835\n",
              "22    17 -1.169423 -0.243563 -1.089560    -0.885493  0.117912  0.49835\n",
              "23    18 -1.169423 -0.243563 -0.746181    -0.885493 -0.508986  0.49835\n",
              "24    19  0.522031 -0.243563 -0.746181    -1.006994 -0.808006  0.49835\n",
              "25    20  0.522031 -0.243563 -0.402801    -1.128495 -0.808006  0.49835\n",
              "26    21  0.522031 -0.243563 -0.059422    -1.128495 -0.808006  0.49835\n",
              "27    22 -1.169423 -0.243563 -0.059422    -1.249996 -0.808006  0.49835\n",
              "28    23 -1.169423 -0.243563 -0.059422    -1.371497 -0.808006  0.49835\n",
              "29    24 -1.169423 -0.243563 -0.059422    -1.371497 -0.808006  0.49835"
            ]
          },
          "execution_count": 80,
          "metadata": {},
          "output_type": "execute_result"
        }
      ],
      "source": [
        "testdata"
      ]
    },
    {
      "cell_type": "code",
      "execution_count": 81,
      "metadata": {
        "id": "spoJUcfHul1Q"
      },
      "outputs": [],
      "source": [
        "features_test = testdata\n",
        "labels_test = pd.DataFrame({'label': [0] * len(testdata)})\n",
        "test_dataset = ElecDemandDataset(features_test, labels_test)\n",
        "test_loader = DataLoader(test_dataset, batch_size=1, shuffle=False)"
      ]
    },
    {
      "cell_type": "code",
      "execution_count": 82,
      "metadata": {
        "colab": {
          "base_uri": "https://localhost:8080/"
        },
        "id": "K6PpTLIxupDL",
        "outputId": "6bb38773-38aa-4e5d-c43b-5892dee6cd39"
      },
      "outputs": [
        {
          "data": {
            "text/plain": [
              "24"
            ]
          },
          "execution_count": 82,
          "metadata": {},
          "output_type": "execute_result"
        }
      ],
      "source": [
        "# get number of rows in testdata\n",
        "num_test = len(features_test)\n",
        "num_test"
      ]
    },
    {
      "cell_type": "code",
      "execution_count": 83,
      "metadata": {
        "colab": {
          "base_uri": "https://localhost:8080/"
        },
        "id": "k4lRdseXuqn7",
        "outputId": "4826ade0-5db0-48da-b68e-1c99132218b8"
      },
      "outputs": [
        {
          "data": {
            "text/plain": [
              "torch.Size([1, 2, 7])"
            ]
          },
          "execution_count": 83,
          "metadata": {},
          "output_type": "execute_result"
        }
      ],
      "source": [
        "next(iter(test_loader))[0].shape"
      ]
    },
    {
      "cell_type": "code",
      "execution_count": 84,
      "metadata": {
        "colab": {
          "base_uri": "https://localhost:8080/"
        },
        "id": "W4Fht6_iur7B",
        "outputId": "c1f1e125-c49e-4426-8c9f-a2e3441c5dde"
      },
      "outputs": [
        {
          "data": {
            "text/plain": [
              "24"
            ]
          },
          "execution_count": 84,
          "metadata": {},
          "output_type": "execute_result"
        }
      ],
      "source": [
        "y_pred = [[] for _ in range(num_test)]\n",
        "len(y_pred)"
      ]
    },
    {
      "cell_type": "code",
      "execution_count": 85,
      "metadata": {
        "id": "NdIl_BSZutQs"
      },
      "outputs": [],
      "source": [
        "# test phase\n",
        "model.eval()\n",
        "\n",
        "with torch.no_grad():\n",
        "    for i, (features, labels) in enumerate(test_loader):\n",
        "        features = features.to(device)\n",
        "        labels = labels.to(device)\n",
        "\n",
        "        outputs = model(features).squeeze(-1)\n",
        "        outputs[outputs < 3] = 0\n",
        "\n",
        "        for seq_idx in range(outputs.shape[-1]):\n",
        "            y_pred[i + seq_idx].append(outputs[:,seq_idx].item())"
      ]
    },
    {
      "cell_type": "code",
      "execution_count": 86,
      "metadata": {
        "id": "Wq2esDwxuusT"
      },
      "outputs": [],
      "source": [
        "y_pred = [sum(y_pred[i]) / len(y_pred[i]) for i in range(len(y_pred))]"
      ]
    },
    {
      "cell_type": "code",
      "execution_count": 87,
      "metadata": {
        "colab": {
          "base_uri": "https://localhost:8080/"
        },
        "id": "UAW7rUfmuv9g",
        "outputId": "9a5b348a-3bac-44b7-a1e0-ddbab37dc680"
      },
      "outputs": [
        {
          "data": {
            "text/plain": [
              "[31584.484375,\n",
              " 31584.4853515625,\n",
              " 31584.4873046875,\n",
              " 31584.486328125,\n",
              " 31584.486328125,\n",
              " 31584.486328125,\n",
              " 31584.486328125,\n",
              " 31584.4873046875,\n",
              " 31584.48828125,\n",
              " 31584.4873046875,\n",
              " 31584.4873046875,\n",
              " 31584.48828125,\n",
              " 31584.486328125,\n",
              " 31584.486328125,\n",
              " 31584.4873046875,\n",
              " 31584.4853515625,\n",
              " 31584.48828125,\n",
              " 31584.486328125,\n",
              " 31584.486328125,\n",
              " 31584.48828125,\n",
              " 31584.486328125,\n",
              " 31584.48828125,\n",
              " 31584.48828125,\n",
              " 31584.486328125]"
            ]
          },
          "execution_count": 87,
          "metadata": {},
          "output_type": "execute_result"
        }
      ],
      "source": [
        "y_pred"
      ]
    },
    {
      "cell_type": "code",
      "execution_count": 88,
      "metadata": {
        "id": "bdiml4gquxck"
      },
      "outputs": [],
      "source": [
        "y_pred_pd = pd.DataFrame(y_pred)\n",
        "y_pred_pd.to_csv('solar.csv', index=False)"
      ]
    },
    {
      "cell_type": "code",
      "execution_count": 89,
      "metadata": {
        "colab": {
          "base_uri": "https://localhost:8080/",
          "height": 472
        },
        "id": "_xelkp0puywG",
        "outputId": "cd3cefab-9211-4ec9-b48e-4118dc5bc9dc"
      },
      "outputs": [
        {
          "data": {
            "image/png": "[encoded data removed]",
            "text/plain": [
              "<Figure size 640x480 with 1 Axes>"
            ]
          },
          "metadata": {},
          "output_type": "display_data"
        }
      ],
      "source": [
        "plt.plot(range(1, 25), y_pred_pd[0], marker='o')\n",
        "plt.xlabel('Hour')\n",
        "plt.ylabel('Prediction')\n",
        "plt.title('Hourly Predictions')\n",
        "plt.savefig('Tomorrow_Solar_Energy(hourly).png')\n",
        "plt.show()"
      ]
    },
    {
      "cell_type": "code",
      "execution_count": null,
      "metadata": {},
      "outputs": [],
      "source": [
        "from joblib import dump\n",
        "dump(ss, 'scaler.joblib')"
      ]
    }
  ],
  "metadata": {
    "accelerator": "GPU",
    "colab": {
      "gpuType": "T4",
      "provenance": []
    },
    "kernelspec": {
      "display_name": "Python 3",
      "name": "python3"
    },
    "language_info": {
      "name": "python"
    }
  },
  "nbformat": 4,
  "nbformat_minor": 0
}
