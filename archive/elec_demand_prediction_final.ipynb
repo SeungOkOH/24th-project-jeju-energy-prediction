{
  "nbformat": 4,
  "nbformat_minor": 0,
  "metadata": {
    "colab": {
      "provenance": [],
      "gpuType": "T4"
    },
    "kernelspec": {
      "name": "python3",
      "display_name": "Python 3"
    },
    "language_info": {
      "name": "python"
    },
    "accelerator": "GPU"
  },
  "cells": [
    {
      "cell_type": "code",
      "execution_count": 68,
      "metadata": {
        "colab": {
          "base_uri": "https://localhost:8080/"
        },
        "id": "mLs3MJPlWVOo",
        "outputId": "5c6149ef-f05e-4cb9-d79f-b1145cd52443"
      },
      "outputs": [
        {
          "output_type": "stream",
          "name": "stdout",
          "text": [
            "Drive already mounted at /content/drive; to attempt to forcibly remount, call drive.mount(\"/content/drive\", force_remount=True).\n"
          ]
        }
      ],
      "source": [
        "from google.colab import drive\n",
        "\n",
        "drive.mount('/content/drive')"
      ]
    },
    {
      "cell_type": "markdown",
      "source": [
        "#데이터 불러오기"
      ],
      "metadata": {
        "id": "9Gj3CO6piQY2"
      }
    },
    {
      "cell_type": "code",
      "source": [
        "import pandas as pd\n",
        "import numpy as np\n",
        "import matplotlib.pyplot as plt\n",
        "import scipy.stats as stats\n",
        "import seaborn as sns\n",
        "import datetime\n",
        "from sklearn.preprocessing import StandardScaler"
      ],
      "metadata": {
        "id": "C165Z_57WdqV"
      },
      "execution_count": 69,
      "outputs": []
    },
    {
      "cell_type": "code",
      "source": [
        "weather_df_jeju = pd.read_csv(\"/content/drive/MyDrive/weather_df_제주.csv\")\n",
        "weather_df_gosan = pd.read_csv(\"/content/drive/MyDrive/weather_df_고산.csv\")\n",
        "weather_df_seongsan = pd.read_csv(\"/content/drive/MyDrive/weather_df_성산.csv\")\n",
        "weather_df_seo = pd.read_csv(\"/content/drive/MyDrive/weather_df_서귀포.csv\")\n",
        "electricity_demand = pd.read_csv(\"/content/전력 수요량 시간별 데이터_new.csv\")"
      ],
      "metadata": {
        "id": "nVL0xAaDaHqx"
      },
      "execution_count": 70,
      "outputs": []
    },
    {
      "cell_type": "code",
      "source": [
        "electricity_demand"
      ],
      "metadata": {
        "colab": {
          "base_uri": "https://localhost:8080/",
          "height": 423
        },
        "id": "RsKgB0rFa4-7",
        "outputId": "9eb0f263-d2c6-4d04-822d-c5279cd39065"
      },
      "execution_count": 71,
      "outputs": [
        {
          "output_type": "execute_result",
          "data": {
            "text/plain": [
              "             date  hour area  electricity demand(MWh)\n",
              "0      2021-01-01     1  제주도                   746329\n",
              "1      2021-01-01     2  제주도                   710544\n",
              "2      2021-01-01     3  제주도                   685313\n",
              "3      2021-01-01     4  제주도                   674663\n",
              "4      2021-01-01     5  제주도                   673656\n",
              "...           ...   ...  ...                      ...\n",
              "17515  2022-12-31    20  제주도                   926980\n",
              "17516  2022-12-31    21  제주도                   921498\n",
              "17517  2022-12-31    22  제주도                   903747\n",
              "17518  2022-12-31    23  제주도                   882189\n",
              "17519  2022-12-31    24  제주도                   873969\n",
              "\n",
              "[17520 rows x 4 columns]"
            ],
            "text/html": [
              "\n",
              "  <div id=\"df-0455f228-9ff5-4293-a905-2477e0cdeb61\" class=\"colab-df-container\">\n",
              "    <div>\n",
              "<style scoped>\n",
              "    .dataframe tbody tr th:only-of-type {\n",
              "        vertical-align: middle;\n",
              "    }\n",
              "\n",
              "    .dataframe tbody tr th {\n",
              "        vertical-align: top;\n",
              "    }\n",
              "\n",
              "    .dataframe thead th {\n",
              "        text-align: right;\n",
              "    }\n",
              "</style>\n",
              "<table border=\"1\" class=\"dataframe\">\n",
              "  <thead>\n",
              "    <tr style=\"text-align: right;\">\n",
              "      <th></th>\n",
              "      <th>date</th>\n",
              "      <th>hour</th>\n",
              "      <th>area</th>\n",
              "      <th>electricity demand(MWh)</th>\n",
              "    </tr>\n",
              "  </thead>\n",
              "  <tbody>\n",
              "    <tr>\n",
              "      <th>0</th>\n",
              "      <td>2021-01-01</td>\n",
              "      <td>1</td>\n",
              "      <td>제주도</td>\n",
              "      <td>746329</td>\n",
              "    </tr>\n",
              "    <tr>\n",
              "      <th>1</th>\n",
              "      <td>2021-01-01</td>\n",
              "      <td>2</td>\n",
              "      <td>제주도</td>\n",
              "      <td>710544</td>\n",
              "    </tr>\n",
              "    <tr>\n",
              "      <th>2</th>\n",
              "      <td>2021-01-01</td>\n",
              "      <td>3</td>\n",
              "      <td>제주도</td>\n",
              "      <td>685313</td>\n",
              "    </tr>\n",
              "    <tr>\n",
              "      <th>3</th>\n",
              "      <td>2021-01-01</td>\n",
              "      <td>4</td>\n",
              "      <td>제주도</td>\n",
              "      <td>674663</td>\n",
              "    </tr>\n",
              "    <tr>\n",
              "      <th>4</th>\n",
              "      <td>2021-01-01</td>\n",
              "      <td>5</td>\n",
              "      <td>제주도</td>\n",
              "      <td>673656</td>\n",
              "    </tr>\n",
              "    <tr>\n",
              "      <th>...</th>\n",
              "      <td>...</td>\n",
              "      <td>...</td>\n",
              "      <td>...</td>\n",
              "      <td>...</td>\n",
              "    </tr>\n",
              "    <tr>\n",
              "      <th>17515</th>\n",
              "      <td>2022-12-31</td>\n",
              "      <td>20</td>\n",
              "      <td>제주도</td>\n",
              "      <td>926980</td>\n",
              "    </tr>\n",
              "    <tr>\n",
              "      <th>17516</th>\n",
              "      <td>2022-12-31</td>\n",
              "      <td>21</td>\n",
              "      <td>제주도</td>\n",
              "      <td>921498</td>\n",
              "    </tr>\n",
              "    <tr>\n",
              "      <th>17517</th>\n",
              "      <td>2022-12-31</td>\n",
              "      <td>22</td>\n",
              "      <td>제주도</td>\n",
              "      <td>903747</td>\n",
              "    </tr>\n",
              "    <tr>\n",
              "      <th>17518</th>\n",
              "      <td>2022-12-31</td>\n",
              "      <td>23</td>\n",
              "      <td>제주도</td>\n",
              "      <td>882189</td>\n",
              "    </tr>\n",
              "    <tr>\n",
              "      <th>17519</th>\n",
              "      <td>2022-12-31</td>\n",
              "      <td>24</td>\n",
              "      <td>제주도</td>\n",
              "      <td>873969</td>\n",
              "    </tr>\n",
              "  </tbody>\n",
              "</table>\n",
              "<p>17520 rows × 4 columns</p>\n",
              "</div>\n",
              "    <div class=\"colab-df-buttons\">\n",
              "\n",
              "  <div class=\"colab-df-container\">\n",
              "    <button class=\"colab-df-convert\" onclick=\"convertToInteractive('df-0455f228-9ff5-4293-a905-2477e0cdeb61')\"\n",
              "            title=\"Convert this dataframe to an interactive table.\"\n",
              "            style=\"display:none;\">\n",
              "\n",
              "  <svg xmlns=\"http://www.w3.org/2000/svg\" height=\"24px\" viewBox=\"0 -960 960 960\">\n",
              "    <path d=\"M120-120v-720h720v720H120Zm60-500h600v-160H180v160Zm220 220h160v-160H400v160Zm0 220h160v-160H400v160ZM180-400h160v-160H180v160Zm440 0h160v-160H620v160ZM180-180h160v-160H180v160Zm440 0h160v-160H620v160Z\"/>\n",
              "  </svg>\n",
              "    </button>\n",
              "\n",
              "  <style>\n",
              "    .colab-df-container {\n",
              "      display:flex;\n",
              "      gap: 12px;\n",
              "    }\n",
              "\n",
              "    .colab-df-convert {\n",
              "      background-color: #E8F0FE;\n",
              "      border: none;\n",
              "      border-radius: 50%;\n",
              "      cursor: pointer;\n",
              "      display: none;\n",
              "      fill: #1967D2;\n",
              "      height: 32px;\n",
              "      padding: 0 0 0 0;\n",
              "      width: 32px;\n",
              "    }\n",
              "\n",
              "    .colab-df-convert:hover {\n",
              "      background-color: #E2EBFA;\n",
              "      box-shadow: 0px 1px 2px rgba(60, 64, 67, 0.3), 0px 1px 3px 1px rgba(60, 64, 67, 0.15);\n",
              "      fill: #174EA6;\n",
              "    }\n",
              "\n",
              "    .colab-df-buttons div {\n",
              "      margin-bottom: 4px;\n",
              "    }\n",
              "\n",
              "    [theme=dark] .colab-df-convert {\n",
              "      background-color: #3B4455;\n",
              "      fill: #D2E3FC;\n",
              "    }\n",
              "\n",
              "    [theme=dark] .colab-df-convert:hover {\n",
              "      background-color: #434B5C;\n",
              "      box-shadow: 0px 1px 3px 1px rgba(0, 0, 0, 0.15);\n",
              "      filter: drop-shadow(0px 1px 2px rgba(0, 0, 0, 0.3));\n",
              "      fill: #FFFFFF;\n",
              "    }\n",
              "  </style>\n",
              "\n",
              "    <script>\n",
              "      const buttonEl =\n",
              "        document.querySelector('#df-0455f228-9ff5-4293-a905-2477e0cdeb61 button.colab-df-convert');\n",
              "      buttonEl.style.display =\n",
              "        google.colab.kernel.accessAllowed ? 'block' : 'none';\n",
              "\n",
              "      async function convertToInteractive(key) {\n",
              "        const element = document.querySelector('#df-0455f228-9ff5-4293-a905-2477e0cdeb61');\n",
              "        const dataTable =\n",
              "          await google.colab.kernel.invokeFunction('convertToInteractive',\n",
              "                                                    [key], {});\n",
              "        if (!dataTable) return;\n",
              "\n",
              "        const docLinkHtml = 'Like what you see? Visit the ' +\n",
              "          '<a target=\"_blank\" href=https://colab.research.google.com/notebooks/data_table.ipynb>data table notebook</a>'\n",
              "          + ' to learn more about interactive tables.';\n",
              "        element.innerHTML = '';\n",
              "        dataTable['output_type'] = 'display_data';\n",
              "        await google.colab.output.renderOutput(dataTable, element);\n",
              "        const docLink = document.createElement('div');\n",
              "        docLink.innerHTML = docLinkHtml;\n",
              "        element.appendChild(docLink);\n",
              "      }\n",
              "    </script>\n",
              "  </div>\n",
              "\n",
              "\n",
              "<div id=\"df-cd99dc19-1a69-42c7-b677-77a177f6c4e9\">\n",
              "  <button class=\"colab-df-quickchart\" onclick=\"quickchart('df-cd99dc19-1a69-42c7-b677-77a177f6c4e9')\"\n",
              "            title=\"Suggest charts\"\n",
              "            style=\"display:none;\">\n",
              "\n",
              "<svg xmlns=\"http://www.w3.org/2000/svg\" height=\"24px\"viewBox=\"0 0 24 24\"\n",
              "     width=\"24px\">\n",
              "    <g>\n",
              "        <path d=\"M19 3H5c-1.1 0-2 .9-2 2v14c0 1.1.9 2 2 2h14c1.1 0 2-.9 2-2V5c0-1.1-.9-2-2-2zM9 17H7v-7h2v7zm4 0h-2V7h2v10zm4 0h-2v-4h2v4z\"/>\n",
              "    </g>\n",
              "</svg>\n",
              "  </button>\n",
              "\n",
              "<style>\n",
              "  .colab-df-quickchart {\n",
              "      --bg-color: #E8F0FE;\n",
              "      --fill-color: #1967D2;\n",
              "      --hover-bg-color: #E2EBFA;\n",
              "      --hover-fill-color: #174EA6;\n",
              "      --disabled-fill-color: #AAA;\n",
              "      --disabled-bg-color: #DDD;\n",
              "  }\n",
              "\n",
              "  [theme=dark] .colab-df-quickchart {\n",
              "      --bg-color: #3B4455;\n",
              "      --fill-color: #D2E3FC;\n",
              "      --hover-bg-color: #434B5C;\n",
              "      --hover-fill-color: #FFFFFF;\n",
              "      --disabled-bg-color: #3B4455;\n",
              "      --disabled-fill-color: #666;\n",
              "  }\n",
              "\n",
              "  .colab-df-quickchart {\n",
              "    background-color: var(--bg-color);\n",
              "    border: none;\n",
              "    border-radius: 50%;\n",
              "    cursor: pointer;\n",
              "    display: none;\n",
              "    fill: var(--fill-color);\n",
              "    height: 32px;\n",
              "    padding: 0;\n",
              "    width: 32px;\n",
              "  }\n",
              "\n",
              "  .colab-df-quickchart:hover {\n",
              "    background-color: var(--hover-bg-color);\n",
              "    box-shadow: 0 1px 2px rgba(60, 64, 67, 0.3), 0 1px 3px 1px rgba(60, 64, 67, 0.15);\n",
              "    fill: var(--button-hover-fill-color);\n",
              "  }\n",
              "\n",
              "  .colab-df-quickchart-complete:disabled,\n",
              "  .colab-df-quickchart-complete:disabled:hover {\n",
              "    background-color: var(--disabled-bg-color);\n",
              "    fill: var(--disabled-fill-color);\n",
              "    box-shadow: none;\n",
              "  }\n",
              "\n",
              "  .colab-df-spinner {\n",
              "    border: 2px solid var(--fill-color);\n",
              "    border-color: transparent;\n",
              "    border-bottom-color: var(--fill-color);\n",
              "    animation:\n",
              "      spin 1s steps(1) infinite;\n",
              "  }\n",
              "\n",
              "  @keyframes spin {\n",
              "    0% {\n",
              "      border-color: transparent;\n",
              "      border-bottom-color: var(--fill-color);\n",
              "      border-left-color: var(--fill-color);\n",
              "    }\n",
              "    20% {\n",
              "      border-color: transparent;\n",
              "      border-left-color: var(--fill-color);\n",
              "      border-top-color: var(--fill-color);\n",
              "    }\n",
              "    30% {\n",
              "      border-color: transparent;\n",
              "      border-left-color: var(--fill-color);\n",
              "      border-top-color: var(--fill-color);\n",
              "      border-right-color: var(--fill-color);\n",
              "    }\n",
              "    40% {\n",
              "      border-color: transparent;\n",
              "      border-right-color: var(--fill-color);\n",
              "      border-top-color: var(--fill-color);\n",
              "    }\n",
              "    60% {\n",
              "      border-color: transparent;\n",
              "      border-right-color: var(--fill-color);\n",
              "    }\n",
              "    80% {\n",
              "      border-color: transparent;\n",
              "      border-right-color: var(--fill-color);\n",
              "      border-bottom-color: var(--fill-color);\n",
              "    }\n",
              "    90% {\n",
              "      border-color: transparent;\n",
              "      border-bottom-color: var(--fill-color);\n",
              "    }\n",
              "  }\n",
              "</style>\n",
              "\n",
              "  <script>\n",
              "    async function quickchart(key) {\n",
              "      const quickchartButtonEl =\n",
              "        document.querySelector('#' + key + ' button');\n",
              "      quickchartButtonEl.disabled = true;  // To prevent multiple clicks.\n",
              "      quickchartButtonEl.classList.add('colab-df-spinner');\n",
              "      try {\n",
              "        const charts = await google.colab.kernel.invokeFunction(\n",
              "            'suggestCharts', [key], {});\n",
              "      } catch (error) {\n",
              "        console.error('Error during call to suggestCharts:', error);\n",
              "      }\n",
              "      quickchartButtonEl.classList.remove('colab-df-spinner');\n",
              "      quickchartButtonEl.classList.add('colab-df-quickchart-complete');\n",
              "    }\n",
              "    (() => {\n",
              "      let quickchartButtonEl =\n",
              "        document.querySelector('#df-cd99dc19-1a69-42c7-b677-77a177f6c4e9 button');\n",
              "      quickchartButtonEl.style.display =\n",
              "        google.colab.kernel.accessAllowed ? 'block' : 'none';\n",
              "    })();\n",
              "  </script>\n",
              "</div>\n",
              "\n",
              "  <div id=\"id_54f9687a-519e-493c-bc77-ec473499e568\">\n",
              "    <style>\n",
              "      .colab-df-generate {\n",
              "        background-color: #E8F0FE;\n",
              "        border: none;\n",
              "        border-radius: 50%;\n",
              "        cursor: pointer;\n",
              "        display: none;\n",
              "        fill: #1967D2;\n",
              "        height: 32px;\n",
              "        padding: 0 0 0 0;\n",
              "        width: 32px;\n",
              "      }\n",
              "\n",
              "      .colab-df-generate:hover {\n",
              "        background-color: #E2EBFA;\n",
              "        box-shadow: 0px 1px 2px rgba(60, 64, 67, 0.3), 0px 1px 3px 1px rgba(60, 64, 67, 0.15);\n",
              "        fill: #174EA6;\n",
              "      }\n",
              "\n",
              "      [theme=dark] .colab-df-generate {\n",
              "        background-color: #3B4455;\n",
              "        fill: #D2E3FC;\n",
              "      }\n",
              "\n",
              "      [theme=dark] .colab-df-generate:hover {\n",
              "        background-color: #434B5C;\n",
              "        box-shadow: 0px 1px 3px 1px rgba(0, 0, 0, 0.15);\n",
              "        filter: drop-shadow(0px 1px 2px rgba(0, 0, 0, 0.3));\n",
              "        fill: #FFFFFF;\n",
              "      }\n",
              "    </style>\n",
              "    <button class=\"colab-df-generate\" onclick=\"generateWithVariable('electricity_demand')\"\n",
              "            title=\"Generate code using this dataframe.\"\n",
              "            style=\"display:none;\">\n",
              "\n",
              "  <svg xmlns=\"http://www.w3.org/2000/svg\" height=\"24px\"viewBox=\"0 0 24 24\"\n",
              "       width=\"24px\">\n",
              "    <path d=\"M7,19H8.4L18.45,9,17,7.55,7,17.6ZM5,21V16.75L18.45,3.32a2,2,0,0,1,2.83,0l1.4,1.43a1.91,1.91,0,0,1,.58,1.4,1.91,1.91,0,0,1-.58,1.4L9.25,21ZM18.45,9,17,7.55Zm-12,3A5.31,5.31,0,0,0,4.9,8.1,5.31,5.31,0,0,0,1,6.5,5.31,5.31,0,0,0,4.9,4.9,5.31,5.31,0,0,0,6.5,1,5.31,5.31,0,0,0,8.1,4.9,5.31,5.31,0,0,0,12,6.5,5.46,5.46,0,0,0,6.5,12Z\"/>\n",
              "  </svg>\n",
              "    </button>\n",
              "    <script>\n",
              "      (() => {\n",
              "      const buttonEl =\n",
              "        document.querySelector('#id_54f9687a-519e-493c-bc77-ec473499e568 button.colab-df-generate');\n",
              "      buttonEl.style.display =\n",
              "        google.colab.kernel.accessAllowed ? 'block' : 'none';\n",
              "\n",
              "      buttonEl.onclick = () => {\n",
              "        google.colab.notebook.generateWithVariable('electricity_demand');\n",
              "      }\n",
              "      })();\n",
              "    </script>\n",
              "  </div>\n",
              "\n",
              "    </div>\n",
              "  </div>\n"
            ],
            "application/vnd.google.colaboratory.intrinsic+json": {
              "type": "dataframe",
              "variable_name": "electricity_demand",
              "summary": "{\n  \"name\": \"electricity_demand\",\n  \"rows\": 17520,\n  \"fields\": [\n    {\n      \"column\": \"date\",\n      \"properties\": {\n        \"dtype\": \"object\",\n        \"min\": \"2021-01-01\",\n        \"max\": \"2022-12-31\",\n        \"samples\": [\n          \"2022-04-14\",\n          \"2021-05-29\",\n          \"2021-10-30\"\n        ],\n        \"num_unique_values\": 730,\n        \"semantic_type\": \"\",\n        \"description\": \"\"\n      }\n    },\n    {\n      \"column\": \"hour\",\n      \"properties\": {\n        \"dtype\": \"number\",\n        \"std\": 6,\n        \"min\": 1,\n        \"max\": 24,\n        \"samples\": [\n          9,\n          17,\n          1\n        ],\n        \"num_unique_values\": 24,\n        \"semantic_type\": \"\",\n        \"description\": \"\"\n      }\n    },\n    {\n      \"column\": \"area\",\n      \"properties\": {\n        \"dtype\": \"category\",\n        \"samples\": [\n          \"\\uc81c\\uc8fc\\ub3c4\"\n        ],\n        \"num_unique_values\": 1,\n        \"semantic_type\": \"\",\n        \"description\": \"\"\n      }\n    },\n    {\n      \"column\": \"electricity demand(MWh)\",\n      \"properties\": {\n        \"dtype\": \"number\",\n        \"std\": 123633,\n        \"min\": 378478,\n        \"max\": 1103977,\n        \"samples\": [\n          508345\n        ],\n        \"num_unique_values\": 17162,\n        \"semantic_type\": \"\",\n        \"description\": \"\"\n      }\n    }\n  ]\n}"
            }
          },
          "metadata": {},
          "execution_count": 71
        }
      ]
    },
    {
      "cell_type": "code",
      "source": [
        "merged_df_jeju = weather_df_jeju.merge(electricity_demand[['date', 'hour', 'electricity demand(MWh)']], on=['date', 'hour'], how='left')\n",
        "# date 열을 datetime 형식으로 변환합니다.\n",
        "merged_df_jeju['date'] = pd.to_datetime(merged_df_jeju['date'])\n",
        "\n",
        "# 날짜 열을 기반으로 요일을 추출하여 새로운 열에 추가합니다.\n",
        "merged_df_jeju['weekday'] = merged_df_jeju['date'].dt.dayofweek\n",
        "\n",
        "# 요일(one-hot encoding) 추가\n",
        "merged_df_jeju = pd.get_dummies(merged_df_jeju, columns=['weekday'])\n",
        "\n",
        "merged_df_jeju"
      ],
      "metadata": {
        "colab": {
          "base_uri": "https://localhost:8080/",
          "height": 634
        },
        "id": "FQlIhaC4bIiT",
        "outputId": "edad4870-cb35-4a82-fc42-729a00f79de7"
      },
      "execution_count": 72,
      "outputs": [
        {
          "output_type": "execute_result",
          "data": {
            "text/plain": [
              "            date  hour  WindDirection  WindSpeed  Cloud  Rainfall  Humidity  \\\n",
              "0     2021-01-01     1          320.0        6.1    9.0       0.0      53.0   \n",
              "1     2021-01-01     2          320.0        5.6    9.0       0.0      58.0   \n",
              "2     2021-01-01     3          320.0        5.5   10.0       0.0      54.0   \n",
              "3     2021-01-01     4          320.0        5.4   10.0       0.0      52.0   \n",
              "4     2021-01-01     5          290.0        4.2   10.0       0.0      47.0   \n",
              "...          ...   ...            ...        ...    ...       ...       ...   \n",
              "17515 2022-12-31    20          320.0        3.4    6.0       0.0      60.0   \n",
              "17516 2022-12-31    21          290.0        2.9    7.0       0.0      59.0   \n",
              "17517 2022-12-31    22          320.0        3.2    6.0       0.0      61.0   \n",
              "17518 2022-12-31    23          250.0        1.9    3.0       0.0      62.0   \n",
              "17519 2022-12-31    24          270.0        2.1    4.0       0.0      64.0   \n",
              "\n",
              "       Temperature  Q12  Q13  Q_mean  electricity demand(MWh)  weekday_0  \\\n",
              "0              4.5  0.0  0.0     0.0                   746329          0   \n",
              "1              4.3  0.0  0.0     0.0                   710544          0   \n",
              "2              4.2  0.0  0.0     0.0                   685313          0   \n",
              "3              4.3  0.0  0.0     0.0                   674663          0   \n",
              "4              4.2  0.0  0.0     0.0                   673656          0   \n",
              "...            ...  ...  ...     ...                      ...        ...   \n",
              "17515          6.9  0.0  0.0     0.0                   926980          0   \n",
              "17516          6.8  0.0  0.0     0.0                   921498          0   \n",
              "17517          6.8  0.0  0.0     0.0                   903747          0   \n",
              "17518          6.0  0.0  0.0     0.0                   882189          0   \n",
              "17519          5.4  0.0  0.0     0.0                   873969          0   \n",
              "\n",
              "       weekday_1  weekday_2  weekday_3  weekday_4  weekday_5  weekday_6  \n",
              "0              0          0          0          1          0          0  \n",
              "1              0          0          0          1          0          0  \n",
              "2              0          0          0          1          0          0  \n",
              "3              0          0          0          1          0          0  \n",
              "4              0          0          0          1          0          0  \n",
              "...          ...        ...        ...        ...        ...        ...  \n",
              "17515          0          0          0          0          1          0  \n",
              "17516          0          0          0          0          1          0  \n",
              "17517          0          0          0          0          1          0  \n",
              "17518          0          0          0          0          1          0  \n",
              "17519          0          0          0          0          1          0  \n",
              "\n",
              "[17520 rows x 19 columns]"
            ],
            "text/html": [
              "\n",
              "  <div id=\"df-f2d4475b-d49e-4b9e-8984-45e78d1434a8\" class=\"colab-df-container\">\n",
              "    <div>\n",
              "<style scoped>\n",
              "    .dataframe tbody tr th:only-of-type {\n",
              "        vertical-align: middle;\n",
              "    }\n",
              "\n",
              "    .dataframe tbody tr th {\n",
              "        vertical-align: top;\n",
              "    }\n",
              "\n",
              "    .dataframe thead th {\n",
              "        text-align: right;\n",
              "    }\n",
              "</style>\n",
              "<table border=\"1\" class=\"dataframe\">\n",
              "  <thead>\n",
              "    <tr style=\"text-align: right;\">\n",
              "      <th></th>\n",
              "      <th>date</th>\n",
              "      <th>hour</th>\n",
              "      <th>WindDirection</th>\n",
              "      <th>WindSpeed</th>\n",
              "      <th>Cloud</th>\n",
              "      <th>Rainfall</th>\n",
              "      <th>Humidity</th>\n",
              "      <th>Temperature</th>\n",
              "      <th>Q12</th>\n",
              "      <th>Q13</th>\n",
              "      <th>Q_mean</th>\n",
              "      <th>electricity demand(MWh)</th>\n",
              "      <th>weekday_0</th>\n",
              "      <th>weekday_1</th>\n",
              "      <th>weekday_2</th>\n",
              "      <th>weekday_3</th>\n",
              "      <th>weekday_4</th>\n",
              "      <th>weekday_5</th>\n",
              "      <th>weekday_6</th>\n",
              "    </tr>\n",
              "  </thead>\n",
              "  <tbody>\n",
              "    <tr>\n",
              "      <th>0</th>\n",
              "      <td>2021-01-01</td>\n",
              "      <td>1</td>\n",
              "      <td>320.0</td>\n",
              "      <td>6.1</td>\n",
              "      <td>9.0</td>\n",
              "      <td>0.0</td>\n",
              "      <td>53.0</td>\n",
              "      <td>4.5</td>\n",
              "      <td>0.0</td>\n",
              "      <td>0.0</td>\n",
              "      <td>0.0</td>\n",
              "      <td>746329</td>\n",
              "      <td>0</td>\n",
              "      <td>0</td>\n",
              "      <td>0</td>\n",
              "      <td>0</td>\n",
              "      <td>1</td>\n",
              "      <td>0</td>\n",
              "      <td>0</td>\n",
              "    </tr>\n",
              "    <tr>\n",
              "      <th>1</th>\n",
              "      <td>2021-01-01</td>\n",
              "      <td>2</td>\n",
              "      <td>320.0</td>\n",
              "      <td>5.6</td>\n",
              "      <td>9.0</td>\n",
              "      <td>0.0</td>\n",
              "      <td>58.0</td>\n",
              "      <td>4.3</td>\n",
              "      <td>0.0</td>\n",
              "      <td>0.0</td>\n",
              "      <td>0.0</td>\n",
              "      <td>710544</td>\n",
              "      <td>0</td>\n",
              "      <td>0</td>\n",
              "      <td>0</td>\n",
              "      <td>0</td>\n",
              "      <td>1</td>\n",
              "      <td>0</td>\n",
              "      <td>0</td>\n",
              "    </tr>\n",
              "    <tr>\n",
              "      <th>2</th>\n",
              "      <td>2021-01-01</td>\n",
              "      <td>3</td>\n",
              "      <td>320.0</td>\n",
              "      <td>5.5</td>\n",
              "      <td>10.0</td>\n",
              "      <td>0.0</td>\n",
              "      <td>54.0</td>\n",
              "      <td>4.2</td>\n",
              "      <td>0.0</td>\n",
              "      <td>0.0</td>\n",
              "      <td>0.0</td>\n",
              "      <td>685313</td>\n",
              "      <td>0</td>\n",
              "      <td>0</td>\n",
              "      <td>0</td>\n",
              "      <td>0</td>\n",
              "      <td>1</td>\n",
              "      <td>0</td>\n",
              "      <td>0</td>\n",
              "    </tr>\n",
              "    <tr>\n",
              "      <th>3</th>\n",
              "      <td>2021-01-01</td>\n",
              "      <td>4</td>\n",
              "      <td>320.0</td>\n",
              "      <td>5.4</td>\n",
              "      <td>10.0</td>\n",
              "      <td>0.0</td>\n",
              "      <td>52.0</td>\n",
              "      <td>4.3</td>\n",
              "      <td>0.0</td>\n",
              "      <td>0.0</td>\n",
              "      <td>0.0</td>\n",
              "      <td>674663</td>\n",
              "      <td>0</td>\n",
              "      <td>0</td>\n",
              "      <td>0</td>\n",
              "      <td>0</td>\n",
              "      <td>1</td>\n",
              "      <td>0</td>\n",
              "      <td>0</td>\n",
              "    </tr>\n",
              "    <tr>\n",
              "      <th>4</th>\n",
              "      <td>2021-01-01</td>\n",
              "      <td>5</td>\n",
              "      <td>290.0</td>\n",
              "      <td>4.2</td>\n",
              "      <td>10.0</td>\n",
              "      <td>0.0</td>\n",
              "      <td>47.0</td>\n",
              "      <td>4.2</td>\n",
              "      <td>0.0</td>\n",
              "      <td>0.0</td>\n",
              "      <td>0.0</td>\n",
              "      <td>673656</td>\n",
              "      <td>0</td>\n",
              "      <td>0</td>\n",
              "      <td>0</td>\n",
              "      <td>0</td>\n",
              "      <td>1</td>\n",
              "      <td>0</td>\n",
              "      <td>0</td>\n",
              "    </tr>\n",
              "    <tr>\n",
              "      <th>...</th>\n",
              "      <td>...</td>\n",
              "      <td>...</td>\n",
              "      <td>...</td>\n",
              "      <td>...</td>\n",
              "      <td>...</td>\n",
              "      <td>...</td>\n",
              "      <td>...</td>\n",
              "      <td>...</td>\n",
              "      <td>...</td>\n",
              "      <td>...</td>\n",
              "      <td>...</td>\n",
              "      <td>...</td>\n",
              "      <td>...</td>\n",
              "      <td>...</td>\n",
              "      <td>...</td>\n",
              "      <td>...</td>\n",
              "      <td>...</td>\n",
              "      <td>...</td>\n",
              "      <td>...</td>\n",
              "    </tr>\n",
              "    <tr>\n",
              "      <th>17515</th>\n",
              "      <td>2022-12-31</td>\n",
              "      <td>20</td>\n",
              "      <td>320.0</td>\n",
              "      <td>3.4</td>\n",
              "      <td>6.0</td>\n",
              "      <td>0.0</td>\n",
              "      <td>60.0</td>\n",
              "      <td>6.9</td>\n",
              "      <td>0.0</td>\n",
              "      <td>0.0</td>\n",
              "      <td>0.0</td>\n",
              "      <td>926980</td>\n",
              "      <td>0</td>\n",
              "      <td>0</td>\n",
              "      <td>0</td>\n",
              "      <td>0</td>\n",
              "      <td>0</td>\n",
              "      <td>1</td>\n",
              "      <td>0</td>\n",
              "    </tr>\n",
              "    <tr>\n",
              "      <th>17516</th>\n",
              "      <td>2022-12-31</td>\n",
              "      <td>21</td>\n",
              "      <td>290.0</td>\n",
              "      <td>2.9</td>\n",
              "      <td>7.0</td>\n",
              "      <td>0.0</td>\n",
              "      <td>59.0</td>\n",
              "      <td>6.8</td>\n",
              "      <td>0.0</td>\n",
              "      <td>0.0</td>\n",
              "      <td>0.0</td>\n",
              "      <td>921498</td>\n",
              "      <td>0</td>\n",
              "      <td>0</td>\n",
              "      <td>0</td>\n",
              "      <td>0</td>\n",
              "      <td>0</td>\n",
              "      <td>1</td>\n",
              "      <td>0</td>\n",
              "    </tr>\n",
              "    <tr>\n",
              "      <th>17517</th>\n",
              "      <td>2022-12-31</td>\n",
              "      <td>22</td>\n",
              "      <td>320.0</td>\n",
              "      <td>3.2</td>\n",
              "      <td>6.0</td>\n",
              "      <td>0.0</td>\n",
              "      <td>61.0</td>\n",
              "      <td>6.8</td>\n",
              "      <td>0.0</td>\n",
              "      <td>0.0</td>\n",
              "      <td>0.0</td>\n",
              "      <td>903747</td>\n",
              "      <td>0</td>\n",
              "      <td>0</td>\n",
              "      <td>0</td>\n",
              "      <td>0</td>\n",
              "      <td>0</td>\n",
              "      <td>1</td>\n",
              "      <td>0</td>\n",
              "    </tr>\n",
              "    <tr>\n",
              "      <th>17518</th>\n",
              "      <td>2022-12-31</td>\n",
              "      <td>23</td>\n",
              "      <td>250.0</td>\n",
              "      <td>1.9</td>\n",
              "      <td>3.0</td>\n",
              "      <td>0.0</td>\n",
              "      <td>62.0</td>\n",
              "      <td>6.0</td>\n",
              "      <td>0.0</td>\n",
              "      <td>0.0</td>\n",
              "      <td>0.0</td>\n",
              "      <td>882189</td>\n",
              "      <td>0</td>\n",
              "      <td>0</td>\n",
              "      <td>0</td>\n",
              "      <td>0</td>\n",
              "      <td>0</td>\n",
              "      <td>1</td>\n",
              "      <td>0</td>\n",
              "    </tr>\n",
              "    <tr>\n",
              "      <th>17519</th>\n",
              "      <td>2022-12-31</td>\n",
              "      <td>24</td>\n",
              "      <td>270.0</td>\n",
              "      <td>2.1</td>\n",
              "      <td>4.0</td>\n",
              "      <td>0.0</td>\n",
              "      <td>64.0</td>\n",
              "      <td>5.4</td>\n",
              "      <td>0.0</td>\n",
              "      <td>0.0</td>\n",
              "      <td>0.0</td>\n",
              "      <td>873969</td>\n",
              "      <td>0</td>\n",
              "      <td>0</td>\n",
              "      <td>0</td>\n",
              "      <td>0</td>\n",
              "      <td>0</td>\n",
              "      <td>1</td>\n",
              "      <td>0</td>\n",
              "    </tr>\n",
              "  </tbody>\n",
              "</table>\n",
              "<p>17520 rows × 19 columns</p>\n",
              "</div>\n",
              "    <div class=\"colab-df-buttons\">\n",
              "\n",
              "  <div class=\"colab-df-container\">\n",
              "    <button class=\"colab-df-convert\" onclick=\"convertToInteractive('df-f2d4475b-d49e-4b9e-8984-45e78d1434a8')\"\n",
              "            title=\"Convert this dataframe to an interactive table.\"\n",
              "            style=\"display:none;\">\n",
              "\n",
              "  <svg xmlns=\"http://www.w3.org/2000/svg\" height=\"24px\" viewBox=\"0 -960 960 960\">\n",
              "    <path d=\"M120-120v-720h720v720H120Zm60-500h600v-160H180v160Zm220 220h160v-160H400v160Zm0 220h160v-160H400v160ZM180-400h160v-160H180v160Zm440 0h160v-160H620v160ZM180-180h160v-160H180v160Zm440 0h160v-160H620v160Z\"/>\n",
              "  </svg>\n",
              "    </button>\n",
              "\n",
              "  <style>\n",
              "    .colab-df-container {\n",
              "      display:flex;\n",
              "      gap: 12px;\n",
              "    }\n",
              "\n",
              "    .colab-df-convert {\n",
              "      background-color: #E8F0FE;\n",
              "      border: none;\n",
              "      border-radius: 50%;\n",
              "      cursor: pointer;\n",
              "      display: none;\n",
              "      fill: #1967D2;\n",
              "      height: 32px;\n",
              "      padding: 0 0 0 0;\n",
              "      width: 32px;\n",
              "    }\n",
              "\n",
              "    .colab-df-convert:hover {\n",
              "      background-color: #E2EBFA;\n",
              "      box-shadow: 0px 1px 2px rgba(60, 64, 67, 0.3), 0px 1px 3px 1px rgba(60, 64, 67, 0.15);\n",
              "      fill: #174EA6;\n",
              "    }\n",
              "\n",
              "    .colab-df-buttons div {\n",
              "      margin-bottom: 4px;\n",
              "    }\n",
              "\n",
              "    [theme=dark] .colab-df-convert {\n",
              "      background-color: #3B4455;\n",
              "      fill: #D2E3FC;\n",
              "    }\n",
              "\n",
              "    [theme=dark] .colab-df-convert:hover {\n",
              "      background-color: #434B5C;\n",
              "      box-shadow: 0px 1px 3px 1px rgba(0, 0, 0, 0.15);\n",
              "      filter: drop-shadow(0px 1px 2px rgba(0, 0, 0, 0.3));\n",
              "      fill: #FFFFFF;\n",
              "    }\n",
              "  </style>\n",
              "\n",
              "    <script>\n",
              "      const buttonEl =\n",
              "        document.querySelector('#df-f2d4475b-d49e-4b9e-8984-45e78d1434a8 button.colab-df-convert');\n",
              "      buttonEl.style.display =\n",
              "        google.colab.kernel.accessAllowed ? 'block' : 'none';\n",
              "\n",
              "      async function convertToInteractive(key) {\n",
              "        const element = document.querySelector('#df-f2d4475b-d49e-4b9e-8984-45e78d1434a8');\n",
              "        const dataTable =\n",
              "          await google.colab.kernel.invokeFunction('convertToInteractive',\n",
              "                                                    [key], {});\n",
              "        if (!dataTable) return;\n",
              "\n",
              "        const docLinkHtml = 'Like what you see? Visit the ' +\n",
              "          '<a target=\"_blank\" href=https://colab.research.google.com/notebooks/data_table.ipynb>data table notebook</a>'\n",
              "          + ' to learn more about interactive tables.';\n",
              "        element.innerHTML = '';\n",
              "        dataTable['output_type'] = 'display_data';\n",
              "        await google.colab.output.renderOutput(dataTable, element);\n",
              "        const docLink = document.createElement('div');\n",
              "        docLink.innerHTML = docLinkHtml;\n",
              "        element.appendChild(docLink);\n",
              "      }\n",
              "    </script>\n",
              "  </div>\n",
              "\n",
              "\n",
              "<div id=\"df-9d9723f9-af70-405d-85f6-f72793f871c2\">\n",
              "  <button class=\"colab-df-quickchart\" onclick=\"quickchart('df-9d9723f9-af70-405d-85f6-f72793f871c2')\"\n",
              "            title=\"Suggest charts\"\n",
              "            style=\"display:none;\">\n",
              "\n",
              "<svg xmlns=\"http://www.w3.org/2000/svg\" height=\"24px\"viewBox=\"0 0 24 24\"\n",
              "     width=\"24px\">\n",
              "    <g>\n",
              "        <path d=\"M19 3H5c-1.1 0-2 .9-2 2v14c0 1.1.9 2 2 2h14c1.1 0 2-.9 2-2V5c0-1.1-.9-2-2-2zM9 17H7v-7h2v7zm4 0h-2V7h2v10zm4 0h-2v-4h2v4z\"/>\n",
              "    </g>\n",
              "</svg>\n",
              "  </button>\n",
              "\n",
              "<style>\n",
              "  .colab-df-quickchart {\n",
              "      --bg-color: #E8F0FE;\n",
              "      --fill-color: #1967D2;\n",
              "      --hover-bg-color: #E2EBFA;\n",
              "      --hover-fill-color: #174EA6;\n",
              "      --disabled-fill-color: #AAA;\n",
              "      --disabled-bg-color: #DDD;\n",
              "  }\n",
              "\n",
              "  [theme=dark] .colab-df-quickchart {\n",
              "      --bg-color: #3B4455;\n",
              "      --fill-color: #D2E3FC;\n",
              "      --hover-bg-color: #434B5C;\n",
              "      --hover-fill-color: #FFFFFF;\n",
              "      --disabled-bg-color: #3B4455;\n",
              "      --disabled-fill-color: #666;\n",
              "  }\n",
              "\n",
              "  .colab-df-quickchart {\n",
              "    background-color: var(--bg-color);\n",
              "    border: none;\n",
              "    border-radius: 50%;\n",
              "    cursor: pointer;\n",
              "    display: none;\n",
              "    fill: var(--fill-color);\n",
              "    height: 32px;\n",
              "    padding: 0;\n",
              "    width: 32px;\n",
              "  }\n",
              "\n",
              "  .colab-df-quickchart:hover {\n",
              "    background-color: var(--hover-bg-color);\n",
              "    box-shadow: 0 1px 2px rgba(60, 64, 67, 0.3), 0 1px 3px 1px rgba(60, 64, 67, 0.15);\n",
              "    fill: var(--button-hover-fill-color);\n",
              "  }\n",
              "\n",
              "  .colab-df-quickchart-complete:disabled,\n",
              "  .colab-df-quickchart-complete:disabled:hover {\n",
              "    background-color: var(--disabled-bg-color);\n",
              "    fill: var(--disabled-fill-color);\n",
              "    box-shadow: none;\n",
              "  }\n",
              "\n",
              "  .colab-df-spinner {\n",
              "    border: 2px solid var(--fill-color);\n",
              "    border-color: transparent;\n",
              "    border-bottom-color: var(--fill-color);\n",
              "    animation:\n",
              "      spin 1s steps(1) infinite;\n",
              "  }\n",
              "\n",
              "  @keyframes spin {\n",
              "    0% {\n",
              "      border-color: transparent;\n",
              "      border-bottom-color: var(--fill-color);\n",
              "      border-left-color: var(--fill-color);\n",
              "    }\n",
              "    20% {\n",
              "      border-color: transparent;\n",
              "      border-left-color: var(--fill-color);\n",
              "      border-top-color: var(--fill-color);\n",
              "    }\n",
              "    30% {\n",
              "      border-color: transparent;\n",
              "      border-left-color: var(--fill-color);\n",
              "      border-top-color: var(--fill-color);\n",
              "      border-right-color: var(--fill-color);\n",
              "    }\n",
              "    40% {\n",
              "      border-color: transparent;\n",
              "      border-right-color: var(--fill-color);\n",
              "      border-top-color: var(--fill-color);\n",
              "    }\n",
              "    60% {\n",
              "      border-color: transparent;\n",
              "      border-right-color: var(--fill-color);\n",
              "    }\n",
              "    80% {\n",
              "      border-color: transparent;\n",
              "      border-right-color: var(--fill-color);\n",
              "      border-bottom-color: var(--fill-color);\n",
              "    }\n",
              "    90% {\n",
              "      border-color: transparent;\n",
              "      border-bottom-color: var(--fill-color);\n",
              "    }\n",
              "  }\n",
              "</style>\n",
              "\n",
              "  <script>\n",
              "    async function quickchart(key) {\n",
              "      const quickchartButtonEl =\n",
              "        document.querySelector('#' + key + ' button');\n",
              "      quickchartButtonEl.disabled = true;  // To prevent multiple clicks.\n",
              "      quickchartButtonEl.classList.add('colab-df-spinner');\n",
              "      try {\n",
              "        const charts = await google.colab.kernel.invokeFunction(\n",
              "            'suggestCharts', [key], {});\n",
              "      } catch (error) {\n",
              "        console.error('Error during call to suggestCharts:', error);\n",
              "      }\n",
              "      quickchartButtonEl.classList.remove('colab-df-spinner');\n",
              "      quickchartButtonEl.classList.add('colab-df-quickchart-complete');\n",
              "    }\n",
              "    (() => {\n",
              "      let quickchartButtonEl =\n",
              "        document.querySelector('#df-9d9723f9-af70-405d-85f6-f72793f871c2 button');\n",
              "      quickchartButtonEl.style.display =\n",
              "        google.colab.kernel.accessAllowed ? 'block' : 'none';\n",
              "    })();\n",
              "  </script>\n",
              "</div>\n",
              "\n",
              "  <div id=\"id_a8ae6187-0469-41d1-b991-d968a3e8fe50\">\n",
              "    <style>\n",
              "      .colab-df-generate {\n",
              "        background-color: #E8F0FE;\n",
              "        border: none;\n",
              "        border-radius: 50%;\n",
              "        cursor: pointer;\n",
              "        display: none;\n",
              "        fill: #1967D2;\n",
              "        height: 32px;\n",
              "        padding: 0 0 0 0;\n",
              "        width: 32px;\n",
              "      }\n",
              "\n",
              "      .colab-df-generate:hover {\n",
              "        background-color: #E2EBFA;\n",
              "        box-shadow: 0px 1px 2px rgba(60, 64, 67, 0.3), 0px 1px 3px 1px rgba(60, 64, 67, 0.15);\n",
              "        fill: #174EA6;\n",
              "      }\n",
              "\n",
              "      [theme=dark] .colab-df-generate {\n",
              "        background-color: #3B4455;\n",
              "        fill: #D2E3FC;\n",
              "      }\n",
              "\n",
              "      [theme=dark] .colab-df-generate:hover {\n",
              "        background-color: #434B5C;\n",
              "        box-shadow: 0px 1px 3px 1px rgba(0, 0, 0, 0.15);\n",
              "        filter: drop-shadow(0px 1px 2px rgba(0, 0, 0, 0.3));\n",
              "        fill: #FFFFFF;\n",
              "      }\n",
              "    </style>\n",
              "    <button class=\"colab-df-generate\" onclick=\"generateWithVariable('merged_df_jeju')\"\n",
              "            title=\"Generate code using this dataframe.\"\n",
              "            style=\"display:none;\">\n",
              "\n",
              "  <svg xmlns=\"http://www.w3.org/2000/svg\" height=\"24px\"viewBox=\"0 0 24 24\"\n",
              "       width=\"24px\">\n",
              "    <path d=\"M7,19H8.4L18.45,9,17,7.55,7,17.6ZM5,21V16.75L18.45,3.32a2,2,0,0,1,2.83,0l1.4,1.43a1.91,1.91,0,0,1,.58,1.4,1.91,1.91,0,0,1-.58,1.4L9.25,21ZM18.45,9,17,7.55Zm-12,3A5.31,5.31,0,0,0,4.9,8.1,5.31,5.31,0,0,0,1,6.5,5.31,5.31,0,0,0,4.9,4.9,5.31,5.31,0,0,0,6.5,1,5.31,5.31,0,0,0,8.1,4.9,5.31,5.31,0,0,0,12,6.5,5.46,5.46,0,0,0,6.5,12Z\"/>\n",
              "  </svg>\n",
              "    </button>\n",
              "    <script>\n",
              "      (() => {\n",
              "      const buttonEl =\n",
              "        document.querySelector('#id_a8ae6187-0469-41d1-b991-d968a3e8fe50 button.colab-df-generate');\n",
              "      buttonEl.style.display =\n",
              "        google.colab.kernel.accessAllowed ? 'block' : 'none';\n",
              "\n",
              "      buttonEl.onclick = () => {\n",
              "        google.colab.notebook.generateWithVariable('merged_df_jeju');\n",
              "      }\n",
              "      })();\n",
              "    </script>\n",
              "  </div>\n",
              "\n",
              "    </div>\n",
              "  </div>\n"
            ],
            "application/vnd.google.colaboratory.intrinsic+json": {
              "type": "dataframe",
              "variable_name": "merged_df_jeju",
              "summary": "{\n  \"name\": \"merged_df_jeju\",\n  \"rows\": 17520,\n  \"fields\": [\n    {\n      \"column\": \"date\",\n      \"properties\": {\n        \"dtype\": \"date\",\n        \"min\": \"2021-01-01 00:00:00\",\n        \"max\": \"2022-12-31 00:00:00\",\n        \"samples\": [\n          \"2022-04-14 00:00:00\",\n          \"2021-05-29 00:00:00\",\n          \"2021-10-30 00:00:00\"\n        ],\n        \"num_unique_values\": 730,\n        \"semantic_type\": \"\",\n        \"description\": \"\"\n      }\n    },\n    {\n      \"column\": \"hour\",\n      \"properties\": {\n        \"dtype\": \"number\",\n        \"std\": 6,\n        \"min\": 1,\n        \"max\": 24,\n        \"samples\": [\n          9,\n          17,\n          1\n        ],\n        \"num_unique_values\": 24,\n        \"semantic_type\": \"\",\n        \"description\": \"\"\n      }\n    },\n    {\n      \"column\": \"WindDirection\",\n      \"properties\": {\n        \"dtype\": \"number\",\n        \"std\": 112.67722197513746,\n        \"min\": 0.0,\n        \"max\": 360.0,\n        \"samples\": [\n          320.0,\n          290.0,\n          360.0\n        ],\n        \"num_unique_values\": 17,\n        \"semantic_type\": \"\",\n        \"description\": \"\"\n      }\n    },\n    {\n      \"column\": \"WindSpeed\",\n      \"properties\": {\n        \"dtype\": \"number\",\n        \"std\": 1.8439795267507977,\n        \"min\": 0.0,\n        \"max\": 13.7,\n        \"samples\": [\n          4.8,\n          4.6,\n          1.3\n        ],\n        \"num_unique_values\": 125,\n        \"semantic_type\": \"\",\n        \"description\": \"\"\n      }\n    },\n    {\n      \"column\": \"Cloud\",\n      \"properties\": {\n        \"dtype\": \"number\",\n        \"std\": 3.5471860304956113,\n        \"min\": 0.0,\n        \"max\": 10.0,\n        \"samples\": [\n          1.0,\n          9.0,\n          0.0\n        ],\n        \"num_unique_values\": 11,\n        \"semantic_type\": \"\",\n        \"description\": \"\"\n      }\n    },\n    {\n      \"column\": \"Rainfall\",\n      \"properties\": {\n        \"dtype\": \"number\",\n        \"std\": 0.31820663633786683,\n        \"min\": 0.0,\n        \"max\": 2.0,\n        \"samples\": [\n          0.0,\n          1.0,\n          2.0\n        ],\n        \"num_unique_values\": 3,\n        \"semantic_type\": \"\",\n        \"description\": \"\"\n      }\n    },\n    {\n      \"column\": \"Humidity\",\n      \"properties\": {\n        \"dtype\": \"number\",\n        \"std\": 14.557673265192422,\n        \"min\": 14.0,\n        \"max\": 100.0,\n        \"samples\": [\n          20.0,\n          53.0,\n          32.0\n        ],\n        \"num_unique_values\": 85,\n        \"semantic_type\": \"\",\n        \"description\": \"\"\n      }\n    },\n    {\n      \"column\": \"Temperature\",\n      \"properties\": {\n        \"dtype\": \"number\",\n        \"std\": 8.233107117313642,\n        \"min\": -2.7,\n        \"max\": 36.9,\n        \"samples\": [\n          23.8,\n          23.7,\n          1.5\n        ],\n        \"num_unique_values\": 385,\n        \"semantic_type\": \"\",\n        \"description\": \"\"\n      }\n    },\n    {\n      \"column\": \"Q12\",\n      \"properties\": {\n        \"dtype\": \"number\",\n        \"std\": 438.74435291715855,\n        \"min\": 0.0,\n        \"max\": 1300.4730000195875,\n        \"samples\": [\n          1003.6072744547052,\n          166.17528568335544,\n          18.452118665786056\n        ],\n        \"num_unique_values\": 2379,\n        \"semantic_type\": \"\",\n        \"description\": \"\"\n      }\n    },\n    {\n      \"column\": \"Q13\",\n      \"properties\": {\n        \"dtype\": \"number\",\n        \"std\": 438.74435291715855,\n        \"min\": 0.0,\n        \"max\": 1300.4730000195875,\n        \"samples\": [\n          1003.6072744547052,\n          166.17528568335544,\n          18.452118665786056\n        ],\n        \"num_unique_values\": 2379,\n        \"semantic_type\": \"\",\n        \"description\": \"\"\n      }\n    },\n    {\n      \"column\": \"Q_mean\",\n      \"properties\": {\n        \"dtype\": \"number\",\n        \"std\": 433.193922778059,\n        \"min\": 0.0,\n        \"max\": 1283.1800811585308,\n        \"samples\": [\n          898.8841583345952,\n          83.08764284167772,\n          9.226059332893028\n        ],\n        \"num_unique_values\": 2379,\n        \"semantic_type\": \"\",\n        \"description\": \"\"\n      }\n    },\n    {\n      \"column\": \"electricity demand(MWh)\",\n      \"properties\": {\n        \"dtype\": \"number\",\n        \"std\": 123633,\n        \"min\": 378478,\n        \"max\": 1103977,\n        \"samples\": [\n          508345,\n          647140,\n          410510\n        ],\n        \"num_unique_values\": 17162,\n        \"semantic_type\": \"\",\n        \"description\": \"\"\n      }\n    },\n    {\n      \"column\": \"weekday_0\",\n      \"properties\": {\n        \"dtype\": \"uint8\",\n        \"samples\": [\n          1,\n          0\n        ],\n        \"num_unique_values\": 2,\n        \"semantic_type\": \"\",\n        \"description\": \"\"\n      }\n    },\n    {\n      \"column\": \"weekday_1\",\n      \"properties\": {\n        \"dtype\": \"uint8\",\n        \"samples\": [\n          1,\n          0\n        ],\n        \"num_unique_values\": 2,\n        \"semantic_type\": \"\",\n        \"description\": \"\"\n      }\n    },\n    {\n      \"column\": \"weekday_2\",\n      \"properties\": {\n        \"dtype\": \"uint8\",\n        \"samples\": [\n          1,\n          0\n        ],\n        \"num_unique_values\": 2,\n        \"semantic_type\": \"\",\n        \"description\": \"\"\n      }\n    },\n    {\n      \"column\": \"weekday_3\",\n      \"properties\": {\n        \"dtype\": \"uint8\",\n        \"samples\": [\n          1,\n          0\n        ],\n        \"num_unique_values\": 2,\n        \"semantic_type\": \"\",\n        \"description\": \"\"\n      }\n    },\n    {\n      \"column\": \"weekday_4\",\n      \"properties\": {\n        \"dtype\": \"uint8\",\n        \"samples\": [\n          0,\n          1\n        ],\n        \"num_unique_values\": 2,\n        \"semantic_type\": \"\",\n        \"description\": \"\"\n      }\n    },\n    {\n      \"column\": \"weekday_5\",\n      \"properties\": {\n        \"dtype\": \"uint8\",\n        \"samples\": [\n          1,\n          0\n        ],\n        \"num_unique_values\": 2,\n        \"semantic_type\": \"\",\n        \"description\": \"\"\n      }\n    },\n    {\n      \"column\": \"weekday_6\",\n      \"properties\": {\n        \"dtype\": \"uint8\",\n        \"samples\": [\n          1,\n          0\n        ],\n        \"num_unique_values\": 2,\n        \"semantic_type\": \"\",\n        \"description\": \"\"\n      }\n    }\n  ]\n}"
            }
          },
          "metadata": {},
          "execution_count": 72
        }
      ]
    },
    {
      "cell_type": "code",
      "source": [
        "merged_df_jeju.info()"
      ],
      "metadata": {
        "colab": {
          "base_uri": "https://localhost:8080/"
        },
        "id": "AC8CH9umh04_",
        "outputId": "8c2701d1-6cab-494d-f5eb-39cec5af8c9c"
      },
      "execution_count": 73,
      "outputs": [
        {
          "output_type": "stream",
          "name": "stdout",
          "text": [
            "<class 'pandas.core.frame.DataFrame'>\n",
            "Int64Index: 17520 entries, 0 to 17519\n",
            "Data columns (total 19 columns):\n",
            " #   Column                   Non-Null Count  Dtype         \n",
            "---  ------                   --------------  -----         \n",
            " 0   date                     17520 non-null  datetime64[ns]\n",
            " 1   hour                     17520 non-null  int64         \n",
            " 2   WindDirection            17518 non-null  float64       \n",
            " 3   WindSpeed                17518 non-null  float64       \n",
            " 4   Cloud                    17502 non-null  float64       \n",
            " 5   Rainfall                 17520 non-null  float64       \n",
            " 6   Humidity                 17520 non-null  float64       \n",
            " 7   Temperature              17520 non-null  float64       \n",
            " 8   Q12                      17520 non-null  float64       \n",
            " 9   Q13                      17520 non-null  float64       \n",
            " 10  Q_mean                   17520 non-null  float64       \n",
            " 11  electricity demand(MWh)  17520 non-null  int64         \n",
            " 12  weekday_0                17520 non-null  uint8         \n",
            " 13  weekday_1                17520 non-null  uint8         \n",
            " 14  weekday_2                17520 non-null  uint8         \n",
            " 15  weekday_3                17520 non-null  uint8         \n",
            " 16  weekday_4                17520 non-null  uint8         \n",
            " 17  weekday_5                17520 non-null  uint8         \n",
            " 18  weekday_6                17520 non-null  uint8         \n",
            "dtypes: datetime64[ns](1), float64(9), int64(2), uint8(7)\n",
            "memory usage: 1.9 MB\n"
          ]
        }
      ]
    },
    {
      "cell_type": "code",
      "source": [
        "merged_df_jeju = merged_df_jeju.dropna()"
      ],
      "metadata": {
        "id": "O0iHAQXVh7Yv"
      },
      "execution_count": 74,
      "outputs": []
    },
    {
      "cell_type": "code",
      "source": [
        "plt.figure(figsize=(16, 16))\n",
        "cmap = sns.light_palette(color=\"b\", as_cmap=True)\n",
        "sns.heatmap(merged_df_jeju.corr(), annot=True, cmap=cmap)\n",
        "plt.show()"
      ],
      "metadata": {
        "colab": {
          "base_uri": "https://localhost:8080/",
          "height": 1000
        },
        "id": "p8jG4iaWiAZV",
        "outputId": "bb9deb91-295f-4757-cbbf-5c754b11e7f8"
      },
      "execution_count": 75,
      "outputs": [
        {
          "output_type": "stream",
          "name": "stderr",
          "text": [
            "<ipython-input-75-a4742e4d20a3>:3: FutureWarning: The default value of numeric_only in DataFrame.corr is deprecated. In a future version, it will default to False. Select only valid columns or specify the value of numeric_only to silence this warning.\n",
            "  sns.heatmap(merged_df_jeju.corr(), annot=True, cmap=cmap)\n"
          ]
        },
        {
          "output_type": "display_data",
          "data": {
            "text/plain": [
              "<Figure size 1600x1600 with 2 Axes>"
            ],
            "image/png": "[encoded data removed]"
          },
          "metadata": {}
        }
      ]
    },
    {
      "cell_type": "markdown",
      "source": [],
      "metadata": {
        "id": "zjbtVDACluOR"
      }
    },
    {
      "cell_type": "markdown",
      "source": [
        "#모델링"
      ],
      "metadata": {
        "id": "uauZu7UDiHj5"
      }
    },
    {
      "cell_type": "code",
      "source": [
        "import os\n",
        "from tqdm import tqdm\n",
        "import torch\n",
        "import pandas as pd\n",
        "import numpy as np\n",
        "import matplotlib.pyplot as plt\n",
        "\n",
        "from torch.utils.data import Dataset, DataLoader\n",
        "from sklearn.model_selection import train_test_split\n",
        "from torch.optim.lr_scheduler import CosineAnnealingWarmRestarts\n"
      ],
      "metadata": {
        "id": "ILS98SfgiGaT"
      },
      "execution_count": 76,
      "outputs": []
    },
    {
      "cell_type": "code",
      "source": [
        "ss = StandardScaler()\n",
        "\n",
        "columns_to_scale = ['WindDirection', 'WindSpeed', 'Cloud', 'Rainfall', 'Humidity', 'Temperature', 'Q12', 'Q13', 'Q_mean', 'weekday_0', 'weekday_1', 'weekday_2', 'weekday_3', 'weekday_4', 'weekday_5', 'weekday_6']\n",
        "merged_df_jeju[columns_to_scale] = ss.fit_transform(merged_df_jeju[columns_to_scale])"
      ],
      "metadata": {
        "colab": {
          "base_uri": "https://localhost:8080/"
        },
        "id": "BFGUW3CFib8_",
        "outputId": "189ac1f8-9148-4ff5-c55a-6b6f93b479ca"
      },
      "execution_count": 77,
      "outputs": [
        {
          "output_type": "stream",
          "name": "stderr",
          "text": [
            "<ipython-input-77-7956489c30c0>:4: SettingWithCopyWarning: \n",
            "A value is trying to be set on a copy of a slice from a DataFrame.\n",
            "Try using .loc[row_indexer,col_indexer] = value instead\n",
            "\n",
            "See the caveats in the documentation: https://pandas.pydata.org/pandas-docs/stable/user_guide/indexing.html#returning-a-view-versus-a-copy\n",
            "  merged_df_jeju[columns_to_scale] = ss.fit_transform(merged_df_jeju[columns_to_scale])\n"
          ]
        }
      ]
    },
    {
      "cell_type": "code",
      "source": [
        "features = merged_df_jeju.drop(['date', 'WindDirection', 'WindSpeed', 'Q12', 'Q_mean', 'electricity demand(MWh)'], axis=1)\n",
        "labels = merged_df_jeju['electricity demand(MWh)']"
      ],
      "metadata": {
        "id": "d4qYj1YRjT3u"
      },
      "execution_count": 78,
      "outputs": []
    },
    {
      "cell_type": "code",
      "source": [
        "class ElecDemandDataset(Dataset):\n",
        "    def __init__(self, features, labels, window_size=2, step_size=1):\n",
        "        self.features = torch.tensor(features.values, dtype=torch.float32)\n",
        "        self.labels = torch.tensor(labels.values, dtype=torch.float32)\n",
        "        self.window_size = window_size\n",
        "        self.step_size = step_size\n",
        "\n",
        "    def __len__(self):\n",
        "        total_steps = len(self.features) - self.window_size + 1\n",
        "        # Calculate the number of complete windows that can be formed\n",
        "        if total_steps > 0:\n",
        "            return (total_steps + self.step_size - 1) // self.step_size\n",
        "        else:\n",
        "            return 0\n",
        "\n",
        "    def __getitem__(self, index):\n",
        "        start = index * self.step_size\n",
        "        end = start + self.window_size\n",
        "\n",
        "        return (self.features[start:end], self.labels[start:end])"
      ],
      "metadata": {
        "id": "ZTYcP8I1jWRG"
      },
      "execution_count": 79,
      "outputs": []
    },
    {
      "cell_type": "code",
      "source": [
        "col_name = list(features.columns)\n",
        "col_name"
      ],
      "metadata": {
        "colab": {
          "base_uri": "https://localhost:8080/"
        },
        "id": "3Ax07d8ojdfa",
        "outputId": "f8522d34-f111-4511-97f5-8b626ccbe742"
      },
      "execution_count": 80,
      "outputs": [
        {
          "output_type": "execute_result",
          "data": {
            "text/plain": [
              "['hour',\n",
              " 'Cloud',\n",
              " 'Rainfall',\n",
              " 'Humidity',\n",
              " 'Temperature',\n",
              " 'Q13',\n",
              " 'weekday_0',\n",
              " 'weekday_1',\n",
              " 'weekday_2',\n",
              " 'weekday_3',\n",
              " 'weekday_4',\n",
              " 'weekday_5',\n",
              " 'weekday_6']"
            ]
          },
          "metadata": {},
          "execution_count": 80
        }
      ]
    },
    {
      "cell_type": "code",
      "source": [
        "features_train, features_val, labels_train, labels_val = train_test_split(features, labels, test_size=0.2, random_state=42)"
      ],
      "metadata": {
        "id": "v0Ar-2M9lZwr"
      },
      "execution_count": 81,
      "outputs": []
    },
    {
      "cell_type": "code",
      "source": [
        "train_dataset = ElecDemandDataset(features_train, labels_train)\n",
        "val_dataset = ElecDemandDataset(features_val, labels_val)"
      ],
      "metadata": {
        "id": "53tZsk7llcWl"
      },
      "execution_count": 82,
      "outputs": []
    },
    {
      "cell_type": "code",
      "source": [
        "len(train_dataset), len(val_dataset)"
      ],
      "metadata": {
        "colab": {
          "base_uri": "https://localhost:8080/"
        },
        "id": "uyjNIa1Gljxb",
        "outputId": "0231aa56-a499-42a3-a77d-1c05c8f28ae5"
      },
      "execution_count": 83,
      "outputs": [
        {
          "output_type": "execute_result",
          "data": {
            "text/plain": [
              "(13999, 3499)"
            ]
          },
          "metadata": {},
          "execution_count": 83
        }
      ]
    },
    {
      "cell_type": "code",
      "source": [
        "train_loader = DataLoader(train_dataset, batch_size=64, shuffle=False)\n",
        "val_loader = DataLoader(val_dataset, batch_size=64, shuffle=False)"
      ],
      "metadata": {
        "id": "dmbb9_ESllkJ"
      },
      "execution_count": 84,
      "outputs": []
    },
    {
      "cell_type": "code",
      "source": [
        "print(train_dataset[0])\n",
        "print(train_dataset[0][0].shape)\n",
        "print(train_dataset[0][1].shape)"
      ],
      "metadata": {
        "colab": {
          "base_uri": "https://localhost:8080/"
        },
        "id": "EewQRHaNlnNC",
        "outputId": "12348789-bdf8-46f1-d9f7-588dcb1e2203"
      },
      "execution_count": 85,
      "outputs": [
        {
          "output_type": "stream",
          "name": "stdout",
          "text": [
            "(tensor([[13.0000, -0.3237, -0.2436, -2.0510, -1.0677,  0.9748, -0.4075, -0.4077,\n",
            "         -0.4077, -0.4078, -0.4102,  2.4444, -0.4079],\n",
            "        [13.0000, -0.0418, -0.2436, -0.5402, -0.2051,  1.1973, -0.4075, -0.4077,\n",
            "         -0.4077,  2.4524, -0.4102, -0.4091, -0.4079]]), tensor([503508., 568131.]))\n",
            "torch.Size([2, 13])\n",
            "torch.Size([2])\n"
          ]
        }
      ]
    },
    {
      "cell_type": "code",
      "source": [
        "train_features, train_labels = next(iter(train_loader))\n",
        "print(train_features.shape)\n",
        "print(train_labels.shape)"
      ],
      "metadata": {
        "colab": {
          "base_uri": "https://localhost:8080/"
        },
        "id": "6C5BaMQ3lo_v",
        "outputId": "b340220d-aa5a-4ada-b849-9bbb2d6be393"
      },
      "execution_count": 86,
      "outputs": [
        {
          "output_type": "stream",
          "name": "stdout",
          "text": [
            "torch.Size([64, 2, 13])\n",
            "torch.Size([64, 2])\n"
          ]
        }
      ]
    },
    {
      "cell_type": "markdown",
      "source": [],
      "metadata": {
        "id": "aYD7hlbplsCd"
      }
    },
    {
      "cell_type": "markdown",
      "source": [
        "#Train"
      ],
      "metadata": {
        "id": "-2DMOKp2lwWU"
      }
    },
    {
      "cell_type": "code",
      "source": [
        "!pip install transformers"
      ],
      "metadata": {
        "colab": {
          "base_uri": "https://localhost:8080/"
        },
        "id": "c2GH7rn5l0oV",
        "outputId": "2ef9ceb6-2216-4227-bf99-78a9aadca1b6"
      },
      "execution_count": 87,
      "outputs": [
        {
          "output_type": "stream",
          "name": "stdout",
          "text": [
            "Requirement already satisfied: transformers in /usr/local/lib/python3.10/dist-packages (4.35.2)\n",
            "Requirement already satisfied: filelock in /usr/local/lib/python3.10/dist-packages (from transformers) (3.13.1)\n",
            "Requirement already satisfied: huggingface-hub<1.0,>=0.16.4 in /usr/local/lib/python3.10/dist-packages (from transformers) (0.20.3)\n",
            "Requirement already satisfied: numpy>=1.17 in /usr/local/lib/python3.10/dist-packages (from transformers) (1.25.2)\n",
            "Requirement already satisfied: packaging>=20.0 in /usr/local/lib/python3.10/dist-packages (from transformers) (23.2)\n",
            "Requirement already satisfied: pyyaml>=5.1 in /usr/local/lib/python3.10/dist-packages (from transformers) (6.0.1)\n",
            "Requirement already satisfied: regex!=2019.12.17 in /usr/local/lib/python3.10/dist-packages (from transformers) (2023.12.25)\n",
            "Requirement already satisfied: requests in /usr/local/lib/python3.10/dist-packages (from transformers) (2.31.0)\n",
            "Requirement already satisfied: tokenizers<0.19,>=0.14 in /usr/local/lib/python3.10/dist-packages (from transformers) (0.15.2)\n",
            "Requirement already satisfied: safetensors>=0.3.1 in /usr/local/lib/python3.10/dist-packages (from transformers) (0.4.2)\n",
            "Requirement already satisfied: tqdm>=4.27 in /usr/local/lib/python3.10/dist-packages (from transformers) (4.66.2)\n",
            "Requirement already satisfied: fsspec>=2023.5.0 in /usr/local/lib/python3.10/dist-packages (from huggingface-hub<1.0,>=0.16.4->transformers) (2023.6.0)\n",
            "Requirement already satisfied: typing-extensions>=3.7.4.3 in /usr/local/lib/python3.10/dist-packages (from huggingface-hub<1.0,>=0.16.4->transformers) (4.9.0)\n",
            "Requirement already satisfied: charset-normalizer<4,>=2 in /usr/local/lib/python3.10/dist-packages (from requests->transformers) (3.3.2)\n",
            "Requirement already satisfied: idna<4,>=2.5 in /usr/local/lib/python3.10/dist-packages (from requests->transformers) (3.6)\n",
            "Requirement already satisfied: urllib3<3,>=1.21.1 in /usr/local/lib/python3.10/dist-packages (from requests->transformers) (2.0.7)\n",
            "Requirement already satisfied: certifi>=2017.4.17 in /usr/local/lib/python3.10/dist-packages (from requests->transformers) (2024.2.2)\n"
          ]
        }
      ]
    },
    {
      "cell_type": "code",
      "source": [
        "import torch\n",
        "import torch.nn as nn\n",
        "\n",
        "try:\n",
        "    from transformers.modeling_bert import BertConfig, BertEncoder, BertModel\n",
        "except:\n",
        "    from transformers.models.bert.modeling_bert import BertConfig, BertEncoder, BertModel"
      ],
      "metadata": {
        "id": "7TztlgFTl2fW"
      },
      "execution_count": 88,
      "outputs": []
    },
    {
      "cell_type": "code",
      "source": [
        "class LSTMwithAttn(nn.Module):\n",
        "\n",
        "    def __init__(self, input_dim, hidden_dim, output_dim, num_layers, num_heads=8, dropout=0.1, device='cpu'):\n",
        "        super(LSTMwithAttn, self).__init__()\n",
        "\n",
        "        self.input_dim = input_dim\n",
        "        self.hidden_dim = hidden_dim\n",
        "        self.num_layers = num_layers\n",
        "        self.output_dim = output_dim\n",
        "        self.dropout = dropout\n",
        "        self.device = device\n",
        "\n",
        "        self.lstm = nn.LSTM(input_dim, hidden_dim, num_layers, batch_first=True)\n",
        "\n",
        "        self.config = BertConfig(\n",
        "            hidden_size=hidden_dim,\n",
        "            num_hidden_layers=num_layers,\n",
        "            num_attention_heads=num_heads,\n",
        "            intermediate_size=hidden_dim,\n",
        "            hidden_dropout_prob=dropout,\n",
        "            attention_probs_dropout_prob=dropout,\n",
        "        )\n",
        "        self.encoder = BertEncoder(self.config)\n",
        "\n",
        "        self.act = nn.SiLU()\n",
        "        self.fc = nn.Linear(hidden_dim, output_dim)\n",
        "\n",
        "        self.init_weights()\n",
        "\n",
        "\n",
        "    def init_hidden_state(self, batch_size):\n",
        "        h0 = torch.zeros(self.num_layers, batch_size, self.hidden_dim).to(self.device)\n",
        "        c0 = torch.zeros(self.num_layers, batch_size, self.hidden_dim).to(self.device)\n",
        "        return (h0, c0)\n",
        "\n",
        "\n",
        "    def init_weights(self):\n",
        "        for m in self.modules():\n",
        "            if isinstance(m, nn.Linear):\n",
        "                nn.init.xavier_uniform_(m.weight)\n",
        "                if m.bias is not None:\n",
        "                    nn.init.zeros_(m.bias)\n",
        "\n",
        "\n",
        "    def generate_attn_mask(self, x):\n",
        "        seq_len = x.size(1)\n",
        "        attn_mask = torch.tril(torch.ones((seq_len, seq_len))).view(1, seq_len, seq_len).to(self.device)\n",
        "\n",
        "        return attn_mask\n",
        "\n",
        "\n",
        "    def forward(self, x):\n",
        "        batch_size = x.size(0)\n",
        "\n",
        "        h0, c0 = self.init_hidden_state(batch_size)\n",
        "\n",
        "        output, (hidden, cell) = self.lstm(x, (h0, c0))\n",
        "\n",
        "        output = output.contiguous().view(batch_size, -1, self.hidden_dim)\n",
        "\n",
        "        # Attention Mask\n",
        "        attn_mask = self.generate_attn_mask(x)\n",
        "        extended_attn_mask = attn_mask[None, :, :, :].expand(batch_size, -1, -1, -1)\n",
        "        extended_attn_mask = (1.0 - extended_attn_mask) * -10000.0\n",
        "\n",
        "        encoder_outputs = self.encoder(output, attention_mask=extended_attn_mask)\n",
        "\n",
        "        output = self.act(encoder_outputs.last_hidden_state)\n",
        "        output = self.fc(output)\n",
        "\n",
        "        return output"
      ],
      "metadata": {
        "id": "u0YdFNNUl3wk"
      },
      "execution_count": 89,
      "outputs": []
    },
    {
      "cell_type": "code",
      "source": [
        "device = torch.device('cuda' if torch.cuda.is_available() else 'cpu')\n",
        "print(device)"
      ],
      "metadata": {
        "colab": {
          "base_uri": "https://localhost:8080/"
        },
        "id": "7FLs-kISl5F4",
        "outputId": "c88ffadd-8422-48d6-8971-42684d99f9a2"
      },
      "execution_count": 90,
      "outputs": [
        {
          "output_type": "stream",
          "name": "stdout",
          "text": [
            "cuda\n"
          ]
        }
      ]
    },
    {
      "cell_type": "code",
      "source": [
        "model = LSTMwithAttn(input_dim=13, hidden_dim=64, output_dim=1, num_layers=2, device=device)"
      ],
      "metadata": {
        "id": "xU70uXxNl6PI"
      },
      "execution_count": 91,
      "outputs": []
    },
    {
      "cell_type": "code",
      "source": [
        "model = model.to(device)"
      ],
      "metadata": {
        "id": "EZ6IUDGDl7Wm"
      },
      "execution_count": 92,
      "outputs": []
    },
    {
      "cell_type": "code",
      "source": [
        "LEARNING_RATE = 0.01\n",
        "EPOCHS = 100\n",
        "WEIGHT_DECAY = 0.01\n",
        "EARLY_STOPPING = 5"
      ],
      "metadata": {
        "id": "xablEr9dl8U_"
      },
      "execution_count": 93,
      "outputs": []
    },
    {
      "cell_type": "code",
      "source": [
        "optimizer = torch.optim.Adam(model.parameters(), lr=LEARNING_RATE, weight_decay=WEIGHT_DECAY)\n",
        "scheduler = CosineAnnealingWarmRestarts(optimizer, T_0=10, T_mult=1, eta_min=0.001)"
      ],
      "metadata": {
        "id": "skzdvtdXl-If"
      },
      "execution_count": 94,
      "outputs": []
    },
    {
      "cell_type": "code",
      "source": [
        "criterion = nn.MSELoss(reduction='mean')"
      ],
      "metadata": {
        "id": "hnVodySBl_MV"
      },
      "execution_count": 95,
      "outputs": []
    },
    {
      "cell_type": "code",
      "source": [
        "train_losses = []\n",
        "val_losses = []\n",
        "\n",
        "loss = .0\n",
        "best_val_loss = float('inf')\n",
        "increasing_loss_count = 0"
      ],
      "metadata": {
        "id": "-Zi0Rvz6mAGo"
      },
      "execution_count": 96,
      "outputs": []
    },
    {
      "cell_type": "code",
      "source": [
        "model.eval()\n",
        "\n",
        "with torch.no_grad():\n",
        "    for features, labels in val_loader:\n",
        "        features = features.to(device)\n",
        "        labels = labels.to(device)\n",
        "\n",
        "        outputs = model(features)\n",
        "\n",
        "        _loss = criterion(outputs.squeeze(-1), labels)\n",
        "\n",
        "        loss += _loss.item()\n",
        "\n",
        "print(f'Initial Loss: {loss/len(val_loader):.4f}')"
      ],
      "metadata": {
        "colab": {
          "base_uri": "https://localhost:8080/"
        },
        "id": "1jkAVG4lmBij",
        "outputId": "b9ba9229-3384-458f-814a-e80c2b18a297"
      },
      "execution_count": 97,
      "outputs": [
        {
          "output_type": "stream",
          "name": "stdout",
          "text": [
            "Initial Loss: 492633136705.1636\n"
          ]
        }
      ]
    },
    {
      "cell_type": "code",
      "source": [
        "train_losses = []\n",
        "val_losses = []\n",
        "\n",
        "for i in range(EPOCHS):\n",
        "    print(\"=\" * 30)\n",
        "    print(f\"Current Epoch {i+1}\")\n",
        "    print(\"=\" * 30)\n",
        "    print(\"Training...\")\n",
        "    train_loss = .0\n",
        "\n",
        "    model.train()\n",
        "    for features, labels in tqdm(train_loader, leave=False):\n",
        "        features = features.to(device)\n",
        "        labels = labels.to(device)\n",
        "\n",
        "        optimizer.zero_grad()\n",
        "\n",
        "        outputs = model(features)\n",
        "\n",
        "        _loss = criterion(outputs.squeeze(-1), labels)\n",
        "        _loss.backward()\n",
        "        optimizer.step()\n",
        "\n",
        "        train_loss += _loss.item()\n",
        "\n",
        "\n",
        "    print(\"Evaluating...\")\n",
        "    val_loss = .0\n",
        "\n",
        "    model.eval()\n",
        "\n",
        "    for features, labels in tqdm(val_loader, leave=False):\n",
        "        features = features.to(device)\n",
        "        labels = labels.to(device)\n",
        "\n",
        "        outputs = model(features)\n",
        "\n",
        "        _loss = criterion(outputs.squeeze(-1), labels)\n",
        "\n",
        "        val_loss += _loss.item()\n",
        "\n",
        "    train_losses += [train_loss/len(train_loader)]\n",
        "    epoch_val_loss = val_loss/len(val_loader)\n",
        "    val_losses += [epoch_val_loss]\n",
        "    print(f\"Epoch #{i+1}: [Training MSE/Validation MSE]: [{train_loss/len(train_loader):.4f}/{val_loss/len(val_loader):.4f}]\")\n",
        "\n",
        "    if epoch_val_loss < best_val_loss:\n",
        "        best_val_loss = epoch_val_loss\n",
        "        increasing_loss_count = 0\n",
        "    else:\n",
        "        increasing_loss_count += 1\n",
        "\n",
        "    if increasing_loss_count >= EARLY_STOPPING:\n",
        "        print(\"Early Stopping!\")\n",
        "        break"
      ],
      "metadata": {
        "colab": {
          "base_uri": "https://localhost:8080/"
        },
        "id": "NAi9l8YZmDfZ",
        "outputId": "2d75c6e4-3e89-4950-db82-111e47ef788d"
      },
      "execution_count": 98,
      "outputs": [
        {
          "output_type": "stream",
          "name": "stdout",
          "text": [
            "==============================\n",
            "Current Epoch 1\n",
            "==============================\n",
            "Training...\n"
          ]
        },
        {
          "output_type": "stream",
          "name": "stderr",
          "text": []
        },
        {
          "output_type": "stream",
          "name": "stdout",
          "text": [
            "Evaluating...\n"
          ]
        },
        {
          "output_type": "stream",
          "name": "stderr",
          "text": []
        },
        {
          "output_type": "stream",
          "name": "stdout",
          "text": [
            "Epoch #1: [Training MSE/Validation MSE]: [490046605433.5708/491682841469.6727]\n",
            "==============================\n",
            "Current Epoch 2\n",
            "==============================\n",
            "Training...\n"
          ]
        },
        {
          "output_type": "stream",
          "name": "stderr",
          "text": []
        },
        {
          "output_type": "stream",
          "name": "stdout",
          "text": [
            "Evaluating...\n"
          ]
        },
        {
          "output_type": "stream",
          "name": "stderr",
          "text": []
        },
        {
          "output_type": "stream",
          "name": "stdout",
          "text": [
            "Epoch #2: [Training MSE/Validation MSE]: [488102896551.1598/488706475175.5637]\n",
            "==============================\n",
            "Current Epoch 3\n",
            "==============================\n",
            "Training...\n"
          ]
        },
        {
          "output_type": "stream",
          "name": "stderr",
          "text": []
        },
        {
          "output_type": "stream",
          "name": "stdout",
          "text": [
            "Evaluating...\n"
          ]
        },
        {
          "output_type": "stream",
          "name": "stderr",
          "text": []
        },
        {
          "output_type": "stream",
          "name": "stdout",
          "text": [
            "Epoch #3: [Training MSE/Validation MSE]: [484178131046.8676/483850444651.0546]\n",
            "==============================\n",
            "Current Epoch 4\n",
            "==============================\n",
            "Training...\n"
          ]
        },
        {
          "output_type": "stream",
          "name": "stderr",
          "text": []
        },
        {
          "output_type": "stream",
          "name": "stdout",
          "text": [
            "Evaluating...\n"
          ]
        },
        {
          "output_type": "stream",
          "name": "stderr",
          "text": []
        },
        {
          "output_type": "stream",
          "name": "stdout",
          "text": [
            "Epoch #4: [Training MSE/Validation MSE]: [478474028130.1918/477296061197.9636]\n",
            "==============================\n",
            "Current Epoch 5\n",
            "==============================\n",
            "Training...\n"
          ]
        },
        {
          "output_type": "stream",
          "name": "stderr",
          "text": []
        },
        {
          "output_type": "stream",
          "name": "stdout",
          "text": [
            "Evaluating...\n"
          ]
        },
        {
          "output_type": "stream",
          "name": "stderr",
          "text": []
        },
        {
          "output_type": "stream",
          "name": "stdout",
          "text": [
            "Epoch #5: [Training MSE/Validation MSE]: [471174673637.1141/469239139234.9091]\n",
            "==============================\n",
            "Current Epoch 6\n",
            "==============================\n",
            "Training...\n"
          ]
        },
        {
          "output_type": "stream",
          "name": "stderr",
          "text": []
        },
        {
          "output_type": "stream",
          "name": "stdout",
          "text": [
            "Evaluating...\n"
          ]
        },
        {
          "output_type": "stream",
          "name": "stderr",
          "text": []
        },
        {
          "output_type": "stream",
          "name": "stdout",
          "text": [
            "Epoch #6: [Training MSE/Validation MSE]: [462456560354.7762/459842244980.3636]\n",
            "==============================\n",
            "Current Epoch 7\n",
            "==============================\n",
            "Training...\n"
          ]
        },
        {
          "output_type": "stream",
          "name": "stderr",
          "text": []
        },
        {
          "output_type": "stream",
          "name": "stdout",
          "text": [
            "Evaluating...\n"
          ]
        },
        {
          "output_type": "stream",
          "name": "stderr",
          "text": []
        },
        {
          "output_type": "stream",
          "name": "stdout",
          "text": [
            "Epoch #7: [Training MSE/Validation MSE]: [452483141501.0776/449261744351.4182]\n",
            "==============================\n",
            "Current Epoch 8\n",
            "==============================\n",
            "Training...\n"
          ]
        },
        {
          "output_type": "stream",
          "name": "stderr",
          "text": []
        },
        {
          "output_type": "stream",
          "name": "stdout",
          "text": [
            "Evaluating...\n"
          ]
        },
        {
          "output_type": "stream",
          "name": "stderr",
          "text": []
        },
        {
          "output_type": "stream",
          "name": "stdout",
          "text": [
            "Epoch #8: [Training MSE/Validation MSE]: [441393682123.3973/437636398508.2182]\n",
            "==============================\n",
            "Current Epoch 9\n",
            "==============================\n",
            "Training...\n"
          ]
        },
        {
          "output_type": "stream",
          "name": "stderr",
          "text": []
        },
        {
          "output_type": "stream",
          "name": "stdout",
          "text": [
            "Evaluating...\n"
          ]
        },
        {
          "output_type": "stream",
          "name": "stderr",
          "text": []
        },
        {
          "output_type": "stream",
          "name": "stdout",
          "text": [
            "Epoch #9: [Training MSE/Validation MSE]: [429332091796.4566/425100398964.3636]\n",
            "==============================\n",
            "Current Epoch 10\n",
            "==============================\n",
            "Training...\n"
          ]
        },
        {
          "output_type": "stream",
          "name": "stderr",
          "text": []
        },
        {
          "output_type": "stream",
          "name": "stdout",
          "text": [
            "Evaluating...\n"
          ]
        },
        {
          "output_type": "stream",
          "name": "stderr",
          "text": []
        },
        {
          "output_type": "stream",
          "name": "stdout",
          "text": [
            "Epoch #10: [Training MSE/Validation MSE]: [416423050366.2466/411774308128.5818]\n",
            "==============================\n",
            "Current Epoch 11\n",
            "==============================\n",
            "Training...\n"
          ]
        },
        {
          "output_type": "stream",
          "name": "stderr",
          "text": []
        },
        {
          "output_type": "stream",
          "name": "stdout",
          "text": [
            "Evaluating...\n"
          ]
        },
        {
          "output_type": "stream",
          "name": "stderr",
          "text": []
        },
        {
          "output_type": "stream",
          "name": "stdout",
          "text": [
            "Epoch #11: [Training MSE/Validation MSE]: [402782646178.4840/397769915522.3273]\n",
            "==============================\n",
            "Current Epoch 12\n",
            "==============================\n",
            "Training...\n"
          ]
        },
        {
          "output_type": "stream",
          "name": "stderr",
          "text": []
        },
        {
          "output_type": "stream",
          "name": "stdout",
          "text": [
            "Evaluating...\n"
          ]
        },
        {
          "output_type": "stream",
          "name": "stderr",
          "text": []
        },
        {
          "output_type": "stream",
          "name": "stdout",
          "text": [
            "Epoch #12: [Training MSE/Validation MSE]: [388518649145.2786/383191506199.2727]\n",
            "==============================\n",
            "Current Epoch 13\n",
            "==============================\n",
            "Training...\n"
          ]
        },
        {
          "output_type": "stream",
          "name": "stderr",
          "text": []
        },
        {
          "output_type": "stream",
          "name": "stdout",
          "text": [
            "Evaluating...\n"
          ]
        },
        {
          "output_type": "stream",
          "name": "stderr",
          "text": []
        },
        {
          "output_type": "stream",
          "name": "stdout",
          "text": [
            "Epoch #13: [Training MSE/Validation MSE]: [373731345057.3151/368136118718.8364]\n",
            "==============================\n",
            "Current Epoch 14\n",
            "==============================\n",
            "Training...\n"
          ]
        },
        {
          "output_type": "stream",
          "name": "stderr",
          "text": []
        },
        {
          "output_type": "stream",
          "name": "stdout",
          "text": [
            "Evaluating...\n"
          ]
        },
        {
          "output_type": "stream",
          "name": "stderr",
          "text": []
        },
        {
          "output_type": "stream",
          "name": "stdout",
          "text": [
            "Epoch #14: [Training MSE/Validation MSE]: [358514523561.4977/352694285107.2000]\n",
            "==============================\n",
            "Current Epoch 15\n",
            "==============================\n",
            "Training...\n"
          ]
        },
        {
          "output_type": "stream",
          "name": "stderr",
          "text": []
        },
        {
          "output_type": "stream",
          "name": "stdout",
          "text": [
            "Evaluating...\n"
          ]
        },
        {
          "output_type": "stream",
          "name": "stderr",
          "text": []
        },
        {
          "output_type": "stream",
          "name": "stdout",
          "text": [
            "Epoch #15: [Training MSE/Validation MSE]: [342956324143.9269/336952064260.6545]\n",
            "==============================\n",
            "Current Epoch 16\n",
            "==============================\n",
            "Training...\n"
          ]
        },
        {
          "output_type": "stream",
          "name": "stderr",
          "text": []
        },
        {
          "output_type": "stream",
          "name": "stdout",
          "text": [
            "Evaluating...\n"
          ]
        },
        {
          "output_type": "stream",
          "name": "stderr",
          "text": []
        },
        {
          "output_type": "stream",
          "name": "stdout",
          "text": [
            "Epoch #16: [Training MSE/Validation MSE]: [327139930317.7352/320990450334.2545]\n",
            "==============================\n",
            "Current Epoch 17\n",
            "==============================\n",
            "Training...\n"
          ]
        },
        {
          "output_type": "stream",
          "name": "stderr",
          "text": []
        },
        {
          "output_type": "stream",
          "name": "stdout",
          "text": [
            "Evaluating...\n"
          ]
        },
        {
          "output_type": "stream",
          "name": "stderr",
          "text": []
        },
        {
          "output_type": "stream",
          "name": "stdout",
          "text": [
            "Epoch #17: [Training MSE/Validation MSE]: [311144363536.3653/304886407316.9454]\n",
            "==============================\n",
            "Current Epoch 18\n",
            "==============================\n",
            "Training...\n"
          ]
        },
        {
          "output_type": "stream",
          "name": "stderr",
          "text": []
        },
        {
          "output_type": "stream",
          "name": "stdout",
          "text": [
            "Evaluating...\n"
          ]
        },
        {
          "output_type": "stream",
          "name": "stderr",
          "text": []
        },
        {
          "output_type": "stream",
          "name": "stdout",
          "text": [
            "Epoch #18: [Training MSE/Validation MSE]: [295044992444.2009/288713863987.2000]\n",
            "==============================\n",
            "Current Epoch 19\n",
            "==============================\n",
            "Training...\n"
          ]
        },
        {
          "output_type": "stream",
          "name": "stderr",
          "text": []
        },
        {
          "output_type": "stream",
          "name": "stdout",
          "text": [
            "Evaluating...\n"
          ]
        },
        {
          "output_type": "stream",
          "name": "stderr",
          "text": []
        },
        {
          "output_type": "stream",
          "name": "stdout",
          "text": [
            "Epoch #19: [Training MSE/Validation MSE]: [278913953324.4201/272543601012.3636]\n",
            "==============================\n",
            "Current Epoch 20\n",
            "==============================\n",
            "Training...\n"
          ]
        },
        {
          "output_type": "stream",
          "name": "stderr",
          "text": []
        },
        {
          "output_type": "stream",
          "name": "stdout",
          "text": [
            "Evaluating...\n"
          ]
        },
        {
          "output_type": "stream",
          "name": "stderr",
          "text": []
        },
        {
          "output_type": "stream",
          "name": "stdout",
          "text": [
            "Epoch #20: [Training MSE/Validation MSE]: [262820669598.9772/256443760937.8909]\n",
            "==============================\n",
            "Current Epoch 21\n",
            "==============================\n",
            "Training...\n"
          ]
        },
        {
          "output_type": "stream",
          "name": "stderr",
          "text": []
        },
        {
          "output_type": "stream",
          "name": "stdout",
          "text": [
            "Evaluating...\n"
          ]
        },
        {
          "output_type": "stream",
          "name": "stderr",
          "text": []
        },
        {
          "output_type": "stream",
          "name": "stdout",
          "text": [
            "Epoch #21: [Training MSE/Validation MSE]: [246831975568.9498/240480127609.0182]\n",
            "==============================\n",
            "Current Epoch 22\n",
            "==============================\n",
            "Training...\n"
          ]
        },
        {
          "output_type": "stream",
          "name": "stderr",
          "text": []
        },
        {
          "output_type": "stream",
          "name": "stdout",
          "text": [
            "Evaluating...\n"
          ]
        },
        {
          "output_type": "stream",
          "name": "stderr",
          "text": []
        },
        {
          "output_type": "stream",
          "name": "stdout",
          "text": [
            "Epoch #22: [Training MSE/Validation MSE]: [231012347885.2968/224716037697.1636]\n",
            "==============================\n",
            "Current Epoch 23\n",
            "==============================\n",
            "Training...\n"
          ]
        },
        {
          "output_type": "stream",
          "name": "stderr",
          "text": []
        },
        {
          "output_type": "stream",
          "name": "stdout",
          "text": [
            "Evaluating...\n"
          ]
        },
        {
          "output_type": "stream",
          "name": "stderr",
          "text": []
        },
        {
          "output_type": "stream",
          "name": "stdout",
          "text": [
            "Epoch #23: [Training MSE/Validation MSE]: [215424273104.0731/209213084616.1454]\n",
            "==============================\n",
            "Current Epoch 24\n",
            "==============================\n",
            "Training...\n"
          ]
        },
        {
          "output_type": "stream",
          "name": "stderr",
          "text": []
        },
        {
          "output_type": "stream",
          "name": "stdout",
          "text": [
            "Evaluating...\n"
          ]
        },
        {
          "output_type": "stream",
          "name": "stderr",
          "text": []
        },
        {
          "output_type": "stream",
          "name": "stdout",
          "text": [
            "Epoch #24: [Training MSE/Validation MSE]: [200127981053.6621/194030504569.0182]\n",
            "==============================\n",
            "Current Epoch 25\n",
            "==============================\n",
            "Training...\n"
          ]
        },
        {
          "output_type": "stream",
          "name": "stderr",
          "text": []
        },
        {
          "output_type": "stream",
          "name": "stdout",
          "text": [
            "Evaluating...\n"
          ]
        },
        {
          "output_type": "stream",
          "name": "stderr",
          "text": []
        },
        {
          "output_type": "stream",
          "name": "stdout",
          "text": [
            "Epoch #25: [Training MSE/Validation MSE]: [185181512989.2238/179225315663.1273]\n",
            "==============================\n",
            "Current Epoch 26\n",
            "==============================\n",
            "Training...\n"
          ]
        },
        {
          "output_type": "stream",
          "name": "stderr",
          "text": []
        },
        {
          "output_type": "stream",
          "name": "stdout",
          "text": [
            "Evaluating...\n"
          ]
        },
        {
          "output_type": "stream",
          "name": "stderr",
          "text": []
        },
        {
          "output_type": "stream",
          "name": "stdout",
          "text": [
            "Epoch #26: [Training MSE/Validation MSE]: [170640840619.8356/164852371083.6364]\n",
            "==============================\n",
            "Current Epoch 27\n",
            "==============================\n",
            "Training...\n"
          ]
        },
        {
          "output_type": "stream",
          "name": "stderr",
          "text": []
        },
        {
          "output_type": "stream",
          "name": "stdout",
          "text": [
            "Evaluating...\n"
          ]
        },
        {
          "output_type": "stream",
          "name": "stderr",
          "text": []
        },
        {
          "output_type": "stream",
          "name": "stdout",
          "text": [
            "Epoch #27: [Training MSE/Validation MSE]: [156559478877.5160/150964074458.7636]\n",
            "==============================\n",
            "Current Epoch 28\n",
            "==============================\n",
            "Training...\n"
          ]
        },
        {
          "output_type": "stream",
          "name": "stderr",
          "text": []
        },
        {
          "output_type": "stream",
          "name": "stdout",
          "text": [
            "Evaluating...\n"
          ]
        },
        {
          "output_type": "stream",
          "name": "stderr",
          "text": []
        },
        {
          "output_type": "stream",
          "name": "stdout",
          "text": [
            "Epoch #28: [Training MSE/Validation MSE]: [142988490144.1461/137610370774.1091]\n",
            "==============================\n",
            "Current Epoch 29\n",
            "==============================\n",
            "Training...\n"
          ]
        },
        {
          "output_type": "stream",
          "name": "stderr",
          "text": []
        },
        {
          "output_type": "stream",
          "name": "stdout",
          "text": [
            "Evaluating...\n"
          ]
        },
        {
          "output_type": "stream",
          "name": "stderr",
          "text": []
        },
        {
          "output_type": "stream",
          "name": "stdout",
          "text": [
            "Epoch #29: [Training MSE/Validation MSE]: [129976119052.8584/124837785674.4727]\n",
            "==============================\n",
            "Current Epoch 30\n",
            "==============================\n",
            "Training...\n"
          ]
        },
        {
          "output_type": "stream",
          "name": "stderr",
          "text": []
        },
        {
          "output_type": "stream",
          "name": "stdout",
          "text": [
            "Evaluating...\n"
          ]
        },
        {
          "output_type": "stream",
          "name": "stderr",
          "text": []
        },
        {
          "output_type": "stream",
          "name": "stdout",
          "text": [
            "Epoch #30: [Training MSE/Validation MSE]: [117567407987.7260/112690112549.2364]\n",
            "==============================\n",
            "Current Epoch 31\n",
            "==============================\n",
            "Training...\n"
          ]
        },
        {
          "output_type": "stream",
          "name": "stderr",
          "text": []
        },
        {
          "output_type": "stream",
          "name": "stdout",
          "text": [
            "Evaluating...\n"
          ]
        },
        {
          "output_type": "stream",
          "name": "stderr",
          "text": []
        },
        {
          "output_type": "stream",
          "name": "stdout",
          "text": [
            "Epoch #31: [Training MSE/Validation MSE]: [105803972196.5297/101206960909.9636]\n",
            "==============================\n",
            "Current Epoch 32\n",
            "==============================\n",
            "Training...\n"
          ]
        },
        {
          "output_type": "stream",
          "name": "stderr",
          "text": []
        },
        {
          "output_type": "stream",
          "name": "stdout",
          "text": [
            "Evaluating...\n"
          ]
        },
        {
          "output_type": "stream",
          "name": "stderr",
          "text": []
        },
        {
          "output_type": "stream",
          "name": "stdout",
          "text": [
            "Epoch #32: [Training MSE/Validation MSE]: [94723441986.6301/90424091815.5636]\n",
            "==============================\n",
            "Current Epoch 33\n",
            "==============================\n",
            "Training...\n"
          ]
        },
        {
          "output_type": "stream",
          "name": "stderr",
          "text": []
        },
        {
          "output_type": "stream",
          "name": "stdout",
          "text": [
            "Evaluating...\n"
          ]
        },
        {
          "output_type": "stream",
          "name": "stderr",
          "text": []
        },
        {
          "output_type": "stream",
          "name": "stdout",
          "text": [
            "Epoch #33: [Training MSE/Validation MSE]: [84358944421.9909/80372395361.7455]\n",
            "==============================\n",
            "Current Epoch 34\n",
            "==============================\n",
            "Training...\n"
          ]
        },
        {
          "output_type": "stream",
          "name": "stderr",
          "text": []
        },
        {
          "output_type": "stream",
          "name": "stdout",
          "text": [
            "Evaluating...\n"
          ]
        },
        {
          "output_type": "stream",
          "name": "stderr",
          "text": []
        },
        {
          "output_type": "stream",
          "name": "stdout",
          "text": [
            "Epoch #34: [Training MSE/Validation MSE]: [74738607688.4749/71077149826.3273]\n",
            "==============================\n",
            "Current Epoch 35\n",
            "==============================\n",
            "Training...\n"
          ]
        },
        {
          "output_type": "stream",
          "name": "stderr",
          "text": []
        },
        {
          "output_type": "stream",
          "name": "stdout",
          "text": [
            "Evaluating...\n"
          ]
        },
        {
          "output_type": "stream",
          "name": "stderr",
          "text": []
        },
        {
          "output_type": "stream",
          "name": "stdout",
          "text": [
            "Epoch #35: [Training MSE/Validation MSE]: [65884790784.0000/62557893948.5091]\n",
            "==============================\n",
            "Current Epoch 36\n",
            "==============================\n",
            "Training...\n"
          ]
        },
        {
          "output_type": "stream",
          "name": "stderr",
          "text": []
        },
        {
          "output_type": "stream",
          "name": "stdout",
          "text": [
            "Evaluating...\n"
          ]
        },
        {
          "output_type": "stream",
          "name": "stderr",
          "text": []
        },
        {
          "output_type": "stream",
          "name": "stdout",
          "text": [
            "Epoch #36: [Training MSE/Validation MSE]: [57813426568.7671/54827476656.8727]\n",
            "==============================\n",
            "Current Epoch 37\n",
            "==============================\n",
            "Training...\n"
          ]
        },
        {
          "output_type": "stream",
          "name": "stderr",
          "text": []
        },
        {
          "output_type": "stream",
          "name": "stdout",
          "text": [
            "Evaluating...\n"
          ]
        },
        {
          "output_type": "stream",
          "name": "stderr",
          "text": []
        },
        {
          "output_type": "stream",
          "name": "stdout",
          "text": [
            "Epoch #37: [Training MSE/Validation MSE]: [50533355735.0868/47890990917.8182]\n",
            "==============================\n",
            "Current Epoch 38\n",
            "==============================\n",
            "Training...\n"
          ]
        },
        {
          "output_type": "stream",
          "name": "stderr",
          "text": []
        },
        {
          "output_type": "stream",
          "name": "stdout",
          "text": [
            "Evaluating...\n"
          ]
        },
        {
          "output_type": "stream",
          "name": "stderr",
          "text": []
        },
        {
          "output_type": "stream",
          "name": "stdout",
          "text": [
            "Epoch #38: [Training MSE/Validation MSE]: [44045350594.0457/41744976393.3091]\n",
            "==============================\n",
            "Current Epoch 39\n",
            "==============================\n",
            "Training...\n"
          ]
        },
        {
          "output_type": "stream",
          "name": "stderr",
          "text": []
        },
        {
          "output_type": "stream",
          "name": "stdout",
          "text": [
            "Evaluating...\n"
          ]
        },
        {
          "output_type": "stream",
          "name": "stderr",
          "text": []
        },
        {
          "output_type": "stream",
          "name": "stdout",
          "text": [
            "Epoch #39: [Training MSE/Validation MSE]: [38341324556.8584/36377389093.2364]\n",
            "==============================\n",
            "Current Epoch 40\n",
            "==============================\n",
            "Training...\n"
          ]
        },
        {
          "output_type": "stream",
          "name": "stderr",
          "text": []
        },
        {
          "output_type": "stream",
          "name": "stdout",
          "text": [
            "Evaluating...\n"
          ]
        },
        {
          "output_type": "stream",
          "name": "stderr",
          "text": []
        },
        {
          "output_type": "stream",
          "name": "stdout",
          "text": [
            "Epoch #40: [Training MSE/Validation MSE]: [33403916035.5069/31765851899.3455]\n",
            "==============================\n",
            "Current Epoch 41\n",
            "==============================\n",
            "Training...\n"
          ]
        },
        {
          "output_type": "stream",
          "name": "stderr",
          "text": []
        },
        {
          "output_type": "stream",
          "name": "stdout",
          "text": [
            "Evaluating...\n"
          ]
        },
        {
          "output_type": "stream",
          "name": "stderr",
          "text": []
        },
        {
          "output_type": "stream",
          "name": "stdout",
          "text": [
            "Epoch #41: [Training MSE/Validation MSE]: [29205423987.7260/27877804385.7455]\n",
            "==============================\n",
            "Current Epoch 42\n",
            "==============================\n",
            "Training...\n"
          ]
        },
        {
          "output_type": "stream",
          "name": "stderr",
          "text": []
        },
        {
          "output_type": "stream",
          "name": "stdout",
          "text": [
            "Evaluating...\n"
          ]
        },
        {
          "output_type": "stream",
          "name": "stderr",
          "text": []
        },
        {
          "output_type": "stream",
          "name": "stdout",
          "text": [
            "Epoch #42: [Training MSE/Validation MSE]: [25707644717.5890/24670041292.8000]\n",
            "==============================\n",
            "Current Epoch 43\n",
            "==============================\n",
            "Training...\n"
          ]
        },
        {
          "output_type": "stream",
          "name": "stderr",
          "text": []
        },
        {
          "output_type": "stream",
          "name": "stdout",
          "text": [
            "Evaluating...\n"
          ]
        },
        {
          "output_type": "stream",
          "name": "stderr",
          "text": []
        },
        {
          "output_type": "stream",
          "name": "stdout",
          "text": [
            "Epoch #43: [Training MSE/Validation MSE]: [22861778149.1142/22089075786.4727]\n",
            "==============================\n",
            "Current Epoch 44\n",
            "==============================\n",
            "Training...\n"
          ]
        },
        {
          "output_type": "stream",
          "name": "stderr",
          "text": []
        },
        {
          "output_type": "stream",
          "name": "stdout",
          "text": [
            "Evaluating...\n"
          ]
        },
        {
          "output_type": "stream",
          "name": "stderr",
          "text": []
        },
        {
          "output_type": "stream",
          "name": "stdout",
          "text": [
            "Epoch #44: [Training MSE/Validation MSE]: [20608937137.6804/20071287826.6182]\n",
            "==============================\n",
            "Current Epoch 45\n",
            "==============================\n",
            "Training...\n"
          ]
        },
        {
          "output_type": "stream",
          "name": "stderr",
          "text": []
        },
        {
          "output_type": "stream",
          "name": "stdout",
          "text": [
            "Evaluating...\n"
          ]
        },
        {
          "output_type": "stream",
          "name": "stderr",
          "text": []
        },
        {
          "output_type": "stream",
          "name": "stdout",
          "text": [
            "Epoch #45: [Training MSE/Validation MSE]: [18881425838.1735/18545937892.0727]\n",
            "==============================\n",
            "Current Epoch 46\n",
            "==============================\n",
            "Training...\n"
          ]
        },
        {
          "output_type": "stream",
          "name": "stderr",
          "text": []
        },
        {
          "output_type": "stream",
          "name": "stdout",
          "text": [
            "Evaluating...\n"
          ]
        },
        {
          "output_type": "stream",
          "name": "stderr",
          "text": []
        },
        {
          "output_type": "stream",
          "name": "stdout",
          "text": [
            "Epoch #46: [Training MSE/Validation MSE]: [17604940365.1507/17436509351.5636]\n",
            "==============================\n",
            "Current Epoch 47\n",
            "==============================\n",
            "Training...\n"
          ]
        },
        {
          "output_type": "stream",
          "name": "stderr",
          "text": []
        },
        {
          "output_type": "stream",
          "name": "stdout",
          "text": [
            "Evaluating...\n"
          ]
        },
        {
          "output_type": "stream",
          "name": "stderr",
          "text": []
        },
        {
          "output_type": "stream",
          "name": "stdout",
          "text": [
            "Epoch #47: [Training MSE/Validation MSE]: [16701268585.2055/16664195556.0727]\n",
            "==============================\n",
            "Current Epoch 48\n",
            "==============================\n",
            "Training...\n"
          ]
        },
        {
          "output_type": "stream",
          "name": "stderr",
          "text": []
        },
        {
          "output_type": "stream",
          "name": "stdout",
          "text": [
            "Evaluating...\n"
          ]
        },
        {
          "output_type": "stream",
          "name": "stderr",
          "text": []
        },
        {
          "output_type": "stream",
          "name": "stdout",
          "text": [
            "Epoch #48: [Training MSE/Validation MSE]: [16092261118.8311/16152833061.2364]\n",
            "==============================\n",
            "Current Epoch 49\n",
            "==============================\n",
            "Training...\n"
          ]
        },
        {
          "output_type": "stream",
          "name": "stderr",
          "text": []
        },
        {
          "output_type": "stream",
          "name": "stdout",
          "text": [
            "Evaluating...\n"
          ]
        },
        {
          "output_type": "stream",
          "name": "stderr",
          "text": []
        },
        {
          "output_type": "stream",
          "name": "stdout",
          "text": [
            "Epoch #49: [Training MSE/Validation MSE]: [15704272638.8311/15832755553.7455]\n",
            "==============================\n",
            "Current Epoch 50\n",
            "==============================\n",
            "Training...\n"
          ]
        },
        {
          "output_type": "stream",
          "name": "stderr",
          "text": []
        },
        {
          "output_type": "stream",
          "name": "stdout",
          "text": [
            "Evaluating...\n"
          ]
        },
        {
          "output_type": "stream",
          "name": "stderr",
          "text": []
        },
        {
          "output_type": "stream",
          "name": "stdout",
          "text": [
            "Epoch #50: [Training MSE/Validation MSE]: [15473805349.4064/15644698288.8727]\n",
            "==============================\n",
            "Current Epoch 51\n",
            "==============================\n",
            "Training...\n"
          ]
        },
        {
          "output_type": "stream",
          "name": "stderr",
          "text": []
        },
        {
          "output_type": "stream",
          "name": "stdout",
          "text": [
            "Evaluating...\n"
          ]
        },
        {
          "output_type": "stream",
          "name": "stderr",
          "text": []
        },
        {
          "output_type": "stream",
          "name": "stdout",
          "text": [
            "Epoch #51: [Training MSE/Validation MSE]: [15347592425.7900/15539321446.4000]\n",
            "==============================\n",
            "Current Epoch 52\n",
            "==============================\n",
            "Training...\n"
          ]
        },
        {
          "output_type": "stream",
          "name": "stderr",
          "text": []
        },
        {
          "output_type": "stream",
          "name": "stdout",
          "text": [
            "Evaluating...\n"
          ]
        },
        {
          "output_type": "stream",
          "name": "stderr",
          "text": []
        },
        {
          "output_type": "stream",
          "name": "stdout",
          "text": [
            "Epoch #52: [Training MSE/Validation MSE]: [15279329799.0137/15486011447.8545]\n",
            "==============================\n",
            "Current Epoch 53\n",
            "==============================\n",
            "Training...\n"
          ]
        },
        {
          "output_type": "stream",
          "name": "stderr",
          "text": []
        },
        {
          "output_type": "stream",
          "name": "stdout",
          "text": [
            "Evaluating...\n"
          ]
        },
        {
          "output_type": "stream",
          "name": "stderr",
          "text": []
        },
        {
          "output_type": "stream",
          "name": "stdout",
          "text": [
            "Epoch #53: [Training MSE/Validation MSE]: [15250734290.4110/15459337420.8000]\n",
            "==============================\n",
            "Current Epoch 54\n",
            "==============================\n",
            "Training...\n"
          ]
        },
        {
          "output_type": "stream",
          "name": "stderr",
          "text": []
        },
        {
          "output_type": "stream",
          "name": "stdout",
          "text": [
            "Evaluating...\n"
          ]
        },
        {
          "output_type": "stream",
          "name": "stderr",
          "text": []
        },
        {
          "output_type": "stream",
          "name": "stdout",
          "text": [
            "Epoch #54: [Training MSE/Validation MSE]: [15239468789.4795/15445678098.6182]\n",
            "==============================\n",
            "Current Epoch 55\n",
            "==============================\n",
            "Training...\n"
          ]
        },
        {
          "output_type": "stream",
          "name": "stderr",
          "text": []
        },
        {
          "output_type": "stream",
          "name": "stdout",
          "text": [
            "Evaluating...\n"
          ]
        },
        {
          "output_type": "stream",
          "name": "stderr",
          "text": []
        },
        {
          "output_type": "stream",
          "name": "stdout",
          "text": [
            "Epoch #55: [Training MSE/Validation MSE]: [15166271665.6804/14812757792.5818]\n",
            "==============================\n",
            "Current Epoch 56\n",
            "==============================\n",
            "Training...\n"
          ]
        },
        {
          "output_type": "stream",
          "name": "stderr",
          "text": []
        },
        {
          "output_type": "stream",
          "name": "stdout",
          "text": [
            "Evaluating...\n"
          ]
        },
        {
          "output_type": "stream",
          "name": "stderr",
          "text": []
        },
        {
          "output_type": "stream",
          "name": "stdout",
          "text": [
            "Epoch #56: [Training MSE/Validation MSE]: [14666753052.0548/14588462619.9273]\n",
            "==============================\n",
            "Current Epoch 57\n",
            "==============================\n",
            "Training...\n"
          ]
        },
        {
          "output_type": "stream",
          "name": "stderr",
          "text": []
        },
        {
          "output_type": "stream",
          "name": "stdout",
          "text": [
            "Evaluating...\n"
          ]
        },
        {
          "output_type": "stream",
          "name": "stderr",
          "text": []
        },
        {
          "output_type": "stream",
          "name": "stdout",
          "text": [
            "Epoch #57: [Training MSE/Validation MSE]: [14350638299.7626/14040711707.9273]\n",
            "==============================\n",
            "Current Epoch 58\n",
            "==============================\n",
            "Training...\n"
          ]
        },
        {
          "output_type": "stream",
          "name": "stderr",
          "text": []
        },
        {
          "output_type": "stream",
          "name": "stdout",
          "text": [
            "Evaluating...\n"
          ]
        },
        {
          "output_type": "stream",
          "name": "stderr",
          "text": []
        },
        {
          "output_type": "stream",
          "name": "stdout",
          "text": [
            "Epoch #58: [Training MSE/Validation MSE]: [13736668169.3516/13633182701.3818]\n",
            "==============================\n",
            "Current Epoch 59\n",
            "==============================\n",
            "Training...\n"
          ]
        },
        {
          "output_type": "stream",
          "name": "stderr",
          "text": []
        },
        {
          "output_type": "stream",
          "name": "stdout",
          "text": [
            "Evaluating...\n"
          ]
        },
        {
          "output_type": "stream",
          "name": "stderr",
          "text": []
        },
        {
          "output_type": "stream",
          "name": "stdout",
          "text": [
            "Epoch #59: [Training MSE/Validation MSE]: [13369816618.0822/13749445874.0364]\n",
            "==============================\n",
            "Current Epoch 60\n",
            "==============================\n",
            "Training...\n"
          ]
        },
        {
          "output_type": "stream",
          "name": "stderr",
          "text": []
        },
        {
          "output_type": "stream",
          "name": "stdout",
          "text": [
            "Evaluating...\n"
          ]
        },
        {
          "output_type": "stream",
          "name": "stderr",
          "text": []
        },
        {
          "output_type": "stream",
          "name": "stdout",
          "text": [
            "Epoch #60: [Training MSE/Validation MSE]: [13321477849.4247/13139808535.2727]\n",
            "==============================\n",
            "Current Epoch 61\n",
            "==============================\n",
            "Training...\n"
          ]
        },
        {
          "output_type": "stream",
          "name": "stderr",
          "text": []
        },
        {
          "output_type": "stream",
          "name": "stdout",
          "text": [
            "Evaluating...\n"
          ]
        },
        {
          "output_type": "stream",
          "name": "stderr",
          "text": []
        },
        {
          "output_type": "stream",
          "name": "stdout",
          "text": [
            "Epoch #61: [Training MSE/Validation MSE]: [13055416114.2648/12878756268.2182]\n",
            "==============================\n",
            "Current Epoch 62\n",
            "==============================\n",
            "Training...\n"
          ]
        },
        {
          "output_type": "stream",
          "name": "stderr",
          "text": []
        },
        {
          "output_type": "stream",
          "name": "stdout",
          "text": [
            "Evaluating...\n"
          ]
        },
        {
          "output_type": "stream",
          "name": "stderr",
          "text": []
        },
        {
          "output_type": "stream",
          "name": "stdout",
          "text": [
            "Epoch #62: [Training MSE/Validation MSE]: [12635527670.6484/12307296181.5273]\n",
            "==============================\n",
            "Current Epoch 63\n",
            "==============================\n",
            "Training...\n"
          ]
        },
        {
          "output_type": "stream",
          "name": "stderr",
          "text": []
        },
        {
          "output_type": "stream",
          "name": "stdout",
          "text": [
            "Evaluating...\n"
          ]
        },
        {
          "output_type": "stream",
          "name": "stderr",
          "text": []
        },
        {
          "output_type": "stream",
          "name": "stdout",
          "text": [
            "Epoch #63: [Training MSE/Validation MSE]: [11096672627.7260/9722550784.0000]\n",
            "==============================\n",
            "Current Epoch 64\n",
            "==============================\n",
            "Training...\n"
          ]
        },
        {
          "output_type": "stream",
          "name": "stderr",
          "text": []
        },
        {
          "output_type": "stream",
          "name": "stdout",
          "text": [
            "Evaluating...\n"
          ]
        },
        {
          "output_type": "stream",
          "name": "stderr",
          "text": []
        },
        {
          "output_type": "stream",
          "name": "stdout",
          "text": [
            "Epoch #64: [Training MSE/Validation MSE]: [9495337284.9680/8729396410.1818]\n",
            "==============================\n",
            "Current Epoch 65\n",
            "==============================\n",
            "Training...\n"
          ]
        },
        {
          "output_type": "stream",
          "name": "stderr",
          "text": []
        },
        {
          "output_type": "stream",
          "name": "stdout",
          "text": [
            "Evaluating...\n"
          ]
        },
        {
          "output_type": "stream",
          "name": "stderr",
          "text": []
        },
        {
          "output_type": "stream",
          "name": "stdout",
          "text": [
            "Epoch #65: [Training MSE/Validation MSE]: [9845115971.7991/10693620214.6909]\n",
            "==============================\n",
            "Current Epoch 66\n",
            "==============================\n",
            "Training...\n"
          ]
        },
        {
          "output_type": "stream",
          "name": "stderr",
          "text": []
        },
        {
          "output_type": "stream",
          "name": "stdout",
          "text": [
            "Evaluating...\n"
          ]
        },
        {
          "output_type": "stream",
          "name": "stderr",
          "text": []
        },
        {
          "output_type": "stream",
          "name": "stdout",
          "text": [
            "Epoch #66: [Training MSE/Validation MSE]: [10544504729.1324/9022441462.6909]\n",
            "==============================\n",
            "Current Epoch 67\n",
            "==============================\n",
            "Training...\n"
          ]
        },
        {
          "output_type": "stream",
          "name": "stderr",
          "text": []
        },
        {
          "output_type": "stream",
          "name": "stdout",
          "text": [
            "Evaluating...\n"
          ]
        },
        {
          "output_type": "stream",
          "name": "stderr",
          "text": []
        },
        {
          "output_type": "stream",
          "name": "stdout",
          "text": [
            "Epoch #67: [Training MSE/Validation MSE]: [8293735440.3653/7647101328.2909]\n",
            "==============================\n",
            "Current Epoch 68\n",
            "==============================\n",
            "Training...\n"
          ]
        },
        {
          "output_type": "stream",
          "name": "stderr",
          "text": []
        },
        {
          "output_type": "stream",
          "name": "stdout",
          "text": [
            "Evaluating...\n"
          ]
        },
        {
          "output_type": "stream",
          "name": "stderr",
          "text": []
        },
        {
          "output_type": "stream",
          "name": "stdout",
          "text": [
            "Epoch #68: [Training MSE/Validation MSE]: [7927064683.5434/6818957786.7636]\n",
            "==============================\n",
            "Current Epoch 69\n",
            "==============================\n",
            "Training...\n"
          ]
        },
        {
          "output_type": "stream",
          "name": "stderr",
          "text": []
        },
        {
          "output_type": "stream",
          "name": "stdout",
          "text": [
            "Evaluating...\n"
          ]
        },
        {
          "output_type": "stream",
          "name": "stderr",
          "text": []
        },
        {
          "output_type": "stream",
          "name": "stdout",
          "text": [
            "Epoch #69: [Training MSE/Validation MSE]: [7644746110.2466/8722940434.6182]\n",
            "==============================\n",
            "Current Epoch 70\n",
            "==============================\n",
            "Training...\n"
          ]
        },
        {
          "output_type": "stream",
          "name": "stderr",
          "text": []
        },
        {
          "output_type": "stream",
          "name": "stdout",
          "text": [
            "Evaluating...\n"
          ]
        },
        {
          "output_type": "stream",
          "name": "stderr",
          "text": []
        },
        {
          "output_type": "stream",
          "name": "stdout",
          "text": [
            "Epoch #70: [Training MSE/Validation MSE]: [6745752477.8082/5820395464.1455]\n",
            "==============================\n",
            "Current Epoch 71\n",
            "==============================\n",
            "Training...\n"
          ]
        },
        {
          "output_type": "stream",
          "name": "stderr",
          "text": []
        },
        {
          "output_type": "stream",
          "name": "stdout",
          "text": [
            "Evaluating...\n"
          ]
        },
        {
          "output_type": "stream",
          "name": "stderr",
          "text": []
        },
        {
          "output_type": "stream",
          "name": "stdout",
          "text": [
            "Epoch #71: [Training MSE/Validation MSE]: [6051655466.0822/8354077370.1818]\n",
            "==============================\n",
            "Current Epoch 72\n",
            "==============================\n",
            "Training...\n"
          ]
        },
        {
          "output_type": "stream",
          "name": "stderr",
          "text": []
        },
        {
          "output_type": "stream",
          "name": "stdout",
          "text": [
            "Evaluating...\n"
          ]
        },
        {
          "output_type": "stream",
          "name": "stderr",
          "text": []
        },
        {
          "output_type": "stream",
          "name": "stdout",
          "text": [
            "Epoch #72: [Training MSE/Validation MSE]: [8062854522.7397/6979561825.7455]\n",
            "==============================\n",
            "Current Epoch 73\n",
            "==============================\n",
            "Training...\n"
          ]
        },
        {
          "output_type": "stream",
          "name": "stderr",
          "text": []
        },
        {
          "output_type": "stream",
          "name": "stdout",
          "text": [
            "Evaluating...\n"
          ]
        },
        {
          "output_type": "stream",
          "name": "stderr",
          "text": []
        },
        {
          "output_type": "stream",
          "name": "stdout",
          "text": [
            "Epoch #73: [Training MSE/Validation MSE]: [6070289943.3790/5234913024.0000]\n",
            "==============================\n",
            "Current Epoch 74\n",
            "==============================\n",
            "Training...\n"
          ]
        },
        {
          "output_type": "stream",
          "name": "stderr",
          "text": []
        },
        {
          "output_type": "stream",
          "name": "stdout",
          "text": [
            "Evaluating...\n"
          ]
        },
        {
          "output_type": "stream",
          "name": "stderr",
          "text": []
        },
        {
          "output_type": "stream",
          "name": "stdout",
          "text": [
            "Epoch #74: [Training MSE/Validation MSE]: [5372882366.5388/5026877486.5455]\n",
            "==============================\n",
            "Current Epoch 75\n",
            "==============================\n",
            "Training...\n"
          ]
        },
        {
          "output_type": "stream",
          "name": "stderr",
          "text": []
        },
        {
          "output_type": "stream",
          "name": "stdout",
          "text": [
            "Evaluating...\n"
          ]
        },
        {
          "output_type": "stream",
          "name": "stderr",
          "text": []
        },
        {
          "output_type": "stream",
          "name": "stdout",
          "text": [
            "Epoch #75: [Training MSE/Validation MSE]: [4980240061.3699/4353425138.0364]\n",
            "==============================\n",
            "Current Epoch 76\n",
            "==============================\n",
            "Training...\n"
          ]
        },
        {
          "output_type": "stream",
          "name": "stderr",
          "text": []
        },
        {
          "output_type": "stream",
          "name": "stdout",
          "text": [
            "Evaluating...\n"
          ]
        },
        {
          "output_type": "stream",
          "name": "stderr",
          "text": []
        },
        {
          "output_type": "stream",
          "name": "stdout",
          "text": [
            "Epoch #76: [Training MSE/Validation MSE]: [4408965006.6119/4354302245.2364]\n",
            "==============================\n",
            "Current Epoch 77\n",
            "==============================\n",
            "Training...\n"
          ]
        },
        {
          "output_type": "stream",
          "name": "stderr",
          "text": []
        },
        {
          "output_type": "stream",
          "name": "stdout",
          "text": [
            "Evaluating...\n"
          ]
        },
        {
          "output_type": "stream",
          "name": "stderr",
          "text": []
        },
        {
          "output_type": "stream",
          "name": "stdout",
          "text": [
            "Epoch #77: [Training MSE/Validation MSE]: [4162188008.6210/4090399162.1818]\n",
            "==============================\n",
            "Current Epoch 78\n",
            "==============================\n",
            "Training...\n"
          ]
        },
        {
          "output_type": "stream",
          "name": "stderr",
          "text": []
        },
        {
          "output_type": "stream",
          "name": "stdout",
          "text": [
            "Evaluating...\n"
          ]
        },
        {
          "output_type": "stream",
          "name": "stderr",
          "text": []
        },
        {
          "output_type": "stream",
          "name": "stdout",
          "text": [
            "Epoch #78: [Training MSE/Validation MSE]: [4047782722.6301/3779684519.5636]\n",
            "==============================\n",
            "Current Epoch 79\n",
            "==============================\n",
            "Training...\n"
          ]
        },
        {
          "output_type": "stream",
          "name": "stderr",
          "text": []
        },
        {
          "output_type": "stream",
          "name": "stdout",
          "text": [
            "Evaluating...\n"
          ]
        },
        {
          "output_type": "stream",
          "name": "stderr",
          "text": []
        },
        {
          "output_type": "stream",
          "name": "stdout",
          "text": [
            "Epoch #79: [Training MSE/Validation MSE]: [3766071097.2785/3544072559.7091]\n",
            "==============================\n",
            "Current Epoch 80\n",
            "==============================\n",
            "Training...\n"
          ]
        },
        {
          "output_type": "stream",
          "name": "stderr",
          "text": []
        },
        {
          "output_type": "stream",
          "name": "stdout",
          "text": [
            "Evaluating...\n"
          ]
        },
        {
          "output_type": "stream",
          "name": "stderr",
          "text": []
        },
        {
          "output_type": "stream",
          "name": "stdout",
          "text": [
            "Epoch #80: [Training MSE/Validation MSE]: [4134814047.8539/4206712175.7091]\n",
            "==============================\n",
            "Current Epoch 81\n",
            "==============================\n",
            "Training...\n"
          ]
        },
        {
          "output_type": "stream",
          "name": "stderr",
          "text": []
        },
        {
          "output_type": "stream",
          "name": "stdout",
          "text": [
            "Evaluating...\n"
          ]
        },
        {
          "output_type": "stream",
          "name": "stderr",
          "text": []
        },
        {
          "output_type": "stream",
          "name": "stdout",
          "text": [
            "Epoch #81: [Training MSE/Validation MSE]: [4312625136.8037/4157734874.7636]\n",
            "==============================\n",
            "Current Epoch 82\n",
            "==============================\n",
            "Training...\n"
          ]
        },
        {
          "output_type": "stream",
          "name": "stderr",
          "text": []
        },
        {
          "output_type": "stream",
          "name": "stdout",
          "text": [
            "Evaluating...\n"
          ]
        },
        {
          "output_type": "stream",
          "name": "stderr",
          "text": []
        },
        {
          "output_type": "stream",
          "name": "stdout",
          "text": [
            "Epoch #82: [Training MSE/Validation MSE]: [4204753985.4612/3571282017.7455]\n",
            "==============================\n",
            "Current Epoch 83\n",
            "==============================\n",
            "Training...\n"
          ]
        },
        {
          "output_type": "stream",
          "name": "stderr",
          "text": []
        },
        {
          "output_type": "stream",
          "name": "stdout",
          "text": [
            "Evaluating...\n"
          ]
        },
        {
          "output_type": "stream",
          "name": "stderr",
          "text": []
        },
        {
          "output_type": "stream",
          "name": "stdout",
          "text": [
            "Epoch #83: [Training MSE/Validation MSE]: [3509238342.1370/3405339894.6909]\n",
            "==============================\n",
            "Current Epoch 84\n",
            "==============================\n",
            "Training...\n"
          ]
        },
        {
          "output_type": "stream",
          "name": "stderr",
          "text": []
        },
        {
          "output_type": "stream",
          "name": "stdout",
          "text": [
            "Evaluating...\n"
          ]
        },
        {
          "output_type": "stream",
          "name": "stderr",
          "text": []
        },
        {
          "output_type": "stream",
          "name": "stdout",
          "text": [
            "Epoch #84: [Training MSE/Validation MSE]: [3449359043.2146/3527876868.6545]\n",
            "==============================\n",
            "Current Epoch 85\n",
            "==============================\n",
            "Training...\n"
          ]
        },
        {
          "output_type": "stream",
          "name": "stderr",
          "text": []
        },
        {
          "output_type": "stream",
          "name": "stdout",
          "text": [
            "Evaluating...\n"
          ]
        },
        {
          "output_type": "stream",
          "name": "stderr",
          "text": []
        },
        {
          "output_type": "stream",
          "name": "stdout",
          "text": [
            "Epoch #85: [Training MSE/Validation MSE]: [3642983668.3105/4284228184.4364]\n",
            "==============================\n",
            "Current Epoch 86\n",
            "==============================\n",
            "Training...\n"
          ]
        },
        {
          "output_type": "stream",
          "name": "stderr",
          "text": []
        },
        {
          "output_type": "stream",
          "name": "stdout",
          "text": [
            "Evaluating...\n"
          ]
        },
        {
          "output_type": "stream",
          "name": "stderr",
          "text": []
        },
        {
          "output_type": "stream",
          "name": "stdout",
          "text": [
            "Epoch #86: [Training MSE/Validation MSE]: [3891656967.0137/4003020562.6182]\n",
            "==============================\n",
            "Current Epoch 87\n",
            "==============================\n",
            "Training...\n"
          ]
        },
        {
          "output_type": "stream",
          "name": "stderr",
          "text": []
        },
        {
          "output_type": "stream",
          "name": "stdout",
          "text": [
            "Evaluating...\n"
          ]
        },
        {
          "output_type": "stream",
          "name": "stderr",
          "text": []
        },
        {
          "output_type": "stream",
          "name": "stdout",
          "text": [
            "Epoch #87: [Training MSE/Validation MSE]: [4243334879.2694/5358936250.1818]\n",
            "==============================\n",
            "Current Epoch 88\n",
            "==============================\n",
            "Training...\n"
          ]
        },
        {
          "output_type": "stream",
          "name": "stderr",
          "text": []
        },
        {
          "output_type": "stream",
          "name": "stdout",
          "text": [
            "Evaluating...\n"
          ]
        },
        {
          "output_type": "stream",
          "name": "stderr",
          "text": [
            "                                                "
          ]
        },
        {
          "output_type": "stream",
          "name": "stdout",
          "text": [
            "Epoch #88: [Training MSE/Validation MSE]: [4147111290.7397/4029661998.5455]\n",
            "Early Stopping!\n"
          ]
        },
        {
          "output_type": "stream",
          "name": "stderr",
          "text": [
            "\r"
          ]
        }
      ]
    },
    {
      "cell_type": "code",
      "source": [
        "%matplotlib inline"
      ],
      "metadata": {
        "id": "2ISFLWCzmHX3"
      },
      "execution_count": 99,
      "outputs": []
    },
    {
      "cell_type": "code",
      "source": [
        "plt.plot(range(len(train_losses)), train_losses, label=\"Training Loss\")\n",
        "plt.plot(range(len(val_losses)), val_losses, label=\"Validation Loss\")\n",
        "plt.legend()\n",
        "plt.xlabel('Epoch')\n",
        "plt.ylabel('MSE')\n",
        "plt.show()"
      ],
      "metadata": {
        "colab": {
          "base_uri": "https://localhost:8080/",
          "height": 460
        },
        "id": "-BNNQJvumIUn",
        "outputId": "51339507-daee-4195-d002-4eccc1a357f2"
      },
      "execution_count": 100,
      "outputs": [
        {
          "output_type": "display_data",
          "data": {
            "text/plain": [
              "<Figure size 640x480 with 1 Axes>"
            ],
            "image/png": "[encoded data removed]"
          },
          "metadata": {}
        }
      ]
    },
    {
      "cell_type": "code",
      "source": [
        "directory = 'models'\n",
        "os.makedirs(directory, exist_ok=True)\n",
        "\n",
        "torch.save(model.state_dict(), 'models/model.pt')"
      ],
      "metadata": {
        "id": "TU1W2njGrIZ8"
      },
      "execution_count": 101,
      "outputs": []
    },
    {
      "cell_type": "markdown",
      "source": [
        "#내일 데이터 불러오기"
      ],
      "metadata": {
        "id": "XAPdtK1frKaV"
      }
    },
    {
      "cell_type": "code",
      "source": [
        "import pandas as pd\n",
        "import urllib\n",
        "import urllib.request\n",
        "import json"
      ],
      "metadata": {
        "id": "OkICI0r0sAIC"
      },
      "execution_count": 102,
      "outputs": []
    },
    {
      "cell_type": "code",
      "source": [
        "from datetime import date, timedelta\n",
        "#오늘 날짜 불러오기\n",
        "today = date.today()\n",
        "formatted_today = today.strftime('%Y%m%d')\n",
        "tomorrow = today + timedelta(days=1)\n",
        "formatted_tomorrow = tomorrow.strftime('%Y%m%d')"
      ],
      "metadata": {
        "id": "dhYksY1Zsl_v"
      },
      "execution_count": 103,
      "outputs": []
    },
    {
      "cell_type": "code",
      "source": [
        "servicekey = 's+fQ9LDUrt9xJ9LSIp0R4+gJBR7eOiUpRHNKXMb6gaV844FL4oI+OYVOY+MC2Bff+Iq9bQWFeWrktswAfBtkyg=='\n",
        "url= 'http://apis.data.go.kr/1360000/VilageFcstInfoService_2.0/getVilageFcst'\n",
        "\n",
        "queryParams = '?' + urllib.parse.urlencode(\n",
        "    {\n",
        "        urllib.parse.quote_plus('servicekey') : servicekey,\n",
        "        urllib.parse.quote_plus('pageNo') : '1',\n",
        "        urllib.parse.quote_plus('numOfRows') : '372',  # 12 * 31 = 372\n",
        "       # 아님 12개 항목임\n",
        "        urllib.parse.quote_plus('dataType') : 'JSON', # JSON, XML 두가지 포멧을 제공합니다.\n",
        "        urllib.parse.quote_plus('base_date') : formatted_today, # 예보 받을 날짜를 입력합니다. 최근 1일간의 자료만 제공합니다.\n",
        "        urllib.parse.quote_plus('base_time') : '1700', # 예보 시간을 입력합니다. 2시부터 시작하여 3시간 단위로 입력 가능합니다.\n",
        "        urllib.parse.quote_plus('nx') : '48', # 울산 태양광 발전소 x 좌표입니다. '기상청18_동네예보 조회서비스_오픈API활용가이드.zip'에 포함 된 excel파일을 통해 확인 가능합니다.\n",
        "        urllib.parse.quote_plus('ny') : '36' # 울산 태양광 발전소 y 좌표입니다. '기상청18_동네예보 조회서비스_오픈API활용가이드.zip'에 포함 된 excel파일을 통해 확인 가능합니다.\n",
        "    }\n",
        ")\n",
        "\n",
        "response = urllib.request.urlopen(url + queryParams).read()\n",
        "response = json.loads(response)\n",
        "print(response)"
      ],
      "metadata": {
        "colab": {
          "base_uri": "https://localhost:8080/"
        },
        "id": "AB766Jl_sB9O",
        "outputId": "f0a3622a-86f1-448d-c36f-9be1a05f72ba"
      },
      "execution_count": 104,
      "outputs": [
        {
          "output_type": "stream",
          "name": "stdout",
          "text": [
            "{'response': {'header': {'resultCode': '00', 'resultMsg': 'NORMAL_SERVICE'}, 'body': {'dataType': 'JSON', 'items': {'item': [{'baseDate': '20240218', 'baseTime': '1700', 'category': 'TMP', 'fcstDate': '20240218', 'fcstTime': '1800', 'fcstValue': '17', 'nx': 48, 'ny': 36}, {'baseDate': '20240218', 'baseTime': '1700', 'category': 'UUU', 'fcstDate': '20240218', 'fcstTime': '1800', 'fcstValue': '-2.4', 'nx': 48, 'ny': 36}, {'baseDate': '20240218', 'baseTime': '1700', 'category': 'VVV', 'fcstDate': '20240218', 'fcstTime': '1800', 'fcstValue': '7.8', 'nx': 48, 'ny': 36}, {'baseDate': '20240218', 'baseTime': '1700', 'category': 'VEC', 'fcstDate': '20240218', 'fcstTime': '1800', 'fcstValue': '162', 'nx': 48, 'ny': 36}, {'baseDate': '20240218', 'baseTime': '1700', 'category': 'WSD', 'fcstDate': '20240218', 'fcstTime': '1800', 'fcstValue': '8.2', 'nx': 48, 'ny': 36}, {'baseDate': '20240218', 'baseTime': '1700', 'category': 'SKY', 'fcstDate': '20240218', 'fcstTime': '1800', 'fcstValue': '4', 'nx': 48, 'ny': 36}, {'baseDate': '20240218', 'baseTime': '1700', 'category': 'PTY', 'fcstDate': '20240218', 'fcstTime': '1800', 'fcstValue': '1', 'nx': 48, 'ny': 36}, {'baseDate': '20240218', 'baseTime': '1700', 'category': 'POP', 'fcstDate': '20240218', 'fcstTime': '1800', 'fcstValue': '60', 'nx': 48, 'ny': 36}, {'baseDate': '20240218', 'baseTime': '1700', 'category': 'WAV', 'fcstDate': '20240218', 'fcstTime': '1800', 'fcstValue': '0.5', 'nx': 48, 'ny': 36}, {'baseDate': '20240218', 'baseTime': '1700', 'category': 'PCP', 'fcstDate': '20240218', 'fcstTime': '1800', 'fcstValue': '3.0mm', 'nx': 48, 'ny': 36}, {'baseDate': '20240218', 'baseTime': '1700', 'category': 'REH', 'fcstDate': '20240218', 'fcstTime': '1800', 'fcstValue': '90', 'nx': 48, 'ny': 36}, {'baseDate': '20240218', 'baseTime': '1700', 'category': 'SNO', 'fcstDate': '20240218', 'fcstTime': '1800', 'fcstValue': '적설없음', 'nx': 48, 'ny': 36}, {'baseDate': '20240218', 'baseTime': '1700', 'category': 'TMP', 'fcstDate': '20240218', 'fcstTime': '1900', 'fcstValue': '17', 'nx': 48, 'ny': 36}, {'baseDate': '20240218', 'baseTime': '1700', 'category': 'UUU', 'fcstDate': '20240218', 'fcstTime': '1900', 'fcstValue': '-2.2', 'nx': 48, 'ny': 36}, {'baseDate': '20240218', 'baseTime': '1700', 'category': 'VVV', 'fcstDate': '20240218', 'fcstTime': '1900', 'fcstValue': '8.1', 'nx': 48, 'ny': 36}, {'baseDate': '20240218', 'baseTime': '1700', 'category': 'VEC', 'fcstDate': '20240218', 'fcstTime': '1900', 'fcstValue': '164', 'nx': 48, 'ny': 36}, {'baseDate': '20240218', 'baseTime': '1700', 'category': 'WSD', 'fcstDate': '20240218', 'fcstTime': '1900', 'fcstValue': '8.4', 'nx': 48, 'ny': 36}, {'baseDate': '20240218', 'baseTime': '1700', 'category': 'SKY', 'fcstDate': '20240218', 'fcstTime': '1900', 'fcstValue': '4', 'nx': 48, 'ny': 36}, {'baseDate': '20240218', 'baseTime': '1700', 'category': 'PTY', 'fcstDate': '20240218', 'fcstTime': '1900', 'fcstValue': '1', 'nx': 48, 'ny': 36}, {'baseDate': '20240218', 'baseTime': '1700', 'category': 'POP', 'fcstDate': '20240218', 'fcstTime': '1900', 'fcstValue': '60', 'nx': 48, 'ny': 36}, {'baseDate': '20240218', 'baseTime': '1700', 'category': 'WAV', 'fcstDate': '20240218', 'fcstTime': '1900', 'fcstValue': '0.5', 'nx': 48, 'ny': 36}, {'baseDate': '20240218', 'baseTime': '1700', 'category': 'PCP', 'fcstDate': '20240218', 'fcstTime': '1900', 'fcstValue': '2.0mm', 'nx': 48, 'ny': 36}, {'baseDate': '20240218', 'baseTime': '1700', 'category': 'REH', 'fcstDate': '20240218', 'fcstTime': '1900', 'fcstValue': '90', 'nx': 48, 'ny': 36}, {'baseDate': '20240218', 'baseTime': '1700', 'category': 'SNO', 'fcstDate': '20240218', 'fcstTime': '1900', 'fcstValue': '적설없음', 'nx': 48, 'ny': 36}, {'baseDate': '20240218', 'baseTime': '1700', 'category': 'TMP', 'fcstDate': '20240218', 'fcstTime': '2000', 'fcstValue': '18', 'nx': 48, 'ny': 36}, {'baseDate': '20240218', 'baseTime': '1700', 'category': 'UUU', 'fcstDate': '20240218', 'fcstTime': '2000', 'fcstValue': '-1.8', 'nx': 48, 'ny': 36}, {'baseDate': '20240218', 'baseTime': '1700', 'category': 'VVV', 'fcstDate': '20240218', 'fcstTime': '2000', 'fcstValue': '8', 'nx': 48, 'ny': 36}, {'baseDate': '20240218', 'baseTime': '1700', 'category': 'VEC', 'fcstDate': '20240218', 'fcstTime': '2000', 'fcstValue': '167', 'nx': 48, 'ny': 36}, {'baseDate': '20240218', 'baseTime': '1700', 'category': 'WSD', 'fcstDate': '20240218', 'fcstTime': '2000', 'fcstValue': '8.2', 'nx': 48, 'ny': 36}, {'baseDate': '20240218', 'baseTime': '1700', 'category': 'SKY', 'fcstDate': '20240218', 'fcstTime': '2000', 'fcstValue': '4', 'nx': 48, 'ny': 36}, {'baseDate': '20240218', 'baseTime': '1700', 'category': 'PTY', 'fcstDate': '20240218', 'fcstTime': '2000', 'fcstValue': '1', 'nx': 48, 'ny': 36}, {'baseDate': '20240218', 'baseTime': '1700', 'category': 'POP', 'fcstDate': '20240218', 'fcstTime': '2000', 'fcstValue': '60', 'nx': 48, 'ny': 36}, {'baseDate': '20240218', 'baseTime': '1700', 'category': 'WAV', 'fcstDate': '20240218', 'fcstTime': '2000', 'fcstValue': '0.5', 'nx': 48, 'ny': 36}, {'baseDate': '20240218', 'baseTime': '1700', 'category': 'PCP', 'fcstDate': '20240218', 'fcstTime': '2000', 'fcstValue': '4.0mm', 'nx': 48, 'ny': 36}, {'baseDate': '20240218', 'baseTime': '1700', 'category': 'REH', 'fcstDate': '20240218', 'fcstTime': '2000', 'fcstValue': '90', 'nx': 48, 'ny': 36}, {'baseDate': '20240218', 'baseTime': '1700', 'category': 'SNO', 'fcstDate': '20240218', 'fcstTime': '2000', 'fcstValue': '적설없음', 'nx': 48, 'ny': 36}, {'baseDate': '20240218', 'baseTime': '1700', 'category': 'TMP', 'fcstDate': '20240218', 'fcstTime': '2100', 'fcstValue': '18', 'nx': 48, 'ny': 36}, {'baseDate': '20240218', 'baseTime': '1700', 'category': 'UUU', 'fcstDate': '20240218', 'fcstTime': '2100', 'fcstValue': '-1.5', 'nx': 48, 'ny': 36}, {'baseDate': '20240218', 'baseTime': '1700', 'category': 'VVV', 'fcstDate': '20240218', 'fcstTime': '2100', 'fcstValue': '8.4', 'nx': 48, 'ny': 36}, {'baseDate': '20240218', 'baseTime': '1700', 'category': 'VEC', 'fcstDate': '20240218', 'fcstTime': '2100', 'fcstValue': '169', 'nx': 48, 'ny': 36}, {'baseDate': '20240218', 'baseTime': '1700', 'category': 'WSD', 'fcstDate': '20240218', 'fcstTime': '2100', 'fcstValue': '8.6', 'nx': 48, 'ny': 36}, {'baseDate': '20240218', 'baseTime': '1700', 'category': 'SKY', 'fcstDate': '20240218', 'fcstTime': '2100', 'fcstValue': '4', 'nx': 48, 'ny': 36}, {'baseDate': '20240218', 'baseTime': '1700', 'category': 'PTY', 'fcstDate': '20240218', 'fcstTime': '2100', 'fcstValue': '1', 'nx': 48, 'ny': 36}, {'baseDate': '20240218', 'baseTime': '1700', 'category': 'POP', 'fcstDate': '20240218', 'fcstTime': '2100', 'fcstValue': '60', 'nx': 48, 'ny': 36}, {'baseDate': '20240218', 'baseTime': '1700', 'category': 'WAV', 'fcstDate': '20240218', 'fcstTime': '2100', 'fcstValue': '0.5', 'nx': 48, 'ny': 36}, {'baseDate': '20240218', 'baseTime': '1700', 'category': 'PCP', 'fcstDate': '20240218', 'fcstTime': '2100', 'fcstValue': '2.0mm', 'nx': 48, 'ny': 36}, {'baseDate': '20240218', 'baseTime': '1700', 'category': 'REH', 'fcstDate': '20240218', 'fcstTime': '2100', 'fcstValue': '90', 'nx': 48, 'ny': 36}, {'baseDate': '20240218', 'baseTime': '1700', 'category': 'SNO', 'fcstDate': '20240218', 'fcstTime': '2100', 'fcstValue': '적설없음', 'nx': 48, 'ny': 36}, {'baseDate': '20240218', 'baseTime': '1700', 'category': 'TMP', 'fcstDate': '20240218', 'fcstTime': '2200', 'fcstValue': '18', 'nx': 48, 'ny': 36}, {'baseDate': '20240218', 'baseTime': '1700', 'category': 'UUU', 'fcstDate': '20240218', 'fcstTime': '2200', 'fcstValue': '-1.1', 'nx': 48, 'ny': 36}, {'baseDate': '20240218', 'baseTime': '1700', 'category': 'VVV', 'fcstDate': '20240218', 'fcstTime': '2200', 'fcstValue': '8.6', 'nx': 48, 'ny': 36}, {'baseDate': '20240218', 'baseTime': '1700', 'category': 'VEC', 'fcstDate': '20240218', 'fcstTime': '2200', 'fcstValue': '172', 'nx': 48, 'ny': 36}, {'baseDate': '20240218', 'baseTime': '1700', 'category': 'WSD', 'fcstDate': '20240218', 'fcstTime': '2200', 'fcstValue': '8.7', 'nx': 48, 'ny': 36}, {'baseDate': '20240218', 'baseTime': '1700', 'category': 'SKY', 'fcstDate': '20240218', 'fcstTime': '2200', 'fcstValue': '4', 'nx': 48, 'ny': 36}, {'baseDate': '20240218', 'baseTime': '1700', 'category': 'PTY', 'fcstDate': '20240218', 'fcstTime': '2200', 'fcstValue': '1', 'nx': 48, 'ny': 36}, {'baseDate': '20240218', 'baseTime': '1700', 'category': 'POP', 'fcstDate': '20240218', 'fcstTime': '2200', 'fcstValue': '60', 'nx': 48, 'ny': 36}, {'baseDate': '20240218', 'baseTime': '1700', 'category': 'WAV', 'fcstDate': '20240218', 'fcstTime': '2200', 'fcstValue': '0.5', 'nx': 48, 'ny': 36}, {'baseDate': '20240218', 'baseTime': '1700', 'category': 'PCP', 'fcstDate': '20240218', 'fcstTime': '2200', 'fcstValue': '1.0mm', 'nx': 48, 'ny': 36}, {'baseDate': '20240218', 'baseTime': '1700', 'category': 'REH', 'fcstDate': '20240218', 'fcstTime': '2200', 'fcstValue': '90', 'nx': 48, 'ny': 36}, {'baseDate': '20240218', 'baseTime': '1700', 'category': 'SNO', 'fcstDate': '20240218', 'fcstTime': '2200', 'fcstValue': '적설없음', 'nx': 48, 'ny': 36}, {'baseDate': '20240218', 'baseTime': '1700', 'category': 'TMP', 'fcstDate': '20240218', 'fcstTime': '2300', 'fcstValue': '18', 'nx': 48, 'ny': 36}, {'baseDate': '20240218', 'baseTime': '1700', 'category': 'UUU', 'fcstDate': '20240218', 'fcstTime': '2300', 'fcstValue': '-0.8', 'nx': 48, 'ny': 36}, {'baseDate': '20240218', 'baseTime': '1700', 'category': 'VVV', 'fcstDate': '20240218', 'fcstTime': '2300', 'fcstValue': '9', 'nx': 48, 'ny': 36}, {'baseDate': '20240218', 'baseTime': '1700', 'category': 'VEC', 'fcstDate': '20240218', 'fcstTime': '2300', 'fcstValue': '174', 'nx': 48, 'ny': 36}, {'baseDate': '20240218', 'baseTime': '1700', 'category': 'WSD', 'fcstDate': '20240218', 'fcstTime': '2300', 'fcstValue': '9', 'nx': 48, 'ny': 36}, {'baseDate': '20240218', 'baseTime': '1700', 'category': 'SKY', 'fcstDate': '20240218', 'fcstTime': '2300', 'fcstValue': '4', 'nx': 48, 'ny': 36}, {'baseDate': '20240218', 'baseTime': '1700', 'category': 'PTY', 'fcstDate': '20240218', 'fcstTime': '2300', 'fcstValue': '1', 'nx': 48, 'ny': 36}, {'baseDate': '20240218', 'baseTime': '1700', 'category': 'POP', 'fcstDate': '20240218', 'fcstTime': '2300', 'fcstValue': '60', 'nx': 48, 'ny': 36}, {'baseDate': '20240218', 'baseTime': '1700', 'category': 'WAV', 'fcstDate': '20240218', 'fcstTime': '2300', 'fcstValue': '0.5', 'nx': 48, 'ny': 36}, {'baseDate': '20240218', 'baseTime': '1700', 'category': 'PCP', 'fcstDate': '20240218', 'fcstTime': '2300', 'fcstValue': '4.0mm', 'nx': 48, 'ny': 36}, {'baseDate': '20240218', 'baseTime': '1700', 'category': 'REH', 'fcstDate': '20240218', 'fcstTime': '2300', 'fcstValue': '90', 'nx': 48, 'ny': 36}, {'baseDate': '20240218', 'baseTime': '1700', 'category': 'SNO', 'fcstDate': '20240218', 'fcstTime': '2300', 'fcstValue': '적설없음', 'nx': 48, 'ny': 36}, {'baseDate': '20240218', 'baseTime': '1700', 'category': 'TMP', 'fcstDate': '20240219', 'fcstTime': '0000', 'fcstValue': '18', 'nx': 48, 'ny': 36}, {'baseDate': '20240218', 'baseTime': '1700', 'category': 'UUU', 'fcstDate': '20240219', 'fcstTime': '0000', 'fcstValue': '-0.6', 'nx': 48, 'ny': 36}, {'baseDate': '20240218', 'baseTime': '1700', 'category': 'VVV', 'fcstDate': '20240219', 'fcstTime': '0000', 'fcstValue': '9.1', 'nx': 48, 'ny': 36}, {'baseDate': '20240218', 'baseTime': '1700', 'category': 'VEC', 'fcstDate': '20240219', 'fcstTime': '0000', 'fcstValue': '176', 'nx': 48, 'ny': 36}, {'baseDate': '20240218', 'baseTime': '1700', 'category': 'WSD', 'fcstDate': '20240219', 'fcstTime': '0000', 'fcstValue': '9.1', 'nx': 48, 'ny': 36}, {'baseDate': '20240218', 'baseTime': '1700', 'category': 'SKY', 'fcstDate': '20240219', 'fcstTime': '0000', 'fcstValue': '4', 'nx': 48, 'ny': 36}, {'baseDate': '20240218', 'baseTime': '1700', 'category': 'PTY', 'fcstDate': '20240219', 'fcstTime': '0000', 'fcstValue': '1', 'nx': 48, 'ny': 36}, {'baseDate': '20240218', 'baseTime': '1700', 'category': 'POP', 'fcstDate': '20240219', 'fcstTime': '0000', 'fcstValue': '60', 'nx': 48, 'ny': 36}, {'baseDate': '20240218', 'baseTime': '1700', 'category': 'WAV', 'fcstDate': '20240219', 'fcstTime': '0000', 'fcstValue': '0.5', 'nx': 48, 'ny': 36}, {'baseDate': '20240218', 'baseTime': '1700', 'category': 'PCP', 'fcstDate': '20240219', 'fcstTime': '0000', 'fcstValue': '4.0mm', 'nx': 48, 'ny': 36}, {'baseDate': '20240218', 'baseTime': '1700', 'category': 'REH', 'fcstDate': '20240219', 'fcstTime': '0000', 'fcstValue': '90', 'nx': 48, 'ny': 36}, {'baseDate': '20240218', 'baseTime': '1700', 'category': 'SNO', 'fcstDate': '20240219', 'fcstTime': '0000', 'fcstValue': '적설없음', 'nx': 48, 'ny': 36}, {'baseDate': '20240218', 'baseTime': '1700', 'category': 'TMP', 'fcstDate': '20240219', 'fcstTime': '0100', 'fcstValue': '18', 'nx': 48, 'ny': 36}, {'baseDate': '20240218', 'baseTime': '1700', 'category': 'UUU', 'fcstDate': '20240219', 'fcstTime': '0100', 'fcstValue': '-0.3', 'nx': 48, 'ny': 36}, {'baseDate': '20240218', 'baseTime': '1700', 'category': 'VVV', 'fcstDate': '20240219', 'fcstTime': '0100', 'fcstValue': '9.3', 'nx': 48, 'ny': 36}, {'baseDate': '20240218', 'baseTime': '1700', 'category': 'VEC', 'fcstDate': '20240219', 'fcstTime': '0100', 'fcstValue': '178', 'nx': 48, 'ny': 36}, {'baseDate': '20240218', 'baseTime': '1700', 'category': 'WSD', 'fcstDate': '20240219', 'fcstTime': '0100', 'fcstValue': '9.3', 'nx': 48, 'ny': 36}, {'baseDate': '20240218', 'baseTime': '1700', 'category': 'SKY', 'fcstDate': '20240219', 'fcstTime': '0100', 'fcstValue': '4', 'nx': 48, 'ny': 36}, {'baseDate': '20240218', 'baseTime': '1700', 'category': 'PTY', 'fcstDate': '20240219', 'fcstTime': '0100', 'fcstValue': '1', 'nx': 48, 'ny': 36}, {'baseDate': '20240218', 'baseTime': '1700', 'category': 'POP', 'fcstDate': '20240219', 'fcstTime': '0100', 'fcstValue': '61', 'nx': 48, 'ny': 36}, {'baseDate': '20240218', 'baseTime': '1700', 'category': 'WAV', 'fcstDate': '20240219', 'fcstTime': '0100', 'fcstValue': '0.5', 'nx': 48, 'ny': 36}, {'baseDate': '20240218', 'baseTime': '1700', 'category': 'PCP', 'fcstDate': '20240219', 'fcstTime': '0100', 'fcstValue': '6.0mm', 'nx': 48, 'ny': 36}, {'baseDate': '20240218', 'baseTime': '1700', 'category': 'REH', 'fcstDate': '20240219', 'fcstTime': '0100', 'fcstValue': '90', 'nx': 48, 'ny': 36}, {'baseDate': '20240218', 'baseTime': '1700', 'category': 'SNO', 'fcstDate': '20240219', 'fcstTime': '0100', 'fcstValue': '적설없음', 'nx': 48, 'ny': 36}, {'baseDate': '20240218', 'baseTime': '1700', 'category': 'TMP', 'fcstDate': '20240219', 'fcstTime': '0200', 'fcstValue': '18', 'nx': 48, 'ny': 36}, {'baseDate': '20240218', 'baseTime': '1700', 'category': 'UUU', 'fcstDate': '20240219', 'fcstTime': '0200', 'fcstValue': '-0.2', 'nx': 48, 'ny': 36}, {'baseDate': '20240218', 'baseTime': '1700', 'category': 'VVV', 'fcstDate': '20240219', 'fcstTime': '0200', 'fcstValue': '9.3', 'nx': 48, 'ny': 36}, {'baseDate': '20240218', 'baseTime': '1700', 'category': 'VEC', 'fcstDate': '20240219', 'fcstTime': '0200', 'fcstValue': '178', 'nx': 48, 'ny': 36}, {'baseDate': '20240218', 'baseTime': '1700', 'category': 'WSD', 'fcstDate': '20240219', 'fcstTime': '0200', 'fcstValue': '9.3', 'nx': 48, 'ny': 36}, {'baseDate': '20240218', 'baseTime': '1700', 'category': 'SKY', 'fcstDate': '20240219', 'fcstTime': '0200', 'fcstValue': '4', 'nx': 48, 'ny': 36}, {'baseDate': '20240218', 'baseTime': '1700', 'category': 'PTY', 'fcstDate': '20240219', 'fcstTime': '0200', 'fcstValue': '1', 'nx': 48, 'ny': 36}, {'baseDate': '20240218', 'baseTime': '1700', 'category': 'POP', 'fcstDate': '20240219', 'fcstTime': '0200', 'fcstValue': '62', 'nx': 48, 'ny': 36}, {'baseDate': '20240218', 'baseTime': '1700', 'category': 'WAV', 'fcstDate': '20240219', 'fcstTime': '0200', 'fcstValue': '0.5', 'nx': 48, 'ny': 36}, {'baseDate': '20240218', 'baseTime': '1700', 'category': 'PCP', 'fcstDate': '20240219', 'fcstTime': '0200', 'fcstValue': '6.0mm', 'nx': 48, 'ny': 36}, {'baseDate': '20240218', 'baseTime': '1700', 'category': 'REH', 'fcstDate': '20240219', 'fcstTime': '0200', 'fcstValue': '90', 'nx': 48, 'ny': 36}, {'baseDate': '20240218', 'baseTime': '1700', 'category': 'SNO', 'fcstDate': '20240219', 'fcstTime': '0200', 'fcstValue': '적설없음', 'nx': 48, 'ny': 36}, {'baseDate': '20240218', 'baseTime': '1700', 'category': 'TMP', 'fcstDate': '20240219', 'fcstTime': '0300', 'fcstValue': '18', 'nx': 48, 'ny': 36}, {'baseDate': '20240218', 'baseTime': '1700', 'category': 'UUU', 'fcstDate': '20240219', 'fcstTime': '0300', 'fcstValue': '0.6', 'nx': 48, 'ny': 36}, {'baseDate': '20240218', 'baseTime': '1700', 'category': 'VVV', 'fcstDate': '20240219', 'fcstTime': '0300', 'fcstValue': '9.2', 'nx': 48, 'ny': 36}, {'baseDate': '20240218', 'baseTime': '1700', 'category': 'VEC', 'fcstDate': '20240219', 'fcstTime': '0300', 'fcstValue': '184', 'nx': 48, 'ny': 36}, {'baseDate': '20240218', 'baseTime': '1700', 'category': 'WSD', 'fcstDate': '20240219', 'fcstTime': '0300', 'fcstValue': '9.2', 'nx': 48, 'ny': 36}, {'baseDate': '20240218', 'baseTime': '1700', 'category': 'SKY', 'fcstDate': '20240219', 'fcstTime': '0300', 'fcstValue': '4', 'nx': 48, 'ny': 36}, {'baseDate': '20240218', 'baseTime': '1700', 'category': 'PTY', 'fcstDate': '20240219', 'fcstTime': '0300', 'fcstValue': '1', 'nx': 48, 'ny': 36}, {'baseDate': '20240218', 'baseTime': '1700', 'category': 'POP', 'fcstDate': '20240219', 'fcstTime': '0300', 'fcstValue': '62', 'nx': 48, 'ny': 36}, {'baseDate': '20240218', 'baseTime': '1700', 'category': 'WAV', 'fcstDate': '20240219', 'fcstTime': '0300', 'fcstValue': '0.5', 'nx': 48, 'ny': 36}, {'baseDate': '20240218', 'baseTime': '1700', 'category': 'PCP', 'fcstDate': '20240219', 'fcstTime': '0300', 'fcstValue': '6.0mm', 'nx': 48, 'ny': 36}, {'baseDate': '20240218', 'baseTime': '1700', 'category': 'REH', 'fcstDate': '20240219', 'fcstTime': '0300', 'fcstValue': '90', 'nx': 48, 'ny': 36}, {'baseDate': '20240218', 'baseTime': '1700', 'category': 'SNO', 'fcstDate': '20240219', 'fcstTime': '0300', 'fcstValue': '적설없음', 'nx': 48, 'ny': 36}, {'baseDate': '20240218', 'baseTime': '1700', 'category': 'TMP', 'fcstDate': '20240219', 'fcstTime': '0400', 'fcstValue': '17', 'nx': 48, 'ny': 36}, {'baseDate': '20240218', 'baseTime': '1700', 'category': 'UUU', 'fcstDate': '20240219', 'fcstTime': '0400', 'fcstValue': '1.2', 'nx': 48, 'ny': 36}, {'baseDate': '20240218', 'baseTime': '1700', 'category': 'VVV', 'fcstDate': '20240219', 'fcstTime': '0400', 'fcstValue': '9', 'nx': 48, 'ny': 36}, {'baseDate': '20240218', 'baseTime': '1700', 'category': 'VEC', 'fcstDate': '20240219', 'fcstTime': '0400', 'fcstValue': '188', 'nx': 48, 'ny': 36}, {'baseDate': '20240218', 'baseTime': '1700', 'category': 'WSD', 'fcstDate': '20240219', 'fcstTime': '0400', 'fcstValue': '9.1', 'nx': 48, 'ny': 36}, {'baseDate': '20240218', 'baseTime': '1700', 'category': 'SKY', 'fcstDate': '20240219', 'fcstTime': '0400', 'fcstValue': '4', 'nx': 48, 'ny': 36}, {'baseDate': '20240218', 'baseTime': '1700', 'category': 'PTY', 'fcstDate': '20240219', 'fcstTime': '0400', 'fcstValue': '1', 'nx': 48, 'ny': 36}, {'baseDate': '20240218', 'baseTime': '1700', 'category': 'POP', 'fcstDate': '20240219', 'fcstTime': '0400', 'fcstValue': '60', 'nx': 48, 'ny': 36}, {'baseDate': '20240218', 'baseTime': '1700', 'category': 'WAV', 'fcstDate': '20240219', 'fcstTime': '0400', 'fcstValue': '0.5', 'nx': 48, 'ny': 36}, {'baseDate': '20240218', 'baseTime': '1700', 'category': 'PCP', 'fcstDate': '20240219', 'fcstTime': '0400', 'fcstValue': '3.0mm', 'nx': 48, 'ny': 36}, {'baseDate': '20240218', 'baseTime': '1700', 'category': 'REH', 'fcstDate': '20240219', 'fcstTime': '0400', 'fcstValue': '90', 'nx': 48, 'ny': 36}, {'baseDate': '20240218', 'baseTime': '1700', 'category': 'SNO', 'fcstDate': '20240219', 'fcstTime': '0400', 'fcstValue': '적설없음', 'nx': 48, 'ny': 36}, {'baseDate': '20240218', 'baseTime': '1700', 'category': 'TMP', 'fcstDate': '20240219', 'fcstTime': '0500', 'fcstValue': '17', 'nx': 48, 'ny': 36}, {'baseDate': '20240218', 'baseTime': '1700', 'category': 'UUU', 'fcstDate': '20240219', 'fcstTime': '0500', 'fcstValue': '0.8', 'nx': 48, 'ny': 36}, {'baseDate': '20240218', 'baseTime': '1700', 'category': 'VVV', 'fcstDate': '20240219', 'fcstTime': '0500', 'fcstValue': '8.7', 'nx': 48, 'ny': 36}, {'baseDate': '20240218', 'baseTime': '1700', 'category': 'VEC', 'fcstDate': '20240219', 'fcstTime': '0500', 'fcstValue': '185', 'nx': 48, 'ny': 36}, {'baseDate': '20240218', 'baseTime': '1700', 'category': 'WSD', 'fcstDate': '20240219', 'fcstTime': '0500', 'fcstValue': '8.7', 'nx': 48, 'ny': 36}, {'baseDate': '20240218', 'baseTime': '1700', 'category': 'SKY', 'fcstDate': '20240219', 'fcstTime': '0500', 'fcstValue': '4', 'nx': 48, 'ny': 36}, {'baseDate': '20240218', 'baseTime': '1700', 'category': 'PTY', 'fcstDate': '20240219', 'fcstTime': '0500', 'fcstValue': '1', 'nx': 48, 'ny': 36}, {'baseDate': '20240218', 'baseTime': '1700', 'category': 'POP', 'fcstDate': '20240219', 'fcstTime': '0500', 'fcstValue': '60', 'nx': 48, 'ny': 36}, {'baseDate': '20240218', 'baseTime': '1700', 'category': 'WAV', 'fcstDate': '20240219', 'fcstTime': '0500', 'fcstValue': '0.5', 'nx': 48, 'ny': 36}, {'baseDate': '20240218', 'baseTime': '1700', 'category': 'PCP', 'fcstDate': '20240219', 'fcstTime': '0500', 'fcstValue': '3.0mm', 'nx': 48, 'ny': 36}, {'baseDate': '20240218', 'baseTime': '1700', 'category': 'REH', 'fcstDate': '20240219', 'fcstTime': '0500', 'fcstValue': '95', 'nx': 48, 'ny': 36}, {'baseDate': '20240218', 'baseTime': '1700', 'category': 'SNO', 'fcstDate': '20240219', 'fcstTime': '0500', 'fcstValue': '적설없음', 'nx': 48, 'ny': 36}, {'baseDate': '20240218', 'baseTime': '1700', 'category': 'TMP', 'fcstDate': '20240219', 'fcstTime': '0600', 'fcstValue': '17', 'nx': 48, 'ny': 36}, {'baseDate': '20240218', 'baseTime': '1700', 'category': 'UUU', 'fcstDate': '20240219', 'fcstTime': '0600', 'fcstValue': '2.8', 'nx': 48, 'ny': 36}, {'baseDate': '20240218', 'baseTime': '1700', 'category': 'VVV', 'fcstDate': '20240219', 'fcstTime': '0600', 'fcstValue': '7.4', 'nx': 48, 'ny': 36}, {'baseDate': '20240218', 'baseTime': '1700', 'category': 'VEC', 'fcstDate': '20240219', 'fcstTime': '0600', 'fcstValue': '201', 'nx': 48, 'ny': 36}, {'baseDate': '20240218', 'baseTime': '1700', 'category': 'WSD', 'fcstDate': '20240219', 'fcstTime': '0600', 'fcstValue': '7.9', 'nx': 48, 'ny': 36}, {'baseDate': '20240218', 'baseTime': '1700', 'category': 'SKY', 'fcstDate': '20240219', 'fcstTime': '0600', 'fcstValue': '4', 'nx': 48, 'ny': 36}, {'baseDate': '20240218', 'baseTime': '1700', 'category': 'PTY', 'fcstDate': '20240219', 'fcstTime': '0600', 'fcstValue': '1', 'nx': 48, 'ny': 36}, {'baseDate': '20240218', 'baseTime': '1700', 'category': 'POP', 'fcstDate': '20240219', 'fcstTime': '0600', 'fcstValue': '60', 'nx': 48, 'ny': 36}, {'baseDate': '20240218', 'baseTime': '1700', 'category': 'WAV', 'fcstDate': '20240219', 'fcstTime': '0600', 'fcstValue': '0.5', 'nx': 48, 'ny': 36}, {'baseDate': '20240218', 'baseTime': '1700', 'category': 'PCP', 'fcstDate': '20240219', 'fcstTime': '0600', 'fcstValue': '3.0mm', 'nx': 48, 'ny': 36}, {'baseDate': '20240218', 'baseTime': '1700', 'category': 'REH', 'fcstDate': '20240219', 'fcstTime': '0600', 'fcstValue': '95', 'nx': 48, 'ny': 36}, {'baseDate': '20240218', 'baseTime': '1700', 'category': 'SNO', 'fcstDate': '20240219', 'fcstTime': '0600', 'fcstValue': '적설없음', 'nx': 48, 'ny': 36}, {'baseDate': '20240218', 'baseTime': '1700', 'category': 'TMN', 'fcstDate': '20240219', 'fcstTime': '0600', 'fcstValue': '16.0', 'nx': 48, 'ny': 36}, {'baseDate': '20240218', 'baseTime': '1700', 'category': 'TMP', 'fcstDate': '20240219', 'fcstTime': '0700', 'fcstValue': '17', 'nx': 48, 'ny': 36}, {'baseDate': '20240218', 'baseTime': '1700', 'category': 'UUU', 'fcstDate': '20240219', 'fcstTime': '0700', 'fcstValue': '3.4', 'nx': 48, 'ny': 36}, {'baseDate': '20240218', 'baseTime': '1700', 'category': 'VVV', 'fcstDate': '20240219', 'fcstTime': '0700', 'fcstValue': '6.5', 'nx': 48, 'ny': 36}, {'baseDate': '20240218', 'baseTime': '1700', 'category': 'VEC', 'fcstDate': '20240219', 'fcstTime': '0700', 'fcstValue': '208', 'nx': 48, 'ny': 36}, {'baseDate': '20240218', 'baseTime': '1700', 'category': 'WSD', 'fcstDate': '20240219', 'fcstTime': '0700', 'fcstValue': '7.3', 'nx': 48, 'ny': 36}, {'baseDate': '20240218', 'baseTime': '1700', 'category': 'SKY', 'fcstDate': '20240219', 'fcstTime': '0700', 'fcstValue': '4', 'nx': 48, 'ny': 36}, {'baseDate': '20240218', 'baseTime': '1700', 'category': 'PTY', 'fcstDate': '20240219', 'fcstTime': '0700', 'fcstValue': '1', 'nx': 48, 'ny': 36}, {'baseDate': '20240218', 'baseTime': '1700', 'category': 'POP', 'fcstDate': '20240219', 'fcstTime': '0700', 'fcstValue': '60', 'nx': 48, 'ny': 36}, {'baseDate': '20240218', 'baseTime': '1700', 'category': 'WAV', 'fcstDate': '20240219', 'fcstTime': '0700', 'fcstValue': '0.5', 'nx': 48, 'ny': 36}, {'baseDate': '20240218', 'baseTime': '1700', 'category': 'PCP', 'fcstDate': '20240219', 'fcstTime': '0700', 'fcstValue': '2.0mm', 'nx': 48, 'ny': 36}, {'baseDate': '20240218', 'baseTime': '1700', 'category': 'REH', 'fcstDate': '20240219', 'fcstTime': '0700', 'fcstValue': '95', 'nx': 48, 'ny': 36}, {'baseDate': '20240218', 'baseTime': '1700', 'category': 'SNO', 'fcstDate': '20240219', 'fcstTime': '0700', 'fcstValue': '적설없음', 'nx': 48, 'ny': 36}, {'baseDate': '20240218', 'baseTime': '1700', 'category': 'TMP', 'fcstDate': '20240219', 'fcstTime': '0800', 'fcstValue': '16', 'nx': 48, 'ny': 36}, {'baseDate': '20240218', 'baseTime': '1700', 'category': 'UUU', 'fcstDate': '20240219', 'fcstTime': '0800', 'fcstValue': '3.6', 'nx': 48, 'ny': 36}, {'baseDate': '20240218', 'baseTime': '1700', 'category': 'VVV', 'fcstDate': '20240219', 'fcstTime': '0800', 'fcstValue': '5.7', 'nx': 48, 'ny': 36}, {'baseDate': '20240218', 'baseTime': '1700', 'category': 'VEC', 'fcstDate': '20240219', 'fcstTime': '0800', 'fcstValue': '212', 'nx': 48, 'ny': 36}, {'baseDate': '20240218', 'baseTime': '1700', 'category': 'WSD', 'fcstDate': '20240219', 'fcstTime': '0800', 'fcstValue': '6.7', 'nx': 48, 'ny': 36}, {'baseDate': '20240218', 'baseTime': '1700', 'category': 'SKY', 'fcstDate': '20240219', 'fcstTime': '0800', 'fcstValue': '4', 'nx': 48, 'ny': 36}, {'baseDate': '20240218', 'baseTime': '1700', 'category': 'PTY', 'fcstDate': '20240219', 'fcstTime': '0800', 'fcstValue': '1', 'nx': 48, 'ny': 36}, {'baseDate': '20240218', 'baseTime': '1700', 'category': 'POP', 'fcstDate': '20240219', 'fcstTime': '0800', 'fcstValue': '60', 'nx': 48, 'ny': 36}, {'baseDate': '20240218', 'baseTime': '1700', 'category': 'WAV', 'fcstDate': '20240219', 'fcstTime': '0800', 'fcstValue': '0.5', 'nx': 48, 'ny': 36}, {'baseDate': '20240218', 'baseTime': '1700', 'category': 'PCP', 'fcstDate': '20240219', 'fcstTime': '0800', 'fcstValue': '2.0mm', 'nx': 48, 'ny': 36}, {'baseDate': '20240218', 'baseTime': '1700', 'category': 'REH', 'fcstDate': '20240219', 'fcstTime': '0800', 'fcstValue': '100', 'nx': 48, 'ny': 36}, {'baseDate': '20240218', 'baseTime': '1700', 'category': 'SNO', 'fcstDate': '20240219', 'fcstTime': '0800', 'fcstValue': '적설없음', 'nx': 48, 'ny': 36}, {'baseDate': '20240218', 'baseTime': '1700', 'category': 'TMP', 'fcstDate': '20240219', 'fcstTime': '0900', 'fcstValue': '16', 'nx': 48, 'ny': 36}, {'baseDate': '20240218', 'baseTime': '1700', 'category': 'UUU', 'fcstDate': '20240219', 'fcstTime': '0900', 'fcstValue': '2.7', 'nx': 48, 'ny': 36}, {'baseDate': '20240218', 'baseTime': '1700', 'category': 'VVV', 'fcstDate': '20240219', 'fcstTime': '0900', 'fcstValue': '5.3', 'nx': 48, 'ny': 36}, {'baseDate': '20240218', 'baseTime': '1700', 'category': 'VEC', 'fcstDate': '20240219', 'fcstTime': '0900', 'fcstValue': '207', 'nx': 48, 'ny': 36}, {'baseDate': '20240218', 'baseTime': '1700', 'category': 'WSD', 'fcstDate': '20240219', 'fcstTime': '0900', 'fcstValue': '5.9', 'nx': 48, 'ny': 36}, {'baseDate': '20240218', 'baseTime': '1700', 'category': 'SKY', 'fcstDate': '20240219', 'fcstTime': '0900', 'fcstValue': '4', 'nx': 48, 'ny': 36}, {'baseDate': '20240218', 'baseTime': '1700', 'category': 'PTY', 'fcstDate': '20240219', 'fcstTime': '0900', 'fcstValue': '1', 'nx': 48, 'ny': 36}, {'baseDate': '20240218', 'baseTime': '1700', 'category': 'POP', 'fcstDate': '20240219', 'fcstTime': '0900', 'fcstValue': '60', 'nx': 48, 'ny': 36}, {'baseDate': '20240218', 'baseTime': '1700', 'category': 'WAV', 'fcstDate': '20240219', 'fcstTime': '0900', 'fcstValue': '0.5', 'nx': 48, 'ny': 36}, {'baseDate': '20240218', 'baseTime': '1700', 'category': 'PCP', 'fcstDate': '20240219', 'fcstTime': '0900', 'fcstValue': '2.0mm', 'nx': 48, 'ny': 36}, {'baseDate': '20240218', 'baseTime': '1700', 'category': 'REH', 'fcstDate': '20240219', 'fcstTime': '0900', 'fcstValue': '95', 'nx': 48, 'ny': 36}, {'baseDate': '20240218', 'baseTime': '1700', 'category': 'SNO', 'fcstDate': '20240219', 'fcstTime': '0900', 'fcstValue': '적설없음', 'nx': 48, 'ny': 36}, {'baseDate': '20240218', 'baseTime': '1700', 'category': 'TMP', 'fcstDate': '20240219', 'fcstTime': '1000', 'fcstValue': '16', 'nx': 48, 'ny': 36}, {'baseDate': '20240218', 'baseTime': '1700', 'category': 'UUU', 'fcstDate': '20240219', 'fcstTime': '1000', 'fcstValue': '3.3', 'nx': 48, 'ny': 36}, {'baseDate': '20240218', 'baseTime': '1700', 'category': 'VVV', 'fcstDate': '20240219', 'fcstTime': '1000', 'fcstValue': '4.1', 'nx': 48, 'ny': 36}, {'baseDate': '20240218', 'baseTime': '1700', 'category': 'VEC', 'fcstDate': '20240219', 'fcstTime': '1000', 'fcstValue': '219', 'nx': 48, 'ny': 36}, {'baseDate': '20240218', 'baseTime': '1700', 'category': 'WSD', 'fcstDate': '20240219', 'fcstTime': '1000', 'fcstValue': '5.3', 'nx': 48, 'ny': 36}, {'baseDate': '20240218', 'baseTime': '1700', 'category': 'SKY', 'fcstDate': '20240219', 'fcstTime': '1000', 'fcstValue': '4', 'nx': 48, 'ny': 36}, {'baseDate': '20240218', 'baseTime': '1700', 'category': 'PTY', 'fcstDate': '20240219', 'fcstTime': '1000', 'fcstValue': '1', 'nx': 48, 'ny': 36}, {'baseDate': '20240218', 'baseTime': '1700', 'category': 'POP', 'fcstDate': '20240219', 'fcstTime': '1000', 'fcstValue': '60', 'nx': 48, 'ny': 36}, {'baseDate': '20240218', 'baseTime': '1700', 'category': 'WAV', 'fcstDate': '20240219', 'fcstTime': '1000', 'fcstValue': '0.5', 'nx': 48, 'ny': 36}, {'baseDate': '20240218', 'baseTime': '1700', 'category': 'PCP', 'fcstDate': '20240219', 'fcstTime': '1000', 'fcstValue': '1mm 미만', 'nx': 48, 'ny': 36}, {'baseDate': '20240218', 'baseTime': '1700', 'category': 'REH', 'fcstDate': '20240219', 'fcstTime': '1000', 'fcstValue': '95', 'nx': 48, 'ny': 36}, {'baseDate': '20240218', 'baseTime': '1700', 'category': 'SNO', 'fcstDate': '20240219', 'fcstTime': '1000', 'fcstValue': '적설없음', 'nx': 48, 'ny': 36}, {'baseDate': '20240218', 'baseTime': '1700', 'category': 'TMP', 'fcstDate': '20240219', 'fcstTime': '1100', 'fcstValue': '15', 'nx': 48, 'ny': 36}, {'baseDate': '20240218', 'baseTime': '1700', 'category': 'UUU', 'fcstDate': '20240219', 'fcstTime': '1100', 'fcstValue': '3.6', 'nx': 48, 'ny': 36}, {'baseDate': '20240218', 'baseTime': '1700', 'category': 'VVV', 'fcstDate': '20240219', 'fcstTime': '1100', 'fcstValue': '3.5', 'nx': 48, 'ny': 36}, {'baseDate': '20240218', 'baseTime': '1700', 'category': 'VEC', 'fcstDate': '20240219', 'fcstTime': '1100', 'fcstValue': '226', 'nx': 48, 'ny': 36}, {'baseDate': '20240218', 'baseTime': '1700', 'category': 'WSD', 'fcstDate': '20240219', 'fcstTime': '1100', 'fcstValue': '5', 'nx': 48, 'ny': 36}, {'baseDate': '20240218', 'baseTime': '1700', 'category': 'SKY', 'fcstDate': '20240219', 'fcstTime': '1100', 'fcstValue': '4', 'nx': 48, 'ny': 36}, {'baseDate': '20240218', 'baseTime': '1700', 'category': 'PTY', 'fcstDate': '20240219', 'fcstTime': '1100', 'fcstValue': '1', 'nx': 48, 'ny': 36}, {'baseDate': '20240218', 'baseTime': '1700', 'category': 'POP', 'fcstDate': '20240219', 'fcstTime': '1100', 'fcstValue': '60', 'nx': 48, 'ny': 36}, {'baseDate': '20240218', 'baseTime': '1700', 'category': 'WAV', 'fcstDate': '20240219', 'fcstTime': '1100', 'fcstValue': '0.5', 'nx': 48, 'ny': 36}, {'baseDate': '20240218', 'baseTime': '1700', 'category': 'PCP', 'fcstDate': '20240219', 'fcstTime': '1100', 'fcstValue': '1mm 미만', 'nx': 48, 'ny': 36}, {'baseDate': '20240218', 'baseTime': '1700', 'category': 'REH', 'fcstDate': '20240219', 'fcstTime': '1100', 'fcstValue': '95', 'nx': 48, 'ny': 36}, {'baseDate': '20240218', 'baseTime': '1700', 'category': 'SNO', 'fcstDate': '20240219', 'fcstTime': '1100', 'fcstValue': '적설없음', 'nx': 48, 'ny': 36}, {'baseDate': '20240218', 'baseTime': '1700', 'category': 'TMP', 'fcstDate': '20240219', 'fcstTime': '1200', 'fcstValue': '15', 'nx': 48, 'ny': 36}, {'baseDate': '20240218', 'baseTime': '1700', 'category': 'UUU', 'fcstDate': '20240219', 'fcstTime': '1200', 'fcstValue': '3.7', 'nx': 48, 'ny': 36}, {'baseDate': '20240218', 'baseTime': '1700', 'category': 'VVV', 'fcstDate': '20240219', 'fcstTime': '1200', 'fcstValue': '2.8', 'nx': 48, 'ny': 36}, {'baseDate': '20240218', 'baseTime': '1700', 'category': 'VEC', 'fcstDate': '20240219', 'fcstTime': '1200', 'fcstValue': '233', 'nx': 48, 'ny': 36}, {'baseDate': '20240218', 'baseTime': '1700', 'category': 'WSD', 'fcstDate': '20240219', 'fcstTime': '1200', 'fcstValue': '4.6', 'nx': 48, 'ny': 36}, {'baseDate': '20240218', 'baseTime': '1700', 'category': 'SKY', 'fcstDate': '20240219', 'fcstTime': '1200', 'fcstValue': '4', 'nx': 48, 'ny': 36}, {'baseDate': '20240218', 'baseTime': '1700', 'category': 'PTY', 'fcstDate': '20240219', 'fcstTime': '1200', 'fcstValue': '1', 'nx': 48, 'ny': 36}, {'baseDate': '20240218', 'baseTime': '1700', 'category': 'POP', 'fcstDate': '20240219', 'fcstTime': '1200', 'fcstValue': '60', 'nx': 48, 'ny': 36}, {'baseDate': '20240218', 'baseTime': '1700', 'category': 'WAV', 'fcstDate': '20240219', 'fcstTime': '1200', 'fcstValue': '0.5', 'nx': 48, 'ny': 36}, {'baseDate': '20240218', 'baseTime': '1700', 'category': 'PCP', 'fcstDate': '20240219', 'fcstTime': '1200', 'fcstValue': '1mm 미만', 'nx': 48, 'ny': 36}, {'baseDate': '20240218', 'baseTime': '1700', 'category': 'REH', 'fcstDate': '20240219', 'fcstTime': '1200', 'fcstValue': '95', 'nx': 48, 'ny': 36}, {'baseDate': '20240218', 'baseTime': '1700', 'category': 'SNO', 'fcstDate': '20240219', 'fcstTime': '1200', 'fcstValue': '적설없음', 'nx': 48, 'ny': 36}, {'baseDate': '20240218', 'baseTime': '1700', 'category': 'TMP', 'fcstDate': '20240219', 'fcstTime': '1300', 'fcstValue': '16', 'nx': 48, 'ny': 36}, {'baseDate': '20240218', 'baseTime': '1700', 'category': 'UUU', 'fcstDate': '20240219', 'fcstTime': '1300', 'fcstValue': '4.3', 'nx': 48, 'ny': 36}, {'baseDate': '20240218', 'baseTime': '1700', 'category': 'VVV', 'fcstDate': '20240219', 'fcstTime': '1300', 'fcstValue': '1.7', 'nx': 48, 'ny': 36}, {'baseDate': '20240218', 'baseTime': '1700', 'category': 'VEC', 'fcstDate': '20240219', 'fcstTime': '1300', 'fcstValue': '248', 'nx': 48, 'ny': 36}, {'baseDate': '20240218', 'baseTime': '1700', 'category': 'WSD', 'fcstDate': '20240219', 'fcstTime': '1300', 'fcstValue': '4.6', 'nx': 48, 'ny': 36}, {'baseDate': '20240218', 'baseTime': '1700', 'category': 'SKY', 'fcstDate': '20240219', 'fcstTime': '1300', 'fcstValue': '4', 'nx': 48, 'ny': 36}, {'baseDate': '20240218', 'baseTime': '1700', 'category': 'PTY', 'fcstDate': '20240219', 'fcstTime': '1300', 'fcstValue': '0', 'nx': 48, 'ny': 36}, {'baseDate': '20240218', 'baseTime': '1700', 'category': 'POP', 'fcstDate': '20240219', 'fcstTime': '1300', 'fcstValue': '30', 'nx': 48, 'ny': 36}, {'baseDate': '20240218', 'baseTime': '1700', 'category': 'WAV', 'fcstDate': '20240219', 'fcstTime': '1300', 'fcstValue': '0.5', 'nx': 48, 'ny': 36}, {'baseDate': '20240218', 'baseTime': '1700', 'category': 'PCP', 'fcstDate': '20240219', 'fcstTime': '1300', 'fcstValue': '강수없음', 'nx': 48, 'ny': 36}, {'baseDate': '20240218', 'baseTime': '1700', 'category': 'REH', 'fcstDate': '20240219', 'fcstTime': '1300', 'fcstValue': '95', 'nx': 48, 'ny': 36}, {'baseDate': '20240218', 'baseTime': '1700', 'category': 'SNO', 'fcstDate': '20240219', 'fcstTime': '1300', 'fcstValue': '적설없음', 'nx': 48, 'ny': 36}, {'baseDate': '20240218', 'baseTime': '1700', 'category': 'TMP', 'fcstDate': '20240219', 'fcstTime': '1400', 'fcstValue': '15', 'nx': 48, 'ny': 36}, {'baseDate': '20240218', 'baseTime': '1700', 'category': 'UUU', 'fcstDate': '20240219', 'fcstTime': '1400', 'fcstValue': '4.3', 'nx': 48, 'ny': 36}, {'baseDate': '20240218', 'baseTime': '1700', 'category': 'VVV', 'fcstDate': '20240219', 'fcstTime': '1400', 'fcstValue': '0.9', 'nx': 48, 'ny': 36}, {'baseDate': '20240218', 'baseTime': '1700', 'category': 'VEC', 'fcstDate': '20240219', 'fcstTime': '1400', 'fcstValue': '258', 'nx': 48, 'ny': 36}, {'baseDate': '20240218', 'baseTime': '1700', 'category': 'WSD', 'fcstDate': '20240219', 'fcstTime': '1400', 'fcstValue': '4.4', 'nx': 48, 'ny': 36}, {'baseDate': '20240218', 'baseTime': '1700', 'category': 'SKY', 'fcstDate': '20240219', 'fcstTime': '1400', 'fcstValue': '4', 'nx': 48, 'ny': 36}, {'baseDate': '20240218', 'baseTime': '1700', 'category': 'PTY', 'fcstDate': '20240219', 'fcstTime': '1400', 'fcstValue': '1', 'nx': 48, 'ny': 36}, {'baseDate': '20240218', 'baseTime': '1700', 'category': 'POP', 'fcstDate': '20240219', 'fcstTime': '1400', 'fcstValue': '60', 'nx': 48, 'ny': 36}, {'baseDate': '20240218', 'baseTime': '1700', 'category': 'WAV', 'fcstDate': '20240219', 'fcstTime': '1400', 'fcstValue': '0.5', 'nx': 48, 'ny': 36}, {'baseDate': '20240218', 'baseTime': '1700', 'category': 'PCP', 'fcstDate': '20240219', 'fcstTime': '1400', 'fcstValue': '1mm 미만', 'nx': 48, 'ny': 36}, {'baseDate': '20240218', 'baseTime': '1700', 'category': 'REH', 'fcstDate': '20240219', 'fcstTime': '1400', 'fcstValue': '95', 'nx': 48, 'ny': 36}, {'baseDate': '20240218', 'baseTime': '1700', 'category': 'SNO', 'fcstDate': '20240219', 'fcstTime': '1400', 'fcstValue': '적설없음', 'nx': 48, 'ny': 36}, {'baseDate': '20240218', 'baseTime': '1700', 'category': 'TMP', 'fcstDate': '20240219', 'fcstTime': '1500', 'fcstValue': '15', 'nx': 48, 'ny': 36}, {'baseDate': '20240218', 'baseTime': '1700', 'category': 'UUU', 'fcstDate': '20240219', 'fcstTime': '1500', 'fcstValue': '4.1', 'nx': 48, 'ny': 36}, {'baseDate': '20240218', 'baseTime': '1700', 'category': 'VVV', 'fcstDate': '20240219', 'fcstTime': '1500', 'fcstValue': '-0.6', 'nx': 48, 'ny': 36}, {'baseDate': '20240218', 'baseTime': '1700', 'category': 'VEC', 'fcstDate': '20240219', 'fcstTime': '1500', 'fcstValue': '278', 'nx': 48, 'ny': 36}, {'baseDate': '20240218', 'baseTime': '1700', 'category': 'WSD', 'fcstDate': '20240219', 'fcstTime': '1500', 'fcstValue': '4.1', 'nx': 48, 'ny': 36}, {'baseDate': '20240218', 'baseTime': '1700', 'category': 'SKY', 'fcstDate': '20240219', 'fcstTime': '1500', 'fcstValue': '4', 'nx': 48, 'ny': 36}, {'baseDate': '20240218', 'baseTime': '1700', 'category': 'PTY', 'fcstDate': '20240219', 'fcstTime': '1500', 'fcstValue': '0', 'nx': 48, 'ny': 36}, {'baseDate': '20240218', 'baseTime': '1700', 'category': 'POP', 'fcstDate': '20240219', 'fcstTime': '1500', 'fcstValue': '30', 'nx': 48, 'ny': 36}, {'baseDate': '20240218', 'baseTime': '1700', 'category': 'WAV', 'fcstDate': '20240219', 'fcstTime': '1500', 'fcstValue': '0.5', 'nx': 48, 'ny': 36}, {'baseDate': '20240218', 'baseTime': '1700', 'category': 'PCP', 'fcstDate': '20240219', 'fcstTime': '1500', 'fcstValue': '강수없음', 'nx': 48, 'ny': 36}, {'baseDate': '20240218', 'baseTime': '1700', 'category': 'REH', 'fcstDate': '20240219', 'fcstTime': '1500', 'fcstValue': '95', 'nx': 48, 'ny': 36}, {'baseDate': '20240218', 'baseTime': '1700', 'category': 'SNO', 'fcstDate': '20240219', 'fcstTime': '1500', 'fcstValue': '적설없음', 'nx': 48, 'ny': 36}, {'baseDate': '20240218', 'baseTime': '1700', 'category': 'TMX', 'fcstDate': '20240219', 'fcstTime': '1500', 'fcstValue': '18.0', 'nx': 48, 'ny': 36}, {'baseDate': '20240218', 'baseTime': '1700', 'category': 'TMP', 'fcstDate': '20240219', 'fcstTime': '1600', 'fcstValue': '14', 'nx': 48, 'ny': 36}, {'baseDate': '20240218', 'baseTime': '1700', 'category': 'UUU', 'fcstDate': '20240219', 'fcstTime': '1600', 'fcstValue': '3', 'nx': 48, 'ny': 36}, {'baseDate': '20240218', 'baseTime': '1700', 'category': 'VVV', 'fcstDate': '20240219', 'fcstTime': '1600', 'fcstValue': '-2.1', 'nx': 48, 'ny': 36}, {'baseDate': '20240218', 'baseTime': '1700', 'category': 'VEC', 'fcstDate': '20240219', 'fcstTime': '1600', 'fcstValue': '305', 'nx': 48, 'ny': 36}, {'baseDate': '20240218', 'baseTime': '1700', 'category': 'WSD', 'fcstDate': '20240219', 'fcstTime': '1600', 'fcstValue': '3.7', 'nx': 48, 'ny': 36}, {'baseDate': '20240218', 'baseTime': '1700', 'category': 'SKY', 'fcstDate': '20240219', 'fcstTime': '1600', 'fcstValue': '4', 'nx': 48, 'ny': 36}, {'baseDate': '20240218', 'baseTime': '1700', 'category': 'PTY', 'fcstDate': '20240219', 'fcstTime': '1600', 'fcstValue': '0', 'nx': 48, 'ny': 36}, {'baseDate': '20240218', 'baseTime': '1700', 'category': 'POP', 'fcstDate': '20240219', 'fcstTime': '1600', 'fcstValue': '30', 'nx': 48, 'ny': 36}, {'baseDate': '20240218', 'baseTime': '1700', 'category': 'WAV', 'fcstDate': '20240219', 'fcstTime': '1600', 'fcstValue': '0.5', 'nx': 48, 'ny': 36}, {'baseDate': '20240218', 'baseTime': '1700', 'category': 'PCP', 'fcstDate': '20240219', 'fcstTime': '1600', 'fcstValue': '강수없음', 'nx': 48, 'ny': 36}, {'baseDate': '20240218', 'baseTime': '1700', 'category': 'REH', 'fcstDate': '20240219', 'fcstTime': '1600', 'fcstValue': '95', 'nx': 48, 'ny': 36}, {'baseDate': '20240218', 'baseTime': '1700', 'category': 'SNO', 'fcstDate': '20240219', 'fcstTime': '1600', 'fcstValue': '적설없음', 'nx': 48, 'ny': 36}, {'baseDate': '20240218', 'baseTime': '1700', 'category': 'TMP', 'fcstDate': '20240219', 'fcstTime': '1700', 'fcstValue': '14', 'nx': 48, 'ny': 36}, {'baseDate': '20240218', 'baseTime': '1700', 'category': 'UUU', 'fcstDate': '20240219', 'fcstTime': '1700', 'fcstValue': '3', 'nx': 48, 'ny': 36}, {'baseDate': '20240218', 'baseTime': '1700', 'category': 'VVV', 'fcstDate': '20240219', 'fcstTime': '1700', 'fcstValue': '-3.8', 'nx': 48, 'ny': 36}, {'baseDate': '20240218', 'baseTime': '1700', 'category': 'VEC', 'fcstDate': '20240219', 'fcstTime': '1700', 'fcstValue': '322', 'nx': 48, 'ny': 36}, {'baseDate': '20240218', 'baseTime': '1700', 'category': 'WSD', 'fcstDate': '20240219', 'fcstTime': '1700', 'fcstValue': '4.8', 'nx': 48, 'ny': 36}, {'baseDate': '20240218', 'baseTime': '1700', 'category': 'SKY', 'fcstDate': '20240219', 'fcstTime': '1700', 'fcstValue': '4', 'nx': 48, 'ny': 36}, {'baseDate': '20240218', 'baseTime': '1700', 'category': 'PTY', 'fcstDate': '20240219', 'fcstTime': '1700', 'fcstValue': '0', 'nx': 48, 'ny': 36}, {'baseDate': '20240218', 'baseTime': '1700', 'category': 'POP', 'fcstDate': '20240219', 'fcstTime': '1700', 'fcstValue': '30', 'nx': 48, 'ny': 36}, {'baseDate': '20240218', 'baseTime': '1700', 'category': 'WAV', 'fcstDate': '20240219', 'fcstTime': '1700', 'fcstValue': '0.5', 'nx': 48, 'ny': 36}, {'baseDate': '20240218', 'baseTime': '1700', 'category': 'PCP', 'fcstDate': '20240219', 'fcstTime': '1700', 'fcstValue': '강수없음', 'nx': 48, 'ny': 36}, {'baseDate': '20240218', 'baseTime': '1700', 'category': 'REH', 'fcstDate': '20240219', 'fcstTime': '1700', 'fcstValue': '95', 'nx': 48, 'ny': 36}, {'baseDate': '20240218', 'baseTime': '1700', 'category': 'SNO', 'fcstDate': '20240219', 'fcstTime': '1700', 'fcstValue': '적설없음', 'nx': 48, 'ny': 36}, {'baseDate': '20240218', 'baseTime': '1700', 'category': 'TMP', 'fcstDate': '20240219', 'fcstTime': '1800', 'fcstValue': '13', 'nx': 48, 'ny': 36}, {'baseDate': '20240218', 'baseTime': '1700', 'category': 'UUU', 'fcstDate': '20240219', 'fcstTime': '1800', 'fcstValue': '2.9', 'nx': 48, 'ny': 36}, {'baseDate': '20240218', 'baseTime': '1700', 'category': 'VVV', 'fcstDate': '20240219', 'fcstTime': '1800', 'fcstValue': '-5.5', 'nx': 48, 'ny': 36}, {'baseDate': '20240218', 'baseTime': '1700', 'category': 'VEC', 'fcstDate': '20240219', 'fcstTime': '1800', 'fcstValue': '332', 'nx': 48, 'ny': 36}, {'baseDate': '20240218', 'baseTime': '1700', 'category': 'WSD', 'fcstDate': '20240219', 'fcstTime': '1800', 'fcstValue': '6.2', 'nx': 48, 'ny': 36}, {'baseDate': '20240218', 'baseTime': '1700', 'category': 'SKY', 'fcstDate': '20240219', 'fcstTime': '1800', 'fcstValue': '4', 'nx': 48, 'ny': 36}, {'baseDate': '20240218', 'baseTime': '1700', 'category': 'PTY', 'fcstDate': '20240219', 'fcstTime': '1800', 'fcstValue': '0', 'nx': 48, 'ny': 36}, {'baseDate': '20240218', 'baseTime': '1700', 'category': 'POP', 'fcstDate': '20240219', 'fcstTime': '1800', 'fcstValue': '30', 'nx': 48, 'ny': 36}, {'baseDate': '20240218', 'baseTime': '1700', 'category': 'WAV', 'fcstDate': '20240219', 'fcstTime': '1800', 'fcstValue': '0.5', 'nx': 48, 'ny': 36}, {'baseDate': '20240218', 'baseTime': '1700', 'category': 'PCP', 'fcstDate': '20240219', 'fcstTime': '1800', 'fcstValue': '강수없음', 'nx': 48, 'ny': 36}, {'baseDate': '20240218', 'baseTime': '1700', 'category': 'REH', 'fcstDate': '20240219', 'fcstTime': '1800', 'fcstValue': '95', 'nx': 48, 'ny': 36}, {'baseDate': '20240218', 'baseTime': '1700', 'category': 'SNO', 'fcstDate': '20240219', 'fcstTime': '1800', 'fcstValue': '적설없음', 'nx': 48, 'ny': 36}, {'baseDate': '20240218', 'baseTime': '1700', 'category': 'TMP', 'fcstDate': '20240219', 'fcstTime': '1900', 'fcstValue': '12', 'nx': 48, 'ny': 36}, {'baseDate': '20240218', 'baseTime': '1700', 'category': 'UUU', 'fcstDate': '20240219', 'fcstTime': '1900', 'fcstValue': '1.3', 'nx': 48, 'ny': 36}, {'baseDate': '20240218', 'baseTime': '1700', 'category': 'VVV', 'fcstDate': '20240219', 'fcstTime': '1900', 'fcstValue': '-6.6', 'nx': 48, 'ny': 36}, {'baseDate': '20240218', 'baseTime': '1700', 'category': 'VEC', 'fcstDate': '20240219', 'fcstTime': '1900', 'fcstValue': '349', 'nx': 48, 'ny': 36}, {'baseDate': '20240218', 'baseTime': '1700', 'category': 'WSD', 'fcstDate': '20240219', 'fcstTime': '1900', 'fcstValue': '6.7', 'nx': 48, 'ny': 36}, {'baseDate': '20240218', 'baseTime': '1700', 'category': 'SKY', 'fcstDate': '20240219', 'fcstTime': '1900', 'fcstValue': '4', 'nx': 48, 'ny': 36}, {'baseDate': '20240218', 'baseTime': '1700', 'category': 'PTY', 'fcstDate': '20240219', 'fcstTime': '1900', 'fcstValue': '0', 'nx': 48, 'ny': 36}, {'baseDate': '20240218', 'baseTime': '1700', 'category': 'POP', 'fcstDate': '20240219', 'fcstTime': '1900', 'fcstValue': '30', 'nx': 48, 'ny': 36}, {'baseDate': '20240218', 'baseTime': '1700', 'category': 'WAV', 'fcstDate': '20240219', 'fcstTime': '1900', 'fcstValue': '0.5', 'nx': 48, 'ny': 36}, {'baseDate': '20240218', 'baseTime': '1700', 'category': 'PCP', 'fcstDate': '20240219', 'fcstTime': '1900', 'fcstValue': '강수없음', 'nx': 48, 'ny': 36}, {'baseDate': '20240218', 'baseTime': '1700', 'category': 'REH', 'fcstDate': '20240219', 'fcstTime': '1900', 'fcstValue': '95', 'nx': 48, 'ny': 36}, {'baseDate': '20240218', 'baseTime': '1700', 'category': 'SNO', 'fcstDate': '20240219', 'fcstTime': '1900', 'fcstValue': '적설없음', 'nx': 48, 'ny': 36}, {'baseDate': '20240218', 'baseTime': '1700', 'category': 'TMP', 'fcstDate': '20240219', 'fcstTime': '2000', 'fcstValue': '11', 'nx': 48, 'ny': 36}, {'baseDate': '20240218', 'baseTime': '1700', 'category': 'UUU', 'fcstDate': '20240219', 'fcstTime': '2000', 'fcstValue': '0.3', 'nx': 48, 'ny': 36}, {'baseDate': '20240218', 'baseTime': '1700', 'category': 'VVV', 'fcstDate': '20240219', 'fcstTime': '2000', 'fcstValue': '-6.6', 'nx': 48, 'ny': 36}, {'baseDate': '20240218', 'baseTime': '1700', 'category': 'VEC', 'fcstDate': '20240219', 'fcstTime': '2000', 'fcstValue': '357', 'nx': 48, 'ny': 36}, {'baseDate': '20240218', 'baseTime': '1700', 'category': 'WSD', 'fcstDate': '20240219', 'fcstTime': '2000', 'fcstValue': '6.6', 'nx': 48, 'ny': 36}, {'baseDate': '20240218', 'baseTime': '1700', 'category': 'SKY', 'fcstDate': '20240219', 'fcstTime': '2000', 'fcstValue': '4', 'nx': 48, 'ny': 36}, {'baseDate': '20240218', 'baseTime': '1700', 'category': 'PTY', 'fcstDate': '20240219', 'fcstTime': '2000', 'fcstValue': '0', 'nx': 48, 'ny': 36}, {'baseDate': '20240218', 'baseTime': '1700', 'category': 'POP', 'fcstDate': '20240219', 'fcstTime': '2000', 'fcstValue': '30', 'nx': 48, 'ny': 36}, {'baseDate': '20240218', 'baseTime': '1700', 'category': 'WAV', 'fcstDate': '20240219', 'fcstTime': '2000', 'fcstValue': '0.5', 'nx': 48, 'ny': 36}, {'baseDate': '20240218', 'baseTime': '1700', 'category': 'PCP', 'fcstDate': '20240219', 'fcstTime': '2000', 'fcstValue': '강수없음', 'nx': 48, 'ny': 36}, {'baseDate': '20240218', 'baseTime': '1700', 'category': 'REH', 'fcstDate': '20240219', 'fcstTime': '2000', 'fcstValue': '90', 'nx': 48, 'ny': 36}, {'baseDate': '20240218', 'baseTime': '1700', 'category': 'SNO', 'fcstDate': '20240219', 'fcstTime': '2000', 'fcstValue': '적설없음', 'nx': 48, 'ny': 36}, {'baseDate': '20240218', 'baseTime': '1700', 'category': 'TMP', 'fcstDate': '20240219', 'fcstTime': '2100', 'fcstValue': '10', 'nx': 48, 'ny': 36}, {'baseDate': '20240218', 'baseTime': '1700', 'category': 'UUU', 'fcstDate': '20240219', 'fcstTime': '2100', 'fcstValue': '0.2', 'nx': 48, 'ny': 36}, {'baseDate': '20240218', 'baseTime': '1700', 'category': 'VVV', 'fcstDate': '20240219', 'fcstTime': '2100', 'fcstValue': '-6.9', 'nx': 48, 'ny': 36}, {'baseDate': '20240218', 'baseTime': '1700', 'category': 'VEC', 'fcstDate': '20240219', 'fcstTime': '2100', 'fcstValue': '358', 'nx': 48, 'ny': 36}, {'baseDate': '20240218', 'baseTime': '1700', 'category': 'WSD', 'fcstDate': '20240219', 'fcstTime': '2100', 'fcstValue': '6.9', 'nx': 48, 'ny': 36}, {'baseDate': '20240218', 'baseTime': '1700', 'category': 'SKY', 'fcstDate': '20240219', 'fcstTime': '2100', 'fcstValue': '4', 'nx': 48, 'ny': 36}, {'baseDate': '20240218', 'baseTime': '1700', 'category': 'PTY', 'fcstDate': '20240219', 'fcstTime': '2100', 'fcstValue': '0', 'nx': 48, 'ny': 36}, {'baseDate': '20240218', 'baseTime': '1700', 'category': 'POP', 'fcstDate': '20240219', 'fcstTime': '2100', 'fcstValue': '30', 'nx': 48, 'ny': 36}, {'baseDate': '20240218', 'baseTime': '1700', 'category': 'WAV', 'fcstDate': '20240219', 'fcstTime': '2100', 'fcstValue': '0.5', 'nx': 48, 'ny': 36}, {'baseDate': '20240218', 'baseTime': '1700', 'category': 'PCP', 'fcstDate': '20240219', 'fcstTime': '2100', 'fcstValue': '강수없음', 'nx': 48, 'ny': 36}, {'baseDate': '20240218', 'baseTime': '1700', 'category': 'REH', 'fcstDate': '20240219', 'fcstTime': '2100', 'fcstValue': '90', 'nx': 48, 'ny': 36}, {'baseDate': '20240218', 'baseTime': '1700', 'category': 'SNO', 'fcstDate': '20240219', 'fcstTime': '2100', 'fcstValue': '적설없음', 'nx': 48, 'ny': 36}, {'baseDate': '20240218', 'baseTime': '1700', 'category': 'TMP', 'fcstDate': '20240219', 'fcstTime': '2200', 'fcstValue': '10', 'nx': 48, 'ny': 36}, {'baseDate': '20240218', 'baseTime': '1700', 'category': 'UUU', 'fcstDate': '20240219', 'fcstTime': '2200', 'fcstValue': '0', 'nx': 48, 'ny': 36}, {'baseDate': '20240218', 'baseTime': '1700', 'category': 'VVV', 'fcstDate': '20240219', 'fcstTime': '2200', 'fcstValue': '-6', 'nx': 48, 'ny': 36}, {'baseDate': '20240218', 'baseTime': '1700', 'category': 'VEC', 'fcstDate': '20240219', 'fcstTime': '2200', 'fcstValue': '1', 'nx': 48, 'ny': 36}, {'baseDate': '20240218', 'baseTime': '1700', 'category': 'WSD', 'fcstDate': '20240219', 'fcstTime': '2200', 'fcstValue': '6', 'nx': 48, 'ny': 36}, {'baseDate': '20240218', 'baseTime': '1700', 'category': 'SKY', 'fcstDate': '20240219', 'fcstTime': '2200', 'fcstValue': '4', 'nx': 48, 'ny': 36}, {'baseDate': '20240218', 'baseTime': '1700', 'category': 'PTY', 'fcstDate': '20240219', 'fcstTime': '2200', 'fcstValue': '0', 'nx': 48, 'ny': 36}, {'baseDate': '20240218', 'baseTime': '1700', 'category': 'POP', 'fcstDate': '20240219', 'fcstTime': '2200', 'fcstValue': '30', 'nx': 48, 'ny': 36}, {'baseDate': '20240218', 'baseTime': '1700', 'category': 'WAV', 'fcstDate': '20240219', 'fcstTime': '2200', 'fcstValue': '0.5', 'nx': 48, 'ny': 36}, {'baseDate': '20240218', 'baseTime': '1700', 'category': 'PCP', 'fcstDate': '20240219', 'fcstTime': '2200', 'fcstValue': '강수없음', 'nx': 48, 'ny': 36}, {'baseDate': '20240218', 'baseTime': '1700', 'category': 'REH', 'fcstDate': '20240219', 'fcstTime': '2200', 'fcstValue': '90', 'nx': 48, 'ny': 36}, {'baseDate': '20240218', 'baseTime': '1700', 'category': 'SNO', 'fcstDate': '20240219', 'fcstTime': '2200', 'fcstValue': '적설없음', 'nx': 48, 'ny': 36}, {'baseDate': '20240218', 'baseTime': '1700', 'category': 'TMP', 'fcstDate': '20240219', 'fcstTime': '2300', 'fcstValue': '9', 'nx': 48, 'ny': 36}, {'baseDate': '20240218', 'baseTime': '1700', 'category': 'UUU', 'fcstDate': '20240219', 'fcstTime': '2300', 'fcstValue': '-0.2', 'nx': 48, 'ny': 36}, {'baseDate': '20240218', 'baseTime': '1700', 'category': 'VVV', 'fcstDate': '20240219', 'fcstTime': '2300', 'fcstValue': '-6.1', 'nx': 48, 'ny': 36}, {'baseDate': '20240218', 'baseTime': '1700', 'category': 'VEC', 'fcstDate': '20240219', 'fcstTime': '2300', 'fcstValue': '3', 'nx': 48, 'ny': 36}, {'baseDate': '20240218', 'baseTime': '1700', 'category': 'WSD', 'fcstDate': '20240219', 'fcstTime': '2300', 'fcstValue': '6.1', 'nx': 48, 'ny': 36}, {'baseDate': '20240218', 'baseTime': '1700', 'category': 'SKY', 'fcstDate': '20240219', 'fcstTime': '2300', 'fcstValue': '4', 'nx': 48, 'ny': 36}, {'baseDate': '20240218', 'baseTime': '1700', 'category': 'PTY', 'fcstDate': '20240219', 'fcstTime': '2300', 'fcstValue': '0', 'nx': 48, 'ny': 36}, {'baseDate': '20240218', 'baseTime': '1700', 'category': 'POP', 'fcstDate': '20240219', 'fcstTime': '2300', 'fcstValue': '30', 'nx': 48, 'ny': 36}, {'baseDate': '20240218', 'baseTime': '1700', 'category': 'WAV', 'fcstDate': '20240219', 'fcstTime': '2300', 'fcstValue': '0.5', 'nx': 48, 'ny': 36}, {'baseDate': '20240218', 'baseTime': '1700', 'category': 'PCP', 'fcstDate': '20240219', 'fcstTime': '2300', 'fcstValue': '강수없음', 'nx': 48, 'ny': 36}, {'baseDate': '20240218', 'baseTime': '1700', 'category': 'REH', 'fcstDate': '20240219', 'fcstTime': '2300', 'fcstValue': '90', 'nx': 48, 'ny': 36}, {'baseDate': '20240218', 'baseTime': '1700', 'category': 'SNO', 'fcstDate': '20240219', 'fcstTime': '2300', 'fcstValue': '적설없음', 'nx': 48, 'ny': 36}, {'baseDate': '20240218', 'baseTime': '1700', 'category': 'TMP', 'fcstDate': '20240220', 'fcstTime': '0000', 'fcstValue': '9', 'nx': 48, 'ny': 36}, {'baseDate': '20240218', 'baseTime': '1700', 'category': 'UUU', 'fcstDate': '20240220', 'fcstTime': '0000', 'fcstValue': '-0.3', 'nx': 48, 'ny': 36}, {'baseDate': '20240218', 'baseTime': '1700', 'category': 'VVV', 'fcstDate': '20240220', 'fcstTime': '0000', 'fcstValue': '-5.8', 'nx': 48, 'ny': 36}, {'baseDate': '20240218', 'baseTime': '1700', 'category': 'VEC', 'fcstDate': '20240220', 'fcstTime': '0000', 'fcstValue': '4', 'nx': 48, 'ny': 36}, {'baseDate': '20240218', 'baseTime': '1700', 'category': 'WSD', 'fcstDate': '20240220', 'fcstTime': '0000', 'fcstValue': '5.8', 'nx': 48, 'ny': 36}, {'baseDate': '20240218', 'baseTime': '1700', 'category': 'SKY', 'fcstDate': '20240220', 'fcstTime': '0000', 'fcstValue': '4', 'nx': 48, 'ny': 36}, {'baseDate': '20240218', 'baseTime': '1700', 'category': 'PTY', 'fcstDate': '20240220', 'fcstTime': '0000', 'fcstValue': '0', 'nx': 48, 'ny': 36}, {'baseDate': '20240218', 'baseTime': '1700', 'category': 'POP', 'fcstDate': '20240220', 'fcstTime': '0000', 'fcstValue': '30', 'nx': 48, 'ny': 36}, {'baseDate': '20240218', 'baseTime': '1700', 'category': 'WAV', 'fcstDate': '20240220', 'fcstTime': '0000', 'fcstValue': '0.5', 'nx': 48, 'ny': 36}, {'baseDate': '20240218', 'baseTime': '1700', 'category': 'PCP', 'fcstDate': '20240220', 'fcstTime': '0000', 'fcstValue': '강수없음', 'nx': 48, 'ny': 36}]}, 'pageNo': 1, 'numOfRows': 372, 'totalCount': 954}}}\n"
          ]
        }
      ]
    },
    {
      "cell_type": "code",
      "source": [
        "import pandas as pd\n",
        "\n",
        "# 새로운 데이터프레임을 생성\n",
        "fcst_df = pd.DataFrame(columns=['Forecast_date', 'Forecast_hour', 'WindDirection', 'WindSpeed', 'Cloud', 'Rainfall', 'Humidity', 'Temperature'])\n",
        "\n",
        "row_idx = 0  # row_idx 초기화\n",
        "\n",
        "for data in response['response']['body']['items']['item']:\n",
        "    fcst_df.loc[row_idx, 'Forecast_date'] = data['fcstDate']\n",
        "    fcst_df.loc[row_idx, 'Forecast_hour'] = data['fcstTime']\n",
        "\n",
        "    if data['category'] == 'REH':\n",
        "        fcst_df.loc[row_idx, 'Humidity'] = float(data.get('fcstValue', 'NaN'))\n",
        "    elif data['category'] == 'PCP':\n",
        "        fcst_df.loc[row_idx, 'Rainfall'] = str(data.get('fcstValue', 'NaN'))\n",
        "    elif data['category'] == 'TMP':\n",
        "        fcst_df.loc[row_idx, 'Temperature'] = float(data.get('fcstValue', 'NaN'))\n",
        "    elif data['category'] == 'SKY':\n",
        "        fcst_df.loc[row_idx, 'Cloud'] = float(data.get('fcstValue', 'NaN'))\n",
        "    elif data['category'] == 'VEC':\n",
        "        fcst_df.loc[row_idx, 'WindDirection'] = float(data.get('fcstValue', 'NaN'))\n",
        "    elif data['category'] == 'WSD':\n",
        "        fcst_df.loc[row_idx, 'WindSpeed'] = float(data.get('fcstValue', 'NaN'))\n",
        "        row_idx += 1  # 다음 행으로 이동"
      ],
      "metadata": {
        "id": "AN5l1i-FrZKt"
      },
      "execution_count": 105,
      "outputs": []
    },
    {
      "cell_type": "code",
      "source": [
        "# Forecast_date와 Forecast_hour 열을 datetime 형식으로 변환\n",
        "fcst_df['Forecast_date'] = pd.to_datetime(fcst_df['Forecast_date'], format='%Y%m%d')\n",
        "fcst_df['Forecast_hour'] = fcst_df['Forecast_hour'].astype(str).str.zfill(4)  # 시간을 4자리 문자열로 변환\n",
        "fcst_df['Forecast_hour'] = fcst_df['Forecast_hour'].str[:2].astype(int)  # 앞의 2자리를 추출하여 정수로 변환"
      ],
      "metadata": {
        "id": "3Kb7UgLIrak7"
      },
      "execution_count": 106,
      "outputs": []
    },
    {
      "cell_type": "code",
      "source": [
        "fcst_df = fcst_df.rename(columns={'Forecast_date': 'date', 'Forecast_hour': 'hour'})\n",
        "\n",
        "# date가 '20240213'인 데이터만 추출하여 tomorrow_df에 저장\n",
        "tomorrow_df = fcst_df[(fcst_df['date'] == formatted_tomorrow)].copy()"
      ],
      "metadata": {
        "id": "pEn4KYL4rbzV"
      },
      "execution_count": 107,
      "outputs": []
    },
    {
      "cell_type": "code",
      "source": [
        "tomorrow_df.replace('강수없음', int('0'), inplace=True)"
      ],
      "metadata": {
        "id": "5as4dzj9rdBf"
      },
      "execution_count": 108,
      "outputs": []
    },
    {
      "cell_type": "code",
      "source": [
        "tomorrow_df"
      ],
      "metadata": {
        "colab": {
          "base_uri": "https://localhost:8080/",
          "height": 801
        },
        "id": "BSFE4TOlreLc",
        "outputId": "be9ee1a4-9a06-4165-8367-12121717994d"
      },
      "execution_count": 109,
      "outputs": [
        {
          "output_type": "execute_result",
          "data": {
            "text/plain": [
              "         date  hour  WindDirection  WindSpeed  Cloud Rainfall  Humidity  \\\n",
              "6  2024-02-19     0          176.0        9.1    4.0    4.0mm      90.0   \n",
              "7  2024-02-19     1          178.0        9.3    4.0    4.0mm      90.0   \n",
              "8  2024-02-19     2          178.0        9.3    4.0    6.0mm      90.0   \n",
              "9  2024-02-19     3          184.0        9.2    4.0    6.0mm      90.0   \n",
              "10 2024-02-19     4          188.0        9.1    4.0    6.0mm      90.0   \n",
              "11 2024-02-19     5          185.0        8.7    4.0    3.0mm      90.0   \n",
              "12 2024-02-19     6          201.0        7.9    4.0    3.0mm      95.0   \n",
              "13 2024-02-19     7          208.0        7.3    4.0    3.0mm      95.0   \n",
              "14 2024-02-19     8          212.0        6.7    4.0    2.0mm      95.0   \n",
              "15 2024-02-19     9          207.0        5.9    4.0    2.0mm     100.0   \n",
              "16 2024-02-19    10          219.0        5.3    4.0    2.0mm      95.0   \n",
              "17 2024-02-19    11          226.0        5.0    4.0   1mm 미만      95.0   \n",
              "18 2024-02-19    12          233.0        4.6    4.0   1mm 미만      95.0   \n",
              "19 2024-02-19    13          248.0        4.6    4.0   1mm 미만      95.0   \n",
              "20 2024-02-19    14          258.0        4.4    4.0        0      95.0   \n",
              "21 2024-02-19    15          278.0        4.1    4.0   1mm 미만      95.0   \n",
              "22 2024-02-19    16          305.0        3.7    4.0        0      95.0   \n",
              "23 2024-02-19    17          322.0        4.8    4.0        0      95.0   \n",
              "24 2024-02-19    18          332.0        6.2    4.0        0      95.0   \n",
              "25 2024-02-19    19          349.0        6.7    4.0        0      95.0   \n",
              "26 2024-02-19    20          357.0        6.6    4.0        0      95.0   \n",
              "27 2024-02-19    21          358.0        6.9    4.0        0      90.0   \n",
              "28 2024-02-19    22            1.0        6.0    4.0        0      90.0   \n",
              "29 2024-02-19    23            3.0        6.1    4.0        0      90.0   \n",
              "\n",
              "    Temperature  \n",
              "6          18.0  \n",
              "7          18.0  \n",
              "8          18.0  \n",
              "9          18.0  \n",
              "10         17.0  \n",
              "11         17.0  \n",
              "12         17.0  \n",
              "13         17.0  \n",
              "14         16.0  \n",
              "15         16.0  \n",
              "16         16.0  \n",
              "17         15.0  \n",
              "18         15.0  \n",
              "19         16.0  \n",
              "20         15.0  \n",
              "21         15.0  \n",
              "22         14.0  \n",
              "23         14.0  \n",
              "24         13.0  \n",
              "25         12.0  \n",
              "26         11.0  \n",
              "27         10.0  \n",
              "28         10.0  \n",
              "29          9.0  "
            ],
            "text/html": [
              "\n",
              "  <div id=\"df-ab97d83f-01be-423d-8c45-d211186364be\" class=\"colab-df-container\">\n",
              "    <div>\n",
              "<style scoped>\n",
              "    .dataframe tbody tr th:only-of-type {\n",
              "        vertical-align: middle;\n",
              "    }\n",
              "\n",
              "    .dataframe tbody tr th {\n",
              "        vertical-align: top;\n",
              "    }\n",
              "\n",
              "    .dataframe thead th {\n",
              "        text-align: right;\n",
              "    }\n",
              "</style>\n",
              "<table border=\"1\" class=\"dataframe\">\n",
              "  <thead>\n",
              "    <tr style=\"text-align: right;\">\n",
              "      <th></th>\n",
              "      <th>date</th>\n",
              "      <th>hour</th>\n",
              "      <th>WindDirection</th>\n",
              "      <th>WindSpeed</th>\n",
              "      <th>Cloud</th>\n",
              "      <th>Rainfall</th>\n",
              "      <th>Humidity</th>\n",
              "      <th>Temperature</th>\n",
              "    </tr>\n",
              "  </thead>\n",
              "  <tbody>\n",
              "    <tr>\n",
              "      <th>6</th>\n",
              "      <td>2024-02-19</td>\n",
              "      <td>0</td>\n",
              "      <td>176.0</td>\n",
              "      <td>9.1</td>\n",
              "      <td>4.0</td>\n",
              "      <td>4.0mm</td>\n",
              "      <td>90.0</td>\n",
              "      <td>18.0</td>\n",
              "    </tr>\n",
              "    <tr>\n",
              "      <th>7</th>\n",
              "      <td>2024-02-19</td>\n",
              "      <td>1</td>\n",
              "      <td>178.0</td>\n",
              "      <td>9.3</td>\n",
              "      <td>4.0</td>\n",
              "      <td>4.0mm</td>\n",
              "      <td>90.0</td>\n",
              "      <td>18.0</td>\n",
              "    </tr>\n",
              "    <tr>\n",
              "      <th>8</th>\n",
              "      <td>2024-02-19</td>\n",
              "      <td>2</td>\n",
              "      <td>178.0</td>\n",
              "      <td>9.3</td>\n",
              "      <td>4.0</td>\n",
              "      <td>6.0mm</td>\n",
              "      <td>90.0</td>\n",
              "      <td>18.0</td>\n",
              "    </tr>\n",
              "    <tr>\n",
              "      <th>9</th>\n",
              "      <td>2024-02-19</td>\n",
              "      <td>3</td>\n",
              "      <td>184.0</td>\n",
              "      <td>9.2</td>\n",
              "      <td>4.0</td>\n",
              "      <td>6.0mm</td>\n",
              "      <td>90.0</td>\n",
              "      <td>18.0</td>\n",
              "    </tr>\n",
              "    <tr>\n",
              "      <th>10</th>\n",
              "      <td>2024-02-19</td>\n",
              "      <td>4</td>\n",
              "      <td>188.0</td>\n",
              "      <td>9.1</td>\n",
              "      <td>4.0</td>\n",
              "      <td>6.0mm</td>\n",
              "      <td>90.0</td>\n",
              "      <td>17.0</td>\n",
              "    </tr>\n",
              "    <tr>\n",
              "      <th>11</th>\n",
              "      <td>2024-02-19</td>\n",
              "      <td>5</td>\n",
              "      <td>185.0</td>\n",
              "      <td>8.7</td>\n",
              "      <td>4.0</td>\n",
              "      <td>3.0mm</td>\n",
              "      <td>90.0</td>\n",
              "      <td>17.0</td>\n",
              "    </tr>\n",
              "    <tr>\n",
              "      <th>12</th>\n",
              "      <td>2024-02-19</td>\n",
              "      <td>6</td>\n",
              "      <td>201.0</td>\n",
              "      <td>7.9</td>\n",
              "      <td>4.0</td>\n",
              "      <td>3.0mm</td>\n",
              "      <td>95.0</td>\n",
              "      <td>17.0</td>\n",
              "    </tr>\n",
              "    <tr>\n",
              "      <th>13</th>\n",
              "      <td>2024-02-19</td>\n",
              "      <td>7</td>\n",
              "      <td>208.0</td>\n",
              "      <td>7.3</td>\n",
              "      <td>4.0</td>\n",
              "      <td>3.0mm</td>\n",
              "      <td>95.0</td>\n",
              "      <td>17.0</td>\n",
              "    </tr>\n",
              "    <tr>\n",
              "      <th>14</th>\n",
              "      <td>2024-02-19</td>\n",
              "      <td>8</td>\n",
              "      <td>212.0</td>\n",
              "      <td>6.7</td>\n",
              "      <td>4.0</td>\n",
              "      <td>2.0mm</td>\n",
              "      <td>95.0</td>\n",
              "      <td>16.0</td>\n",
              "    </tr>\n",
              "    <tr>\n",
              "      <th>15</th>\n",
              "      <td>2024-02-19</td>\n",
              "      <td>9</td>\n",
              "      <td>207.0</td>\n",
              "      <td>5.9</td>\n",
              "      <td>4.0</td>\n",
              "      <td>2.0mm</td>\n",
              "      <td>100.0</td>\n",
              "      <td>16.0</td>\n",
              "    </tr>\n",
              "    <tr>\n",
              "      <th>16</th>\n",
              "      <td>2024-02-19</td>\n",
              "      <td>10</td>\n",
              "      <td>219.0</td>\n",
              "      <td>5.3</td>\n",
              "      <td>4.0</td>\n",
              "      <td>2.0mm</td>\n",
              "      <td>95.0</td>\n",
              "      <td>16.0</td>\n",
              "    </tr>\n",
              "    <tr>\n",
              "      <th>17</th>\n",
              "      <td>2024-02-19</td>\n",
              "      <td>11</td>\n",
              "      <td>226.0</td>\n",
              "      <td>5.0</td>\n",
              "      <td>4.0</td>\n",
              "      <td>1mm 미만</td>\n",
              "      <td>95.0</td>\n",
              "      <td>15.0</td>\n",
              "    </tr>\n",
              "    <tr>\n",
              "      <th>18</th>\n",
              "      <td>2024-02-19</td>\n",
              "      <td>12</td>\n",
              "      <td>233.0</td>\n",
              "      <td>4.6</td>\n",
              "      <td>4.0</td>\n",
              "      <td>1mm 미만</td>\n",
              "      <td>95.0</td>\n",
              "      <td>15.0</td>\n",
              "    </tr>\n",
              "    <tr>\n",
              "      <th>19</th>\n",
              "      <td>2024-02-19</td>\n",
              "      <td>13</td>\n",
              "      <td>248.0</td>\n",
              "      <td>4.6</td>\n",
              "      <td>4.0</td>\n",
              "      <td>1mm 미만</td>\n",
              "      <td>95.0</td>\n",
              "      <td>16.0</td>\n",
              "    </tr>\n",
              "    <tr>\n",
              "      <th>20</th>\n",
              "      <td>2024-02-19</td>\n",
              "      <td>14</td>\n",
              "      <td>258.0</td>\n",
              "      <td>4.4</td>\n",
              "      <td>4.0</td>\n",
              "      <td>0</td>\n",
              "      <td>95.0</td>\n",
              "      <td>15.0</td>\n",
              "    </tr>\n",
              "    <tr>\n",
              "      <th>21</th>\n",
              "      <td>2024-02-19</td>\n",
              "      <td>15</td>\n",
              "      <td>278.0</td>\n",
              "      <td>4.1</td>\n",
              "      <td>4.0</td>\n",
              "      <td>1mm 미만</td>\n",
              "      <td>95.0</td>\n",
              "      <td>15.0</td>\n",
              "    </tr>\n",
              "    <tr>\n",
              "      <th>22</th>\n",
              "      <td>2024-02-19</td>\n",
              "      <td>16</td>\n",
              "      <td>305.0</td>\n",
              "      <td>3.7</td>\n",
              "      <td>4.0</td>\n",
              "      <td>0</td>\n",
              "      <td>95.0</td>\n",
              "      <td>14.0</td>\n",
              "    </tr>\n",
              "    <tr>\n",
              "      <th>23</th>\n",
              "      <td>2024-02-19</td>\n",
              "      <td>17</td>\n",
              "      <td>322.0</td>\n",
              "      <td>4.8</td>\n",
              "      <td>4.0</td>\n",
              "      <td>0</td>\n",
              "      <td>95.0</td>\n",
              "      <td>14.0</td>\n",
              "    </tr>\n",
              "    <tr>\n",
              "      <th>24</th>\n",
              "      <td>2024-02-19</td>\n",
              "      <td>18</td>\n",
              "      <td>332.0</td>\n",
              "      <td>6.2</td>\n",
              "      <td>4.0</td>\n",
              "      <td>0</td>\n",
              "      <td>95.0</td>\n",
              "      <td>13.0</td>\n",
              "    </tr>\n",
              "    <tr>\n",
              "      <th>25</th>\n",
              "      <td>2024-02-19</td>\n",
              "      <td>19</td>\n",
              "      <td>349.0</td>\n",
              "      <td>6.7</td>\n",
              "      <td>4.0</td>\n",
              "      <td>0</td>\n",
              "      <td>95.0</td>\n",
              "      <td>12.0</td>\n",
              "    </tr>\n",
              "    <tr>\n",
              "      <th>26</th>\n",
              "      <td>2024-02-19</td>\n",
              "      <td>20</td>\n",
              "      <td>357.0</td>\n",
              "      <td>6.6</td>\n",
              "      <td>4.0</td>\n",
              "      <td>0</td>\n",
              "      <td>95.0</td>\n",
              "      <td>11.0</td>\n",
              "    </tr>\n",
              "    <tr>\n",
              "      <th>27</th>\n",
              "      <td>2024-02-19</td>\n",
              "      <td>21</td>\n",
              "      <td>358.0</td>\n",
              "      <td>6.9</td>\n",
              "      <td>4.0</td>\n",
              "      <td>0</td>\n",
              "      <td>90.0</td>\n",
              "      <td>10.0</td>\n",
              "    </tr>\n",
              "    <tr>\n",
              "      <th>28</th>\n",
              "      <td>2024-02-19</td>\n",
              "      <td>22</td>\n",
              "      <td>1.0</td>\n",
              "      <td>6.0</td>\n",
              "      <td>4.0</td>\n",
              "      <td>0</td>\n",
              "      <td>90.0</td>\n",
              "      <td>10.0</td>\n",
              "    </tr>\n",
              "    <tr>\n",
              "      <th>29</th>\n",
              "      <td>2024-02-19</td>\n",
              "      <td>23</td>\n",
              "      <td>3.0</td>\n",
              "      <td>6.1</td>\n",
              "      <td>4.0</td>\n",
              "      <td>0</td>\n",
              "      <td>90.0</td>\n",
              "      <td>9.0</td>\n",
              "    </tr>\n",
              "  </tbody>\n",
              "</table>\n",
              "</div>\n",
              "    <div class=\"colab-df-buttons\">\n",
              "\n",
              "  <div class=\"colab-df-container\">\n",
              "    <button class=\"colab-df-convert\" onclick=\"convertToInteractive('df-ab97d83f-01be-423d-8c45-d211186364be')\"\n",
              "            title=\"Convert this dataframe to an interactive table.\"\n",
              "            style=\"display:none;\">\n",
              "\n",
              "  <svg xmlns=\"http://www.w3.org/2000/svg\" height=\"24px\" viewBox=\"0 -960 960 960\">\n",
              "    <path d=\"M120-120v-720h720v720H120Zm60-500h600v-160H180v160Zm220 220h160v-160H400v160Zm0 220h160v-160H400v160ZM180-400h160v-160H180v160Zm440 0h160v-160H620v160ZM180-180h160v-160H180v160Zm440 0h160v-160H620v160Z\"/>\n",
              "  </svg>\n",
              "    </button>\n",
              "\n",
              "  <style>\n",
              "    .colab-df-container {\n",
              "      display:flex;\n",
              "      gap: 12px;\n",
              "    }\n",
              "\n",
              "    .colab-df-convert {\n",
              "      background-color: #E8F0FE;\n",
              "      border: none;\n",
              "      border-radius: 50%;\n",
              "      cursor: pointer;\n",
              "      display: none;\n",
              "      fill: #1967D2;\n",
              "      height: 32px;\n",
              "      padding: 0 0 0 0;\n",
              "      width: 32px;\n",
              "    }\n",
              "\n",
              "    .colab-df-convert:hover {\n",
              "      background-color: #E2EBFA;\n",
              "      box-shadow: 0px 1px 2px rgba(60, 64, 67, 0.3), 0px 1px 3px 1px rgba(60, 64, 67, 0.15);\n",
              "      fill: #174EA6;\n",
              "    }\n",
              "\n",
              "    .colab-df-buttons div {\n",
              "      margin-bottom: 4px;\n",
              "    }\n",
              "\n",
              "    [theme=dark] .colab-df-convert {\n",
              "      background-color: #3B4455;\n",
              "      fill: #D2E3FC;\n",
              "    }\n",
              "\n",
              "    [theme=dark] .colab-df-convert:hover {\n",
              "      background-color: #434B5C;\n",
              "      box-shadow: 0px 1px 3px 1px rgba(0, 0, 0, 0.15);\n",
              "      filter: drop-shadow(0px 1px 2px rgba(0, 0, 0, 0.3));\n",
              "      fill: #FFFFFF;\n",
              "    }\n",
              "  </style>\n",
              "\n",
              "    <script>\n",
              "      const buttonEl =\n",
              "        document.querySelector('#df-ab97d83f-01be-423d-8c45-d211186364be button.colab-df-convert');\n",
              "      buttonEl.style.display =\n",
              "        google.colab.kernel.accessAllowed ? 'block' : 'none';\n",
              "\n",
              "      async function convertToInteractive(key) {\n",
              "        const element = document.querySelector('#df-ab97d83f-01be-423d-8c45-d211186364be');\n",
              "        const dataTable =\n",
              "          await google.colab.kernel.invokeFunction('convertToInteractive',\n",
              "                                                    [key], {});\n",
              "        if (!dataTable) return;\n",
              "\n",
              "        const docLinkHtml = 'Like what you see? Visit the ' +\n",
              "          '<a target=\"_blank\" href=https://colab.research.google.com/notebooks/data_table.ipynb>data table notebook</a>'\n",
              "          + ' to learn more about interactive tables.';\n",
              "        element.innerHTML = '';\n",
              "        dataTable['output_type'] = 'display_data';\n",
              "        await google.colab.output.renderOutput(dataTable, element);\n",
              "        const docLink = document.createElement('div');\n",
              "        docLink.innerHTML = docLinkHtml;\n",
              "        element.appendChild(docLink);\n",
              "      }\n",
              "    </script>\n",
              "  </div>\n",
              "\n",
              "\n",
              "<div id=\"df-545b51ef-bd2a-46f0-a867-68daa71d7683\">\n",
              "  <button class=\"colab-df-quickchart\" onclick=\"quickchart('df-545b51ef-bd2a-46f0-a867-68daa71d7683')\"\n",
              "            title=\"Suggest charts\"\n",
              "            style=\"display:none;\">\n",
              "\n",
              "<svg xmlns=\"http://www.w3.org/2000/svg\" height=\"24px\"viewBox=\"0 0 24 24\"\n",
              "     width=\"24px\">\n",
              "    <g>\n",
              "        <path d=\"M19 3H5c-1.1 0-2 .9-2 2v14c0 1.1.9 2 2 2h14c1.1 0 2-.9 2-2V5c0-1.1-.9-2-2-2zM9 17H7v-7h2v7zm4 0h-2V7h2v10zm4 0h-2v-4h2v4z\"/>\n",
              "    </g>\n",
              "</svg>\n",
              "  </button>\n",
              "\n",
              "<style>\n",
              "  .colab-df-quickchart {\n",
              "      --bg-color: #E8F0FE;\n",
              "      --fill-color: #1967D2;\n",
              "      --hover-bg-color: #E2EBFA;\n",
              "      --hover-fill-color: #174EA6;\n",
              "      --disabled-fill-color: #AAA;\n",
              "      --disabled-bg-color: #DDD;\n",
              "  }\n",
              "\n",
              "  [theme=dark] .colab-df-quickchart {\n",
              "      --bg-color: #3B4455;\n",
              "      --fill-color: #D2E3FC;\n",
              "      --hover-bg-color: #434B5C;\n",
              "      --hover-fill-color: #FFFFFF;\n",
              "      --disabled-bg-color: #3B4455;\n",
              "      --disabled-fill-color: #666;\n",
              "  }\n",
              "\n",
              "  .colab-df-quickchart {\n",
              "    background-color: var(--bg-color);\n",
              "    border: none;\n",
              "    border-radius: 50%;\n",
              "    cursor: pointer;\n",
              "    display: none;\n",
              "    fill: var(--fill-color);\n",
              "    height: 32px;\n",
              "    padding: 0;\n",
              "    width: 32px;\n",
              "  }\n",
              "\n",
              "  .colab-df-quickchart:hover {\n",
              "    background-color: var(--hover-bg-color);\n",
              "    box-shadow: 0 1px 2px rgba(60, 64, 67, 0.3), 0 1px 3px 1px rgba(60, 64, 67, 0.15);\n",
              "    fill: var(--button-hover-fill-color);\n",
              "  }\n",
              "\n",
              "  .colab-df-quickchart-complete:disabled,\n",
              "  .colab-df-quickchart-complete:disabled:hover {\n",
              "    background-color: var(--disabled-bg-color);\n",
              "    fill: var(--disabled-fill-color);\n",
              "    box-shadow: none;\n",
              "  }\n",
              "\n",
              "  .colab-df-spinner {\n",
              "    border: 2px solid var(--fill-color);\n",
              "    border-color: transparent;\n",
              "    border-bottom-color: var(--fill-color);\n",
              "    animation:\n",
              "      spin 1s steps(1) infinite;\n",
              "  }\n",
              "\n",
              "  @keyframes spin {\n",
              "    0% {\n",
              "      border-color: transparent;\n",
              "      border-bottom-color: var(--fill-color);\n",
              "      border-left-color: var(--fill-color);\n",
              "    }\n",
              "    20% {\n",
              "      border-color: transparent;\n",
              "      border-left-color: var(--fill-color);\n",
              "      border-top-color: var(--fill-color);\n",
              "    }\n",
              "    30% {\n",
              "      border-color: transparent;\n",
              "      border-left-color: var(--fill-color);\n",
              "      border-top-color: var(--fill-color);\n",
              "      border-right-color: var(--fill-color);\n",
              "    }\n",
              "    40% {\n",
              "      border-color: transparent;\n",
              "      border-right-color: var(--fill-color);\n",
              "      border-top-color: var(--fill-color);\n",
              "    }\n",
              "    60% {\n",
              "      border-color: transparent;\n",
              "      border-right-color: var(--fill-color);\n",
              "    }\n",
              "    80% {\n",
              "      border-color: transparent;\n",
              "      border-right-color: var(--fill-color);\n",
              "      border-bottom-color: var(--fill-color);\n",
              "    }\n",
              "    90% {\n",
              "      border-color: transparent;\n",
              "      border-bottom-color: var(--fill-color);\n",
              "    }\n",
              "  }\n",
              "</style>\n",
              "\n",
              "  <script>\n",
              "    async function quickchart(key) {\n",
              "      const quickchartButtonEl =\n",
              "        document.querySelector('#' + key + ' button');\n",
              "      quickchartButtonEl.disabled = true;  // To prevent multiple clicks.\n",
              "      quickchartButtonEl.classList.add('colab-df-spinner');\n",
              "      try {\n",
              "        const charts = await google.colab.kernel.invokeFunction(\n",
              "            'suggestCharts', [key], {});\n",
              "      } catch (error) {\n",
              "        console.error('Error during call to suggestCharts:', error);\n",
              "      }\n",
              "      quickchartButtonEl.classList.remove('colab-df-spinner');\n",
              "      quickchartButtonEl.classList.add('colab-df-quickchart-complete');\n",
              "    }\n",
              "    (() => {\n",
              "      let quickchartButtonEl =\n",
              "        document.querySelector('#df-545b51ef-bd2a-46f0-a867-68daa71d7683 button');\n",
              "      quickchartButtonEl.style.display =\n",
              "        google.colab.kernel.accessAllowed ? 'block' : 'none';\n",
              "    })();\n",
              "  </script>\n",
              "</div>\n",
              "\n",
              "  <div id=\"id_4127ec41-c254-4131-9bfc-c09dc46fb699\">\n",
              "    <style>\n",
              "      .colab-df-generate {\n",
              "        background-color: #E8F0FE;\n",
              "        border: none;\n",
              "        border-radius: 50%;\n",
              "        cursor: pointer;\n",
              "        display: none;\n",
              "        fill: #1967D2;\n",
              "        height: 32px;\n",
              "        padding: 0 0 0 0;\n",
              "        width: 32px;\n",
              "      }\n",
              "\n",
              "      .colab-df-generate:hover {\n",
              "        background-color: #E2EBFA;\n",
              "        box-shadow: 0px 1px 2px rgba(60, 64, 67, 0.3), 0px 1px 3px 1px rgba(60, 64, 67, 0.15);\n",
              "        fill: #174EA6;\n",
              "      }\n",
              "\n",
              "      [theme=dark] .colab-df-generate {\n",
              "        background-color: #3B4455;\n",
              "        fill: #D2E3FC;\n",
              "      }\n",
              "\n",
              "      [theme=dark] .colab-df-generate:hover {\n",
              "        background-color: #434B5C;\n",
              "        box-shadow: 0px 1px 3px 1px rgba(0, 0, 0, 0.15);\n",
              "        filter: drop-shadow(0px 1px 2px rgba(0, 0, 0, 0.3));\n",
              "        fill: #FFFFFF;\n",
              "      }\n",
              "    </style>\n",
              "    <button class=\"colab-df-generate\" onclick=\"generateWithVariable('tomorrow_df')\"\n",
              "            title=\"Generate code using this dataframe.\"\n",
              "            style=\"display:none;\">\n",
              "\n",
              "  <svg xmlns=\"http://www.w3.org/2000/svg\" height=\"24px\"viewBox=\"0 0 24 24\"\n",
              "       width=\"24px\">\n",
              "    <path d=\"M7,19H8.4L18.45,9,17,7.55,7,17.6ZM5,21V16.75L18.45,3.32a2,2,0,0,1,2.83,0l1.4,1.43a1.91,1.91,0,0,1,.58,1.4,1.91,1.91,0,0,1-.58,1.4L9.25,21ZM18.45,9,17,7.55Zm-12,3A5.31,5.31,0,0,0,4.9,8.1,5.31,5.31,0,0,0,1,6.5,5.31,5.31,0,0,0,4.9,4.9,5.31,5.31,0,0,0,6.5,1,5.31,5.31,0,0,0,8.1,4.9,5.31,5.31,0,0,0,12,6.5,5.46,5.46,0,0,0,6.5,12Z\"/>\n",
              "  </svg>\n",
              "    </button>\n",
              "    <script>\n",
              "      (() => {\n",
              "      const buttonEl =\n",
              "        document.querySelector('#id_4127ec41-c254-4131-9bfc-c09dc46fb699 button.colab-df-generate');\n",
              "      buttonEl.style.display =\n",
              "        google.colab.kernel.accessAllowed ? 'block' : 'none';\n",
              "\n",
              "      buttonEl.onclick = () => {\n",
              "        google.colab.notebook.generateWithVariable('tomorrow_df');\n",
              "      }\n",
              "      })();\n",
              "    </script>\n",
              "  </div>\n",
              "\n",
              "    </div>\n",
              "  </div>\n"
            ],
            "application/vnd.google.colaboratory.intrinsic+json": {
              "type": "dataframe",
              "variable_name": "tomorrow_df",
              "summary": "{\n  \"name\": \"tomorrow_df\",\n  \"rows\": 24,\n  \"fields\": [\n    {\n      \"column\": \"date\",\n      \"properties\": {\n        \"dtype\": \"date\",\n        \"min\": \"2024-02-19 00:00:00\",\n        \"max\": \"2024-02-19 00:00:00\",\n        \"samples\": [\n          \"2024-02-19 00:00:00\"\n        ],\n        \"num_unique_values\": 1,\n        \"semantic_type\": \"\",\n        \"description\": \"\"\n      }\n    },\n    {\n      \"column\": \"hour\",\n      \"properties\": {\n        \"dtype\": \"number\",\n        \"std\": 7,\n        \"min\": 0,\n        \"max\": 23,\n        \"samples\": [\n          8\n        ],\n        \"num_unique_values\": 24,\n        \"semantic_type\": \"\",\n        \"description\": \"\"\n      }\n    },\n    {\n      \"column\": \"WindDirection\",\n      \"properties\": {\n        \"dtype\": \"number\",\n        \"std\": 91.97364934541329,\n        \"min\": 1.0,\n        \"max\": 358.0,\n        \"samples\": [\n          305.0\n        ],\n        \"num_unique_values\": 23,\n        \"semantic_type\": \"\",\n        \"description\": \"\"\n      }\n    },\n    {\n      \"column\": \"WindSpeed\",\n      \"properties\": {\n        \"dtype\": \"number\",\n        \"std\": 1.8268082167730595,\n        \"min\": 3.7,\n        \"max\": 9.3,\n        \"samples\": [\n          9.1\n        ],\n        \"num_unique_values\": 20,\n        \"semantic_type\": \"\",\n        \"description\": \"\"\n      }\n    },\n    {\n      \"column\": \"Cloud\",\n      \"properties\": {\n        \"dtype\": \"number\",\n        \"std\": 0.0,\n        \"min\": 4.0,\n        \"max\": 4.0,\n        \"samples\": [\n          4.0\n        ],\n        \"num_unique_values\": 1,\n        \"semantic_type\": \"\",\n        \"description\": \"\"\n      }\n    },\n    {\n      \"column\": \"Rainfall\",\n      \"properties\": {\n        \"dtype\": \"category\",\n        \"samples\": [\n          \"4.0mm\"\n        ],\n        \"num_unique_values\": 6,\n        \"semantic_type\": \"\",\n        \"description\": \"\"\n      }\n    },\n    {\n      \"column\": \"Humidity\",\n      \"properties\": {\n        \"dtype\": \"number\",\n        \"std\": 2.8232985128663994,\n        \"min\": 90.0,\n        \"max\": 100.0,\n        \"samples\": [\n          90.0\n        ],\n        \"num_unique_values\": 3,\n        \"semantic_type\": \"\",\n        \"description\": \"\"\n      }\n    },\n    {\n      \"column\": \"Temperature\",\n      \"properties\": {\n        \"dtype\": \"number\",\n        \"std\": 2.739604858845285,\n        \"min\": 9.0,\n        \"max\": 18.0,\n        \"samples\": [\n          10.0\n        ],\n        \"num_unique_values\": 10,\n        \"semantic_type\": \"\",\n        \"description\": \"\"\n      }\n    }\n  ]\n}"
            }
          },
          "metadata": {},
          "execution_count": 109
        }
      ]
    },
    {
      "cell_type": "code",
      "source": [
        "# Rainfall 열 값 변경\n",
        "rainfall_mapping = {'0': 0, '1mm 미만': 1, '1.0mm': 1, '2.0mm': 1, '3.0mm': 1}\n",
        "tomorrow_df['Rainfall'] = tomorrow_df['Rainfall'].astype(str).map(rainfall_mapping).fillna(2).astype(int)\n",
        "\n",
        "# Cloud 값 보정\n",
        "cloud_mapping = {1: 2, 2: 4, 3: 8, 4: 10}\n",
        "tomorrow_df['Cloud'] = tomorrow_df['Cloud'].map(cloud_mapping)\n",
        "\n",
        "# hour 값 0~23 을 1~24로 수정\n",
        "tomorrow_df['hour'] = tomorrow_df['hour'] + 1\n",
        "\n",
        "tomorrow_df"
      ],
      "metadata": {
        "colab": {
          "base_uri": "https://localhost:8080/",
          "height": 801
        },
        "id": "QZofXFn4rfMo",
        "outputId": "588a0c23-ad85-4c70-dfdb-1a1ef1092d77"
      },
      "execution_count": 110,
      "outputs": [
        {
          "output_type": "execute_result",
          "data": {
            "text/plain": [
              "         date  hour  WindDirection  WindSpeed  Cloud  Rainfall  Humidity  \\\n",
              "6  2024-02-19     1          176.0        9.1     10         2      90.0   \n",
              "7  2024-02-19     2          178.0        9.3     10         2      90.0   \n",
              "8  2024-02-19     3          178.0        9.3     10         2      90.0   \n",
              "9  2024-02-19     4          184.0        9.2     10         2      90.0   \n",
              "10 2024-02-19     5          188.0        9.1     10         2      90.0   \n",
              "11 2024-02-19     6          185.0        8.7     10         1      90.0   \n",
              "12 2024-02-19     7          201.0        7.9     10         1      95.0   \n",
              "13 2024-02-19     8          208.0        7.3     10         1      95.0   \n",
              "14 2024-02-19     9          212.0        6.7     10         1      95.0   \n",
              "15 2024-02-19    10          207.0        5.9     10         1     100.0   \n",
              "16 2024-02-19    11          219.0        5.3     10         1      95.0   \n",
              "17 2024-02-19    12          226.0        5.0     10         1      95.0   \n",
              "18 2024-02-19    13          233.0        4.6     10         1      95.0   \n",
              "19 2024-02-19    14          248.0        4.6     10         1      95.0   \n",
              "20 2024-02-19    15          258.0        4.4     10         0      95.0   \n",
              "21 2024-02-19    16          278.0        4.1     10         1      95.0   \n",
              "22 2024-02-19    17          305.0        3.7     10         0      95.0   \n",
              "23 2024-02-19    18          322.0        4.8     10         0      95.0   \n",
              "24 2024-02-19    19          332.0        6.2     10         0      95.0   \n",
              "25 2024-02-19    20          349.0        6.7     10         0      95.0   \n",
              "26 2024-02-19    21          357.0        6.6     10         0      95.0   \n",
              "27 2024-02-19    22          358.0        6.9     10         0      90.0   \n",
              "28 2024-02-19    23            1.0        6.0     10         0      90.0   \n",
              "29 2024-02-19    24            3.0        6.1     10         0      90.0   \n",
              "\n",
              "    Temperature  \n",
              "6          18.0  \n",
              "7          18.0  \n",
              "8          18.0  \n",
              "9          18.0  \n",
              "10         17.0  \n",
              "11         17.0  \n",
              "12         17.0  \n",
              "13         17.0  \n",
              "14         16.0  \n",
              "15         16.0  \n",
              "16         16.0  \n",
              "17         15.0  \n",
              "18         15.0  \n",
              "19         16.0  \n",
              "20         15.0  \n",
              "21         15.0  \n",
              "22         14.0  \n",
              "23         14.0  \n",
              "24         13.0  \n",
              "25         12.0  \n",
              "26         11.0  \n",
              "27         10.0  \n",
              "28         10.0  \n",
              "29          9.0  "
            ],
            "text/html": [
              "\n",
              "  <div id=\"df-6fe57430-3fc7-403f-8581-d7977f311417\" class=\"colab-df-container\">\n",
              "    <div>\n",
              "<style scoped>\n",
              "    .dataframe tbody tr th:only-of-type {\n",
              "        vertical-align: middle;\n",
              "    }\n",
              "\n",
              "    .dataframe tbody tr th {\n",
              "        vertical-align: top;\n",
              "    }\n",
              "\n",
              "    .dataframe thead th {\n",
              "        text-align: right;\n",
              "    }\n",
              "</style>\n",
              "<table border=\"1\" class=\"dataframe\">\n",
              "  <thead>\n",
              "    <tr style=\"text-align: right;\">\n",
              "      <th></th>\n",
              "      <th>date</th>\n",
              "      <th>hour</th>\n",
              "      <th>WindDirection</th>\n",
              "      <th>WindSpeed</th>\n",
              "      <th>Cloud</th>\n",
              "      <th>Rainfall</th>\n",
              "      <th>Humidity</th>\n",
              "      <th>Temperature</th>\n",
              "    </tr>\n",
              "  </thead>\n",
              "  <tbody>\n",
              "    <tr>\n",
              "      <th>6</th>\n",
              "      <td>2024-02-19</td>\n",
              "      <td>1</td>\n",
              "      <td>176.0</td>\n",
              "      <td>9.1</td>\n",
              "      <td>10</td>\n",
              "      <td>2</td>\n",
              "      <td>90.0</td>\n",
              "      <td>18.0</td>\n",
              "    </tr>\n",
              "    <tr>\n",
              "      <th>7</th>\n",
              "      <td>2024-02-19</td>\n",
              "      <td>2</td>\n",
              "      <td>178.0</td>\n",
              "      <td>9.3</td>\n",
              "      <td>10</td>\n",
              "      <td>2</td>\n",
              "      <td>90.0</td>\n",
              "      <td>18.0</td>\n",
              "    </tr>\n",
              "    <tr>\n",
              "      <th>8</th>\n",
              "      <td>2024-02-19</td>\n",
              "      <td>3</td>\n",
              "      <td>178.0</td>\n",
              "      <td>9.3</td>\n",
              "      <td>10</td>\n",
              "      <td>2</td>\n",
              "      <td>90.0</td>\n",
              "      <td>18.0</td>\n",
              "    </tr>\n",
              "    <tr>\n",
              "      <th>9</th>\n",
              "      <td>2024-02-19</td>\n",
              "      <td>4</td>\n",
              "      <td>184.0</td>\n",
              "      <td>9.2</td>\n",
              "      <td>10</td>\n",
              "      <td>2</td>\n",
              "      <td>90.0</td>\n",
              "      <td>18.0</td>\n",
              "    </tr>\n",
              "    <tr>\n",
              "      <th>10</th>\n",
              "      <td>2024-02-19</td>\n",
              "      <td>5</td>\n",
              "      <td>188.0</td>\n",
              "      <td>9.1</td>\n",
              "      <td>10</td>\n",
              "      <td>2</td>\n",
              "      <td>90.0</td>\n",
              "      <td>17.0</td>\n",
              "    </tr>\n",
              "    <tr>\n",
              "      <th>11</th>\n",
              "      <td>2024-02-19</td>\n",
              "      <td>6</td>\n",
              "      <td>185.0</td>\n",
              "      <td>8.7</td>\n",
              "      <td>10</td>\n",
              "      <td>1</td>\n",
              "      <td>90.0</td>\n",
              "      <td>17.0</td>\n",
              "    </tr>\n",
              "    <tr>\n",
              "      <th>12</th>\n",
              "      <td>2024-02-19</td>\n",
              "      <td>7</td>\n",
              "      <td>201.0</td>\n",
              "      <td>7.9</td>\n",
              "      <td>10</td>\n",
              "      <td>1</td>\n",
              "      <td>95.0</td>\n",
              "      <td>17.0</td>\n",
              "    </tr>\n",
              "    <tr>\n",
              "      <th>13</th>\n",
              "      <td>2024-02-19</td>\n",
              "      <td>8</td>\n",
              "      <td>208.0</td>\n",
              "      <td>7.3</td>\n",
              "      <td>10</td>\n",
              "      <td>1</td>\n",
              "      <td>95.0</td>\n",
              "      <td>17.0</td>\n",
              "    </tr>\n",
              "    <tr>\n",
              "      <th>14</th>\n",
              "      <td>2024-02-19</td>\n",
              "      <td>9</td>\n",
              "      <td>212.0</td>\n",
              "      <td>6.7</td>\n",
              "      <td>10</td>\n",
              "      <td>1</td>\n",
              "      <td>95.0</td>\n",
              "      <td>16.0</td>\n",
              "    </tr>\n",
              "    <tr>\n",
              "      <th>15</th>\n",
              "      <td>2024-02-19</td>\n",
              "      <td>10</td>\n",
              "      <td>207.0</td>\n",
              "      <td>5.9</td>\n",
              "      <td>10</td>\n",
              "      <td>1</td>\n",
              "      <td>100.0</td>\n",
              "      <td>16.0</td>\n",
              "    </tr>\n",
              "    <tr>\n",
              "      <th>16</th>\n",
              "      <td>2024-02-19</td>\n",
              "      <td>11</td>\n",
              "      <td>219.0</td>\n",
              "      <td>5.3</td>\n",
              "      <td>10</td>\n",
              "      <td>1</td>\n",
              "      <td>95.0</td>\n",
              "      <td>16.0</td>\n",
              "    </tr>\n",
              "    <tr>\n",
              "      <th>17</th>\n",
              "      <td>2024-02-19</td>\n",
              "      <td>12</td>\n",
              "      <td>226.0</td>\n",
              "      <td>5.0</td>\n",
              "      <td>10</td>\n",
              "      <td>1</td>\n",
              "      <td>95.0</td>\n",
              "      <td>15.0</td>\n",
              "    </tr>\n",
              "    <tr>\n",
              "      <th>18</th>\n",
              "      <td>2024-02-19</td>\n",
              "      <td>13</td>\n",
              "      <td>233.0</td>\n",
              "      <td>4.6</td>\n",
              "      <td>10</td>\n",
              "      <td>1</td>\n",
              "      <td>95.0</td>\n",
              "      <td>15.0</td>\n",
              "    </tr>\n",
              "    <tr>\n",
              "      <th>19</th>\n",
              "      <td>2024-02-19</td>\n",
              "      <td>14</td>\n",
              "      <td>248.0</td>\n",
              "      <td>4.6</td>\n",
              "      <td>10</td>\n",
              "      <td>1</td>\n",
              "      <td>95.0</td>\n",
              "      <td>16.0</td>\n",
              "    </tr>\n",
              "    <tr>\n",
              "      <th>20</th>\n",
              "      <td>2024-02-19</td>\n",
              "      <td>15</td>\n",
              "      <td>258.0</td>\n",
              "      <td>4.4</td>\n",
              "      <td>10</td>\n",
              "      <td>0</td>\n",
              "      <td>95.0</td>\n",
              "      <td>15.0</td>\n",
              "    </tr>\n",
              "    <tr>\n",
              "      <th>21</th>\n",
              "      <td>2024-02-19</td>\n",
              "      <td>16</td>\n",
              "      <td>278.0</td>\n",
              "      <td>4.1</td>\n",
              "      <td>10</td>\n",
              "      <td>1</td>\n",
              "      <td>95.0</td>\n",
              "      <td>15.0</td>\n",
              "    </tr>\n",
              "    <tr>\n",
              "      <th>22</th>\n",
              "      <td>2024-02-19</td>\n",
              "      <td>17</td>\n",
              "      <td>305.0</td>\n",
              "      <td>3.7</td>\n",
              "      <td>10</td>\n",
              "      <td>0</td>\n",
              "      <td>95.0</td>\n",
              "      <td>14.0</td>\n",
              "    </tr>\n",
              "    <tr>\n",
              "      <th>23</th>\n",
              "      <td>2024-02-19</td>\n",
              "      <td>18</td>\n",
              "      <td>322.0</td>\n",
              "      <td>4.8</td>\n",
              "      <td>10</td>\n",
              "      <td>0</td>\n",
              "      <td>95.0</td>\n",
              "      <td>14.0</td>\n",
              "    </tr>\n",
              "    <tr>\n",
              "      <th>24</th>\n",
              "      <td>2024-02-19</td>\n",
              "      <td>19</td>\n",
              "      <td>332.0</td>\n",
              "      <td>6.2</td>\n",
              "      <td>10</td>\n",
              "      <td>0</td>\n",
              "      <td>95.0</td>\n",
              "      <td>13.0</td>\n",
              "    </tr>\n",
              "    <tr>\n",
              "      <th>25</th>\n",
              "      <td>2024-02-19</td>\n",
              "      <td>20</td>\n",
              "      <td>349.0</td>\n",
              "      <td>6.7</td>\n",
              "      <td>10</td>\n",
              "      <td>0</td>\n",
              "      <td>95.0</td>\n",
              "      <td>12.0</td>\n",
              "    </tr>\n",
              "    <tr>\n",
              "      <th>26</th>\n",
              "      <td>2024-02-19</td>\n",
              "      <td>21</td>\n",
              "      <td>357.0</td>\n",
              "      <td>6.6</td>\n",
              "      <td>10</td>\n",
              "      <td>0</td>\n",
              "      <td>95.0</td>\n",
              "      <td>11.0</td>\n",
              "    </tr>\n",
              "    <tr>\n",
              "      <th>27</th>\n",
              "      <td>2024-02-19</td>\n",
              "      <td>22</td>\n",
              "      <td>358.0</td>\n",
              "      <td>6.9</td>\n",
              "      <td>10</td>\n",
              "      <td>0</td>\n",
              "      <td>90.0</td>\n",
              "      <td>10.0</td>\n",
              "    </tr>\n",
              "    <tr>\n",
              "      <th>28</th>\n",
              "      <td>2024-02-19</td>\n",
              "      <td>23</td>\n",
              "      <td>1.0</td>\n",
              "      <td>6.0</td>\n",
              "      <td>10</td>\n",
              "      <td>0</td>\n",
              "      <td>90.0</td>\n",
              "      <td>10.0</td>\n",
              "    </tr>\n",
              "    <tr>\n",
              "      <th>29</th>\n",
              "      <td>2024-02-19</td>\n",
              "      <td>24</td>\n",
              "      <td>3.0</td>\n",
              "      <td>6.1</td>\n",
              "      <td>10</td>\n",
              "      <td>0</td>\n",
              "      <td>90.0</td>\n",
              "      <td>9.0</td>\n",
              "    </tr>\n",
              "  </tbody>\n",
              "</table>\n",
              "</div>\n",
              "    <div class=\"colab-df-buttons\">\n",
              "\n",
              "  <div class=\"colab-df-container\">\n",
              "    <button class=\"colab-df-convert\" onclick=\"convertToInteractive('df-6fe57430-3fc7-403f-8581-d7977f311417')\"\n",
              "            title=\"Convert this dataframe to an interactive table.\"\n",
              "            style=\"display:none;\">\n",
              "\n",
              "  <svg xmlns=\"http://www.w3.org/2000/svg\" height=\"24px\" viewBox=\"0 -960 960 960\">\n",
              "    <path d=\"M120-120v-720h720v720H120Zm60-500h600v-160H180v160Zm220 220h160v-160H400v160Zm0 220h160v-160H400v160ZM180-400h160v-160H180v160Zm440 0h160v-160H620v160ZM180-180h160v-160H180v160Zm440 0h160v-160H620v160Z\"/>\n",
              "  </svg>\n",
              "    </button>\n",
              "\n",
              "  <style>\n",
              "    .colab-df-container {\n",
              "      display:flex;\n",
              "      gap: 12px;\n",
              "    }\n",
              "\n",
              "    .colab-df-convert {\n",
              "      background-color: #E8F0FE;\n",
              "      border: none;\n",
              "      border-radius: 50%;\n",
              "      cursor: pointer;\n",
              "      display: none;\n",
              "      fill: #1967D2;\n",
              "      height: 32px;\n",
              "      padding: 0 0 0 0;\n",
              "      width: 32px;\n",
              "    }\n",
              "\n",
              "    .colab-df-convert:hover {\n",
              "      background-color: #E2EBFA;\n",
              "      box-shadow: 0px 1px 2px rgba(60, 64, 67, 0.3), 0px 1px 3px 1px rgba(60, 64, 67, 0.15);\n",
              "      fill: #174EA6;\n",
              "    }\n",
              "\n",
              "    .colab-df-buttons div {\n",
              "      margin-bottom: 4px;\n",
              "    }\n",
              "\n",
              "    [theme=dark] .colab-df-convert {\n",
              "      background-color: #3B4455;\n",
              "      fill: #D2E3FC;\n",
              "    }\n",
              "\n",
              "    [theme=dark] .colab-df-convert:hover {\n",
              "      background-color: #434B5C;\n",
              "      box-shadow: 0px 1px 3px 1px rgba(0, 0, 0, 0.15);\n",
              "      filter: drop-shadow(0px 1px 2px rgba(0, 0, 0, 0.3));\n",
              "      fill: #FFFFFF;\n",
              "    }\n",
              "  </style>\n",
              "\n",
              "    <script>\n",
              "      const buttonEl =\n",
              "        document.querySelector('#df-6fe57430-3fc7-403f-8581-d7977f311417 button.colab-df-convert');\n",
              "      buttonEl.style.display =\n",
              "        google.colab.kernel.accessAllowed ? 'block' : 'none';\n",
              "\n",
              "      async function convertToInteractive(key) {\n",
              "        const element = document.querySelector('#df-6fe57430-3fc7-403f-8581-d7977f311417');\n",
              "        const dataTable =\n",
              "          await google.colab.kernel.invokeFunction('convertToInteractive',\n",
              "                                                    [key], {});\n",
              "        if (!dataTable) return;\n",
              "\n",
              "        const docLinkHtml = 'Like what you see? Visit the ' +\n",
              "          '<a target=\"_blank\" href=https://colab.research.google.com/notebooks/data_table.ipynb>data table notebook</a>'\n",
              "          + ' to learn more about interactive tables.';\n",
              "        element.innerHTML = '';\n",
              "        dataTable['output_type'] = 'display_data';\n",
              "        await google.colab.output.renderOutput(dataTable, element);\n",
              "        const docLink = document.createElement('div');\n",
              "        docLink.innerHTML = docLinkHtml;\n",
              "        element.appendChild(docLink);\n",
              "      }\n",
              "    </script>\n",
              "  </div>\n",
              "\n",
              "\n",
              "<div id=\"df-cabad732-361f-4a01-bde4-586562c5a59b\">\n",
              "  <button class=\"colab-df-quickchart\" onclick=\"quickchart('df-cabad732-361f-4a01-bde4-586562c5a59b')\"\n",
              "            title=\"Suggest charts\"\n",
              "            style=\"display:none;\">\n",
              "\n",
              "<svg xmlns=\"http://www.w3.org/2000/svg\" height=\"24px\"viewBox=\"0 0 24 24\"\n",
              "     width=\"24px\">\n",
              "    <g>\n",
              "        <path d=\"M19 3H5c-1.1 0-2 .9-2 2v14c0 1.1.9 2 2 2h14c1.1 0 2-.9 2-2V5c0-1.1-.9-2-2-2zM9 17H7v-7h2v7zm4 0h-2V7h2v10zm4 0h-2v-4h2v4z\"/>\n",
              "    </g>\n",
              "</svg>\n",
              "  </button>\n",
              "\n",
              "<style>\n",
              "  .colab-df-quickchart {\n",
              "      --bg-color: #E8F0FE;\n",
              "      --fill-color: #1967D2;\n",
              "      --hover-bg-color: #E2EBFA;\n",
              "      --hover-fill-color: #174EA6;\n",
              "      --disabled-fill-color: #AAA;\n",
              "      --disabled-bg-color: #DDD;\n",
              "  }\n",
              "\n",
              "  [theme=dark] .colab-df-quickchart {\n",
              "      --bg-color: #3B4455;\n",
              "      --fill-color: #D2E3FC;\n",
              "      --hover-bg-color: #434B5C;\n",
              "      --hover-fill-color: #FFFFFF;\n",
              "      --disabled-bg-color: #3B4455;\n",
              "      --disabled-fill-color: #666;\n",
              "  }\n",
              "\n",
              "  .colab-df-quickchart {\n",
              "    background-color: var(--bg-color);\n",
              "    border: none;\n",
              "    border-radius: 50%;\n",
              "    cursor: pointer;\n",
              "    display: none;\n",
              "    fill: var(--fill-color);\n",
              "    height: 32px;\n",
              "    padding: 0;\n",
              "    width: 32px;\n",
              "  }\n",
              "\n",
              "  .colab-df-quickchart:hover {\n",
              "    background-color: var(--hover-bg-color);\n",
              "    box-shadow: 0 1px 2px rgba(60, 64, 67, 0.3), 0 1px 3px 1px rgba(60, 64, 67, 0.15);\n",
              "    fill: var(--button-hover-fill-color);\n",
              "  }\n",
              "\n",
              "  .colab-df-quickchart-complete:disabled,\n",
              "  .colab-df-quickchart-complete:disabled:hover {\n",
              "    background-color: var(--disabled-bg-color);\n",
              "    fill: var(--disabled-fill-color);\n",
              "    box-shadow: none;\n",
              "  }\n",
              "\n",
              "  .colab-df-spinner {\n",
              "    border: 2px solid var(--fill-color);\n",
              "    border-color: transparent;\n",
              "    border-bottom-color: var(--fill-color);\n",
              "    animation:\n",
              "      spin 1s steps(1) infinite;\n",
              "  }\n",
              "\n",
              "  @keyframes spin {\n",
              "    0% {\n",
              "      border-color: transparent;\n",
              "      border-bottom-color: var(--fill-color);\n",
              "      border-left-color: var(--fill-color);\n",
              "    }\n",
              "    20% {\n",
              "      border-color: transparent;\n",
              "      border-left-color: var(--fill-color);\n",
              "      border-top-color: var(--fill-color);\n",
              "    }\n",
              "    30% {\n",
              "      border-color: transparent;\n",
              "      border-left-color: var(--fill-color);\n",
              "      border-top-color: var(--fill-color);\n",
              "      border-right-color: var(--fill-color);\n",
              "    }\n",
              "    40% {\n",
              "      border-color: transparent;\n",
              "      border-right-color: var(--fill-color);\n",
              "      border-top-color: var(--fill-color);\n",
              "    }\n",
              "    60% {\n",
              "      border-color: transparent;\n",
              "      border-right-color: var(--fill-color);\n",
              "    }\n",
              "    80% {\n",
              "      border-color: transparent;\n",
              "      border-right-color: var(--fill-color);\n",
              "      border-bottom-color: var(--fill-color);\n",
              "    }\n",
              "    90% {\n",
              "      border-color: transparent;\n",
              "      border-bottom-color: var(--fill-color);\n",
              "    }\n",
              "  }\n",
              "</style>\n",
              "\n",
              "  <script>\n",
              "    async function quickchart(key) {\n",
              "      const quickchartButtonEl =\n",
              "        document.querySelector('#' + key + ' button');\n",
              "      quickchartButtonEl.disabled = true;  // To prevent multiple clicks.\n",
              "      quickchartButtonEl.classList.add('colab-df-spinner');\n",
              "      try {\n",
              "        const charts = await google.colab.kernel.invokeFunction(\n",
              "            'suggestCharts', [key], {});\n",
              "      } catch (error) {\n",
              "        console.error('Error during call to suggestCharts:', error);\n",
              "      }\n",
              "      quickchartButtonEl.classList.remove('colab-df-spinner');\n",
              "      quickchartButtonEl.classList.add('colab-df-quickchart-complete');\n",
              "    }\n",
              "    (() => {\n",
              "      let quickchartButtonEl =\n",
              "        document.querySelector('#df-cabad732-361f-4a01-bde4-586562c5a59b button');\n",
              "      quickchartButtonEl.style.display =\n",
              "        google.colab.kernel.accessAllowed ? 'block' : 'none';\n",
              "    })();\n",
              "  </script>\n",
              "</div>\n",
              "\n",
              "  <div id=\"id_2eeb0f7d-84b0-4156-b1f5-fa25c713379a\">\n",
              "    <style>\n",
              "      .colab-df-generate {\n",
              "        background-color: #E8F0FE;\n",
              "        border: none;\n",
              "        border-radius: 50%;\n",
              "        cursor: pointer;\n",
              "        display: none;\n",
              "        fill: #1967D2;\n",
              "        height: 32px;\n",
              "        padding: 0 0 0 0;\n",
              "        width: 32px;\n",
              "      }\n",
              "\n",
              "      .colab-df-generate:hover {\n",
              "        background-color: #E2EBFA;\n",
              "        box-shadow: 0px 1px 2px rgba(60, 64, 67, 0.3), 0px 1px 3px 1px rgba(60, 64, 67, 0.15);\n",
              "        fill: #174EA6;\n",
              "      }\n",
              "\n",
              "      [theme=dark] .colab-df-generate {\n",
              "        background-color: #3B4455;\n",
              "        fill: #D2E3FC;\n",
              "      }\n",
              "\n",
              "      [theme=dark] .colab-df-generate:hover {\n",
              "        background-color: #434B5C;\n",
              "        box-shadow: 0px 1px 3px 1px rgba(0, 0, 0, 0.15);\n",
              "        filter: drop-shadow(0px 1px 2px rgba(0, 0, 0, 0.3));\n",
              "        fill: #FFFFFF;\n",
              "      }\n",
              "    </style>\n",
              "    <button class=\"colab-df-generate\" onclick=\"generateWithVariable('tomorrow_df')\"\n",
              "            title=\"Generate code using this dataframe.\"\n",
              "            style=\"display:none;\">\n",
              "\n",
              "  <svg xmlns=\"http://www.w3.org/2000/svg\" height=\"24px\"viewBox=\"0 0 24 24\"\n",
              "       width=\"24px\">\n",
              "    <path d=\"M7,19H8.4L18.45,9,17,7.55,7,17.6ZM5,21V16.75L18.45,3.32a2,2,0,0,1,2.83,0l1.4,1.43a1.91,1.91,0,0,1,.58,1.4,1.91,1.91,0,0,1-.58,1.4L9.25,21ZM18.45,9,17,7.55Zm-12,3A5.31,5.31,0,0,0,4.9,8.1,5.31,5.31,0,0,0,1,6.5,5.31,5.31,0,0,0,4.9,4.9,5.31,5.31,0,0,0,6.5,1,5.31,5.31,0,0,0,8.1,4.9,5.31,5.31,0,0,0,12,6.5,5.46,5.46,0,0,0,6.5,12Z\"/>\n",
              "  </svg>\n",
              "    </button>\n",
              "    <script>\n",
              "      (() => {\n",
              "      const buttonEl =\n",
              "        document.querySelector('#id_2eeb0f7d-84b0-4156-b1f5-fa25c713379a button.colab-df-generate');\n",
              "      buttonEl.style.display =\n",
              "        google.colab.kernel.accessAllowed ? 'block' : 'none';\n",
              "\n",
              "      buttonEl.onclick = () => {\n",
              "        google.colab.notebook.generateWithVariable('tomorrow_df');\n",
              "      }\n",
              "      })();\n",
              "    </script>\n",
              "  </div>\n",
              "\n",
              "    </div>\n",
              "  </div>\n"
            ],
            "application/vnd.google.colaboratory.intrinsic+json": {
              "type": "dataframe",
              "variable_name": "tomorrow_df",
              "summary": "{\n  \"name\": \"tomorrow_df\",\n  \"rows\": 24,\n  \"fields\": [\n    {\n      \"column\": \"date\",\n      \"properties\": {\n        \"dtype\": \"date\",\n        \"min\": \"2024-02-19 00:00:00\",\n        \"max\": \"2024-02-19 00:00:00\",\n        \"samples\": [\n          \"2024-02-19 00:00:00\"\n        ],\n        \"num_unique_values\": 1,\n        \"semantic_type\": \"\",\n        \"description\": \"\"\n      }\n    },\n    {\n      \"column\": \"hour\",\n      \"properties\": {\n        \"dtype\": \"number\",\n        \"std\": 7,\n        \"min\": 1,\n        \"max\": 24,\n        \"samples\": [\n          9\n        ],\n        \"num_unique_values\": 24,\n        \"semantic_type\": \"\",\n        \"description\": \"\"\n      }\n    },\n    {\n      \"column\": \"WindDirection\",\n      \"properties\": {\n        \"dtype\": \"number\",\n        \"std\": 91.97364934541329,\n        \"min\": 1.0,\n        \"max\": 358.0,\n        \"samples\": [\n          305.0\n        ],\n        \"num_unique_values\": 23,\n        \"semantic_type\": \"\",\n        \"description\": \"\"\n      }\n    },\n    {\n      \"column\": \"WindSpeed\",\n      \"properties\": {\n        \"dtype\": \"number\",\n        \"std\": 1.8268082167730595,\n        \"min\": 3.7,\n        \"max\": 9.3,\n        \"samples\": [\n          9.1\n        ],\n        \"num_unique_values\": 20,\n        \"semantic_type\": \"\",\n        \"description\": \"\"\n      }\n    },\n    {\n      \"column\": \"Cloud\",\n      \"properties\": {\n        \"dtype\": \"number\",\n        \"std\": 0,\n        \"min\": 10,\n        \"max\": 10,\n        \"samples\": [\n          10\n        ],\n        \"num_unique_values\": 1,\n        \"semantic_type\": \"\",\n        \"description\": \"\"\n      }\n    },\n    {\n      \"column\": \"Rainfall\",\n      \"properties\": {\n        \"dtype\": \"number\",\n        \"std\": 0,\n        \"min\": 0,\n        \"max\": 2,\n        \"samples\": [\n          2\n        ],\n        \"num_unique_values\": 3,\n        \"semantic_type\": \"\",\n        \"description\": \"\"\n      }\n    },\n    {\n      \"column\": \"Humidity\",\n      \"properties\": {\n        \"dtype\": \"number\",\n        \"std\": 2.8232985128663994,\n        \"min\": 90.0,\n        \"max\": 100.0,\n        \"samples\": [\n          90.0\n        ],\n        \"num_unique_values\": 3,\n        \"semantic_type\": \"\",\n        \"description\": \"\"\n      }\n    },\n    {\n      \"column\": \"Temperature\",\n      \"properties\": {\n        \"dtype\": \"number\",\n        \"std\": 2.739604858845285,\n        \"min\": 9.0,\n        \"max\": 18.0,\n        \"samples\": [\n          10.0\n        ],\n        \"num_unique_values\": 10,\n        \"semantic_type\": \"\",\n        \"description\": \"\"\n      }\n    }\n  ]\n}"
            }
          },
          "metadata": {},
          "execution_count": 110
        }
      ]
    },
    {
      "cell_type": "code",
      "source": [
        "an = [1.000110,0.034221,0.000719]\n",
        "bn = [0,0.001280,0.000077]\n",
        "cn = [0.006918,-0.399912,-0.006758,-0.002697]\n",
        "dn = [0,0.070257,0.000907,0.000148]\n",
        "\n",
        "\n",
        "S = 1367 #solar constant\n",
        "L = 33.3 #latitude\n",
        "L_rad = np.deg2rad(L) #latitude를 rad으로 변환\n",
        "\n",
        "tomorrow_df['date'] = pd.to_datetime(tomorrow_df['date'])\n",
        "d = tomorrow_df['date'].dt.dayofyear\n",
        "t = 2*np.pi*d/365"
      ],
      "metadata": {
        "id": "MMvSCss3tlm2"
      },
      "execution_count": 111,
      "outputs": []
    },
    {
      "cell_type": "code",
      "source": [
        "LN = datetime.datetime(2024, 2, 9, 12, 0, 0) # local noon time"
      ],
      "metadata": {
        "id": "AHjHoo_mtuT-"
      },
      "execution_count": 112,
      "outputs": []
    },
    {
      "cell_type": "code",
      "source": [
        "# sun-earth distance  : r0 값을 알 수 없어서, a로 근사한 식을 이용함\n",
        "r0_r2 = np.zeros(t.shape)\n",
        "for i in range(0,3) :\n",
        "    r0_r2 = r0_r2+an[i]*np.cos(i*t)+bn[i]*np.sin(i*t)\n",
        "\n",
        "# declination angle\n",
        "delta_rad = np.zeros(t.shape)\n",
        "for i in range(0,4) :\n",
        "    delta_rad = delta_rad+cn[i]*np.cos(i*t)+dn[i]*np.sin(i*t)"
      ],
      "metadata": {
        "id": "E2hvlPG7tvm0"
      },
      "execution_count": 113,
      "outputs": []
    },
    {
      "cell_type": "code",
      "source": [
        "# Solar insolation for hour gap\n",
        "# Q12는 태양 남중 12시로 가정한거고, Q13은 남중 13시로 가정한검니당\n",
        "Q = np.zeros(t.shape)\n",
        "gap = np.pi/12\n",
        "tomorrow_df['Q12'] = S*r0_r2*((np.sin(L_rad)*np.sin(delta_rad))+((24/np.pi)*np.cos(L_rad)*np.cos(delta_rad)*np.sin(np.pi/24)*np.cos((tomorrow_df.hour-12)*gap)))\n",
        "tomorrow_df['Q12'] = tomorrow_df['Q12'].apply(lambda x: max(0, x))\n",
        "tomorrow_df['Q13'] = S*r0_r2*((np.sin(L_rad)*np.sin(delta_rad))+((24/np.pi)*np.cos(L_rad)*np.cos(delta_rad)*np.sin(np.pi/24)*np.cos((tomorrow_df.hour-13)*gap)))\n",
        "tomorrow_df['Q13'] = tomorrow_df['Q13'].apply(lambda x: max(0, x))\n",
        "tomorrow_df['Q_mean'] = (tomorrow_df['Q12']+tomorrow_df['Q13'])/2"
      ],
      "metadata": {
        "id": "sGT44jnWtxOm"
      },
      "execution_count": 114,
      "outputs": []
    },
    {
      "cell_type": "code",
      "source": [
        "# 'date' 열을 datetime 유형으로 변환\n",
        "tomorrow_df['date'] = pd.to_datetime(tomorrow_df['date'])\n",
        "\n",
        "# 'weekday' 열 추가\n",
        "tomorrow_df['weekday'] = tomorrow_df['date'].dt.dayofweek\n",
        "\n",
        "# one-hot encoding 적용\n",
        "tomorrow_df = pd.get_dummies(tomorrow_df, columns=['weekday'], prefix='weekday')\n",
        "\n",
        "# 모든 요일에 대한 열이 있는지 확인하고, 없는 경우 해당 열 추가\n",
        "for i in range(7):  # 0부터 6까지 각 요일에 대해\n",
        "    col_name = f'weekday_{i}'\n",
        "    if col_name not in tomorrow_df.columns:\n",
        "        tomorrow_df[col_name] = 0  # 없는 요일 열을 0으로 추가\n",
        "\n",
        "# 열 순서 정렬을 위해 열 이름을 정렬\n",
        "sorted_columns = sorted(tomorrow_df.columns)\n",
        "tomorrow_df = tomorrow_df[sorted_columns]\n",
        "\n",
        "tomorrow_df"
      ],
      "metadata": {
        "colab": {
          "base_uri": "https://localhost:8080/",
          "height": 1000
        },
        "id": "5UEaGIMAtygS",
        "outputId": "cf6fc661-f9c6-4cf8-95ca-bbf5947ae540"
      },
      "execution_count": 115,
      "outputs": [
        {
          "output_type": "execute_result",
          "data": {
            "text/plain": [
              "    Cloud  Humidity         Q12         Q13      Q_mean  Rainfall  \\\n",
              "6      10      90.0    0.000000    0.000000    0.000000         2   \n",
              "7      10      90.0    0.000000    0.000000    0.000000         2   \n",
              "8      10      90.0    0.000000    0.000000    0.000000         2   \n",
              "9      10      90.0    0.000000    0.000000    0.000000         2   \n",
              "10     10      90.0    0.000000    0.000000    0.000000         2   \n",
              "11     10      90.0    0.000000    0.000000    0.000000         1   \n",
              "12     10      95.0  146.215644    0.000000   73.107822         1   \n",
              "13     10      95.0  422.011767  146.215644  284.113706         1   \n",
              "14     10      95.0  658.843268  422.011767  540.427517         1   \n",
              "15     10     100.0  840.570469  658.843268  749.706868         1   \n",
              "16     10      95.0  954.808964  840.570469  897.689717         1   \n",
              "17     10      95.0  993.773587  954.808964  974.291276         1   \n",
              "18     10      95.0  954.808964  993.773587  974.291276         1   \n",
              "19     10      95.0  840.570469  954.808964  897.689717         1   \n",
              "20     10      95.0  658.843268  840.570469  749.706868         0   \n",
              "21     10      95.0  422.011767  658.843268  540.427517         1   \n",
              "22     10      95.0  146.215644  422.011767  284.113706         0   \n",
              "23     10      95.0    0.000000  146.215644   73.107822         0   \n",
              "24     10      95.0    0.000000    0.000000    0.000000         0   \n",
              "25     10      95.0    0.000000    0.000000    0.000000         0   \n",
              "26     10      95.0    0.000000    0.000000    0.000000         0   \n",
              "27     10      90.0    0.000000    0.000000    0.000000         0   \n",
              "28     10      90.0    0.000000    0.000000    0.000000         0   \n",
              "29     10      90.0    0.000000    0.000000    0.000000         0   \n",
              "\n",
              "    Temperature  WindDirection  WindSpeed       date  hour  weekday_0  \\\n",
              "6          18.0          176.0        9.1 2024-02-19     1          1   \n",
              "7          18.0          178.0        9.3 2024-02-19     2          1   \n",
              "8          18.0          178.0        9.3 2024-02-19     3          1   \n",
              "9          18.0          184.0        9.2 2024-02-19     4          1   \n",
              "10         17.0          188.0        9.1 2024-02-19     5          1   \n",
              "11         17.0          185.0        8.7 2024-02-19     6          1   \n",
              "12         17.0          201.0        7.9 2024-02-19     7          1   \n",
              "13         17.0          208.0        7.3 2024-02-19     8          1   \n",
              "14         16.0          212.0        6.7 2024-02-19     9          1   \n",
              "15         16.0          207.0        5.9 2024-02-19    10          1   \n",
              "16         16.0          219.0        5.3 2024-02-19    11          1   \n",
              "17         15.0          226.0        5.0 2024-02-19    12          1   \n",
              "18         15.0          233.0        4.6 2024-02-19    13          1   \n",
              "19         16.0          248.0        4.6 2024-02-19    14          1   \n",
              "20         15.0          258.0        4.4 2024-02-19    15          1   \n",
              "21         15.0          278.0        4.1 2024-02-19    16          1   \n",
              "22         14.0          305.0        3.7 2024-02-19    17          1   \n",
              "23         14.0          322.0        4.8 2024-02-19    18          1   \n",
              "24         13.0          332.0        6.2 2024-02-19    19          1   \n",
              "25         12.0          349.0        6.7 2024-02-19    20          1   \n",
              "26         11.0          357.0        6.6 2024-02-19    21          1   \n",
              "27         10.0          358.0        6.9 2024-02-19    22          1   \n",
              "28         10.0            1.0        6.0 2024-02-19    23          1   \n",
              "29          9.0            3.0        6.1 2024-02-19    24          1   \n",
              "\n",
              "    weekday_1  weekday_2  weekday_3  weekday_4  weekday_5  weekday_6  \n",
              "6           0          0          0          0          0          0  \n",
              "7           0          0          0          0          0          0  \n",
              "8           0          0          0          0          0          0  \n",
              "9           0          0          0          0          0          0  \n",
              "10          0          0          0          0          0          0  \n",
              "11          0          0          0          0          0          0  \n",
              "12          0          0          0          0          0          0  \n",
              "13          0          0          0          0          0          0  \n",
              "14          0          0          0          0          0          0  \n",
              "15          0          0          0          0          0          0  \n",
              "16          0          0          0          0          0          0  \n",
              "17          0          0          0          0          0          0  \n",
              "18          0          0          0          0          0          0  \n",
              "19          0          0          0          0          0          0  \n",
              "20          0          0          0          0          0          0  \n",
              "21          0          0          0          0          0          0  \n",
              "22          0          0          0          0          0          0  \n",
              "23          0          0          0          0          0          0  \n",
              "24          0          0          0          0          0          0  \n",
              "25          0          0          0          0          0          0  \n",
              "26          0          0          0          0          0          0  \n",
              "27          0          0          0          0          0          0  \n",
              "28          0          0          0          0          0          0  \n",
              "29          0          0          0          0          0          0  "
            ],
            "text/html": [
              "\n",
              "  <div id=\"df-6450abdd-48c5-4f9c-a925-c2a52523ff13\" class=\"colab-df-container\">\n",
              "    <div>\n",
              "<style scoped>\n",
              "    .dataframe tbody tr th:only-of-type {\n",
              "        vertical-align: middle;\n",
              "    }\n",
              "\n",
              "    .dataframe tbody tr th {\n",
              "        vertical-align: top;\n",
              "    }\n",
              "\n",
              "    .dataframe thead th {\n",
              "        text-align: right;\n",
              "    }\n",
              "</style>\n",
              "<table border=\"1\" class=\"dataframe\">\n",
              "  <thead>\n",
              "    <tr style=\"text-align: right;\">\n",
              "      <th></th>\n",
              "      <th>Cloud</th>\n",
              "      <th>Humidity</th>\n",
              "      <th>Q12</th>\n",
              "      <th>Q13</th>\n",
              "      <th>Q_mean</th>\n",
              "      <th>Rainfall</th>\n",
              "      <th>Temperature</th>\n",
              "      <th>WindDirection</th>\n",
              "      <th>WindSpeed</th>\n",
              "      <th>date</th>\n",
              "      <th>hour</th>\n",
              "      <th>weekday_0</th>\n",
              "      <th>weekday_1</th>\n",
              "      <th>weekday_2</th>\n",
              "      <th>weekday_3</th>\n",
              "      <th>weekday_4</th>\n",
              "      <th>weekday_5</th>\n",
              "      <th>weekday_6</th>\n",
              "    </tr>\n",
              "  </thead>\n",
              "  <tbody>\n",
              "    <tr>\n",
              "      <th>6</th>\n",
              "      <td>10</td>\n",
              "      <td>90.0</td>\n",
              "      <td>0.000000</td>\n",
              "      <td>0.000000</td>\n",
              "      <td>0.000000</td>\n",
              "      <td>2</td>\n",
              "      <td>18.0</td>\n",
              "      <td>176.0</td>\n",
              "      <td>9.1</td>\n",
              "      <td>2024-02-19</td>\n",
              "      <td>1</td>\n",
              "      <td>1</td>\n",
              "      <td>0</td>\n",
              "      <td>0</td>\n",
              "      <td>0</td>\n",
              "      <td>0</td>\n",
              "      <td>0</td>\n",
              "      <td>0</td>\n",
              "    </tr>\n",
              "    <tr>\n",
              "      <th>7</th>\n",
              "      <td>10</td>\n",
              "      <td>90.0</td>\n",
              "      <td>0.000000</td>\n",
              "      <td>0.000000</td>\n",
              "      <td>0.000000</td>\n",
              "      <td>2</td>\n",
              "      <td>18.0</td>\n",
              "      <td>178.0</td>\n",
              "      <td>9.3</td>\n",
              "      <td>2024-02-19</td>\n",
              "      <td>2</td>\n",
              "      <td>1</td>\n",
              "      <td>0</td>\n",
              "      <td>0</td>\n",
              "      <td>0</td>\n",
              "      <td>0</td>\n",
              "      <td>0</td>\n",
              "      <td>0</td>\n",
              "    </tr>\n",
              "    <tr>\n",
              "      <th>8</th>\n",
              "      <td>10</td>\n",
              "      <td>90.0</td>\n",
              "      <td>0.000000</td>\n",
              "      <td>0.000000</td>\n",
              "      <td>0.000000</td>\n",
              "      <td>2</td>\n",
              "      <td>18.0</td>\n",
              "      <td>178.0</td>\n",
              "      <td>9.3</td>\n",
              "      <td>2024-02-19</td>\n",
              "      <td>3</td>\n",
              "      <td>1</td>\n",
              "      <td>0</td>\n",
              "      <td>0</td>\n",
              "      <td>0</td>\n",
              "      <td>0</td>\n",
              "      <td>0</td>\n",
              "      <td>0</td>\n",
              "    </tr>\n",
              "    <tr>\n",
              "      <th>9</th>\n",
              "      <td>10</td>\n",
              "      <td>90.0</td>\n",
              "      <td>0.000000</td>\n",
              "      <td>0.000000</td>\n",
              "      <td>0.000000</td>\n",
              "      <td>2</td>\n",
              "      <td>18.0</td>\n",
              "      <td>184.0</td>\n",
              "      <td>9.2</td>\n",
              "      <td>2024-02-19</td>\n",
              "      <td>4</td>\n",
              "      <td>1</td>\n",
              "      <td>0</td>\n",
              "      <td>0</td>\n",
              "      <td>0</td>\n",
              "      <td>0</td>\n",
              "      <td>0</td>\n",
              "      <td>0</td>\n",
              "    </tr>\n",
              "    <tr>\n",
              "      <th>10</th>\n",
              "      <td>10</td>\n",
              "      <td>90.0</td>\n",
              "      <td>0.000000</td>\n",
              "      <td>0.000000</td>\n",
              "      <td>0.000000</td>\n",
              "      <td>2</td>\n",
              "      <td>17.0</td>\n",
              "      <td>188.0</td>\n",
              "      <td>9.1</td>\n",
              "      <td>2024-02-19</td>\n",
              "      <td>5</td>\n",
              "      <td>1</td>\n",
              "      <td>0</td>\n",
              "      <td>0</td>\n",
              "      <td>0</td>\n",
              "      <td>0</td>\n",
              "      <td>0</td>\n",
              "      <td>0</td>\n",
              "    </tr>\n",
              "    <tr>\n",
              "      <th>11</th>\n",
              "      <td>10</td>\n",
              "      <td>90.0</td>\n",
              "      <td>0.000000</td>\n",
              "      <td>0.000000</td>\n",
              "      <td>0.000000</td>\n",
              "      <td>1</td>\n",
              "      <td>17.0</td>\n",
              "      <td>185.0</td>\n",
              "      <td>8.7</td>\n",
              "      <td>2024-02-19</td>\n",
              "      <td>6</td>\n",
              "      <td>1</td>\n",
              "      <td>0</td>\n",
              "      <td>0</td>\n",
              "      <td>0</td>\n",
              "      <td>0</td>\n",
              "      <td>0</td>\n",
              "      <td>0</td>\n",
              "    </tr>\n",
              "    <tr>\n",
              "      <th>12</th>\n",
              "      <td>10</td>\n",
              "      <td>95.0</td>\n",
              "      <td>146.215644</td>\n",
              "      <td>0.000000</td>\n",
              "      <td>73.107822</td>\n",
              "      <td>1</td>\n",
              "      <td>17.0</td>\n",
              "      <td>201.0</td>\n",
              "      <td>7.9</td>\n",
              "      <td>2024-02-19</td>\n",
              "      <td>7</td>\n",
              "      <td>1</td>\n",
              "      <td>0</td>\n",
              "      <td>0</td>\n",
              "      <td>0</td>\n",
              "      <td>0</td>\n",
              "      <td>0</td>\n",
              "      <td>0</td>\n",
              "    </tr>\n",
              "    <tr>\n",
              "      <th>13</th>\n",
              "      <td>10</td>\n",
              "      <td>95.0</td>\n",
              "      <td>422.011767</td>\n",
              "      <td>146.215644</td>\n",
              "      <td>284.113706</td>\n",
              "      <td>1</td>\n",
              "      <td>17.0</td>\n",
              "      <td>208.0</td>\n",
              "      <td>7.3</td>\n",
              "      <td>2024-02-19</td>\n",
              "      <td>8</td>\n",
              "      <td>1</td>\n",
              "      <td>0</td>\n",
              "      <td>0</td>\n",
              "      <td>0</td>\n",
              "      <td>0</td>\n",
              "      <td>0</td>\n",
              "      <td>0</td>\n",
              "    </tr>\n",
              "    <tr>\n",
              "      <th>14</th>\n",
              "      <td>10</td>\n",
              "      <td>95.0</td>\n",
              "      <td>658.843268</td>\n",
              "      <td>422.011767</td>\n",
              "      <td>540.427517</td>\n",
              "      <td>1</td>\n",
              "      <td>16.0</td>\n",
              "      <td>212.0</td>\n",
              "      <td>6.7</td>\n",
              "      <td>2024-02-19</td>\n",
              "      <td>9</td>\n",
              "      <td>1</td>\n",
              "      <td>0</td>\n",
              "      <td>0</td>\n",
              "      <td>0</td>\n",
              "      <td>0</td>\n",
              "      <td>0</td>\n",
              "      <td>0</td>\n",
              "    </tr>\n",
              "    <tr>\n",
              "      <th>15</th>\n",
              "      <td>10</td>\n",
              "      <td>100.0</td>\n",
              "      <td>840.570469</td>\n",
              "      <td>658.843268</td>\n",
              "      <td>749.706868</td>\n",
              "      <td>1</td>\n",
              "      <td>16.0</td>\n",
              "      <td>207.0</td>\n",
              "      <td>5.9</td>\n",
              "      <td>2024-02-19</td>\n",
              "      <td>10</td>\n",
              "      <td>1</td>\n",
              "      <td>0</td>\n",
              "      <td>0</td>\n",
              "      <td>0</td>\n",
              "      <td>0</td>\n",
              "      <td>0</td>\n",
              "      <td>0</td>\n",
              "    </tr>\n",
              "    <tr>\n",
              "      <th>16</th>\n",
              "      <td>10</td>\n",
              "      <td>95.0</td>\n",
              "      <td>954.808964</td>\n",
              "      <td>840.570469</td>\n",
              "      <td>897.689717</td>\n",
              "      <td>1</td>\n",
              "      <td>16.0</td>\n",
              "      <td>219.0</td>\n",
              "      <td>5.3</td>\n",
              "      <td>2024-02-19</td>\n",
              "      <td>11</td>\n",
              "      <td>1</td>\n",
              "      <td>0</td>\n",
              "      <td>0</td>\n",
              "      <td>0</td>\n",
              "      <td>0</td>\n",
              "      <td>0</td>\n",
              "      <td>0</td>\n",
              "    </tr>\n",
              "    <tr>\n",
              "      <th>17</th>\n",
              "      <td>10</td>\n",
              "      <td>95.0</td>\n",
              "      <td>993.773587</td>\n",
              "      <td>954.808964</td>\n",
              "      <td>974.291276</td>\n",
              "      <td>1</td>\n",
              "      <td>15.0</td>\n",
              "      <td>226.0</td>\n",
              "      <td>5.0</td>\n",
              "      <td>2024-02-19</td>\n",
              "      <td>12</td>\n",
              "      <td>1</td>\n",
              "      <td>0</td>\n",
              "      <td>0</td>\n",
              "      <td>0</td>\n",
              "      <td>0</td>\n",
              "      <td>0</td>\n",
              "      <td>0</td>\n",
              "    </tr>\n",
              "    <tr>\n",
              "      <th>18</th>\n",
              "      <td>10</td>\n",
              "      <td>95.0</td>\n",
              "      <td>954.808964</td>\n",
              "      <td>993.773587</td>\n",
              "      <td>974.291276</td>\n",
              "      <td>1</td>\n",
              "      <td>15.0</td>\n",
              "      <td>233.0</td>\n",
              "      <td>4.6</td>\n",
              "      <td>2024-02-19</td>\n",
              "      <td>13</td>\n",
              "      <td>1</td>\n",
              "      <td>0</td>\n",
              "      <td>0</td>\n",
              "      <td>0</td>\n",
              "      <td>0</td>\n",
              "      <td>0</td>\n",
              "      <td>0</td>\n",
              "    </tr>\n",
              "    <tr>\n",
              "      <th>19</th>\n",
              "      <td>10</td>\n",
              "      <td>95.0</td>\n",
              "      <td>840.570469</td>\n",
              "      <td>954.808964</td>\n",
              "      <td>897.689717</td>\n",
              "      <td>1</td>\n",
              "      <td>16.0</td>\n",
              "      <td>248.0</td>\n",
              "      <td>4.6</td>\n",
              "      <td>2024-02-19</td>\n",
              "      <td>14</td>\n",
              "      <td>1</td>\n",
              "      <td>0</td>\n",
              "      <td>0</td>\n",
              "      <td>0</td>\n",
              "      <td>0</td>\n",
              "      <td>0</td>\n",
              "      <td>0</td>\n",
              "    </tr>\n",
              "    <tr>\n",
              "      <th>20</th>\n",
              "      <td>10</td>\n",
              "      <td>95.0</td>\n",
              "      <td>658.843268</td>\n",
              "      <td>840.570469</td>\n",
              "      <td>749.706868</td>\n",
              "      <td>0</td>\n",
              "      <td>15.0</td>\n",
              "      <td>258.0</td>\n",
              "      <td>4.4</td>\n",
              "      <td>2024-02-19</td>\n",
              "      <td>15</td>\n",
              "      <td>1</td>\n",
              "      <td>0</td>\n",
              "      <td>0</td>\n",
              "      <td>0</td>\n",
              "      <td>0</td>\n",
              "      <td>0</td>\n",
              "      <td>0</td>\n",
              "    </tr>\n",
              "    <tr>\n",
              "      <th>21</th>\n",
              "      <td>10</td>\n",
              "      <td>95.0</td>\n",
              "      <td>422.011767</td>\n",
              "      <td>658.843268</td>\n",
              "      <td>540.427517</td>\n",
              "      <td>1</td>\n",
              "      <td>15.0</td>\n",
              "      <td>278.0</td>\n",
              "      <td>4.1</td>\n",
              "      <td>2024-02-19</td>\n",
              "      <td>16</td>\n",
              "      <td>1</td>\n",
              "      <td>0</td>\n",
              "      <td>0</td>\n",
              "      <td>0</td>\n",
              "      <td>0</td>\n",
              "      <td>0</td>\n",
              "      <td>0</td>\n",
              "    </tr>\n",
              "    <tr>\n",
              "      <th>22</th>\n",
              "      <td>10</td>\n",
              "      <td>95.0</td>\n",
              "      <td>146.215644</td>\n",
              "      <td>422.011767</td>\n",
              "      <td>284.113706</td>\n",
              "      <td>0</td>\n",
              "      <td>14.0</td>\n",
              "      <td>305.0</td>\n",
              "      <td>3.7</td>\n",
              "      <td>2024-02-19</td>\n",
              "      <td>17</td>\n",
              "      <td>1</td>\n",
              "      <td>0</td>\n",
              "      <td>0</td>\n",
              "      <td>0</td>\n",
              "      <td>0</td>\n",
              "      <td>0</td>\n",
              "      <td>0</td>\n",
              "    </tr>\n",
              "    <tr>\n",
              "      <th>23</th>\n",
              "      <td>10</td>\n",
              "      <td>95.0</td>\n",
              "      <td>0.000000</td>\n",
              "      <td>146.215644</td>\n",
              "      <td>73.107822</td>\n",
              "      <td>0</td>\n",
              "      <td>14.0</td>\n",
              "      <td>322.0</td>\n",
              "      <td>4.8</td>\n",
              "      <td>2024-02-19</td>\n",
              "      <td>18</td>\n",
              "      <td>1</td>\n",
              "      <td>0</td>\n",
              "      <td>0</td>\n",
              "      <td>0</td>\n",
              "      <td>0</td>\n",
              "      <td>0</td>\n",
              "      <td>0</td>\n",
              "    </tr>\n",
              "    <tr>\n",
              "      <th>24</th>\n",
              "      <td>10</td>\n",
              "      <td>95.0</td>\n",
              "      <td>0.000000</td>\n",
              "      <td>0.000000</td>\n",
              "      <td>0.000000</td>\n",
              "      <td>0</td>\n",
              "      <td>13.0</td>\n",
              "      <td>332.0</td>\n",
              "      <td>6.2</td>\n",
              "      <td>2024-02-19</td>\n",
              "      <td>19</td>\n",
              "      <td>1</td>\n",
              "      <td>0</td>\n",
              "      <td>0</td>\n",
              "      <td>0</td>\n",
              "      <td>0</td>\n",
              "      <td>0</td>\n",
              "      <td>0</td>\n",
              "    </tr>\n",
              "    <tr>\n",
              "      <th>25</th>\n",
              "      <td>10</td>\n",
              "      <td>95.0</td>\n",
              "      <td>0.000000</td>\n",
              "      <td>0.000000</td>\n",
              "      <td>0.000000</td>\n",
              "      <td>0</td>\n",
              "      <td>12.0</td>\n",
              "      <td>349.0</td>\n",
              "      <td>6.7</td>\n",
              "      <td>2024-02-19</td>\n",
              "      <td>20</td>\n",
              "      <td>1</td>\n",
              "      <td>0</td>\n",
              "      <td>0</td>\n",
              "      <td>0</td>\n",
              "      <td>0</td>\n",
              "      <td>0</td>\n",
              "      <td>0</td>\n",
              "    </tr>\n",
              "    <tr>\n",
              "      <th>26</th>\n",
              "      <td>10</td>\n",
              "      <td>95.0</td>\n",
              "      <td>0.000000</td>\n",
              "      <td>0.000000</td>\n",
              "      <td>0.000000</td>\n",
              "      <td>0</td>\n",
              "      <td>11.0</td>\n",
              "      <td>357.0</td>\n",
              "      <td>6.6</td>\n",
              "      <td>2024-02-19</td>\n",
              "      <td>21</td>\n",
              "      <td>1</td>\n",
              "      <td>0</td>\n",
              "      <td>0</td>\n",
              "      <td>0</td>\n",
              "      <td>0</td>\n",
              "      <td>0</td>\n",
              "      <td>0</td>\n",
              "    </tr>\n",
              "    <tr>\n",
              "      <th>27</th>\n",
              "      <td>10</td>\n",
              "      <td>90.0</td>\n",
              "      <td>0.000000</td>\n",
              "      <td>0.000000</td>\n",
              "      <td>0.000000</td>\n",
              "      <td>0</td>\n",
              "      <td>10.0</td>\n",
              "      <td>358.0</td>\n",
              "      <td>6.9</td>\n",
              "      <td>2024-02-19</td>\n",
              "      <td>22</td>\n",
              "      <td>1</td>\n",
              "      <td>0</td>\n",
              "      <td>0</td>\n",
              "      <td>0</td>\n",
              "      <td>0</td>\n",
              "      <td>0</td>\n",
              "      <td>0</td>\n",
              "    </tr>\n",
              "    <tr>\n",
              "      <th>28</th>\n",
              "      <td>10</td>\n",
              "      <td>90.0</td>\n",
              "      <td>0.000000</td>\n",
              "      <td>0.000000</td>\n",
              "      <td>0.000000</td>\n",
              "      <td>0</td>\n",
              "      <td>10.0</td>\n",
              "      <td>1.0</td>\n",
              "      <td>6.0</td>\n",
              "      <td>2024-02-19</td>\n",
              "      <td>23</td>\n",
              "      <td>1</td>\n",
              "      <td>0</td>\n",
              "      <td>0</td>\n",
              "      <td>0</td>\n",
              "      <td>0</td>\n",
              "      <td>0</td>\n",
              "      <td>0</td>\n",
              "    </tr>\n",
              "    <tr>\n",
              "      <th>29</th>\n",
              "      <td>10</td>\n",
              "      <td>90.0</td>\n",
              "      <td>0.000000</td>\n",
              "      <td>0.000000</td>\n",
              "      <td>0.000000</td>\n",
              "      <td>0</td>\n",
              "      <td>9.0</td>\n",
              "      <td>3.0</td>\n",
              "      <td>6.1</td>\n",
              "      <td>2024-02-19</td>\n",
              "      <td>24</td>\n",
              "      <td>1</td>\n",
              "      <td>0</td>\n",
              "      <td>0</td>\n",
              "      <td>0</td>\n",
              "      <td>0</td>\n",
              "      <td>0</td>\n",
              "      <td>0</td>\n",
              "    </tr>\n",
              "  </tbody>\n",
              "</table>\n",
              "</div>\n",
              "    <div class=\"colab-df-buttons\">\n",
              "\n",
              "  <div class=\"colab-df-container\">\n",
              "    <button class=\"colab-df-convert\" onclick=\"convertToInteractive('df-6450abdd-48c5-4f9c-a925-c2a52523ff13')\"\n",
              "            title=\"Convert this dataframe to an interactive table.\"\n",
              "            style=\"display:none;\">\n",
              "\n",
              "  <svg xmlns=\"http://www.w3.org/2000/svg\" height=\"24px\" viewBox=\"0 -960 960 960\">\n",
              "    <path d=\"M120-120v-720h720v720H120Zm60-500h600v-160H180v160Zm220 220h160v-160H400v160Zm0 220h160v-160H400v160ZM180-400h160v-160H180v160Zm440 0h160v-160H620v160ZM180-180h160v-160H180v160Zm440 0h160v-160H620v160Z\"/>\n",
              "  </svg>\n",
              "    </button>\n",
              "\n",
              "  <style>\n",
              "    .colab-df-container {\n",
              "      display:flex;\n",
              "      gap: 12px;\n",
              "    }\n",
              "\n",
              "    .colab-df-convert {\n",
              "      background-color: #E8F0FE;\n",
              "      border: none;\n",
              "      border-radius: 50%;\n",
              "      cursor: pointer;\n",
              "      display: none;\n",
              "      fill: #1967D2;\n",
              "      height: 32px;\n",
              "      padding: 0 0 0 0;\n",
              "      width: 32px;\n",
              "    }\n",
              "\n",
              "    .colab-df-convert:hover {\n",
              "      background-color: #E2EBFA;\n",
              "      box-shadow: 0px 1px 2px rgba(60, 64, 67, 0.3), 0px 1px 3px 1px rgba(60, 64, 67, 0.15);\n",
              "      fill: #174EA6;\n",
              "    }\n",
              "\n",
              "    .colab-df-buttons div {\n",
              "      margin-bottom: 4px;\n",
              "    }\n",
              "\n",
              "    [theme=dark] .colab-df-convert {\n",
              "      background-color: #3B4455;\n",
              "      fill: #D2E3FC;\n",
              "    }\n",
              "\n",
              "    [theme=dark] .colab-df-convert:hover {\n",
              "      background-color: #434B5C;\n",
              "      box-shadow: 0px 1px 3px 1px rgba(0, 0, 0, 0.15);\n",
              "      filter: drop-shadow(0px 1px 2px rgba(0, 0, 0, 0.3));\n",
              "      fill: #FFFFFF;\n",
              "    }\n",
              "  </style>\n",
              "\n",
              "    <script>\n",
              "      const buttonEl =\n",
              "        document.querySelector('#df-6450abdd-48c5-4f9c-a925-c2a52523ff13 button.colab-df-convert');\n",
              "      buttonEl.style.display =\n",
              "        google.colab.kernel.accessAllowed ? 'block' : 'none';\n",
              "\n",
              "      async function convertToInteractive(key) {\n",
              "        const element = document.querySelector('#df-6450abdd-48c5-4f9c-a925-c2a52523ff13');\n",
              "        const dataTable =\n",
              "          await google.colab.kernel.invokeFunction('convertToInteractive',\n",
              "                                                    [key], {});\n",
              "        if (!dataTable) return;\n",
              "\n",
              "        const docLinkHtml = 'Like what you see? Visit the ' +\n",
              "          '<a target=\"_blank\" href=https://colab.research.google.com/notebooks/data_table.ipynb>data table notebook</a>'\n",
              "          + ' to learn more about interactive tables.';\n",
              "        element.innerHTML = '';\n",
              "        dataTable['output_type'] = 'display_data';\n",
              "        await google.colab.output.renderOutput(dataTable, element);\n",
              "        const docLink = document.createElement('div');\n",
              "        docLink.innerHTML = docLinkHtml;\n",
              "        element.appendChild(docLink);\n",
              "      }\n",
              "    </script>\n",
              "  </div>\n",
              "\n",
              "\n",
              "<div id=\"df-51b68b4c-105e-479d-98ff-2312e303b2b8\">\n",
              "  <button class=\"colab-df-quickchart\" onclick=\"quickchart('df-51b68b4c-105e-479d-98ff-2312e303b2b8')\"\n",
              "            title=\"Suggest charts\"\n",
              "            style=\"display:none;\">\n",
              "\n",
              "<svg xmlns=\"http://www.w3.org/2000/svg\" height=\"24px\"viewBox=\"0 0 24 24\"\n",
              "     width=\"24px\">\n",
              "    <g>\n",
              "        <path d=\"M19 3H5c-1.1 0-2 .9-2 2v14c0 1.1.9 2 2 2h14c1.1 0 2-.9 2-2V5c0-1.1-.9-2-2-2zM9 17H7v-7h2v7zm4 0h-2V7h2v10zm4 0h-2v-4h2v4z\"/>\n",
              "    </g>\n",
              "</svg>\n",
              "  </button>\n",
              "\n",
              "<style>\n",
              "  .colab-df-quickchart {\n",
              "      --bg-color: #E8F0FE;\n",
              "      --fill-color: #1967D2;\n",
              "      --hover-bg-color: #E2EBFA;\n",
              "      --hover-fill-color: #174EA6;\n",
              "      --disabled-fill-color: #AAA;\n",
              "      --disabled-bg-color: #DDD;\n",
              "  }\n",
              "\n",
              "  [theme=dark] .colab-df-quickchart {\n",
              "      --bg-color: #3B4455;\n",
              "      --fill-color: #D2E3FC;\n",
              "      --hover-bg-color: #434B5C;\n",
              "      --hover-fill-color: #FFFFFF;\n",
              "      --disabled-bg-color: #3B4455;\n",
              "      --disabled-fill-color: #666;\n",
              "  }\n",
              "\n",
              "  .colab-df-quickchart {\n",
              "    background-color: var(--bg-color);\n",
              "    border: none;\n",
              "    border-radius: 50%;\n",
              "    cursor: pointer;\n",
              "    display: none;\n",
              "    fill: var(--fill-color);\n",
              "    height: 32px;\n",
              "    padding: 0;\n",
              "    width: 32px;\n",
              "  }\n",
              "\n",
              "  .colab-df-quickchart:hover {\n",
              "    background-color: var(--hover-bg-color);\n",
              "    box-shadow: 0 1px 2px rgba(60, 64, 67, 0.3), 0 1px 3px 1px rgba(60, 64, 67, 0.15);\n",
              "    fill: var(--button-hover-fill-color);\n",
              "  }\n",
              "\n",
              "  .colab-df-quickchart-complete:disabled,\n",
              "  .colab-df-quickchart-complete:disabled:hover {\n",
              "    background-color: var(--disabled-bg-color);\n",
              "    fill: var(--disabled-fill-color);\n",
              "    box-shadow: none;\n",
              "  }\n",
              "\n",
              "  .colab-df-spinner {\n",
              "    border: 2px solid var(--fill-color);\n",
              "    border-color: transparent;\n",
              "    border-bottom-color: var(--fill-color);\n",
              "    animation:\n",
              "      spin 1s steps(1) infinite;\n",
              "  }\n",
              "\n",
              "  @keyframes spin {\n",
              "    0% {\n",
              "      border-color: transparent;\n",
              "      border-bottom-color: var(--fill-color);\n",
              "      border-left-color: var(--fill-color);\n",
              "    }\n",
              "    20% {\n",
              "      border-color: transparent;\n",
              "      border-left-color: var(--fill-color);\n",
              "      border-top-color: var(--fill-color);\n",
              "    }\n",
              "    30% {\n",
              "      border-color: transparent;\n",
              "      border-left-color: var(--fill-color);\n",
              "      border-top-color: var(--fill-color);\n",
              "      border-right-color: var(--fill-color);\n",
              "    }\n",
              "    40% {\n",
              "      border-color: transparent;\n",
              "      border-right-color: var(--fill-color);\n",
              "      border-top-color: var(--fill-color);\n",
              "    }\n",
              "    60% {\n",
              "      border-color: transparent;\n",
              "      border-right-color: var(--fill-color);\n",
              "    }\n",
              "    80% {\n",
              "      border-color: transparent;\n",
              "      border-right-color: var(--fill-color);\n",
              "      border-bottom-color: var(--fill-color);\n",
              "    }\n",
              "    90% {\n",
              "      border-color: transparent;\n",
              "      border-bottom-color: var(--fill-color);\n",
              "    }\n",
              "  }\n",
              "</style>\n",
              "\n",
              "  <script>\n",
              "    async function quickchart(key) {\n",
              "      const quickchartButtonEl =\n",
              "        document.querySelector('#' + key + ' button');\n",
              "      quickchartButtonEl.disabled = true;  // To prevent multiple clicks.\n",
              "      quickchartButtonEl.classList.add('colab-df-spinner');\n",
              "      try {\n",
              "        const charts = await google.colab.kernel.invokeFunction(\n",
              "            'suggestCharts', [key], {});\n",
              "      } catch (error) {\n",
              "        console.error('Error during call to suggestCharts:', error);\n",
              "      }\n",
              "      quickchartButtonEl.classList.remove('colab-df-spinner');\n",
              "      quickchartButtonEl.classList.add('colab-df-quickchart-complete');\n",
              "    }\n",
              "    (() => {\n",
              "      let quickchartButtonEl =\n",
              "        document.querySelector('#df-51b68b4c-105e-479d-98ff-2312e303b2b8 button');\n",
              "      quickchartButtonEl.style.display =\n",
              "        google.colab.kernel.accessAllowed ? 'block' : 'none';\n",
              "    })();\n",
              "  </script>\n",
              "</div>\n",
              "\n",
              "  <div id=\"id_d3a48d28-6517-4ba3-8900-718655e2c7b4\">\n",
              "    <style>\n",
              "      .colab-df-generate {\n",
              "        background-color: #E8F0FE;\n",
              "        border: none;\n",
              "        border-radius: 50%;\n",
              "        cursor: pointer;\n",
              "        display: none;\n",
              "        fill: #1967D2;\n",
              "        height: 32px;\n",
              "        padding: 0 0 0 0;\n",
              "        width: 32px;\n",
              "      }\n",
              "\n",
              "      .colab-df-generate:hover {\n",
              "        background-color: #E2EBFA;\n",
              "        box-shadow: 0px 1px 2px rgba(60, 64, 67, 0.3), 0px 1px 3px 1px rgba(60, 64, 67, 0.15);\n",
              "        fill: #174EA6;\n",
              "      }\n",
              "\n",
              "      [theme=dark] .colab-df-generate {\n",
              "        background-color: #3B4455;\n",
              "        fill: #D2E3FC;\n",
              "      }\n",
              "\n",
              "      [theme=dark] .colab-df-generate:hover {\n",
              "        background-color: #434B5C;\n",
              "        box-shadow: 0px 1px 3px 1px rgba(0, 0, 0, 0.15);\n",
              "        filter: drop-shadow(0px 1px 2px rgba(0, 0, 0, 0.3));\n",
              "        fill: #FFFFFF;\n",
              "      }\n",
              "    </style>\n",
              "    <button class=\"colab-df-generate\" onclick=\"generateWithVariable('tomorrow_df')\"\n",
              "            title=\"Generate code using this dataframe.\"\n",
              "            style=\"display:none;\">\n",
              "\n",
              "  <svg xmlns=\"http://www.w3.org/2000/svg\" height=\"24px\"viewBox=\"0 0 24 24\"\n",
              "       width=\"24px\">\n",
              "    <path d=\"M7,19H8.4L18.45,9,17,7.55,7,17.6ZM5,21V16.75L18.45,3.32a2,2,0,0,1,2.83,0l1.4,1.43a1.91,1.91,0,0,1,.58,1.4,1.91,1.91,0,0,1-.58,1.4L9.25,21ZM18.45,9,17,7.55Zm-12,3A5.31,5.31,0,0,0,4.9,8.1,5.31,5.31,0,0,0,1,6.5,5.31,5.31,0,0,0,4.9,4.9,5.31,5.31,0,0,0,6.5,1,5.31,5.31,0,0,0,8.1,4.9,5.31,5.31,0,0,0,12,6.5,5.46,5.46,0,0,0,6.5,12Z\"/>\n",
              "  </svg>\n",
              "    </button>\n",
              "    <script>\n",
              "      (() => {\n",
              "      const buttonEl =\n",
              "        document.querySelector('#id_d3a48d28-6517-4ba3-8900-718655e2c7b4 button.colab-df-generate');\n",
              "      buttonEl.style.display =\n",
              "        google.colab.kernel.accessAllowed ? 'block' : 'none';\n",
              "\n",
              "      buttonEl.onclick = () => {\n",
              "        google.colab.notebook.generateWithVariable('tomorrow_df');\n",
              "      }\n",
              "      })();\n",
              "    </script>\n",
              "  </div>\n",
              "\n",
              "    </div>\n",
              "  </div>\n"
            ],
            "application/vnd.google.colaboratory.intrinsic+json": {
              "type": "dataframe",
              "variable_name": "tomorrow_df",
              "summary": "{\n  \"name\": \"tomorrow_df\",\n  \"rows\": 24,\n  \"fields\": [\n    {\n      \"column\": \"Cloud\",\n      \"properties\": {\n        \"dtype\": \"number\",\n        \"std\": 0,\n        \"min\": 10,\n        \"max\": 10,\n        \"samples\": [\n          10\n        ],\n        \"num_unique_values\": 1,\n        \"semantic_type\": \"\",\n        \"description\": \"\"\n      }\n    },\n    {\n      \"column\": \"Humidity\",\n      \"properties\": {\n        \"dtype\": \"number\",\n        \"std\": 2.8232985128663994,\n        \"min\": 90.0,\n        \"max\": 100.0,\n        \"samples\": [\n          90.0\n        ],\n        \"num_unique_values\": 3,\n        \"semantic_type\": \"\",\n        \"description\": \"\"\n      }\n    },\n    {\n      \"column\": \"Q12\",\n      \"properties\": {\n        \"dtype\": \"number\",\n        \"std\": 385.99559419190643,\n        \"min\": 0.0,\n        \"max\": 993.7735870830955,\n        \"samples\": [\n          0.0\n        ],\n        \"num_unique_values\": 7,\n        \"semantic_type\": \"\",\n        \"description\": \"\"\n      }\n    },\n    {\n      \"column\": \"Q13\",\n      \"properties\": {\n        \"dtype\": \"number\",\n        \"std\": 385.99559419190643,\n        \"min\": 0.0,\n        \"max\": 993.7735870830955,\n        \"samples\": [\n          0.0\n        ],\n        \"num_unique_values\": 7,\n        \"semantic_type\": \"\",\n        \"description\": \"\"\n      }\n    },\n    {\n      \"column\": \"Q_mean\",\n      \"properties\": {\n        \"dtype\": \"number\",\n        \"std\": 380.2897755200209,\n        \"min\": 0.0,\n        \"max\": 974.291275516091,\n        \"samples\": [\n          0.0\n        ],\n        \"num_unique_values\": 7,\n        \"semantic_type\": \"\",\n        \"description\": \"\"\n      }\n    },\n    {\n      \"column\": \"Rainfall\",\n      \"properties\": {\n        \"dtype\": \"number\",\n        \"std\": 0,\n        \"min\": 0,\n        \"max\": 2,\n        \"samples\": [\n          2\n        ],\n        \"num_unique_values\": 3,\n        \"semantic_type\": \"\",\n        \"description\": \"\"\n      }\n    },\n    {\n      \"column\": \"Temperature\",\n      \"properties\": {\n        \"dtype\": \"number\",\n        \"std\": 2.739604858845285,\n        \"min\": 9.0,\n        \"max\": 18.0,\n        \"samples\": [\n          10.0\n        ],\n        \"num_unique_values\": 10,\n        \"semantic_type\": \"\",\n        \"description\": \"\"\n      }\n    },\n    {\n      \"column\": \"WindDirection\",\n      \"properties\": {\n        \"dtype\": \"number\",\n        \"std\": 91.97364934541329,\n        \"min\": 1.0,\n        \"max\": 358.0,\n        \"samples\": [\n          305.0\n        ],\n        \"num_unique_values\": 23,\n        \"semantic_type\": \"\",\n        \"description\": \"\"\n      }\n    },\n    {\n      \"column\": \"WindSpeed\",\n      \"properties\": {\n        \"dtype\": \"number\",\n        \"std\": 1.8268082167730595,\n        \"min\": 3.7,\n        \"max\": 9.3,\n        \"samples\": [\n          9.1\n        ],\n        \"num_unique_values\": 20,\n        \"semantic_type\": \"\",\n        \"description\": \"\"\n      }\n    },\n    {\n      \"column\": \"date\",\n      \"properties\": {\n        \"dtype\": \"date\",\n        \"min\": \"2024-02-19 00:00:00\",\n        \"max\": \"2024-02-19 00:00:00\",\n        \"samples\": [\n          \"2024-02-19 00:00:00\"\n        ],\n        \"num_unique_values\": 1,\n        \"semantic_type\": \"\",\n        \"description\": \"\"\n      }\n    },\n    {\n      \"column\": \"hour\",\n      \"properties\": {\n        \"dtype\": \"number\",\n        \"std\": 7,\n        \"min\": 1,\n        \"max\": 24,\n        \"samples\": [\n          9\n        ],\n        \"num_unique_values\": 24,\n        \"semantic_type\": \"\",\n        \"description\": \"\"\n      }\n    },\n    {\n      \"column\": \"weekday_0\",\n      \"properties\": {\n        \"dtype\": \"uint8\",\n        \"samples\": [\n          1\n        ],\n        \"num_unique_values\": 1,\n        \"semantic_type\": \"\",\n        \"description\": \"\"\n      }\n    },\n    {\n      \"column\": \"weekday_1\",\n      \"properties\": {\n        \"dtype\": \"number\",\n        \"std\": 0,\n        \"min\": 0,\n        \"max\": 0,\n        \"samples\": [\n          0\n        ],\n        \"num_unique_values\": 1,\n        \"semantic_type\": \"\",\n        \"description\": \"\"\n      }\n    },\n    {\n      \"column\": \"weekday_2\",\n      \"properties\": {\n        \"dtype\": \"number\",\n        \"std\": 0,\n        \"min\": 0,\n        \"max\": 0,\n        \"samples\": [\n          0\n        ],\n        \"num_unique_values\": 1,\n        \"semantic_type\": \"\",\n        \"description\": \"\"\n      }\n    },\n    {\n      \"column\": \"weekday_3\",\n      \"properties\": {\n        \"dtype\": \"number\",\n        \"std\": 0,\n        \"min\": 0,\n        \"max\": 0,\n        \"samples\": [\n          0\n        ],\n        \"num_unique_values\": 1,\n        \"semantic_type\": \"\",\n        \"description\": \"\"\n      }\n    },\n    {\n      \"column\": \"weekday_4\",\n      \"properties\": {\n        \"dtype\": \"number\",\n        \"std\": 0,\n        \"min\": 0,\n        \"max\": 0,\n        \"samples\": [\n          0\n        ],\n        \"num_unique_values\": 1,\n        \"semantic_type\": \"\",\n        \"description\": \"\"\n      }\n    },\n    {\n      \"column\": \"weekday_5\",\n      \"properties\": {\n        \"dtype\": \"number\",\n        \"std\": 0,\n        \"min\": 0,\n        \"max\": 0,\n        \"samples\": [\n          0\n        ],\n        \"num_unique_values\": 1,\n        \"semantic_type\": \"\",\n        \"description\": \"\"\n      }\n    },\n    {\n      \"column\": \"weekday_6\",\n      \"properties\": {\n        \"dtype\": \"number\",\n        \"std\": 0,\n        \"min\": 0,\n        \"max\": 0,\n        \"samples\": [\n          0\n        ],\n        \"num_unique_values\": 1,\n        \"semantic_type\": \"\",\n        \"description\": \"\"\n      }\n    }\n  ]\n}"
            }
          },
          "metadata": {},
          "execution_count": 115
        }
      ]
    },
    {
      "cell_type": "code",
      "source": [
        "# columns_to_scale 정의\n",
        "columns_to_scale = ['WindDirection', 'WindSpeed', 'Cloud', 'Rainfall', 'Humidity', 'Temperature', 'Q12', 'Q13', 'Q_mean', 'weekday_0', 'weekday_1', 'weekday_2', 'weekday_3', 'weekday_4', 'weekday_5', 'weekday_6']\n",
        "\n",
        "# test 세트에도 동일한 scaling 적용\n",
        "tomorrow_df[columns_to_scale] = ss.transform(tomorrow_df[columns_to_scale])"
      ],
      "metadata": {
        "id": "YGJR5FX9t00h"
      },
      "execution_count": 116,
      "outputs": []
    },
    {
      "cell_type": "code",
      "source": [
        "tomorrow_df.describe()"
      ],
      "metadata": {
        "colab": {
          "base_uri": "https://localhost:8080/",
          "height": 424
        },
        "id": "L_QARlqXufOS",
        "outputId": "19799203-a944-4d0a-e8c5-66ce4a3f32cd"
      },
      "execution_count": 117,
      "outputs": [
        {
          "output_type": "execute_result",
          "data": {
            "text/plain": [
              "           Cloud   Humidity        Q12        Q13     Q_mean   Rainfall  \\\n",
              "count  24.000000  24.000000  24.000000  24.000000  24.000000  24.000000   \n",
              "mean    1.085849   1.543015  -0.139709  -0.139648  -0.141469   2.373948   \n",
              "std     0.000000   0.193892   0.879613   0.879654   0.877739   2.391527   \n",
              "min     1.085849   1.314095  -0.808036  -0.808006  -0.818378  -0.243563   \n",
              "25%     1.085849   1.314095  -0.808036  -0.808006  -0.818378  -0.243563   \n",
              "50%     1.085849   1.657475  -0.808036  -0.808006  -0.734009   2.897451   \n",
              "75%     1.085849   1.657475   0.693347   0.693447   0.549730   2.897451   \n",
              "max     1.085849   2.000854   1.456591   1.456727   1.430364   6.038464   \n",
              "\n",
              "       Temperature  WindDirection  WindSpeed       hour  weekday_0  weekday_1  \\\n",
              "count    24.000000      24.000000  24.000000  24.000000  24.000000  24.000000   \n",
              "mean     -0.293177       0.398446   1.749412  12.500000   2.454073  -0.407677   \n",
              "std       0.332864       0.816238   0.991238   7.071068   0.000000   0.000000   \n",
              "min      -1.006994      -1.591704   0.196200   1.000000   2.454073  -0.407677   \n",
              "25%      -0.429865       0.039021   0.874459   6.750000   2.454073  -0.407677   \n",
              "50%      -0.217239       0.311917   1.661238  12.500000   2.454073  -0.407677   \n",
              "75%      -0.034987       0.926490   2.583670  18.250000   2.454073  -0.407677   \n",
              "max       0.086513       1.576561   3.234798  24.000000   2.454073  -0.407677   \n",
              "\n",
              "       weekday_2  weekday_3  weekday_4  weekday_5     weekday_6  \n",
              "count  24.000000  24.000000  24.000000  24.000000  2.400000e+01  \n",
              "mean   -0.407677  -0.407772  -0.410152  -0.409105 -4.078672e-01  \n",
              "std     0.000000   0.000000   0.000000   0.000000  5.670508e-17  \n",
              "min    -0.407677  -0.407772  -0.410152  -0.409105 -4.078672e-01  \n",
              "25%    -0.407677  -0.407772  -0.410152  -0.409105 -4.078672e-01  \n",
              "50%    -0.407677  -0.407772  -0.410152  -0.409105 -4.078672e-01  \n",
              "75%    -0.407677  -0.407772  -0.410152  -0.409105 -4.078672e-01  \n",
              "max    -0.407677  -0.407772  -0.410152  -0.409105 -4.078672e-01  "
            ],
            "text/html": [
              "\n",
              "  <div id=\"df-0701a26f-0d73-4e50-bd72-f4e4450fc263\" class=\"colab-df-container\">\n",
              "    <div>\n",
              "<style scoped>\n",
              "    .dataframe tbody tr th:only-of-type {\n",
              "        vertical-align: middle;\n",
              "    }\n",
              "\n",
              "    .dataframe tbody tr th {\n",
              "        vertical-align: top;\n",
              "    }\n",
              "\n",
              "    .dataframe thead th {\n",
              "        text-align: right;\n",
              "    }\n",
              "</style>\n",
              "<table border=\"1\" class=\"dataframe\">\n",
              "  <thead>\n",
              "    <tr style=\"text-align: right;\">\n",
              "      <th></th>\n",
              "      <th>Cloud</th>\n",
              "      <th>Humidity</th>\n",
              "      <th>Q12</th>\n",
              "      <th>Q13</th>\n",
              "      <th>Q_mean</th>\n",
              "      <th>Rainfall</th>\n",
              "      <th>Temperature</th>\n",
              "      <th>WindDirection</th>\n",
              "      <th>WindSpeed</th>\n",
              "      <th>hour</th>\n",
              "      <th>weekday_0</th>\n",
              "      <th>weekday_1</th>\n",
              "      <th>weekday_2</th>\n",
              "      <th>weekday_3</th>\n",
              "      <th>weekday_4</th>\n",
              "      <th>weekday_5</th>\n",
              "      <th>weekday_6</th>\n",
              "    </tr>\n",
              "  </thead>\n",
              "  <tbody>\n",
              "    <tr>\n",
              "      <th>count</th>\n",
              "      <td>24.000000</td>\n",
              "      <td>24.000000</td>\n",
              "      <td>24.000000</td>\n",
              "      <td>24.000000</td>\n",
              "      <td>24.000000</td>\n",
              "      <td>24.000000</td>\n",
              "      <td>24.000000</td>\n",
              "      <td>24.000000</td>\n",
              "      <td>24.000000</td>\n",
              "      <td>24.000000</td>\n",
              "      <td>24.000000</td>\n",
              "      <td>24.000000</td>\n",
              "      <td>24.000000</td>\n",
              "      <td>24.000000</td>\n",
              "      <td>24.000000</td>\n",
              "      <td>24.000000</td>\n",
              "      <td>2.400000e+01</td>\n",
              "    </tr>\n",
              "    <tr>\n",
              "      <th>mean</th>\n",
              "      <td>1.085849</td>\n",
              "      <td>1.543015</td>\n",
              "      <td>-0.139709</td>\n",
              "      <td>-0.139648</td>\n",
              "      <td>-0.141469</td>\n",
              "      <td>2.373948</td>\n",
              "      <td>-0.293177</td>\n",
              "      <td>0.398446</td>\n",
              "      <td>1.749412</td>\n",
              "      <td>12.500000</td>\n",
              "      <td>2.454073</td>\n",
              "      <td>-0.407677</td>\n",
              "      <td>-0.407677</td>\n",
              "      <td>-0.407772</td>\n",
              "      <td>-0.410152</td>\n",
              "      <td>-0.409105</td>\n",
              "      <td>-4.078672e-01</td>\n",
              "    </tr>\n",
              "    <tr>\n",
              "      <th>std</th>\n",
              "      <td>0.000000</td>\n",
              "      <td>0.193892</td>\n",
              "      <td>0.879613</td>\n",
              "      <td>0.879654</td>\n",
              "      <td>0.877739</td>\n",
              "      <td>2.391527</td>\n",
              "      <td>0.332864</td>\n",
              "      <td>0.816238</td>\n",
              "      <td>0.991238</td>\n",
              "      <td>7.071068</td>\n",
              "      <td>0.000000</td>\n",
              "      <td>0.000000</td>\n",
              "      <td>0.000000</td>\n",
              "      <td>0.000000</td>\n",
              "      <td>0.000000</td>\n",
              "      <td>0.000000</td>\n",
              "      <td>5.670508e-17</td>\n",
              "    </tr>\n",
              "    <tr>\n",
              "      <th>min</th>\n",
              "      <td>1.085849</td>\n",
              "      <td>1.314095</td>\n",
              "      <td>-0.808036</td>\n",
              "      <td>-0.808006</td>\n",
              "      <td>-0.818378</td>\n",
              "      <td>-0.243563</td>\n",
              "      <td>-1.006994</td>\n",
              "      <td>-1.591704</td>\n",
              "      <td>0.196200</td>\n",
              "      <td>1.000000</td>\n",
              "      <td>2.454073</td>\n",
              "      <td>-0.407677</td>\n",
              "      <td>-0.407677</td>\n",
              "      <td>-0.407772</td>\n",
              "      <td>-0.410152</td>\n",
              "      <td>-0.409105</td>\n",
              "      <td>-4.078672e-01</td>\n",
              "    </tr>\n",
              "    <tr>\n",
              "      <th>25%</th>\n",
              "      <td>1.085849</td>\n",
              "      <td>1.314095</td>\n",
              "      <td>-0.808036</td>\n",
              "      <td>-0.808006</td>\n",
              "      <td>-0.818378</td>\n",
              "      <td>-0.243563</td>\n",
              "      <td>-0.429865</td>\n",
              "      <td>0.039021</td>\n",
              "      <td>0.874459</td>\n",
              "      <td>6.750000</td>\n",
              "      <td>2.454073</td>\n",
              "      <td>-0.407677</td>\n",
              "      <td>-0.407677</td>\n",
              "      <td>-0.407772</td>\n",
              "      <td>-0.410152</td>\n",
              "      <td>-0.409105</td>\n",
              "      <td>-4.078672e-01</td>\n",
              "    </tr>\n",
              "    <tr>\n",
              "      <th>50%</th>\n",
              "      <td>1.085849</td>\n",
              "      <td>1.657475</td>\n",
              "      <td>-0.808036</td>\n",
              "      <td>-0.808006</td>\n",
              "      <td>-0.734009</td>\n",
              "      <td>2.897451</td>\n",
              "      <td>-0.217239</td>\n",
              "      <td>0.311917</td>\n",
              "      <td>1.661238</td>\n",
              "      <td>12.500000</td>\n",
              "      <td>2.454073</td>\n",
              "      <td>-0.407677</td>\n",
              "      <td>-0.407677</td>\n",
              "      <td>-0.407772</td>\n",
              "      <td>-0.410152</td>\n",
              "      <td>-0.409105</td>\n",
              "      <td>-4.078672e-01</td>\n",
              "    </tr>\n",
              "    <tr>\n",
              "      <th>75%</th>\n",
              "      <td>1.085849</td>\n",
              "      <td>1.657475</td>\n",
              "      <td>0.693347</td>\n",
              "      <td>0.693447</td>\n",
              "      <td>0.549730</td>\n",
              "      <td>2.897451</td>\n",
              "      <td>-0.034987</td>\n",
              "      <td>0.926490</td>\n",
              "      <td>2.583670</td>\n",
              "      <td>18.250000</td>\n",
              "      <td>2.454073</td>\n",
              "      <td>-0.407677</td>\n",
              "      <td>-0.407677</td>\n",
              "      <td>-0.407772</td>\n",
              "      <td>-0.410152</td>\n",
              "      <td>-0.409105</td>\n",
              "      <td>-4.078672e-01</td>\n",
              "    </tr>\n",
              "    <tr>\n",
              "      <th>max</th>\n",
              "      <td>1.085849</td>\n",
              "      <td>2.000854</td>\n",
              "      <td>1.456591</td>\n",
              "      <td>1.456727</td>\n",
              "      <td>1.430364</td>\n",
              "      <td>6.038464</td>\n",
              "      <td>0.086513</td>\n",
              "      <td>1.576561</td>\n",
              "      <td>3.234798</td>\n",
              "      <td>24.000000</td>\n",
              "      <td>2.454073</td>\n",
              "      <td>-0.407677</td>\n",
              "      <td>-0.407677</td>\n",
              "      <td>-0.407772</td>\n",
              "      <td>-0.410152</td>\n",
              "      <td>-0.409105</td>\n",
              "      <td>-4.078672e-01</td>\n",
              "    </tr>\n",
              "  </tbody>\n",
              "</table>\n",
              "</div>\n",
              "    <div class=\"colab-df-buttons\">\n",
              "\n",
              "  <div class=\"colab-df-container\">\n",
              "    <button class=\"colab-df-convert\" onclick=\"convertToInteractive('df-0701a26f-0d73-4e50-bd72-f4e4450fc263')\"\n",
              "            title=\"Convert this dataframe to an interactive table.\"\n",
              "            style=\"display:none;\">\n",
              "\n",
              "  <svg xmlns=\"http://www.w3.org/2000/svg\" height=\"24px\" viewBox=\"0 -960 960 960\">\n",
              "    <path d=\"M120-120v-720h720v720H120Zm60-500h600v-160H180v160Zm220 220h160v-160H400v160Zm0 220h160v-160H400v160ZM180-400h160v-160H180v160Zm440 0h160v-160H620v160ZM180-180h160v-160H180v160Zm440 0h160v-160H620v160Z\"/>\n",
              "  </svg>\n",
              "    </button>\n",
              "\n",
              "  <style>\n",
              "    .colab-df-container {\n",
              "      display:flex;\n",
              "      gap: 12px;\n",
              "    }\n",
              "\n",
              "    .colab-df-convert {\n",
              "      background-color: #E8F0FE;\n",
              "      border: none;\n",
              "      border-radius: 50%;\n",
              "      cursor: pointer;\n",
              "      display: none;\n",
              "      fill: #1967D2;\n",
              "      height: 32px;\n",
              "      padding: 0 0 0 0;\n",
              "      width: 32px;\n",
              "    }\n",
              "\n",
              "    .colab-df-convert:hover {\n",
              "      background-color: #E2EBFA;\n",
              "      box-shadow: 0px 1px 2px rgba(60, 64, 67, 0.3), 0px 1px 3px 1px rgba(60, 64, 67, 0.15);\n",
              "      fill: #174EA6;\n",
              "    }\n",
              "\n",
              "    .colab-df-buttons div {\n",
              "      margin-bottom: 4px;\n",
              "    }\n",
              "\n",
              "    [theme=dark] .colab-df-convert {\n",
              "      background-color: #3B4455;\n",
              "      fill: #D2E3FC;\n",
              "    }\n",
              "\n",
              "    [theme=dark] .colab-df-convert:hover {\n",
              "      background-color: #434B5C;\n",
              "      box-shadow: 0px 1px 3px 1px rgba(0, 0, 0, 0.15);\n",
              "      filter: drop-shadow(0px 1px 2px rgba(0, 0, 0, 0.3));\n",
              "      fill: #FFFFFF;\n",
              "    }\n",
              "  </style>\n",
              "\n",
              "    <script>\n",
              "      const buttonEl =\n",
              "        document.querySelector('#df-0701a26f-0d73-4e50-bd72-f4e4450fc263 button.colab-df-convert');\n",
              "      buttonEl.style.display =\n",
              "        google.colab.kernel.accessAllowed ? 'block' : 'none';\n",
              "\n",
              "      async function convertToInteractive(key) {\n",
              "        const element = document.querySelector('#df-0701a26f-0d73-4e50-bd72-f4e4450fc263');\n",
              "        const dataTable =\n",
              "          await google.colab.kernel.invokeFunction('convertToInteractive',\n",
              "                                                    [key], {});\n",
              "        if (!dataTable) return;\n",
              "\n",
              "        const docLinkHtml = 'Like what you see? Visit the ' +\n",
              "          '<a target=\"_blank\" href=https://colab.research.google.com/notebooks/data_table.ipynb>data table notebook</a>'\n",
              "          + ' to learn more about interactive tables.';\n",
              "        element.innerHTML = '';\n",
              "        dataTable['output_type'] = 'display_data';\n",
              "        await google.colab.output.renderOutput(dataTable, element);\n",
              "        const docLink = document.createElement('div');\n",
              "        docLink.innerHTML = docLinkHtml;\n",
              "        element.appendChild(docLink);\n",
              "      }\n",
              "    </script>\n",
              "  </div>\n",
              "\n",
              "\n",
              "<div id=\"df-50a22bf0-8dc8-4909-9ba8-6abf4749db3e\">\n",
              "  <button class=\"colab-df-quickchart\" onclick=\"quickchart('df-50a22bf0-8dc8-4909-9ba8-6abf4749db3e')\"\n",
              "            title=\"Suggest charts\"\n",
              "            style=\"display:none;\">\n",
              "\n",
              "<svg xmlns=\"http://www.w3.org/2000/svg\" height=\"24px\"viewBox=\"0 0 24 24\"\n",
              "     width=\"24px\">\n",
              "    <g>\n",
              "        <path d=\"M19 3H5c-1.1 0-2 .9-2 2v14c0 1.1.9 2 2 2h14c1.1 0 2-.9 2-2V5c0-1.1-.9-2-2-2zM9 17H7v-7h2v7zm4 0h-2V7h2v10zm4 0h-2v-4h2v4z\"/>\n",
              "    </g>\n",
              "</svg>\n",
              "  </button>\n",
              "\n",
              "<style>\n",
              "  .colab-df-quickchart {\n",
              "      --bg-color: #E8F0FE;\n",
              "      --fill-color: #1967D2;\n",
              "      --hover-bg-color: #E2EBFA;\n",
              "      --hover-fill-color: #174EA6;\n",
              "      --disabled-fill-color: #AAA;\n",
              "      --disabled-bg-color: #DDD;\n",
              "  }\n",
              "\n",
              "  [theme=dark] .colab-df-quickchart {\n",
              "      --bg-color: #3B4455;\n",
              "      --fill-color: #D2E3FC;\n",
              "      --hover-bg-color: #434B5C;\n",
              "      --hover-fill-color: #FFFFFF;\n",
              "      --disabled-bg-color: #3B4455;\n",
              "      --disabled-fill-color: #666;\n",
              "  }\n",
              "\n",
              "  .colab-df-quickchart {\n",
              "    background-color: var(--bg-color);\n",
              "    border: none;\n",
              "    border-radius: 50%;\n",
              "    cursor: pointer;\n",
              "    display: none;\n",
              "    fill: var(--fill-color);\n",
              "    height: 32px;\n",
              "    padding: 0;\n",
              "    width: 32px;\n",
              "  }\n",
              "\n",
              "  .colab-df-quickchart:hover {\n",
              "    background-color: var(--hover-bg-color);\n",
              "    box-shadow: 0 1px 2px rgba(60, 64, 67, 0.3), 0 1px 3px 1px rgba(60, 64, 67, 0.15);\n",
              "    fill: var(--button-hover-fill-color);\n",
              "  }\n",
              "\n",
              "  .colab-df-quickchart-complete:disabled,\n",
              "  .colab-df-quickchart-complete:disabled:hover {\n",
              "    background-color: var(--disabled-bg-color);\n",
              "    fill: var(--disabled-fill-color);\n",
              "    box-shadow: none;\n",
              "  }\n",
              "\n",
              "  .colab-df-spinner {\n",
              "    border: 2px solid var(--fill-color);\n",
              "    border-color: transparent;\n",
              "    border-bottom-color: var(--fill-color);\n",
              "    animation:\n",
              "      spin 1s steps(1) infinite;\n",
              "  }\n",
              "\n",
              "  @keyframes spin {\n",
              "    0% {\n",
              "      border-color: transparent;\n",
              "      border-bottom-color: var(--fill-color);\n",
              "      border-left-color: var(--fill-color);\n",
              "    }\n",
              "    20% {\n",
              "      border-color: transparent;\n",
              "      border-left-color: var(--fill-color);\n",
              "      border-top-color: var(--fill-color);\n",
              "    }\n",
              "    30% {\n",
              "      border-color: transparent;\n",
              "      border-left-color: var(--fill-color);\n",
              "      border-top-color: var(--fill-color);\n",
              "      border-right-color: var(--fill-color);\n",
              "    }\n",
              "    40% {\n",
              "      border-color: transparent;\n",
              "      border-right-color: var(--fill-color);\n",
              "      border-top-color: var(--fill-color);\n",
              "    }\n",
              "    60% {\n",
              "      border-color: transparent;\n",
              "      border-right-color: var(--fill-color);\n",
              "    }\n",
              "    80% {\n",
              "      border-color: transparent;\n",
              "      border-right-color: var(--fill-color);\n",
              "      border-bottom-color: var(--fill-color);\n",
              "    }\n",
              "    90% {\n",
              "      border-color: transparent;\n",
              "      border-bottom-color: var(--fill-color);\n",
              "    }\n",
              "  }\n",
              "</style>\n",
              "\n",
              "  <script>\n",
              "    async function quickchart(key) {\n",
              "      const quickchartButtonEl =\n",
              "        document.querySelector('#' + key + ' button');\n",
              "      quickchartButtonEl.disabled = true;  // To prevent multiple clicks.\n",
              "      quickchartButtonEl.classList.add('colab-df-spinner');\n",
              "      try {\n",
              "        const charts = await google.colab.kernel.invokeFunction(\n",
              "            'suggestCharts', [key], {});\n",
              "      } catch (error) {\n",
              "        console.error('Error during call to suggestCharts:', error);\n",
              "      }\n",
              "      quickchartButtonEl.classList.remove('colab-df-spinner');\n",
              "      quickchartButtonEl.classList.add('colab-df-quickchart-complete');\n",
              "    }\n",
              "    (() => {\n",
              "      let quickchartButtonEl =\n",
              "        document.querySelector('#df-50a22bf0-8dc8-4909-9ba8-6abf4749db3e button');\n",
              "      quickchartButtonEl.style.display =\n",
              "        google.colab.kernel.accessAllowed ? 'block' : 'none';\n",
              "    })();\n",
              "  </script>\n",
              "</div>\n",
              "\n",
              "    </div>\n",
              "  </div>\n"
            ],
            "application/vnd.google.colaboratory.intrinsic+json": {
              "type": "dataframe",
              "summary": "{\n  \"name\": \"tomorrow_df\",\n  \"rows\": 8,\n  \"fields\": [\n    {\n      \"column\": \"Cloud\",\n      \"properties\": {\n        \"dtype\": \"number\",\n        \"std\": 8.165065313345934,\n        \"min\": 0.0,\n        \"max\": 24.0,\n        \"samples\": [\n          24.0,\n          1.0858489107509404,\n          0.0\n        ],\n        \"num_unique_values\": 3,\n        \"semantic_type\": \"\",\n        \"description\": \"\"\n      }\n    },\n    {\n      \"column\": \"Humidity\",\n      \"properties\": {\n        \"dtype\": \"number\",\n        \"std\": 8.014002483195469,\n        \"min\": 0.19389247229403417,\n        \"max\": 24.0,\n        \"samples\": [\n          24.0,\n          1.5430149976582683,\n          2.0008541089210294\n        ],\n        \"num_unique_values\": 6,\n        \"semantic_type\": \"\",\n        \"description\": \"\"\n      }\n    },\n    {\n      \"column\": \"Q12\",\n      \"properties\": {\n        \"dtype\": \"number\",\n        \"std\": 8.506576187333737,\n        \"min\": -0.8080355955356423,\n        \"max\": 24.0,\n        \"samples\": [\n          24.0,\n          -0.13970902980753322,\n          1.4565908601131177\n        ],\n        \"num_unique_values\": 6,\n        \"semantic_type\": \"\",\n        \"description\": \"\"\n      }\n    },\n    {\n      \"column\": \"Q13\",\n      \"properties\": {\n        \"dtype\": \"number\",\n        \"std\": 8.506557905130622,\n        \"min\": -0.8080057786457715,\n        \"max\": 24.0,\n        \"samples\": [\n          24.0,\n          -0.13964772359955754,\n          1.4567273786463284\n        ],\n        \"num_unique_values\": 6,\n        \"semantic_type\": \"\",\n        \"description\": \"\"\n      }\n    },\n    {\n      \"column\": \"Q_mean\",\n      \"properties\": {\n        \"dtype\": \"number\",\n        \"std\": 8.509896007459425,\n        \"min\": -0.8183782251999129,\n        \"max\": 24.0,\n        \"samples\": [\n          24.0,\n          -0.14146883166854018,\n          0.5497303593446173\n        ],\n        \"num_unique_values\": 7,\n        \"semantic_type\": \"\",\n        \"description\": \"\"\n      }\n    },\n    {\n      \"column\": \"Rainfall\",\n      \"properties\": {\n        \"dtype\": \"number\",\n        \"std\": 7.924721400002154,\n        \"min\": -0.2435631818777992,\n        \"max\": 24.0,\n        \"samples\": [\n          24.0,\n          2.373948291262391,\n          6.038464353658657\n        ],\n        \"num_unique_values\": 6,\n        \"semantic_type\": \"\",\n        \"description\": \"\"\n      }\n    },\n    {\n      \"column\": \"Temperature\",\n      \"properties\": {\n        \"dtype\": \"number\",\n        \"std\": 8.573409490499023,\n        \"min\": -1.0069940433137068,\n        \"max\": 24.0,\n        \"samples\": [\n          -0.29317664983352243,\n          -0.21723862925052412,\n          24.0\n        ],\n        \"num_unique_values\": 8,\n        \"semantic_type\": \"\",\n        \"description\": \"\"\n      }\n    },\n    {\n      \"column\": \"WindDirection\",\n      \"properties\": {\n        \"dtype\": \"number\",\n        \"std\": 8.41064404135276,\n        \"min\": -1.591703699804284,\n        \"max\": 24.0,\n        \"samples\": [\n          0.39844572827358204,\n          0.31191749227019655,\n          24.0\n        ],\n        \"num_unique_values\": 8,\n        \"semantic_type\": \"\",\n        \"description\": \"\"\n      }\n    },\n    {\n      \"column\": \"WindSpeed\",\n      \"properties\": {\n        \"dtype\": \"number\",\n        \"std\": 7.973735281122882,\n        \"min\": 0.19620036000278138,\n        \"max\": 24.0,\n        \"samples\": [\n          1.7494118685664717,\n          1.6612382894777031,\n          24.0\n        ],\n        \"num_unique_values\": 8,\n        \"semantic_type\": \"\",\n        \"description\": \"\"\n      }\n    },\n    {\n      \"column\": \"hour\",\n      \"properties\": {\n        \"dtype\": \"number\",\n        \"std\": 8.347292731832532,\n        \"min\": 1.0,\n        \"max\": 24.0,\n        \"samples\": [\n          24.0,\n          12.5,\n          18.25\n        ],\n        \"num_unique_values\": 6,\n        \"semantic_type\": \"\",\n        \"description\": \"\"\n      }\n    },\n    {\n      \"column\": \"weekday_0\",\n      \"properties\": {\n        \"dtype\": \"number\",\n        \"std\": 7.789068322390938,\n        \"min\": 0.0,\n        \"max\": 24.0,\n        \"samples\": [\n          24.0,\n          2.454072515251405,\n          0.0\n        ],\n        \"num_unique_values\": 3,\n        \"semantic_type\": \"\",\n        \"description\": \"\"\n      }\n    },\n    {\n      \"column\": \"weekday_1\",\n      \"properties\": {\n        \"dtype\": \"number\",\n        \"std\": 8.610007937926348,\n        \"min\": -0.4076765710609696,\n        \"max\": 24.0,\n        \"samples\": [\n          24.0,\n          -0.4076765710609696,\n          0.0\n        ],\n        \"num_unique_values\": 3,\n        \"semantic_type\": \"\",\n        \"description\": \"\"\n      }\n    },\n    {\n      \"column\": \"weekday_2\",\n      \"properties\": {\n        \"dtype\": \"number\",\n        \"std\": 8.610007937926348,\n        \"min\": -0.40767657106096955,\n        \"max\": 24.0,\n        \"samples\": [\n          24.0,\n          -0.40767657106096955,\n          0.0\n        ],\n        \"num_unique_values\": 3,\n        \"semantic_type\": \"\",\n        \"description\": \"\"\n      }\n    },\n    {\n      \"column\": \"weekday_3\",\n      \"properties\": {\n        \"dtype\": \"number\",\n        \"std\": 8.6100373700535,\n        \"min\": -0.40777188152717425,\n        \"max\": 24.0,\n        \"samples\": [\n          24.0,\n          -0.40777188152717425,\n          0.0\n        ],\n        \"num_unique_values\": 3,\n        \"semantic_type\": \"\",\n        \"description\": \"\"\n      }\n    },\n    {\n      \"column\": \"weekday_4\",\n      \"properties\": {\n        \"dtype\": \"number\",\n        \"std\": 8.610772260640662,\n        \"min\": -0.410151556214798,\n        \"max\": 24.0,\n        \"samples\": [\n          24.0,\n          -0.410151556214798,\n          0.0\n        ],\n        \"num_unique_values\": 3,\n        \"semantic_type\": \"\",\n        \"description\": \"\"\n      }\n    },\n    {\n      \"column\": \"weekday_5\",\n      \"properties\": {\n        \"dtype\": \"number\",\n        \"std\": 8.61044912392099,\n        \"min\": -0.4091052271956665,\n        \"max\": 24.0,\n        \"samples\": [\n          24.0,\n          -0.4091052271956665,\n          0.0\n        ],\n        \"num_unique_values\": 3,\n        \"semantic_type\": \"\",\n        \"description\": \"\"\n      }\n    },\n    {\n      \"column\": \"weekday_6\",\n      \"properties\": {\n        \"dtype\": \"number\",\n        \"std\": 8.610066799350268,\n        \"min\": -0.40786718242143605,\n        \"max\": 24.0,\n        \"samples\": [\n          -0.407867182421436,\n          -0.40786718242143605,\n          24.0\n        ],\n        \"num_unique_values\": 4,\n        \"semantic_type\": \"\",\n        \"description\": \"\"\n      }\n    }\n  ]\n}"
            }
          },
          "metadata": {},
          "execution_count": 117
        }
      ]
    },
    {
      "cell_type": "code",
      "source": [
        "testdata = tomorrow_df.drop(['date', 'WindDirection', 'WindSpeed', 'Q12', 'Q_mean'], axis=1)"
      ],
      "metadata": {
        "id": "eq4q2o2gug24"
      },
      "execution_count": 118,
      "outputs": []
    },
    {
      "cell_type": "code",
      "source": [
        "# Load the model\n",
        "\n",
        "model.load_state_dict( torch.load('models/model.pt') )\n",
        "model.to(device)"
      ],
      "metadata": {
        "colab": {
          "base_uri": "https://localhost:8080/"
        },
        "id": "QyliLC3Luifp",
        "outputId": "f9b6c92e-a7c0-4e6d-f646-853ed0bfd02e"
      },
      "execution_count": 119,
      "outputs": [
        {
          "output_type": "execute_result",
          "data": {
            "text/plain": [
              "LSTMwithAttn(\n",
              "  (lstm): LSTM(13, 64, num_layers=2, batch_first=True)\n",
              "  (encoder): BertEncoder(\n",
              "    (layer): ModuleList(\n",
              "      (0-1): 2 x BertLayer(\n",
              "        (attention): BertAttention(\n",
              "          (self): BertSelfAttention(\n",
              "            (query): Linear(in_features=64, out_features=64, bias=True)\n",
              "            (key): Linear(in_features=64, out_features=64, bias=True)\n",
              "            (value): Linear(in_features=64, out_features=64, bias=True)\n",
              "            (dropout): Dropout(p=0.1, inplace=False)\n",
              "          )\n",
              "          (output): BertSelfOutput(\n",
              "            (dense): Linear(in_features=64, out_features=64, bias=True)\n",
              "            (LayerNorm): LayerNorm((64,), eps=1e-12, elementwise_affine=True)\n",
              "            (dropout): Dropout(p=0.1, inplace=False)\n",
              "          )\n",
              "        )\n",
              "        (intermediate): BertIntermediate(\n",
              "          (dense): Linear(in_features=64, out_features=64, bias=True)\n",
              "          (intermediate_act_fn): GELUActivation()\n",
              "        )\n",
              "        (output): BertOutput(\n",
              "          (dense): Linear(in_features=64, out_features=64, bias=True)\n",
              "          (LayerNorm): LayerNorm((64,), eps=1e-12, elementwise_affine=True)\n",
              "          (dropout): Dropout(p=0.1, inplace=False)\n",
              "        )\n",
              "      )\n",
              "    )\n",
              "  )\n",
              "  (act): SiLU()\n",
              "  (fc): Linear(in_features=64, out_features=1, bias=True)\n",
              ")"
            ]
          },
          "metadata": {},
          "execution_count": 119
        }
      ]
    },
    {
      "cell_type": "code",
      "source": [
        "testdata"
      ],
      "metadata": {
        "colab": {
          "base_uri": "https://localhost:8080/",
          "height": 801
        },
        "id": "GQA9ESBzukAk",
        "outputId": "cfa1d230-6849-4a3a-a6ea-25bb633436dd"
      },
      "execution_count": 120,
      "outputs": [
        {
          "output_type": "execute_result",
          "data": {
            "text/plain": [
              "       Cloud  Humidity       Q13  Rainfall  Temperature  hour  weekday_0  \\\n",
              "6   1.085849  1.314095 -0.808006  6.038464     0.086513     1   2.454073   \n",
              "7   1.085849  1.314095 -0.808006  6.038464     0.086513     2   2.454073   \n",
              "8   1.085849  1.314095 -0.808006  6.038464     0.086513     3   2.454073   \n",
              "9   1.085849  1.314095 -0.808006  6.038464     0.086513     4   2.454073   \n",
              "10  1.085849  1.314095 -0.808006  6.038464    -0.034987     5   2.454073   \n",
              "11  1.085849  1.314095 -0.808006  2.897451    -0.034987     6   2.454073   \n",
              "12  1.085849  1.657475 -0.808006  2.897451    -0.034987     7   2.454073   \n",
              "13  1.085849  1.657475 -0.474792  2.897451    -0.034987     8   2.454073   \n",
              "14  1.085849  1.657475  0.153726  2.897451    -0.156488     9   2.454073   \n",
              "15  1.085849  2.000854  0.693447  2.897451    -0.156488    10   2.454073   \n",
              "16  1.085849  1.657475  1.107589  2.897451    -0.156488    11   2.454073   \n",
              "17  1.085849  1.657475  1.367930  2.897451    -0.277989    12   2.454073   \n",
              "18  1.085849  1.657475  1.456727  2.897451    -0.277989    13   2.454073   \n",
              "19  1.085849  1.657475  1.367930  2.897451    -0.156488    14   2.454073   \n",
              "20  1.085849  1.657475  1.107589 -0.243563    -0.277989    15   2.454073   \n",
              "21  1.085849  1.657475  0.693447  2.897451    -0.277989    16   2.454073   \n",
              "22  1.085849  1.657475  0.153726 -0.243563    -0.399490    17   2.454073   \n",
              "23  1.085849  1.657475 -0.474792 -0.243563    -0.399490    18   2.454073   \n",
              "24  1.085849  1.657475 -0.808006 -0.243563    -0.520991    19   2.454073   \n",
              "25  1.085849  1.657475 -0.808006 -0.243563    -0.642492    20   2.454073   \n",
              "26  1.085849  1.657475 -0.808006 -0.243563    -0.763992    21   2.454073   \n",
              "27  1.085849  1.314095 -0.808006 -0.243563    -0.885493    22   2.454073   \n",
              "28  1.085849  1.314095 -0.808006 -0.243563    -0.885493    23   2.454073   \n",
              "29  1.085849  1.314095 -0.808006 -0.243563    -1.006994    24   2.454073   \n",
              "\n",
              "    weekday_1  weekday_2  weekday_3  weekday_4  weekday_5  weekday_6  \n",
              "6   -0.407677  -0.407677  -0.407772  -0.410152  -0.409105  -0.407867  \n",
              "7   -0.407677  -0.407677  -0.407772  -0.410152  -0.409105  -0.407867  \n",
              "8   -0.407677  -0.407677  -0.407772  -0.410152  -0.409105  -0.407867  \n",
              "9   -0.407677  -0.407677  -0.407772  -0.410152  -0.409105  -0.407867  \n",
              "10  -0.407677  -0.407677  -0.407772  -0.410152  -0.409105  -0.407867  \n",
              "11  -0.407677  -0.407677  -0.407772  -0.410152  -0.409105  -0.407867  \n",
              "12  -0.407677  -0.407677  -0.407772  -0.410152  -0.409105  -0.407867  \n",
              "13  -0.407677  -0.407677  -0.407772  -0.410152  -0.409105  -0.407867  \n",
              "14  -0.407677  -0.407677  -0.407772  -0.410152  -0.409105  -0.407867  \n",
              "15  -0.407677  -0.407677  -0.407772  -0.410152  -0.409105  -0.407867  \n",
              "16  -0.407677  -0.407677  -0.407772  -0.410152  -0.409105  -0.407867  \n",
              "17  -0.407677  -0.407677  -0.407772  -0.410152  -0.409105  -0.407867  \n",
              "18  -0.407677  -0.407677  -0.407772  -0.410152  -0.409105  -0.407867  \n",
              "19  -0.407677  -0.407677  -0.407772  -0.410152  -0.409105  -0.407867  \n",
              "20  -0.407677  -0.407677  -0.407772  -0.410152  -0.409105  -0.407867  \n",
              "21  -0.407677  -0.407677  -0.407772  -0.410152  -0.409105  -0.407867  \n",
              "22  -0.407677  -0.407677  -0.407772  -0.410152  -0.409105  -0.407867  \n",
              "23  -0.407677  -0.407677  -0.407772  -0.410152  -0.409105  -0.407867  \n",
              "24  -0.407677  -0.407677  -0.407772  -0.410152  -0.409105  -0.407867  \n",
              "25  -0.407677  -0.407677  -0.407772  -0.410152  -0.409105  -0.407867  \n",
              "26  -0.407677  -0.407677  -0.407772  -0.410152  -0.409105  -0.407867  \n",
              "27  -0.407677  -0.407677  -0.407772  -0.410152  -0.409105  -0.407867  \n",
              "28  -0.407677  -0.407677  -0.407772  -0.410152  -0.409105  -0.407867  \n",
              "29  -0.407677  -0.407677  -0.407772  -0.410152  -0.409105  -0.407867  "
            ],
            "text/html": [
              "\n",
              "  <div id=\"df-089ce867-fde6-4527-9090-5d7e0d005d73\" class=\"colab-df-container\">\n",
              "    <div>\n",
              "<style scoped>\n",
              "    .dataframe tbody tr th:only-of-type {\n",
              "        vertical-align: middle;\n",
              "    }\n",
              "\n",
              "    .dataframe tbody tr th {\n",
              "        vertical-align: top;\n",
              "    }\n",
              "\n",
              "    .dataframe thead th {\n",
              "        text-align: right;\n",
              "    }\n",
              "</style>\n",
              "<table border=\"1\" class=\"dataframe\">\n",
              "  <thead>\n",
              "    <tr style=\"text-align: right;\">\n",
              "      <th></th>\n",
              "      <th>Cloud</th>\n",
              "      <th>Humidity</th>\n",
              "      <th>Q13</th>\n",
              "      <th>Rainfall</th>\n",
              "      <th>Temperature</th>\n",
              "      <th>hour</th>\n",
              "      <th>weekday_0</th>\n",
              "      <th>weekday_1</th>\n",
              "      <th>weekday_2</th>\n",
              "      <th>weekday_3</th>\n",
              "      <th>weekday_4</th>\n",
              "      <th>weekday_5</th>\n",
              "      <th>weekday_6</th>\n",
              "    </tr>\n",
              "  </thead>\n",
              "  <tbody>\n",
              "    <tr>\n",
              "      <th>6</th>\n",
              "      <td>1.085849</td>\n",
              "      <td>1.314095</td>\n",
              "      <td>-0.808006</td>\n",
              "      <td>6.038464</td>\n",
              "      <td>0.086513</td>\n",
              "      <td>1</td>\n",
              "      <td>2.454073</td>\n",
              "      <td>-0.407677</td>\n",
              "      <td>-0.407677</td>\n",
              "      <td>-0.407772</td>\n",
              "      <td>-0.410152</td>\n",
              "      <td>-0.409105</td>\n",
              "      <td>-0.407867</td>\n",
              "    </tr>\n",
              "    <tr>\n",
              "      <th>7</th>\n",
              "      <td>1.085849</td>\n",
              "      <td>1.314095</td>\n",
              "      <td>-0.808006</td>\n",
              "      <td>6.038464</td>\n",
              "      <td>0.086513</td>\n",
              "      <td>2</td>\n",
              "      <td>2.454073</td>\n",
              "      <td>-0.407677</td>\n",
              "      <td>-0.407677</td>\n",
              "      <td>-0.407772</td>\n",
              "      <td>-0.410152</td>\n",
              "      <td>-0.409105</td>\n",
              "      <td>-0.407867</td>\n",
              "    </tr>\n",
              "    <tr>\n",
              "      <th>8</th>\n",
              "      <td>1.085849</td>\n",
              "      <td>1.314095</td>\n",
              "      <td>-0.808006</td>\n",
              "      <td>6.038464</td>\n",
              "      <td>0.086513</td>\n",
              "      <td>3</td>\n",
              "      <td>2.454073</td>\n",
              "      <td>-0.407677</td>\n",
              "      <td>-0.407677</td>\n",
              "      <td>-0.407772</td>\n",
              "      <td>-0.410152</td>\n",
              "      <td>-0.409105</td>\n",
              "      <td>-0.407867</td>\n",
              "    </tr>\n",
              "    <tr>\n",
              "      <th>9</th>\n",
              "      <td>1.085849</td>\n",
              "      <td>1.314095</td>\n",
              "      <td>-0.808006</td>\n",
              "      <td>6.038464</td>\n",
              "      <td>0.086513</td>\n",
              "      <td>4</td>\n",
              "      <td>2.454073</td>\n",
              "      <td>-0.407677</td>\n",
              "      <td>-0.407677</td>\n",
              "      <td>-0.407772</td>\n",
              "      <td>-0.410152</td>\n",
              "      <td>-0.409105</td>\n",
              "      <td>-0.407867</td>\n",
              "    </tr>\n",
              "    <tr>\n",
              "      <th>10</th>\n",
              "      <td>1.085849</td>\n",
              "      <td>1.314095</td>\n",
              "      <td>-0.808006</td>\n",
              "      <td>6.038464</td>\n",
              "      <td>-0.034987</td>\n",
              "      <td>5</td>\n",
              "      <td>2.454073</td>\n",
              "      <td>-0.407677</td>\n",
              "      <td>-0.407677</td>\n",
              "      <td>-0.407772</td>\n",
              "      <td>-0.410152</td>\n",
              "      <td>-0.409105</td>\n",
              "      <td>-0.407867</td>\n",
              "    </tr>\n",
              "    <tr>\n",
              "      <th>11</th>\n",
              "      <td>1.085849</td>\n",
              "      <td>1.314095</td>\n",
              "      <td>-0.808006</td>\n",
              "      <td>2.897451</td>\n",
              "      <td>-0.034987</td>\n",
              "      <td>6</td>\n",
              "      <td>2.454073</td>\n",
              "      <td>-0.407677</td>\n",
              "      <td>-0.407677</td>\n",
              "      <td>-0.407772</td>\n",
              "      <td>-0.410152</td>\n",
              "      <td>-0.409105</td>\n",
              "      <td>-0.407867</td>\n",
              "    </tr>\n",
              "    <tr>\n",
              "      <th>12</th>\n",
              "      <td>1.085849</td>\n",
              "      <td>1.657475</td>\n",
              "      <td>-0.808006</td>\n",
              "      <td>2.897451</td>\n",
              "      <td>-0.034987</td>\n",
              "      <td>7</td>\n",
              "      <td>2.454073</td>\n",
              "      <td>-0.407677</td>\n",
              "      <td>-0.407677</td>\n",
              "      <td>-0.407772</td>\n",
              "      <td>-0.410152</td>\n",
              "      <td>-0.409105</td>\n",
              "      <td>-0.407867</td>\n",
              "    </tr>\n",
              "    <tr>\n",
              "      <th>13</th>\n",
              "      <td>1.085849</td>\n",
              "      <td>1.657475</td>\n",
              "      <td>-0.474792</td>\n",
              "      <td>2.897451</td>\n",
              "      <td>-0.034987</td>\n",
              "      <td>8</td>\n",
              "      <td>2.454073</td>\n",
              "      <td>-0.407677</td>\n",
              "      <td>-0.407677</td>\n",
              "      <td>-0.407772</td>\n",
              "      <td>-0.410152</td>\n",
              "      <td>-0.409105</td>\n",
              "      <td>-0.407867</td>\n",
              "    </tr>\n",
              "    <tr>\n",
              "      <th>14</th>\n",
              "      <td>1.085849</td>\n",
              "      <td>1.657475</td>\n",
              "      <td>0.153726</td>\n",
              "      <td>2.897451</td>\n",
              "      <td>-0.156488</td>\n",
              "      <td>9</td>\n",
              "      <td>2.454073</td>\n",
              "      <td>-0.407677</td>\n",
              "      <td>-0.407677</td>\n",
              "      <td>-0.407772</td>\n",
              "      <td>-0.410152</td>\n",
              "      <td>-0.409105</td>\n",
              "      <td>-0.407867</td>\n",
              "    </tr>\n",
              "    <tr>\n",
              "      <th>15</th>\n",
              "      <td>1.085849</td>\n",
              "      <td>2.000854</td>\n",
              "      <td>0.693447</td>\n",
              "      <td>2.897451</td>\n",
              "      <td>-0.156488</td>\n",
              "      <td>10</td>\n",
              "      <td>2.454073</td>\n",
              "      <td>-0.407677</td>\n",
              "      <td>-0.407677</td>\n",
              "      <td>-0.407772</td>\n",
              "      <td>-0.410152</td>\n",
              "      <td>-0.409105</td>\n",
              "      <td>-0.407867</td>\n",
              "    </tr>\n",
              "    <tr>\n",
              "      <th>16</th>\n",
              "      <td>1.085849</td>\n",
              "      <td>1.657475</td>\n",
              "      <td>1.107589</td>\n",
              "      <td>2.897451</td>\n",
              "      <td>-0.156488</td>\n",
              "      <td>11</td>\n",
              "      <td>2.454073</td>\n",
              "      <td>-0.407677</td>\n",
              "      <td>-0.407677</td>\n",
              "      <td>-0.407772</td>\n",
              "      <td>-0.410152</td>\n",
              "      <td>-0.409105</td>\n",
              "      <td>-0.407867</td>\n",
              "    </tr>\n",
              "    <tr>\n",
              "      <th>17</th>\n",
              "      <td>1.085849</td>\n",
              "      <td>1.657475</td>\n",
              "      <td>1.367930</td>\n",
              "      <td>2.897451</td>\n",
              "      <td>-0.277989</td>\n",
              "      <td>12</td>\n",
              "      <td>2.454073</td>\n",
              "      <td>-0.407677</td>\n",
              "      <td>-0.407677</td>\n",
              "      <td>-0.407772</td>\n",
              "      <td>-0.410152</td>\n",
              "      <td>-0.409105</td>\n",
              "      <td>-0.407867</td>\n",
              "    </tr>\n",
              "    <tr>\n",
              "      <th>18</th>\n",
              "      <td>1.085849</td>\n",
              "      <td>1.657475</td>\n",
              "      <td>1.456727</td>\n",
              "      <td>2.897451</td>\n",
              "      <td>-0.277989</td>\n",
              "      <td>13</td>\n",
              "      <td>2.454073</td>\n",
              "      <td>-0.407677</td>\n",
              "      <td>-0.407677</td>\n",
              "      <td>-0.407772</td>\n",
              "      <td>-0.410152</td>\n",
              "      <td>-0.409105</td>\n",
              "      <td>-0.407867</td>\n",
              "    </tr>\n",
              "    <tr>\n",
              "      <th>19</th>\n",
              "      <td>1.085849</td>\n",
              "      <td>1.657475</td>\n",
              "      <td>1.367930</td>\n",
              "      <td>2.897451</td>\n",
              "      <td>-0.156488</td>\n",
              "      <td>14</td>\n",
              "      <td>2.454073</td>\n",
              "      <td>-0.407677</td>\n",
              "      <td>-0.407677</td>\n",
              "      <td>-0.407772</td>\n",
              "      <td>-0.410152</td>\n",
              "      <td>-0.409105</td>\n",
              "      <td>-0.407867</td>\n",
              "    </tr>\n",
              "    <tr>\n",
              "      <th>20</th>\n",
              "      <td>1.085849</td>\n",
              "      <td>1.657475</td>\n",
              "      <td>1.107589</td>\n",
              "      <td>-0.243563</td>\n",
              "      <td>-0.277989</td>\n",
              "      <td>15</td>\n",
              "      <td>2.454073</td>\n",
              "      <td>-0.407677</td>\n",
              "      <td>-0.407677</td>\n",
              "      <td>-0.407772</td>\n",
              "      <td>-0.410152</td>\n",
              "      <td>-0.409105</td>\n",
              "      <td>-0.407867</td>\n",
              "    </tr>\n",
              "    <tr>\n",
              "      <th>21</th>\n",
              "      <td>1.085849</td>\n",
              "      <td>1.657475</td>\n",
              "      <td>0.693447</td>\n",
              "      <td>2.897451</td>\n",
              "      <td>-0.277989</td>\n",
              "      <td>16</td>\n",
              "      <td>2.454073</td>\n",
              "      <td>-0.407677</td>\n",
              "      <td>-0.407677</td>\n",
              "      <td>-0.407772</td>\n",
              "      <td>-0.410152</td>\n",
              "      <td>-0.409105</td>\n",
              "      <td>-0.407867</td>\n",
              "    </tr>\n",
              "    <tr>\n",
              "      <th>22</th>\n",
              "      <td>1.085849</td>\n",
              "      <td>1.657475</td>\n",
              "      <td>0.153726</td>\n",
              "      <td>-0.243563</td>\n",
              "      <td>-0.399490</td>\n",
              "      <td>17</td>\n",
              "      <td>2.454073</td>\n",
              "      <td>-0.407677</td>\n",
              "      <td>-0.407677</td>\n",
              "      <td>-0.407772</td>\n",
              "      <td>-0.410152</td>\n",
              "      <td>-0.409105</td>\n",
              "      <td>-0.407867</td>\n",
              "    </tr>\n",
              "    <tr>\n",
              "      <th>23</th>\n",
              "      <td>1.085849</td>\n",
              "      <td>1.657475</td>\n",
              "      <td>-0.474792</td>\n",
              "      <td>-0.243563</td>\n",
              "      <td>-0.399490</td>\n",
              "      <td>18</td>\n",
              "      <td>2.454073</td>\n",
              "      <td>-0.407677</td>\n",
              "      <td>-0.407677</td>\n",
              "      <td>-0.407772</td>\n",
              "      <td>-0.410152</td>\n",
              "      <td>-0.409105</td>\n",
              "      <td>-0.407867</td>\n",
              "    </tr>\n",
              "    <tr>\n",
              "      <th>24</th>\n",
              "      <td>1.085849</td>\n",
              "      <td>1.657475</td>\n",
              "      <td>-0.808006</td>\n",
              "      <td>-0.243563</td>\n",
              "      <td>-0.520991</td>\n",
              "      <td>19</td>\n",
              "      <td>2.454073</td>\n",
              "      <td>-0.407677</td>\n",
              "      <td>-0.407677</td>\n",
              "      <td>-0.407772</td>\n",
              "      <td>-0.410152</td>\n",
              "      <td>-0.409105</td>\n",
              "      <td>-0.407867</td>\n",
              "    </tr>\n",
              "    <tr>\n",
              "      <th>25</th>\n",
              "      <td>1.085849</td>\n",
              "      <td>1.657475</td>\n",
              "      <td>-0.808006</td>\n",
              "      <td>-0.243563</td>\n",
              "      <td>-0.642492</td>\n",
              "      <td>20</td>\n",
              "      <td>2.454073</td>\n",
              "      <td>-0.407677</td>\n",
              "      <td>-0.407677</td>\n",
              "      <td>-0.407772</td>\n",
              "      <td>-0.410152</td>\n",
              "      <td>-0.409105</td>\n",
              "      <td>-0.407867</td>\n",
              "    </tr>\n",
              "    <tr>\n",
              "      <th>26</th>\n",
              "      <td>1.085849</td>\n",
              "      <td>1.657475</td>\n",
              "      <td>-0.808006</td>\n",
              "      <td>-0.243563</td>\n",
              "      <td>-0.763992</td>\n",
              "      <td>21</td>\n",
              "      <td>2.454073</td>\n",
              "      <td>-0.407677</td>\n",
              "      <td>-0.407677</td>\n",
              "      <td>-0.407772</td>\n",
              "      <td>-0.410152</td>\n",
              "      <td>-0.409105</td>\n",
              "      <td>-0.407867</td>\n",
              "    </tr>\n",
              "    <tr>\n",
              "      <th>27</th>\n",
              "      <td>1.085849</td>\n",
              "      <td>1.314095</td>\n",
              "      <td>-0.808006</td>\n",
              "      <td>-0.243563</td>\n",
              "      <td>-0.885493</td>\n",
              "      <td>22</td>\n",
              "      <td>2.454073</td>\n",
              "      <td>-0.407677</td>\n",
              "      <td>-0.407677</td>\n",
              "      <td>-0.407772</td>\n",
              "      <td>-0.410152</td>\n",
              "      <td>-0.409105</td>\n",
              "      <td>-0.407867</td>\n",
              "    </tr>\n",
              "    <tr>\n",
              "      <th>28</th>\n",
              "      <td>1.085849</td>\n",
              "      <td>1.314095</td>\n",
              "      <td>-0.808006</td>\n",
              "      <td>-0.243563</td>\n",
              "      <td>-0.885493</td>\n",
              "      <td>23</td>\n",
              "      <td>2.454073</td>\n",
              "      <td>-0.407677</td>\n",
              "      <td>-0.407677</td>\n",
              "      <td>-0.407772</td>\n",
              "      <td>-0.410152</td>\n",
              "      <td>-0.409105</td>\n",
              "      <td>-0.407867</td>\n",
              "    </tr>\n",
              "    <tr>\n",
              "      <th>29</th>\n",
              "      <td>1.085849</td>\n",
              "      <td>1.314095</td>\n",
              "      <td>-0.808006</td>\n",
              "      <td>-0.243563</td>\n",
              "      <td>-1.006994</td>\n",
              "      <td>24</td>\n",
              "      <td>2.454073</td>\n",
              "      <td>-0.407677</td>\n",
              "      <td>-0.407677</td>\n",
              "      <td>-0.407772</td>\n",
              "      <td>-0.410152</td>\n",
              "      <td>-0.409105</td>\n",
              "      <td>-0.407867</td>\n",
              "    </tr>\n",
              "  </tbody>\n",
              "</table>\n",
              "</div>\n",
              "    <div class=\"colab-df-buttons\">\n",
              "\n",
              "  <div class=\"colab-df-container\">\n",
              "    <button class=\"colab-df-convert\" onclick=\"convertToInteractive('df-089ce867-fde6-4527-9090-5d7e0d005d73')\"\n",
              "            title=\"Convert this dataframe to an interactive table.\"\n",
              "            style=\"display:none;\">\n",
              "\n",
              "  <svg xmlns=\"http://www.w3.org/2000/svg\" height=\"24px\" viewBox=\"0 -960 960 960\">\n",
              "    <path d=\"M120-120v-720h720v720H120Zm60-500h600v-160H180v160Zm220 220h160v-160H400v160Zm0 220h160v-160H400v160ZM180-400h160v-160H180v160Zm440 0h160v-160H620v160ZM180-180h160v-160H180v160Zm440 0h160v-160H620v160Z\"/>\n",
              "  </svg>\n",
              "    </button>\n",
              "\n",
              "  <style>\n",
              "    .colab-df-container {\n",
              "      display:flex;\n",
              "      gap: 12px;\n",
              "    }\n",
              "\n",
              "    .colab-df-convert {\n",
              "      background-color: #E8F0FE;\n",
              "      border: none;\n",
              "      border-radius: 50%;\n",
              "      cursor: pointer;\n",
              "      display: none;\n",
              "      fill: #1967D2;\n",
              "      height: 32px;\n",
              "      padding: 0 0 0 0;\n",
              "      width: 32px;\n",
              "    }\n",
              "\n",
              "    .colab-df-convert:hover {\n",
              "      background-color: #E2EBFA;\n",
              "      box-shadow: 0px 1px 2px rgba(60, 64, 67, 0.3), 0px 1px 3px 1px rgba(60, 64, 67, 0.15);\n",
              "      fill: #174EA6;\n",
              "    }\n",
              "\n",
              "    .colab-df-buttons div {\n",
              "      margin-bottom: 4px;\n",
              "    }\n",
              "\n",
              "    [theme=dark] .colab-df-convert {\n",
              "      background-color: #3B4455;\n",
              "      fill: #D2E3FC;\n",
              "    }\n",
              "\n",
              "    [theme=dark] .colab-df-convert:hover {\n",
              "      background-color: #434B5C;\n",
              "      box-shadow: 0px 1px 3px 1px rgba(0, 0, 0, 0.15);\n",
              "      filter: drop-shadow(0px 1px 2px rgba(0, 0, 0, 0.3));\n",
              "      fill: #FFFFFF;\n",
              "    }\n",
              "  </style>\n",
              "\n",
              "    <script>\n",
              "      const buttonEl =\n",
              "        document.querySelector('#df-089ce867-fde6-4527-9090-5d7e0d005d73 button.colab-df-convert');\n",
              "      buttonEl.style.display =\n",
              "        google.colab.kernel.accessAllowed ? 'block' : 'none';\n",
              "\n",
              "      async function convertToInteractive(key) {\n",
              "        const element = document.querySelector('#df-089ce867-fde6-4527-9090-5d7e0d005d73');\n",
              "        const dataTable =\n",
              "          await google.colab.kernel.invokeFunction('convertToInteractive',\n",
              "                                                    [key], {});\n",
              "        if (!dataTable) return;\n",
              "\n",
              "        const docLinkHtml = 'Like what you see? Visit the ' +\n",
              "          '<a target=\"_blank\" href=https://colab.research.google.com/notebooks/data_table.ipynb>data table notebook</a>'\n",
              "          + ' to learn more about interactive tables.';\n",
              "        element.innerHTML = '';\n",
              "        dataTable['output_type'] = 'display_data';\n",
              "        await google.colab.output.renderOutput(dataTable, element);\n",
              "        const docLink = document.createElement('div');\n",
              "        docLink.innerHTML = docLinkHtml;\n",
              "        element.appendChild(docLink);\n",
              "      }\n",
              "    </script>\n",
              "  </div>\n",
              "\n",
              "\n",
              "<div id=\"df-015c21e0-eecb-492c-a115-4f793961a7ae\">\n",
              "  <button class=\"colab-df-quickchart\" onclick=\"quickchart('df-015c21e0-eecb-492c-a115-4f793961a7ae')\"\n",
              "            title=\"Suggest charts\"\n",
              "            style=\"display:none;\">\n",
              "\n",
              "<svg xmlns=\"http://www.w3.org/2000/svg\" height=\"24px\"viewBox=\"0 0 24 24\"\n",
              "     width=\"24px\">\n",
              "    <g>\n",
              "        <path d=\"M19 3H5c-1.1 0-2 .9-2 2v14c0 1.1.9 2 2 2h14c1.1 0 2-.9 2-2V5c0-1.1-.9-2-2-2zM9 17H7v-7h2v7zm4 0h-2V7h2v10zm4 0h-2v-4h2v4z\"/>\n",
              "    </g>\n",
              "</svg>\n",
              "  </button>\n",
              "\n",
              "<style>\n",
              "  .colab-df-quickchart {\n",
              "      --bg-color: #E8F0FE;\n",
              "      --fill-color: #1967D2;\n",
              "      --hover-bg-color: #E2EBFA;\n",
              "      --hover-fill-color: #174EA6;\n",
              "      --disabled-fill-color: #AAA;\n",
              "      --disabled-bg-color: #DDD;\n",
              "  }\n",
              "\n",
              "  [theme=dark] .colab-df-quickchart {\n",
              "      --bg-color: #3B4455;\n",
              "      --fill-color: #D2E3FC;\n",
              "      --hover-bg-color: #434B5C;\n",
              "      --hover-fill-color: #FFFFFF;\n",
              "      --disabled-bg-color: #3B4455;\n",
              "      --disabled-fill-color: #666;\n",
              "  }\n",
              "\n",
              "  .colab-df-quickchart {\n",
              "    background-color: var(--bg-color);\n",
              "    border: none;\n",
              "    border-radius: 50%;\n",
              "    cursor: pointer;\n",
              "    display: none;\n",
              "    fill: var(--fill-color);\n",
              "    height: 32px;\n",
              "    padding: 0;\n",
              "    width: 32px;\n",
              "  }\n",
              "\n",
              "  .colab-df-quickchart:hover {\n",
              "    background-color: var(--hover-bg-color);\n",
              "    box-shadow: 0 1px 2px rgba(60, 64, 67, 0.3), 0 1px 3px 1px rgba(60, 64, 67, 0.15);\n",
              "    fill: var(--button-hover-fill-color);\n",
              "  }\n",
              "\n",
              "  .colab-df-quickchart-complete:disabled,\n",
              "  .colab-df-quickchart-complete:disabled:hover {\n",
              "    background-color: var(--disabled-bg-color);\n",
              "    fill: var(--disabled-fill-color);\n",
              "    box-shadow: none;\n",
              "  }\n",
              "\n",
              "  .colab-df-spinner {\n",
              "    border: 2px solid var(--fill-color);\n",
              "    border-color: transparent;\n",
              "    border-bottom-color: var(--fill-color);\n",
              "    animation:\n",
              "      spin 1s steps(1) infinite;\n",
              "  }\n",
              "\n",
              "  @keyframes spin {\n",
              "    0% {\n",
              "      border-color: transparent;\n",
              "      border-bottom-color: var(--fill-color);\n",
              "      border-left-color: var(--fill-color);\n",
              "    }\n",
              "    20% {\n",
              "      border-color: transparent;\n",
              "      border-left-color: var(--fill-color);\n",
              "      border-top-color: var(--fill-color);\n",
              "    }\n",
              "    30% {\n",
              "      border-color: transparent;\n",
              "      border-left-color: var(--fill-color);\n",
              "      border-top-color: var(--fill-color);\n",
              "      border-right-color: var(--fill-color);\n",
              "    }\n",
              "    40% {\n",
              "      border-color: transparent;\n",
              "      border-right-color: var(--fill-color);\n",
              "      border-top-color: var(--fill-color);\n",
              "    }\n",
              "    60% {\n",
              "      border-color: transparent;\n",
              "      border-right-color: var(--fill-color);\n",
              "    }\n",
              "    80% {\n",
              "      border-color: transparent;\n",
              "      border-right-color: var(--fill-color);\n",
              "      border-bottom-color: var(--fill-color);\n",
              "    }\n",
              "    90% {\n",
              "      border-color: transparent;\n",
              "      border-bottom-color: var(--fill-color);\n",
              "    }\n",
              "  }\n",
              "</style>\n",
              "\n",
              "  <script>\n",
              "    async function quickchart(key) {\n",
              "      const quickchartButtonEl =\n",
              "        document.querySelector('#' + key + ' button');\n",
              "      quickchartButtonEl.disabled = true;  // To prevent multiple clicks.\n",
              "      quickchartButtonEl.classList.add('colab-df-spinner');\n",
              "      try {\n",
              "        const charts = await google.colab.kernel.invokeFunction(\n",
              "            'suggestCharts', [key], {});\n",
              "      } catch (error) {\n",
              "        console.error('Error during call to suggestCharts:', error);\n",
              "      }\n",
              "      quickchartButtonEl.classList.remove('colab-df-spinner');\n",
              "      quickchartButtonEl.classList.add('colab-df-quickchart-complete');\n",
              "    }\n",
              "    (() => {\n",
              "      let quickchartButtonEl =\n",
              "        document.querySelector('#df-015c21e0-eecb-492c-a115-4f793961a7ae button');\n",
              "      quickchartButtonEl.style.display =\n",
              "        google.colab.kernel.accessAllowed ? 'block' : 'none';\n",
              "    })();\n",
              "  </script>\n",
              "</div>\n",
              "\n",
              "  <div id=\"id_e507eb50-f6ea-4303-9176-9c04127cb17b\">\n",
              "    <style>\n",
              "      .colab-df-generate {\n",
              "        background-color: #E8F0FE;\n",
              "        border: none;\n",
              "        border-radius: 50%;\n",
              "        cursor: pointer;\n",
              "        display: none;\n",
              "        fill: #1967D2;\n",
              "        height: 32px;\n",
              "        padding: 0 0 0 0;\n",
              "        width: 32px;\n",
              "      }\n",
              "\n",
              "      .colab-df-generate:hover {\n",
              "        background-color: #E2EBFA;\n",
              "        box-shadow: 0px 1px 2px rgba(60, 64, 67, 0.3), 0px 1px 3px 1px rgba(60, 64, 67, 0.15);\n",
              "        fill: #174EA6;\n",
              "      }\n",
              "\n",
              "      [theme=dark] .colab-df-generate {\n",
              "        background-color: #3B4455;\n",
              "        fill: #D2E3FC;\n",
              "      }\n",
              "\n",
              "      [theme=dark] .colab-df-generate:hover {\n",
              "        background-color: #434B5C;\n",
              "        box-shadow: 0px 1px 3px 1px rgba(0, 0, 0, 0.15);\n",
              "        filter: drop-shadow(0px 1px 2px rgba(0, 0, 0, 0.3));\n",
              "        fill: #FFFFFF;\n",
              "      }\n",
              "    </style>\n",
              "    <button class=\"colab-df-generate\" onclick=\"generateWithVariable('testdata')\"\n",
              "            title=\"Generate code using this dataframe.\"\n",
              "            style=\"display:none;\">\n",
              "\n",
              "  <svg xmlns=\"http://www.w3.org/2000/svg\" height=\"24px\"viewBox=\"0 0 24 24\"\n",
              "       width=\"24px\">\n",
              "    <path d=\"M7,19H8.4L18.45,9,17,7.55,7,17.6ZM5,21V16.75L18.45,3.32a2,2,0,0,1,2.83,0l1.4,1.43a1.91,1.91,0,0,1,.58,1.4,1.91,1.91,0,0,1-.58,1.4L9.25,21ZM18.45,9,17,7.55Zm-12,3A5.31,5.31,0,0,0,4.9,8.1,5.31,5.31,0,0,0,1,6.5,5.31,5.31,0,0,0,4.9,4.9,5.31,5.31,0,0,0,6.5,1,5.31,5.31,0,0,0,8.1,4.9,5.31,5.31,0,0,0,12,6.5,5.46,5.46,0,0,0,6.5,12Z\"/>\n",
              "  </svg>\n",
              "    </button>\n",
              "    <script>\n",
              "      (() => {\n",
              "      const buttonEl =\n",
              "        document.querySelector('#id_e507eb50-f6ea-4303-9176-9c04127cb17b button.colab-df-generate');\n",
              "      buttonEl.style.display =\n",
              "        google.colab.kernel.accessAllowed ? 'block' : 'none';\n",
              "\n",
              "      buttonEl.onclick = () => {\n",
              "        google.colab.notebook.generateWithVariable('testdata');\n",
              "      }\n",
              "      })();\n",
              "    </script>\n",
              "  </div>\n",
              "\n",
              "    </div>\n",
              "  </div>\n"
            ],
            "application/vnd.google.colaboratory.intrinsic+json": {
              "type": "dataframe",
              "variable_name": "testdata",
              "summary": "{\n  \"name\": \"testdata\",\n  \"rows\": 24,\n  \"fields\": [\n    {\n      \"column\": \"Cloud\",\n      \"properties\": {\n        \"dtype\": \"number\",\n        \"std\": 0.0,\n        \"min\": 1.0858489107509404,\n        \"max\": 1.0858489107509404,\n        \"samples\": [\n          1.0858489107509404\n        ],\n        \"num_unique_values\": 1,\n        \"semantic_type\": \"\",\n        \"description\": \"\"\n      }\n    },\n    {\n      \"column\": \"Humidity\",\n      \"properties\": {\n        \"dtype\": \"number\",\n        \"std\": 0.19389247229403417,\n        \"min\": 1.3140954420268876,\n        \"max\": 2.0008541089210294,\n        \"samples\": [\n          1.3140954420268876\n        ],\n        \"num_unique_values\": 3,\n        \"semantic_type\": \"\",\n        \"description\": \"\"\n      }\n    },\n    {\n      \"column\": \"Q13\",\n      \"properties\": {\n        \"dtype\": \"number\",\n        \"std\": 0.8796541104507952,\n        \"min\": -0.8080057786457715,\n        \"max\": 1.4567273786463284,\n        \"samples\": [\n          -0.8080057786457715\n        ],\n        \"num_unique_values\": 7,\n        \"semantic_type\": \"\",\n        \"description\": \"\"\n      }\n    },\n    {\n      \"column\": \"Rainfall\",\n      \"properties\": {\n        \"dtype\": \"number\",\n        \"std\": 2.3915270107356106,\n        \"min\": -0.2435631818777992,\n        \"max\": 6.038464353658657,\n        \"samples\": [\n          6.038464353658657\n        ],\n        \"num_unique_values\": 3,\n        \"semantic_type\": \"\",\n        \"description\": \"\"\n      }\n    },\n    {\n      \"column\": \"Temperature\",\n      \"properties\": {\n        \"dtype\": \"number\",\n        \"std\": 0.33286427225644083,\n        \"min\": -1.0069940433137068,\n        \"max\": 0.08651345308146922,\n        \"samples\": [\n          -0.8854932103809094\n        ],\n        \"num_unique_values\": 10,\n        \"semantic_type\": \"\",\n        \"description\": \"\"\n      }\n    },\n    {\n      \"column\": \"hour\",\n      \"properties\": {\n        \"dtype\": \"number\",\n        \"std\": 7,\n        \"min\": 1,\n        \"max\": 24,\n        \"samples\": [\n          9\n        ],\n        \"num_unique_values\": 24,\n        \"semantic_type\": \"\",\n        \"description\": \"\"\n      }\n    },\n    {\n      \"column\": \"weekday_0\",\n      \"properties\": {\n        \"dtype\": \"number\",\n        \"std\": 0.0,\n        \"min\": 2.454072515251405,\n        \"max\": 2.454072515251405,\n        \"samples\": [\n          2.454072515251405\n        ],\n        \"num_unique_values\": 1,\n        \"semantic_type\": \"\",\n        \"description\": \"\"\n      }\n    },\n    {\n      \"column\": \"weekday_1\",\n      \"properties\": {\n        \"dtype\": \"number\",\n        \"std\": 0.0,\n        \"min\": -0.4076765710609696,\n        \"max\": -0.4076765710609696,\n        \"samples\": [\n          -0.4076765710609696\n        ],\n        \"num_unique_values\": 1,\n        \"semantic_type\": \"\",\n        \"description\": \"\"\n      }\n    },\n    {\n      \"column\": \"weekday_2\",\n      \"properties\": {\n        \"dtype\": \"number\",\n        \"std\": 0.0,\n        \"min\": -0.40767657106096955,\n        \"max\": -0.40767657106096955,\n        \"samples\": [\n          -0.40767657106096955\n        ],\n        \"num_unique_values\": 1,\n        \"semantic_type\": \"\",\n        \"description\": \"\"\n      }\n    },\n    {\n      \"column\": \"weekday_3\",\n      \"properties\": {\n        \"dtype\": \"number\",\n        \"std\": 0.0,\n        \"min\": -0.40777188152717425,\n        \"max\": -0.40777188152717425,\n        \"samples\": [\n          -0.40777188152717425\n        ],\n        \"num_unique_values\": 1,\n        \"semantic_type\": \"\",\n        \"description\": \"\"\n      }\n    },\n    {\n      \"column\": \"weekday_4\",\n      \"properties\": {\n        \"dtype\": \"number\",\n        \"std\": 0.0,\n        \"min\": -0.410151556214798,\n        \"max\": -0.410151556214798,\n        \"samples\": [\n          -0.410151556214798\n        ],\n        \"num_unique_values\": 1,\n        \"semantic_type\": \"\",\n        \"description\": \"\"\n      }\n    },\n    {\n      \"column\": \"weekday_5\",\n      \"properties\": {\n        \"dtype\": \"number\",\n        \"std\": 0.0,\n        \"min\": -0.4091052271956665,\n        \"max\": -0.4091052271956665,\n        \"samples\": [\n          -0.4091052271956665\n        ],\n        \"num_unique_values\": 1,\n        \"semantic_type\": \"\",\n        \"description\": \"\"\n      }\n    },\n    {\n      \"column\": \"weekday_6\",\n      \"properties\": {\n        \"dtype\": \"number\",\n        \"std\": 5.670507601865373e-17,\n        \"min\": -0.40786718242143605,\n        \"max\": -0.40786718242143605,\n        \"samples\": [\n          -0.40786718242143605\n        ],\n        \"num_unique_values\": 1,\n        \"semantic_type\": \"\",\n        \"description\": \"\"\n      }\n    }\n  ]\n}"
            }
          },
          "metadata": {},
          "execution_count": 120
        }
      ]
    },
    {
      "cell_type": "code",
      "source": [
        "features_test = testdata\n",
        "labels_test = pd.DataFrame({'label': [0] * len(testdata)})\n",
        "test_dataset = ElecDemandDataset(features_test, labels_test)\n",
        "test_loader = DataLoader(test_dataset, batch_size=1, shuffle=False)"
      ],
      "metadata": {
        "id": "spoJUcfHul1Q"
      },
      "execution_count": 121,
      "outputs": []
    },
    {
      "cell_type": "code",
      "source": [
        "# get number of rows in testdata\n",
        "num_test = len(features_test)\n",
        "num_test"
      ],
      "metadata": {
        "colab": {
          "base_uri": "https://localhost:8080/"
        },
        "id": "K6PpTLIxupDL",
        "outputId": "430a7184-4961-4ac8-d87b-7547c8f971d9"
      },
      "execution_count": 122,
      "outputs": [
        {
          "output_type": "execute_result",
          "data": {
            "text/plain": [
              "24"
            ]
          },
          "metadata": {},
          "execution_count": 122
        }
      ]
    },
    {
      "cell_type": "code",
      "source": [
        "next(iter(test_loader))[0].shape"
      ],
      "metadata": {
        "colab": {
          "base_uri": "https://localhost:8080/"
        },
        "id": "k4lRdseXuqn7",
        "outputId": "b757281a-da70-41e2-b2f4-9c042d5225dc"
      },
      "execution_count": 123,
      "outputs": [
        {
          "output_type": "execute_result",
          "data": {
            "text/plain": [
              "torch.Size([1, 2, 13])"
            ]
          },
          "metadata": {},
          "execution_count": 123
        }
      ]
    },
    {
      "cell_type": "code",
      "source": [
        "y_pred = [[] for _ in range(num_test)]\n",
        "len(y_pred)"
      ],
      "metadata": {
        "colab": {
          "base_uri": "https://localhost:8080/"
        },
        "id": "W4Fht6_iur7B",
        "outputId": "be5b8be0-4469-43e4-c205-7e711ac085d1"
      },
      "execution_count": 124,
      "outputs": [
        {
          "output_type": "execute_result",
          "data": {
            "text/plain": [
              "24"
            ]
          },
          "metadata": {},
          "execution_count": 124
        }
      ]
    },
    {
      "cell_type": "code",
      "source": [
        "# test phase\n",
        "model.eval()\n",
        "\n",
        "with torch.no_grad():\n",
        "    for i, (features, labels) in enumerate(test_loader):\n",
        "        features = features.to(device)\n",
        "        labels = labels.to(device)\n",
        "\n",
        "        outputs = model(features).squeeze(-1)\n",
        "        outputs[outputs < 3] = 0\n",
        "\n",
        "        for seq_idx in range(outputs.shape[-1]):\n",
        "            y_pred[i + seq_idx].append(outputs[:,seq_idx].item())"
      ],
      "metadata": {
        "id": "NdIl_BSZutQs"
      },
      "execution_count": 125,
      "outputs": []
    },
    {
      "cell_type": "code",
      "source": [
        "y_pred = [sum(y_pred[i]) / len(y_pred[i]) for i in range(len(y_pred))]"
      ],
      "metadata": {
        "id": "Wq2esDwxuusT"
      },
      "execution_count": 126,
      "outputs": []
    },
    {
      "cell_type": "code",
      "source": [
        "y_pred"
      ],
      "metadata": {
        "colab": {
          "base_uri": "https://localhost:8080/"
        },
        "id": "UAW7rUfmuv9g",
        "outputId": "ea60b26d-7d1d-4a42-b702-e50bc7e07299"
      },
      "execution_count": 127,
      "outputs": [
        {
          "output_type": "execute_result",
          "data": {
            "text/plain": [
              "[605168.875,\n",
              " 617591.25,\n",
              " 640082.625,\n",
              " 622254.9375,\n",
              " 612251.4375,\n",
              " 601637.625,\n",
              " 618367.625,\n",
              " 748273.46875,\n",
              " 654301.1875,\n",
              " 588811.875,\n",
              " 584127.3125,\n",
              " 583167.84375,\n",
              " 574289.875,\n",
              " 565748.15625,\n",
              " 565739.53125,\n",
              " 572661.03125,\n",
              " 561877.625,\n",
              " 559046.96875,\n",
              " 553486.71875,\n",
              " 549203.4375,\n",
              " 547266.03125,\n",
              " 548248.5625,\n",
              " 546418.6875,\n",
              " 547462.0]"
            ]
          },
          "metadata": {},
          "execution_count": 127
        }
      ]
    },
    {
      "cell_type": "code",
      "source": [
        "y_pred_pd = pd.DataFrame(y_pred)\n",
        "y_pred_pd.to_csv('solar.csv', index=False)"
      ],
      "metadata": {
        "id": "bdiml4gquxck"
      },
      "execution_count": 128,
      "outputs": []
    },
    {
      "cell_type": "code",
      "source": [
        "import matplotlib.pyplot as plt\n",
        "import numpy as np\n",
        "\n",
        "# 스타일 설정\n",
        "plt.style.use('seaborn-darkgrid')\n",
        "\n",
        "# 그래프 그리기\n",
        "plt.figure(figsize=(12, 6), facecolor='#4c7380')\n",
        "plt.plot(range(1, 25), y_pred_pd[0], marker='o', linestyle='-', color='royalblue', linewidth=2, markersize=8, label='Prediction')\n",
        "\n",
        "# 레이블, 제목, 범례 추가\n",
        "plt.xlabel('Hour', fontsize=14, fontweight='bold', color='white')\n",
        "plt.ylabel('Prediction', fontsize=14, fontweight='bold', color='white')\n",
        "plt.title('Hourly Predictions', fontsize=16, fontweight='bold', color='white')\n",
        "plt.legend(loc='best', fontsize=12, facecolor='#4c7380')\n",
        "\n",
        "# 그리드 추가\n",
        "plt.grid(True, which='major', linestyle='--', linewidth=0.5, color='gray')\n",
        "\n",
        "# 축 범위 조정\n",
        "plt.xlim(1, 24)\n",
        "plt.ylim(min(y_pred_pd[0]) - 0.05, max(y_pred_pd[0]) + 0.05)\n",
        "\n",
        "# 축 눈금 레이블 색상 변경\n",
        "plt.xticks(color='white')\n",
        "plt.yticks(color='white')\n",
        "\n",
        "# 파일 저장 및 표시\n",
        "plt.savefig('Enhanced_Tomorrow_Solar_Energy(hourly).png', facecolor='#4c7380')\n",
        "plt.show()\n"
      ],
      "metadata": {
        "colab": {
          "base_uri": "https://localhost:8080/",
          "height": 620
        },
        "id": "MXe5aoOTySXM",
        "outputId": "572e350c-0a3d-4fb6-ed95-a636485bb8ff"
      },
      "execution_count": 134,
      "outputs": [
        {
          "output_type": "stream",
          "name": "stderr",
          "text": [
            "<ipython-input-134-b46e200d403a>:5: MatplotlibDeprecationWarning: The seaborn styles shipped by Matplotlib are deprecated since 3.6, as they no longer correspond to the styles shipped by seaborn. However, they will remain available as 'seaborn-v0_8-<style>'. Alternatively, directly use the seaborn API instead.\n",
            "  plt.style.use('seaborn-darkgrid')\n"
          ]
        },
        {
          "output_type": "display_data",
          "data": {
            "text/plain": [
              "<Figure size 1200x600 with 1 Axes>"
            ],
            "image/png": "[encoded data removed]"
          },
          "metadata": {}
        }
      ]
    },
    {
      "cell_type": "code",
      "source": [],
      "metadata": {
        "id": "WR3LLfgMynRW"
      },
      "execution_count": null,
      "outputs": []
    }
  ]
}