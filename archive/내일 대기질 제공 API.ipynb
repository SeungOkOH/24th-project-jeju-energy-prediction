{
  "nbformat": 4,
  "nbformat_minor": 0,
  "metadata": {
    "colab": {
      "provenance": [],
      "gpuType": "T4"
    },
    "kernelspec": {
      "name": "python3",
      "display_name": "Python 3"
    },
    "language_info": {
      "name": "python"
    },
    "accelerator": "GPU"
  },
  "cells": [
    {
      "cell_type": "code",
      "source": [
        "import pandas as pd\n",
        "import urllib\n",
        "import urllib.request\n",
        "import json"
      ],
      "metadata": {
        "id": "iA8cyLHxdJHG"
      },
      "execution_count": 1,
      "outputs": []
    },
    {
      "cell_type": "code",
      "source": [
        "from datetime import date, timedelta\n",
        "\n",
        "# 오늘의 날짜 불러오기\n",
        "today = date.today()\n",
        "\n",
        "# 형식 지정하여 문자열로 변환\n",
        "formatted_date = today.strftime(\"%Y-%m-%d\")\n",
        "\n",
        "# 오늘 날짜에 1을 더하기\n",
        "yesterday = today - timedelta(days=1)\n",
        "\n",
        "# 형식 지정하여 문자열로 변환\n",
        "yesterday_formatted = yesterday.strftime(\"%Y-%m-%d\")"
      ],
      "metadata": {
        "id": "E3lwVYFgep23"
      },
      "execution_count": 20,
      "outputs": []
    },
    {
      "cell_type": "code",
      "execution_count": 21,
      "metadata": {
        "id": "Y2JP0UCKbprP"
      },
      "outputs": [],
      "source": [
        "servicekey = 'u1OqM3CUH%2FHm8JUmVG5yn8f1Nh9tR3GhtS4QOe6Y5ACmXcWZ18O7iZvyD%2BpCHyc2pue4H1gm%2FHv1C7Le4LpHfw%3D%3D'\n",
        "url= 'http://apis.data.go.kr/B552584/ArpltnInforInqireSvc/getMinuDustFrcstDspth'\n",
        "\n",
        "queryParams = '?' + urllib.parse.urlencode(\n",
        "    {\n",
        "        urllib.parse.quote_plus('servicekey') : servicekey,\n",
        "        urllib.parse.quote_plus('pageNo') : '1',\n",
        "        urllib.parse.quote_plus('numOfRows') : '1000',\n",
        "        urllib.parse.quote_plus('returnType') : 'json',\n",
        "        urllib.parse.quote_plus('searchDate') : yesterday_formatted,\n",
        "        urllib.parse.quote_plus('informCode') : 'PM10',\n",
        "    }\n",
        ")\n",
        "\n",
        "response = urllib.request.urlopen(url + queryParams).read()\n",
        "response = json.loads(response)"
      ]
    },
    {
      "cell_type": "code",
      "source": [
        "response"
      ],
      "metadata": {
        "colab": {
          "base_uri": "https://localhost:8080/"
        },
        "id": "F4i_A6BVdW_J",
        "outputId": "d2d2be08-d585-408f-f0ec-e83e82dc2162"
      },
      "execution_count": 22,
      "outputs": [
        {
          "output_type": "execute_result",
          "data": {
            "text/plain": [
              "{'response': {'body': {'totalCount': 10,\n",
              "   'items': [{'imageUrl4': 'https://www.airkorea.or.kr/file/proxyImage?fileName=2024/02/14/AQF.20240214.NIER_09_01.PM2P5.1hsp.2024021421.png',\n",
              "     'informCode': 'PM10',\n",
              "     'imageUrl5': 'https://www.airkorea.or.kr/file/proxyImage?fileName=2024/02/14/AQF.20240214.NIER_09_01.PM2P5.1hsp.2024021503.png',\n",
              "     'imageUrl6': 'https://www.airkorea.or.kr/file/proxyImage?fileName=2024/02/14/AQF.20240214.NIER_09_01.PM2P5.1hsp.2024021509.png',\n",
              "     'actionKnack': None,\n",
              "     'informCause': \"○ [미세먼지] 원활한 대기 확산과 강수의 영향으로 대기질이 대체로 '보통' 수준일 것으로 예상됩니다.\",\n",
              "     'informOverall': \"○ [미세먼지] 전 권역이 '좋음'∼'보통'으로 예상됩니다.\",\n",
              "     'informData': '2024-02-14',\n",
              "     'informGrade': '서울 : 보통,제주 : 좋음,전남 : 좋음,전북 : 좋음,광주 : 좋음,경남 : 좋음,경북 : 보통,울산 : 좋음,대구 : 보통,부산 : 보통,충남 : 보통,충북 : 보통,세종 : 보통,대전 : 보통,영동 : 좋음,영서 : 보통,경기남부 : 보통,경기북부 : 보통,인천 : 보통',\n",
              "     'dataTime': '2024-02-14 23시 발표',\n",
              "     'imageUrl3': 'https://www.airkorea.or.kr/file/proxyImage?fileName=2024/02/14/AQF.20240214.NIER_09_01.PM10.1hsp.2024021509.png',\n",
              "     'imageUrl2': 'https://www.airkorea.or.kr/file/proxyImage?fileName=2024/02/14/AQF.20240214.NIER_09_01.PM10.1hsp.2024021503.png',\n",
              "     'imageUrl1': 'https://www.airkorea.or.kr/file/proxyImage?fileName=2024/02/14/AQF.20240214.NIER_09_01.PM10.1hsp.2024021421.png'},\n",
              "    {'imageUrl4': 'https://www.airkorea.or.kr/file/proxyImage?fileName=2024/02/14/AQF.20240214.NIER_09_01.PM2P5.1hsp.2024021421.png',\n",
              "     'informCode': 'PM10',\n",
              "     'imageUrl5': 'https://www.airkorea.or.kr/file/proxyImage?fileName=2024/02/14/AQF.20240214.NIER_09_01.PM2P5.1hsp.2024021503.png',\n",
              "     'imageUrl6': 'https://www.airkorea.or.kr/file/proxyImage?fileName=2024/02/14/AQF.20240214.NIER_09_01.PM2P5.1hsp.2024021509.png',\n",
              "     'actionKnack': None,\n",
              "     'informCause': '○ [미세먼지] 원활한 대기 확산과 강수의 영향으로 대기질이 대체로 청정할 것으로 예상됩니다.',\n",
              "     'informOverall': \"○ [미세먼지] 전 권역이 '좋음'∼'보통'으로 예상됩니다.\",\n",
              "     'informData': '2024-02-15',\n",
              "     'informGrade': '서울 : 보통,제주 : 좋음,전남 : 좋음,전북 : 좋음,광주 : 좋음,경남 : 좋음,경북 : 좋음,울산 : 좋음,대구 : 보통,부산 : 좋음,충남 : 좋음,충북 : 보통,세종 : 보통,대전 : 좋음,영동 : 좋음,영서 : 좋음,경기남부 : 보통,경기북부 : 보통,인천 : 보통',\n",
              "     'dataTime': '2024-02-14 23시 발표',\n",
              "     'imageUrl3': 'https://www.airkorea.or.kr/file/proxyImage?fileName=2024/02/14/AQF.20240214.NIER_09_01.PM10.1hsp.2024021509.png',\n",
              "     'imageUrl2': 'https://www.airkorea.or.kr/file/proxyImage?fileName=2024/02/14/AQF.20240214.NIER_09_01.PM10.1hsp.2024021503.png',\n",
              "     'imageUrl1': 'https://www.airkorea.or.kr/file/proxyImage?fileName=2024/02/14/AQF.20240214.NIER_09_01.PM10.1hsp.2024021421.png'},\n",
              "    {'imageUrl4': 'https://www.airkorea.or.kr/file/proxyImage?fileName=2024/02/14/AQF.20240214.NIER_09_01.PM2P5.1hsp.2024021521.png',\n",
              "     'informCode': 'PM10',\n",
              "     'imageUrl5': 'https://www.airkorea.or.kr/file/proxyImage?fileName=2024/02/14/AQF.20240214.NIER_09_01.PM2P5.1hsp.2024021603.png',\n",
              "     'imageUrl6': 'https://www.airkorea.or.kr/file/proxyImage?fileName=2024/02/14/AQF.20240214.NIER_09_01.PM2P5.1hsp.2024021609.png',\n",
              "     'actionKnack': None,\n",
              "     'informCause': '○ [미세먼지] 원활한 대기 확산으로 대기질이 대체로 청정할 것으로 예상됩니다.',\n",
              "     'informOverall': \"○ [미세먼지] 전 권역이 '좋음'∼'보통'으로 예상됩니다.\",\n",
              "     'informData': '2024-02-16',\n",
              "     'informGrade': '서울 : 보통,제주 : 좋음,전남 : 좋음,전북 : 보통,광주 : 보통,경남 : 좋음,경북 : 좋음,울산 : 좋음,대구 : 좋음,부산 : 좋음,충남 : 보통,충북 : 보통,세종 : 보통,대전 : 좋음,영동 : 좋음,영서 : 좋음,경기남부 : 보통,경기북부 : 보통,인천 : 보통',\n",
              "     'dataTime': '2024-02-14 23시 발표',\n",
              "     'imageUrl3': 'https://www.airkorea.or.kr/file/proxyImage?fileName=2024/02/14/AQF.20240214.NIER_09_01.PM10.1hsp.2024021609.png',\n",
              "     'imageUrl2': 'https://www.airkorea.or.kr/file/proxyImage?fileName=2024/02/14/AQF.20240214.NIER_09_01.PM10.1hsp.2024021603.png',\n",
              "     'imageUrl1': 'https://www.airkorea.or.kr/file/proxyImage?fileName=2024/02/14/AQF.20240214.NIER_09_01.PM10.1hsp.2024021521.png'},\n",
              "    {'imageUrl4': 'https://www.airkorea.or.kr/file/proxyImage?fileName=2024/02/14/AQF.20240213.NIER_09_01.PM2P5.1hsp.2024021421.png',\n",
              "     'informCode': 'PM10',\n",
              "     'imageUrl5': 'https://www.airkorea.or.kr/file/proxyImage?fileName=2024/02/14/AQF.20240213.NIER_09_01.PM2P5.1hsp.2024021503.png',\n",
              "     'imageUrl6': 'https://www.airkorea.or.kr/file/proxyImage?fileName=2024/02/14/AQF.20240213.NIER_09_01.PM2P5.1hsp.2024021509.png',\n",
              "     'actionKnack': None,\n",
              "     'informCause': \"○ [미세먼지] 원활한 대기 확산과 강수의 영향으로 대기질이 대체로 '보통' 수준일 것으로 예상됩니다.\",\n",
              "     'informOverall': \"○ [미세먼지] 전 권역이 '좋음'∼'보통'으로 예상됩니다.\",\n",
              "     'informData': '2024-02-14',\n",
              "     'informGrade': '서울 : 보통,제주 : 좋음,전남 : 좋음,전북 : 좋음,광주 : 좋음,경남 : 보통,경북 : 보통,울산 : 좋음,대구 : 보통,부산 : 보통,충남 : 보통,충북 : 보통,세종 : 보통,대전 : 보통,영동 : 좋음,영서 : 보통,경기남부 : 보통,경기북부 : 보통,인천 : 보통',\n",
              "     'dataTime': '2024-02-14 17시 발표',\n",
              "     'imageUrl3': 'https://www.airkorea.or.kr/file/proxyImage?fileName=2024/02/14/AQF.20240213.NIER_09_01.PM10.1hsp.2024021509.png',\n",
              "     'imageUrl2': 'https://www.airkorea.or.kr/file/proxyImage?fileName=2024/02/14/AQF.20240213.NIER_09_01.PM10.1hsp.2024021503.png',\n",
              "     'imageUrl1': 'https://www.airkorea.or.kr/file/proxyImage?fileName=2024/02/14/AQF.20240213.NIER_09_01.PM10.1hsp.2024021421.png'},\n",
              "    {'imageUrl4': 'https://www.airkorea.or.kr/file/proxyImage?fileName=2024/02/14/AQF.20240213.NIER_09_01.PM2P5.1hsp.2024021421.png',\n",
              "     'informCode': 'PM10',\n",
              "     'imageUrl5': 'https://www.airkorea.or.kr/file/proxyImage?fileName=2024/02/14/AQF.20240213.NIER_09_01.PM2P5.1hsp.2024021503.png',\n",
              "     'imageUrl6': 'https://www.airkorea.or.kr/file/proxyImage?fileName=2024/02/14/AQF.20240213.NIER_09_01.PM2P5.1hsp.2024021509.png',\n",
              "     'actionKnack': None,\n",
              "     'informCause': '○ [미세먼지] 원활한 대기 확산과 강수의 영향으로 대기질이 대체로 청정할 것으로 예상됩니다.',\n",
              "     'informOverall': \"○ [미세먼지] 전 권역이 '좋음'∼'보통'으로 예상됩니다.\",\n",
              "     'informData': '2024-02-15',\n",
              "     'informGrade': '서울 : 보통,제주 : 좋음,전남 : 좋음,전북 : 좋음,광주 : 좋음,경남 : 좋음,경북 : 좋음,울산 : 좋음,대구 : 보통,부산 : 좋음,충남 : 좋음,충북 : 보통,세종 : 보통,대전 : 좋음,영동 : 좋음,영서 : 좋음,경기남부 : 보통,경기북부 : 보통,인천 : 보통',\n",
              "     'dataTime': '2024-02-14 17시 발표',\n",
              "     'imageUrl3': 'https://www.airkorea.or.kr/file/proxyImage?fileName=2024/02/14/AQF.20240213.NIER_09_01.PM10.1hsp.2024021509.png',\n",
              "     'imageUrl2': 'https://www.airkorea.or.kr/file/proxyImage?fileName=2024/02/14/AQF.20240213.NIER_09_01.PM10.1hsp.2024021503.png',\n",
              "     'imageUrl1': 'https://www.airkorea.or.kr/file/proxyImage?fileName=2024/02/14/AQF.20240213.NIER_09_01.PM10.1hsp.2024021421.png'},\n",
              "    {'imageUrl4': 'https://www.airkorea.or.kr/file/proxyImage?fileName=2024/02/14/AQF.20240213.NIER_09_01.PM2P5.1hsp.2024021521.png',\n",
              "     'informCode': 'PM10',\n",
              "     'imageUrl5': 'https://www.airkorea.or.kr/file/proxyImage?fileName=2024/02/14/AQF.20240213.NIER_09_01.PM2P5.1hsp.2024021603.png',\n",
              "     'imageUrl6': 'https://www.airkorea.or.kr/file/proxyImage?fileName=2024/02/14/AQF.20240213.NIER_09_01.PM2P5.1hsp.2024021609.png',\n",
              "     'actionKnack': None,\n",
              "     'informCause': '○ [미세먼지] 원활한 대기 확산으로 대기질이 대체로 청정할 것으로 예상됩니다.',\n",
              "     'informOverall': \"○ [미세먼지] 전 권역이 '좋음'∼'보통'으로 예상됩니다.\",\n",
              "     'informData': '2024-02-16',\n",
              "     'informGrade': '서울 : 보통,제주 : 좋음,전남 : 좋음,전북 : 보통,광주 : 보통,경남 : 좋음,경북 : 좋음,울산 : 좋음,대구 : 좋음,부산 : 좋음,충남 : 보통,충북 : 보통,세종 : 보통,대전 : 좋음,영동 : 좋음,영서 : 좋음,경기남부 : 보통,경기북부 : 보통,인천 : 보통',\n",
              "     'dataTime': '2024-02-14 17시 발표',\n",
              "     'imageUrl3': 'https://www.airkorea.or.kr/file/proxyImage?fileName=2024/02/14/AQF.20240213.NIER_09_01.PM10.1hsp.2024021609.png',\n",
              "     'imageUrl2': 'https://www.airkorea.or.kr/file/proxyImage?fileName=2024/02/14/AQF.20240213.NIER_09_01.PM10.1hsp.2024021603.png',\n",
              "     'imageUrl1': 'https://www.airkorea.or.kr/file/proxyImage?fileName=2024/02/14/AQF.20240213.NIER_09_01.PM10.1hsp.2024021521.png'},\n",
              "    {'imageUrl4': 'https://www.airkorea.or.kr/file/proxyImage?fileName=2024/02/14/AQF.20240213.NIER_09_01.PM2P5.1hsp.2024021403.png',\n",
              "     'informCode': 'PM10',\n",
              "     'imageUrl5': 'https://www.airkorea.or.kr/file/proxyImage?fileName=2024/02/14/AQF.20240213.NIER_09_01.PM2P5.1hsp.2024021409.png',\n",
              "     'imageUrl6': 'https://www.airkorea.or.kr/file/proxyImage?fileName=2024/02/14/AQF.20240213.NIER_09_01.PM2P5.1hsp.2024021415.png',\n",
              "     'actionKnack': None,\n",
              "     'informCause': \"○ [미세먼지] 원활한 대기 확산과 강수의 영향으로 대기질이 대체로 '보통' 수준일 것으로 예상됩니다.\",\n",
              "     'informOverall': \"○ [미세먼지] 전 권역이 '좋음'∼'보통'으로 예상됩니다.\",\n",
              "     'informData': '2024-02-14',\n",
              "     'informGrade': '서울 : 보통,제주 : 좋음,전남 : 좋음,전북 : 좋음,광주 : 좋음,경남 : 보통,경북 : 보통,울산 : 좋음,대구 : 보통,부산 : 좋음,충남 : 좋음,충북 : 보통,세종 : 보통,대전 : 보통,영동 : 좋음,영서 : 보통,경기남부 : 보통,경기북부 : 보통,인천 : 보통',\n",
              "     'dataTime': '2024-02-14 11시 발표',\n",
              "     'imageUrl3': 'https://www.airkorea.or.kr/file/proxyImage?fileName=2024/02/14/AQF.20240213.NIER_09_01.PM10.1hsp.2024021415.png',\n",
              "     'imageUrl2': 'https://www.airkorea.or.kr/file/proxyImage?fileName=2024/02/14/AQF.20240213.NIER_09_01.PM10.1hsp.2024021409.png',\n",
              "     'imageUrl1': 'https://www.airkorea.or.kr/file/proxyImage?fileName=2024/02/14/AQF.20240213.NIER_09_01.PM10.1hsp.2024021403.png'},\n",
              "    {'imageUrl4': None,\n",
              "     'informCode': 'PM10',\n",
              "     'imageUrl5': None,\n",
              "     'imageUrl6': None,\n",
              "     'actionKnack': None,\n",
              "     'informCause': '○ [미세먼지] 원활한 대기 확산과 강수의 영향으로 대기질이 대체로 청정할 것으로 예상됩니다.',\n",
              "     'informOverall': \"○ [미세먼지] 전 권역이 '좋음'∼'보통'으로 예상됩니다.\",\n",
              "     'informData': '2024-02-15',\n",
              "     'informGrade': '서울 : 좋음,제주 : 좋음,전남 : 좋음,전북 : 좋음,광주 : 좋음,경남 : 좋음,경북 : 좋음,울산 : 좋음,대구 : 보통,부산 : 좋음,충남 : 좋음,충북 : 보통,세종 : 보통,대전 : 좋음,영동 : 좋음,영서 : 좋음,경기남부 : 보통,경기북부 : 좋음,인천 : 좋음',\n",
              "     'dataTime': '2024-02-14 11시 발표',\n",
              "     'imageUrl3': None,\n",
              "     'imageUrl2': None,\n",
              "     'imageUrl1': None},\n",
              "    {'imageUrl4': 'https://www.airkorea.or.kr/file/proxyImage?fileName=2024/02/14/AQF.20240213.NIER_09_01.PM2P5.1hsp.2024021400.png',\n",
              "     'informCode': 'PM10',\n",
              "     'imageUrl5': 'https://www.airkorea.or.kr/file/proxyImage?fileName=2024/02/14/AQF.20240213.NIER_09_01.PM2P5.1hsp.2024021406.png',\n",
              "     'imageUrl6': 'https://www.airkorea.or.kr/file/proxyImage?fileName=2024/02/14/AQF.20240213.NIER_09_01.PM2P5.1hsp.2024021412.png',\n",
              "     'actionKnack': None,\n",
              "     'informCause': '○ [미세먼지] 원활한 대기 확산으로 대기질이 대체로 청정할 것으로 예상됩니다.',\n",
              "     'informOverall': \"○ [미세먼지] 전 권역이 '좋음'∼'보통'으로 예상됩니다.\",\n",
              "     'informData': '2024-02-14',\n",
              "     'informGrade': '서울 : 보통,제주 : 좋음,전남 : 좋음,전북 : 좋음,광주 : 좋음,경남 : 좋음,경북 : 좋음,울산 : 좋음,대구 : 좋음,부산 : 좋음,충남 : 좋음,충북 : 보통,세종 : 보통,대전 : 좋음,영동 : 좋음,영서 : 보통,경기남부 : 보통,경기북부 : 보통,인천 : 보통',\n",
              "     'dataTime': '2024-02-14 05시 발표',\n",
              "     'imageUrl3': 'https://www.airkorea.or.kr/file/proxyImage?fileName=2024/02/14/AQF.20240213.NIER_09_01.PM10.1hsp.2024021412.png',\n",
              "     'imageUrl2': 'https://www.airkorea.or.kr/file/proxyImage?fileName=2024/02/14/AQF.20240213.NIER_09_01.PM10.1hsp.2024021406.png',\n",
              "     'imageUrl1': 'https://www.airkorea.or.kr/file/proxyImage?fileName=2024/02/14/AQF.20240213.NIER_09_01.PM10.1hsp.2024021400.png'},\n",
              "    {'imageUrl4': None,\n",
              "     'informCode': 'PM10',\n",
              "     'imageUrl5': None,\n",
              "     'imageUrl6': None,\n",
              "     'actionKnack': None,\n",
              "     'informCause': '○ [미세먼지] 원활한 대기 확산과 강수의 영향으로 대기질이 대체로 청정할 것으로 예상됩니다.',\n",
              "     'informOverall': \"○ [미세먼지] 전 권역이 '좋음'∼'보통'으로 예상됩니다.\",\n",
              "     'informData': '2024-02-15',\n",
              "     'informGrade': '서울 : 좋음,제주 : 좋음,전남 : 좋음,전북 : 좋음,광주 : 좋음,경남 : 좋음,경북 : 좋음,울산 : 좋음,대구 : 보통,부산 : 좋음,충남 : 좋음,충북 : 보통,세종 : 좋음,대전 : 좋음,영동 : 좋음,영서 : 좋음,경기남부 : 보통,경기북부 : 좋음,인천 : 좋음',\n",
              "     'dataTime': '2024-02-14 05시 발표',\n",
              "     'imageUrl3': None,\n",
              "     'imageUrl2': None,\n",
              "     'imageUrl1': None}],\n",
              "   'pageNo': 1,\n",
              "   'numOfRows': 1000},\n",
              "  'header': {'resultMsg': 'NORMAL_CODE', 'resultCode': '00'}}}"
            ]
          },
          "metadata": {},
          "execution_count": 22
        }
      ]
    },
    {
      "cell_type": "code",
      "source": [
        "jeju_grade = None\n",
        "for item in response['response']['body']['items']:\n",
        "    if item['informData'] == formatted_date:\n",
        "        jeju_grade = item['informGrade'].split(',')[1].strip().split(' : ')[1]\n",
        "        break\n",
        "\n",
        "jeju_grade"
      ],
      "metadata": {
        "colab": {
          "base_uri": "https://localhost:8080/",
          "height": 35
        },
        "id": "i1SsU6YLeVbE",
        "outputId": "6a14ea2a-3e00-42c0-eb4f-93e8385aa2f2"
      },
      "execution_count": 26,
      "outputs": [
        {
          "output_type": "execute_result",
          "data": {
            "text/plain": [
              "'좋음'"
            ],
            "application/vnd.google.colaboratory.intrinsic+json": {
              "type": "string"
            }
          },
          "metadata": {},
          "execution_count": 26
        }
      ]
    }
  ]
}