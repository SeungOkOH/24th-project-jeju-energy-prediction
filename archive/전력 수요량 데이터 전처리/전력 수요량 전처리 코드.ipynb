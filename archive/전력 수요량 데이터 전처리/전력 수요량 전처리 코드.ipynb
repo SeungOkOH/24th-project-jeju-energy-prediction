{
  "nbformat": 4,
  "nbformat_minor": 0,
  "metadata": {
    "colab": {
      "provenance": []
    },
    "kernelspec": {
      "name": "python3",
      "display_name": "Python 3"
    },
    "language_info": {
      "name": "python"
    }
  },
  "cells": [
    {
      "cell_type": "code",
      "execution_count": null,
      "metadata": {
        "id": "v8qMstBTqaSe"
      },
      "outputs": [],
      "source": [
        "import pandas as pd\n",
        "\n",
        "# 원본 CSV 파일 경로\n",
        "input_csv_path = 'original.csv'\n",
        "# 결과 CSV 파일 경로\n",
        "output_csv_path = 'modified.csv'\n",
        "\n",
        "# 원본 CSV 파일을 읽어들임\n",
        "df = pd.read_csv(input_csv_path, encoding='CP949')  # 필요한 경우 적절한 인코딩 설정\n",
        "\n",
        "# 2열의 데이터에서 \"시\" 문자 제거 (열의 인덱스가 1임을 주의)\n",
        "df.iloc[:, 1] = df.iloc[:, 1].str.replace('시', '')\n",
        "\n",
        "# 변경된 데이터프레임을 새 CSV 파일로 저장\n",
        "df.to_csv(output_csv_path, index=False, encoding='CP949')  # 필요한 경우 적절한 인코딩 설정"
      ]
    }
  ]
}