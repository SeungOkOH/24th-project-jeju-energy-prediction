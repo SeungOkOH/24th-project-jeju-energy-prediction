{
 "cells": [
  {
   "cell_type": "code",
   "execution_count": 4,
   "metadata": {},
   "outputs": [
    {
     "name": "stdout",
     "output_type": "stream",
     "text": [
      "Requirement already satisfied: pandas in c:\\users\\dabe6\\anaconda3\\envs\\myenv\\lib\\site-packages (2.0.3)\n",
      "Requirement already satisfied: python-dateutil>=2.8.2 in c:\\users\\dabe6\\anaconda3\\envs\\myenv\\lib\\site-packages (from pandas) (2.8.2)\n",
      "Requirement already satisfied: pytz>=2020.1 in c:\\users\\dabe6\\anaconda3\\envs\\myenv\\lib\\site-packages (from pandas) (2023.4)\n",
      "Requirement already satisfied: tzdata>=2022.1 in c:\\users\\dabe6\\anaconda3\\envs\\myenv\\lib\\site-packages (from pandas) (2023.4)\n",
      "Requirement already satisfied: numpy>=1.20.3 in c:\\users\\dabe6\\anaconda3\\envs\\myenv\\lib\\site-packages (from pandas) (1.24.4)\n",
      "Requirement already satisfied: six>=1.5 in c:\\users\\dabe6\\anaconda3\\envs\\myenv\\lib\\site-packages (from python-dateutil>=2.8.2->pandas) (1.16.0)\n",
      "Collecting openpyxl\n",
      "  Downloading openpyxl-3.1.2-py2.py3-none-any.whl (249 kB)\n",
      "     ---------------------------------------- 0.0/250.0 kB ? eta -:--:--\n",
      "     - -------------------------------------- 10.2/250.0 kB ? eta -:--:--\n",
      "     ------ ------------------------------ 41.0/250.0 kB 487.6 kB/s eta 0:00:01\n",
      "     -------------------------------------  245.8/250.0 kB 2.5 MB/s eta 0:00:01\n",
      "     -------------------------------------- 250.0/250.0 kB 1.9 MB/s eta 0:00:00\n",
      "Collecting et-xmlfile (from openpyxl)\n",
      "  Downloading et_xmlfile-1.1.0-py3-none-any.whl (4.7 kB)\n",
      "Installing collected packages: et-xmlfile, openpyxl\n",
      "Successfully installed et-xmlfile-1.1.0 openpyxl-3.1.2\n"
     ]
    }
   ],
   "source": [
    "! pip install pandas\n",
    "! pip install openpyxl\n",
    "import pandas as pd\n",
    "import glob, openpyxl"
   ]
  },
  {
   "cell_type": "code",
   "execution_count": 8,
   "metadata": {},
   "outputs": [],
   "source": [
    "excel_files_path = '*.xlsx'\n",
    "excel_files = glob.glob(excel_files_path)\n",
    "# 빈 리스트 생성하여 추출된 데이터를 저장할 준비\n",
    "filtered_dfs = []\n",
    "\n",
    "# 모든 엑셀 파일에 대해 처리\n",
    "for file in excel_files:\n",
    "    # 엑셀 파일을 DataFrame으로 읽어오기\n",
    "    df = pd.read_excel(file)\n",
    "    \n",
    "    # '지역'이 '제주 제주시' 또는 '제주 서귀포시'인 행만 추출하여 리스트에 추가\n",
    "    filtered_df = df[df['지역'].isin(['제주 제주시', '제주 서귀포시'])]\n",
    "\n",
    "    # '측정일시'를 기준으로 그룹화 하여, 각 그룹의 'SO2', 'CO', 'O3', 'NO2', 'PM10', 'PM25'의 평균을 계산\n",
    "    result_df = filtered_df.groupby('측정일시').agg({\n",
    "    'SO2': 'mean',\n",
    "    'CO': 'mean',\n",
    "    'O3': 'mean',\n",
    "    'NO2': 'mean',\n",
    "    'PM10': 'mean',\n",
    "    'PM25': 'mean'\n",
    "    }).reset_index()  \n",
    "\n",
    "    result_df = result_df[['측정일시', 'SO2', 'CO', 'O3', 'NO2', 'PM10', 'PM25']]\n",
    "\n",
    "    filtered_dfs.append(result_df)\n",
    "\n",
    "# 추출된 데이터프레임들을 하나로 합치기\n",
    "combined_filtered_df = pd.concat(filtered_dfs, ignore_index=True)\n",
    "\n",
    "# 합쳐진 데이터프레임을 CSV 파일로 저장\n",
    "combined_filtered_df.to_csv(\"finedust_dataset.csv\", index=False)"
   ]
  }
 ],
 "metadata": {
  "kernelspec": {
   "display_name": "My Environment",
   "language": "python",
   "name": "myenv"
  },
  "language_info": {
   "codemirror_mode": {
    "name": "ipython",
    "version": 3
   },
   "file_extension": ".py",
   "mimetype": "text/x-python",
   "name": "python",
   "nbconvert_exporter": "python",
   "pygments_lexer": "ipython3",
   "version": "3.8.18"
  }
 },
 "nbformat": 4,
 "nbformat_minor": 2
}
